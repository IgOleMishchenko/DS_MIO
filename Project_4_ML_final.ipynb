{
 "cells": [
  {
   "cell_type": "markdown",
   "id": "c353de9a",
   "metadata": {},
   "source": [
    "# Проект: классификация"
   ]
  },
  {
   "cell_type": "code",
   "execution_count": 82,
   "id": "4a6e54dc",
   "metadata": {
    "ExecuteTime": {
     "end_time": "2023-04-25T22:47:48.063110Z",
     "start_time": "2023-04-25T22:47:48.062108Z"
    }
   },
   "outputs": [],
   "source": [
    "import pandas as pd\n",
    "import numpy as np\n",
    "import matplotlib.pyplot as plt\n",
    "import seaborn as sns\n",
    "from  sklearn.ensemble import IsolationForest\n",
    "import warnings\n",
    "warnings.filterwarnings('ignore')\n",
    "from sklearn.preprocessing import LabelEncoder\n",
    "from sklearn import linear_model \n",
    "from sklearn import tree \n",
    "from sklearn import ensemble \n",
    "from sklearn import metrics \n",
    "from sklearn import preprocessing \n",
    "from sklearn.model_selection import train_test_split \n",
    "from sklearn.feature_selection import SelectKBest, f_classif"
   ]
  },
  {
   "cell_type": "markdown",
   "id": "71559b60",
   "metadata": {},
   "source": [
    "## Часть 1. Знакомство с данными, обработка пропусков и выбросов"
   ]
  },
  {
   "cell_type": "markdown",
   "id": "7c5e31b2",
   "metadata": {},
   "source": [
    "### Задание 1"
   ]
  },
  {
   "cell_type": "code",
   "execution_count": 83,
   "id": "20730cd7",
   "metadata": {
    "ExecuteTime": {
     "end_time": "2023-04-25T22:47:49.362417Z",
     "start_time": "2023-04-25T22:47:49.362417Z"
    }
   },
   "outputs": [],
   "source": [
    "df = pd.read_csv('data/bank_fin.csv', sep = ';')"
   ]
  },
  {
   "cell_type": "code",
   "execution_count": 84,
   "id": "daf3c6dc",
   "metadata": {
    "ExecuteTime": {
     "end_time": "2023-04-25T22:47:49.664007Z",
     "start_time": "2023-04-25T22:47:49.664007Z"
    }
   },
   "outputs": [
    {
     "data": {
      "text/html": [
       "<div>\n",
       "<style scoped>\n",
       "    .dataframe tbody tr th:only-of-type {\n",
       "        vertical-align: middle;\n",
       "    }\n",
       "\n",
       "    .dataframe tbody tr th {\n",
       "        vertical-align: top;\n",
       "    }\n",
       "\n",
       "    .dataframe thead th {\n",
       "        text-align: right;\n",
       "    }\n",
       "</style>\n",
       "<table border=\"1\" class=\"dataframe\">\n",
       "  <thead>\n",
       "    <tr style=\"text-align: right;\">\n",
       "      <th></th>\n",
       "      <th>age</th>\n",
       "      <th>job</th>\n",
       "      <th>marital</th>\n",
       "      <th>education</th>\n",
       "      <th>default</th>\n",
       "      <th>balance</th>\n",
       "      <th>housing</th>\n",
       "      <th>loan</th>\n",
       "      <th>contact</th>\n",
       "      <th>day</th>\n",
       "      <th>month</th>\n",
       "      <th>duration</th>\n",
       "      <th>campaign</th>\n",
       "      <th>pdays</th>\n",
       "      <th>previous</th>\n",
       "      <th>poutcome</th>\n",
       "      <th>deposit</th>\n",
       "    </tr>\n",
       "  </thead>\n",
       "  <tbody>\n",
       "    <tr>\n",
       "      <th>0</th>\n",
       "      <td>59</td>\n",
       "      <td>admin.</td>\n",
       "      <td>married</td>\n",
       "      <td>secondary</td>\n",
       "      <td>no</td>\n",
       "      <td>2 343,00 $</td>\n",
       "      <td>yes</td>\n",
       "      <td>no</td>\n",
       "      <td>unknown</td>\n",
       "      <td>5</td>\n",
       "      <td>may</td>\n",
       "      <td>1042</td>\n",
       "      <td>1</td>\n",
       "      <td>-1</td>\n",
       "      <td>0</td>\n",
       "      <td>unknown</td>\n",
       "      <td>yes</td>\n",
       "    </tr>\n",
       "    <tr>\n",
       "      <th>1</th>\n",
       "      <td>56</td>\n",
       "      <td>admin.</td>\n",
       "      <td>married</td>\n",
       "      <td>secondary</td>\n",
       "      <td>no</td>\n",
       "      <td>45,00 $</td>\n",
       "      <td>no</td>\n",
       "      <td>no</td>\n",
       "      <td>unknown</td>\n",
       "      <td>5</td>\n",
       "      <td>may</td>\n",
       "      <td>1467</td>\n",
       "      <td>1</td>\n",
       "      <td>-1</td>\n",
       "      <td>0</td>\n",
       "      <td>unknown</td>\n",
       "      <td>yes</td>\n",
       "    </tr>\n",
       "    <tr>\n",
       "      <th>2</th>\n",
       "      <td>41</td>\n",
       "      <td>technician</td>\n",
       "      <td>married</td>\n",
       "      <td>secondary</td>\n",
       "      <td>no</td>\n",
       "      <td>1 270,00 $</td>\n",
       "      <td>yes</td>\n",
       "      <td>no</td>\n",
       "      <td>unknown</td>\n",
       "      <td>5</td>\n",
       "      <td>may</td>\n",
       "      <td>1389</td>\n",
       "      <td>1</td>\n",
       "      <td>-1</td>\n",
       "      <td>0</td>\n",
       "      <td>unknown</td>\n",
       "      <td>yes</td>\n",
       "    </tr>\n",
       "    <tr>\n",
       "      <th>3</th>\n",
       "      <td>55</td>\n",
       "      <td>services</td>\n",
       "      <td>married</td>\n",
       "      <td>secondary</td>\n",
       "      <td>no</td>\n",
       "      <td>2 476,00 $</td>\n",
       "      <td>yes</td>\n",
       "      <td>no</td>\n",
       "      <td>unknown</td>\n",
       "      <td>5</td>\n",
       "      <td>may</td>\n",
       "      <td>579</td>\n",
       "      <td>1</td>\n",
       "      <td>-1</td>\n",
       "      <td>0</td>\n",
       "      <td>unknown</td>\n",
       "      <td>yes</td>\n",
       "    </tr>\n",
       "    <tr>\n",
       "      <th>4</th>\n",
       "      <td>54</td>\n",
       "      <td>admin.</td>\n",
       "      <td>married</td>\n",
       "      <td>tertiary</td>\n",
       "      <td>no</td>\n",
       "      <td>184,00 $</td>\n",
       "      <td>no</td>\n",
       "      <td>no</td>\n",
       "      <td>unknown</td>\n",
       "      <td>5</td>\n",
       "      <td>may</td>\n",
       "      <td>673</td>\n",
       "      <td>2</td>\n",
       "      <td>-1</td>\n",
       "      <td>0</td>\n",
       "      <td>unknown</td>\n",
       "      <td>yes</td>\n",
       "    </tr>\n",
       "  </tbody>\n",
       "</table>\n",
       "</div>"
      ],
      "text/plain": [
       "   age         job  marital  education default       balance housing loan  \\\n",
       "0   59      admin.  married  secondary      no   2 343,00 $      yes   no   \n",
       "1   56      admin.  married  secondary      no      45,00 $       no   no   \n",
       "2   41  technician  married  secondary      no   1 270,00 $      yes   no   \n",
       "3   55    services  married  secondary      no   2 476,00 $      yes   no   \n",
       "4   54      admin.  married   tertiary      no     184,00 $       no   no   \n",
       "\n",
       "   contact  day month  duration  campaign  pdays  previous poutcome deposit  \n",
       "0  unknown    5   may      1042         1     -1         0  unknown     yes  \n",
       "1  unknown    5   may      1467         1     -1         0  unknown     yes  \n",
       "2  unknown    5   may      1389         1     -1         0  unknown     yes  \n",
       "3  unknown    5   may       579         1     -1         0  unknown     yes  \n",
       "4  unknown    5   may       673         2     -1         0  unknown     yes  "
      ]
     },
     "execution_count": 84,
     "metadata": {},
     "output_type": "execute_result"
    }
   ],
   "source": [
    "df.head()"
   ]
  },
  {
   "cell_type": "code",
   "execution_count": 85,
   "id": "ba11dc67",
   "metadata": {
    "ExecuteTime": {
     "end_time": "2023-04-25T22:47:49.953987Z",
     "start_time": "2023-04-25T22:47:49.953987Z"
    }
   },
   "outputs": [
    {
     "name": "stdout",
     "output_type": "stream",
     "text": [
      "<class 'pandas.core.frame.DataFrame'>\n",
      "RangeIndex: 11162 entries, 0 to 11161\n",
      "Data columns (total 17 columns):\n",
      " #   Column     Non-Null Count  Dtype \n",
      "---  ------     --------------  ----- \n",
      " 0   age        11162 non-null  int64 \n",
      " 1   job        11162 non-null  object\n",
      " 2   marital    11162 non-null  object\n",
      " 3   education  11162 non-null  object\n",
      " 4   default    11162 non-null  object\n",
      " 5   balance    11137 non-null  object\n",
      " 6   housing    11162 non-null  object\n",
      " 7   loan       11162 non-null  object\n",
      " 8   contact    11162 non-null  object\n",
      " 9   day        11162 non-null  int64 \n",
      " 10  month      11162 non-null  object\n",
      " 11  duration   11162 non-null  int64 \n",
      " 12  campaign   11162 non-null  int64 \n",
      " 13  pdays      11162 non-null  int64 \n",
      " 14  previous   11162 non-null  int64 \n",
      " 15  poutcome   11162 non-null  object\n",
      " 16  deposit    11162 non-null  object\n",
      "dtypes: int64(6), object(11)\n",
      "memory usage: 1.4+ MB\n"
     ]
    }
   ],
   "source": [
    "# исследуйте данные на предмет пропусков. Где есть пропущенные значения? Сколько их?\n",
    "# ваш код\n",
    "df.info()"
   ]
  },
  {
   "cell_type": "markdown",
   "id": "6366f059",
   "metadata": {},
   "source": [
    "### Задание 2"
   ]
  },
  {
   "cell_type": "code",
   "execution_count": 86,
   "id": "98ea29d4",
   "metadata": {
    "ExecuteTime": {
     "end_time": "2023-04-25T22:47:50.271910Z",
     "start_time": "2023-04-25T22:47:50.271910Z"
    }
   },
   "outputs": [
    {
     "data": {
      "text/plain": [
       "array(['admin.', 'technician', 'services', 'management', 'retired',\n",
       "       'blue-collar', 'unemployed', 'entrepreneur', 'housemaid',\n",
       "       'unknown', 'self-employed', 'student'], dtype=object)"
      ]
     },
     "execution_count": 86,
     "metadata": {},
     "output_type": "execute_result"
    }
   ],
   "source": [
    "# есть ли в признаке job пропущенные значения? Возможно, они обозначены каким-то специальным словом?\n",
    "# ваш код\n",
    "#df['job'].isna().sum()\n",
    "df['job'].unique()"
   ]
  },
  {
   "cell_type": "markdown",
   "id": "8fcf4fcd",
   "metadata": {},
   "source": [
    "### Задание 3"
   ]
  },
  {
   "cell_type": "code",
   "execution_count": 87,
   "id": "3a01be5e",
   "metadata": {
    "ExecuteTime": {
     "end_time": "2023-04-25T22:47:51.208676Z",
     "start_time": "2023-04-25T22:47:51.208676Z"
    }
   },
   "outputs": [
    {
     "data": {
      "text/plain": [
       "0        343.0\n",
       "1         45.0\n",
       "2        270.0\n",
       "3        476.0\n",
       "4        184.0\n",
       "         ...  \n",
       "11157      1.0\n",
       "11158    733.0\n",
       "11159     29.0\n",
       "11160      NaN\n",
       "11161      NaN\n",
       "Name: balance, Length: 11162, dtype: float64"
      ]
     },
     "execution_count": 87,
     "metadata": {},
     "output_type": "execute_result"
    }
   ],
   "source": [
    "# преобразуйте признак balance таким образом, чтобы он корректно считывался, как вещественное число (float)\n",
    "# #df['balance'] = df['balance'].map(lambda x: float(x))\n",
    "# print(df['balance'].str.replace('[ $]', ''))\n",
    "# df['balance'] = df['balance'].str.replace(',', '.').str.replace('[ $]', '').astype(float)\n",
    "# df['balance'] = df['balance'].str.strip().str.replace('[ $]', '').str.replace(',', '.').astype(float)\n",
    "# df['balance'] = df['balance'].str.replace('[ $]', '').str.replace(',', '.').astype(float)\n",
    "#     num = re.sub('[^0-9\\.]', '', value)\n",
    "    # Преобразуем полученную строку в тип float\n",
    "    # return float(num)\n",
    "# df['balance'] = df['balance'].str.replace(',', '.')  # заменяем запятые на точки\n",
    "df['balance'] = df['balance'].str.replace(',', '.').str.extract('(\\d+\\.\\d+)').astype(float)  # извлекаем числа и преобразуем в тип float\n",
    "\n",
    "df['balance']"
   ]
  },
  {
   "cell_type": "code",
   "execution_count": 88,
   "id": "be009a65",
   "metadata": {
    "ExecuteTime": {
     "end_time": "2023-04-25T22:47:51.208676Z",
     "start_time": "2023-04-25T22:47:51.208676Z"
    }
   },
   "outputs": [
    {
     "data": {
      "text/plain": [
       "400.256875422175"
      ]
     },
     "execution_count": 88,
     "metadata": {},
     "output_type": "execute_result"
    }
   ],
   "source": [
    "df['balance'].mean()"
   ]
  },
  {
   "cell_type": "markdown",
   "id": "6de63fd7",
   "metadata": {},
   "source": [
    "### Задание 4"
   ]
  },
  {
   "cell_type": "code",
   "execution_count": 89,
   "id": "6a684a63",
   "metadata": {
    "ExecuteTime": {
     "end_time": "2023-04-25T22:47:51.235240Z",
     "start_time": "2023-04-25T22:47:51.235240Z"
    }
   },
   "outputs": [
    {
     "data": {
      "text/plain": [
       "396.65938003941943"
      ]
     },
     "execution_count": 89,
     "metadata": {},
     "output_type": "execute_result"
    }
   ],
   "source": [
    "# обработайте пропуски в признаки balance , заменив их на медианные значения по данному признаку\n",
    "# ваш код\n",
    "df['balance'] = df['balance'].fillna(df['balance'].median())\n",
    "df['balance'].mean()\n"
   ]
  },
  {
   "cell_type": "markdown",
   "id": "1097ec42",
   "metadata": {},
   "source": [
    "### Задание 5"
   ]
  },
  {
   "cell_type": "code",
   "execution_count": 90,
   "id": "0fa070a6",
   "metadata": {
    "ExecuteTime": {
     "end_time": "2023-04-25T22:47:51.241765Z",
     "start_time": "2023-04-25T22:47:51.241765Z"
    }
   },
   "outputs": [],
   "source": [
    "# обработайте пропуски в категориальных признаках: job и education, заменив их на модальные значения\n",
    "# ваш код\n",
    "df.loc[df['job'] == 'unknown', 'job'] = 'management'"
   ]
  },
  {
   "cell_type": "code",
   "execution_count": 91,
   "id": "970a6d7d",
   "metadata": {
    "ExecuteTime": {
     "end_time": "2023-04-25T22:47:51.273344Z",
     "start_time": "2023-04-25T22:47:51.273344Z"
    }
   },
   "outputs": [
    {
     "data": {
      "text/plain": [
       "array(['admin.', 'technician', 'services', 'management', 'retired',\n",
       "       'blue-collar', 'unemployed', 'entrepreneur', 'housemaid',\n",
       "       'self-employed', 'student'], dtype=object)"
      ]
     },
     "execution_count": 91,
     "metadata": {},
     "output_type": "execute_result"
    }
   ],
   "source": [
    "df['job'].unique()"
   ]
  },
  {
   "cell_type": "code",
   "execution_count": 92,
   "id": "9dc622ad",
   "metadata": {
    "ExecuteTime": {
     "end_time": "2023-04-25T22:47:51.273344Z",
     "start_time": "2023-04-25T22:47:51.273344Z"
    }
   },
   "outputs": [],
   "source": [
    "df.loc[df['education'] == 'unknown', 'education'] = 'secondary'"
   ]
  },
  {
   "cell_type": "code",
   "execution_count": 93,
   "id": "9c2d9c1b",
   "metadata": {
    "ExecuteTime": {
     "end_time": "2023-04-25T22:47:51.321678Z",
     "start_time": "2023-04-25T22:47:51.321678Z"
    }
   },
   "outputs": [
    {
     "data": {
      "text/plain": [
       "array(['secondary', 'tertiary', 'primary'], dtype=object)"
      ]
     },
     "execution_count": 93,
     "metadata": {},
     "output_type": "execute_result"
    }
   ],
   "source": [
    "df['education'].unique()"
   ]
  },
  {
   "cell_type": "code",
   "execution_count": 94,
   "metadata": {
    "ExecuteTime": {
     "end_time": "2023-04-25T22:47:51.321678Z",
     "start_time": "2023-04-25T22:47:51.321678Z"
    },
    "collapsed": false
   },
   "outputs": [
    {
     "data": {
      "text/plain": [
       "0             admin.\n",
       "1             admin.\n",
       "2         technician\n",
       "3           services\n",
       "4             admin.\n",
       "            ...     \n",
       "11157    blue-collar\n",
       "11158       services\n",
       "11159     technician\n",
       "11160     technician\n",
       "11161     technician\n",
       "Name: job, Length: 11162, dtype: object"
      ]
     },
     "execution_count": 94,
     "metadata": {},
     "output_type": "execute_result"
    }
   ],
   "source": [
    "df['job']"
   ]
  },
  {
   "cell_type": "code",
   "execution_count": 95,
   "id": "78fd1bcd",
   "metadata": {
    "ExecuteTime": {
     "end_time": "2023-04-25T22:47:51.328678Z",
     "start_time": "2023-04-25T22:47:51.327681Z"
    }
   },
   "outputs": [
    {
     "data": {
      "text/plain": [
       "412.6968085106383"
      ]
     },
     "execution_count": 95,
     "metadata": {},
     "output_type": "execute_result"
    }
   ],
   "source": [
    "# df[(df['job'] == 'management') & (df['education'] == 'secondary')].mean()['balance']\n",
    "df[(df['job'] == 'management') & (df['education'] == 'secondary')]['balance'].mean()"
   ]
  },
  {
   "cell_type": "markdown",
   "id": "02af77c6",
   "metadata": {},
   "source": [
    "### Задание 6"
   ]
  },
  {
   "cell_type": "code",
   "execution_count": 96,
   "id": "208d26ba",
   "metadata": {
    "ExecuteTime": {
     "end_time": "2023-04-25T22:47:51.355103Z",
     "start_time": "2023-04-25T22:47:51.355103Z"
    }
   },
   "outputs": [
    {
     "data": {
      "text/plain": [
       "count    11162.000000\n",
       "mean       396.659380\n",
       "std        274.210812\n",
       "min          0.000000\n",
       "25%        167.000000\n",
       "50%        350.000000\n",
       "75%        597.000000\n",
       "max        999.000000\n",
       "Name: balance, dtype: float64"
      ]
     },
     "execution_count": 96,
     "metadata": {},
     "output_type": "execute_result"
    }
   ],
   "source": [
    "df['balance'].describe()"
   ]
  },
  {
   "cell_type": "code",
   "execution_count": 97,
   "id": "c9fef1cc",
   "metadata": {
    "ExecuteTime": {
     "end_time": "2023-04-25T22:47:51.355103Z",
     "start_time": "2023-04-25T22:47:51.355103Z"
    }
   },
   "outputs": [],
   "source": [
    "q_75, q_25 = np.percentile(df['balance'], [75 ,25])\n",
    "iqr = q_75 - q_25\n",
    "min_bound = q_25 - 1.5*iqr \n",
    "max_bound = q_75 + 1.5*iqr "
   ]
  },
  {
   "cell_type": "code",
   "execution_count": 98,
   "id": "60f9859c",
   "metadata": {
    "ExecuteTime": {
     "end_time": "2023-04-25T22:47:51.375191Z",
     "start_time": "2023-04-25T22:47:51.375191Z"
    }
   },
   "outputs": [
    {
     "data": {
      "text/plain": [
       "-478.0"
      ]
     },
     "execution_count": 98,
     "metadata": {},
     "output_type": "execute_result"
    }
   ],
   "source": [
    "min_bound"
   ]
  },
  {
   "cell_type": "code",
   "execution_count": 99,
   "id": "dc774dea",
   "metadata": {
    "ExecuteTime": {
     "end_time": "2023-04-25T22:47:51.396759Z",
     "start_time": "2023-04-25T22:47:51.396759Z"
    }
   },
   "outputs": [
    {
     "data": {
      "text/plain": [
       "1242.0"
      ]
     },
     "execution_count": 99,
     "metadata": {},
     "output_type": "execute_result"
    }
   ],
   "source": [
    "max_bound"
   ]
  },
  {
   "cell_type": "code",
   "execution_count": 100,
   "id": "713f4649",
   "metadata": {
    "ExecuteTime": {
     "end_time": "2023-04-25T22:47:51.434030Z",
     "start_time": "2023-04-25T22:47:51.434030Z"
    }
   },
   "outputs": [
    {
     "data": {
      "text/plain": [
       "430.0"
      ]
     },
     "execution_count": 100,
     "metadata": {},
     "output_type": "execute_result"
    }
   ],
   "source": [
    "iqr"
   ]
  },
  {
   "cell_type": "code",
   "execution_count": 101,
   "id": "3802cdd9",
   "metadata": {
    "ExecuteTime": {
     "end_time": "2023-04-25T22:47:51.440599Z",
     "start_time": "2023-04-25T22:47:51.439063Z"
    }
   },
   "outputs": [],
   "source": [
    "df.drop(df[df['balance'] < min_bound].index | df[df['balance'] > max_bound].index, inplace=True)"
   ]
  },
  {
   "cell_type": "code",
   "execution_count": 102,
   "id": "ff28c085",
   "metadata": {
    "ExecuteTime": {
     "end_time": "2023-04-25T22:47:51.440599Z",
     "start_time": "2023-04-25T22:47:51.440599Z"
    }
   },
   "outputs": [
    {
     "data": {
      "text/plain": [
       "-478.0"
      ]
     },
     "execution_count": 102,
     "metadata": {},
     "output_type": "execute_result"
    }
   ],
   "source": [
    "min_bound"
   ]
  },
  {
   "cell_type": "code",
   "execution_count": 103,
   "id": "bf1681b6",
   "metadata": {
    "ExecuteTime": {
     "end_time": "2023-04-25T22:47:51.460660Z",
     "start_time": "2023-04-25T22:47:51.460660Z"
    }
   },
   "outputs": [
    {
     "data": {
      "text/plain": [
       "1242.0"
      ]
     },
     "execution_count": 103,
     "metadata": {},
     "output_type": "execute_result"
    }
   ],
   "source": [
    "max_bound"
   ]
  },
  {
   "cell_type": "code",
   "execution_count": 104,
   "id": "08084bd7",
   "metadata": {
    "ExecuteTime": {
     "end_time": "2023-04-25T22:47:51.467308Z",
     "start_time": "2023-04-25T22:47:51.467308Z"
    }
   },
   "outputs": [
    {
     "data": {
      "text/plain": [
       "430.0"
      ]
     },
     "execution_count": 104,
     "metadata": {},
     "output_type": "execute_result"
    }
   ],
   "source": [
    "iqr"
   ]
  },
  {
   "cell_type": "code",
   "execution_count": 105,
   "id": "ffeca443",
   "metadata": {
    "ExecuteTime": {
     "end_time": "2023-04-25T22:47:51.493664Z",
     "start_time": "2023-04-25T22:47:51.493664Z"
    }
   },
   "outputs": [
    {
     "data": {
      "text/html": [
       "<div>\n",
       "<style scoped>\n",
       "    .dataframe tbody tr th:only-of-type {\n",
       "        vertical-align: middle;\n",
       "    }\n",
       "\n",
       "    .dataframe tbody tr th {\n",
       "        vertical-align: top;\n",
       "    }\n",
       "\n",
       "    .dataframe thead th {\n",
       "        text-align: right;\n",
       "    }\n",
       "</style>\n",
       "<table border=\"1\" class=\"dataframe\">\n",
       "  <thead>\n",
       "    <tr style=\"text-align: right;\">\n",
       "      <th></th>\n",
       "      <th>age</th>\n",
       "      <th>balance</th>\n",
       "      <th>day</th>\n",
       "      <th>duration</th>\n",
       "      <th>campaign</th>\n",
       "      <th>pdays</th>\n",
       "      <th>previous</th>\n",
       "    </tr>\n",
       "  </thead>\n",
       "  <tbody>\n",
       "    <tr>\n",
       "      <th>count</th>\n",
       "      <td>11162.000000</td>\n",
       "      <td>11162.000000</td>\n",
       "      <td>11162.000000</td>\n",
       "      <td>11162.000000</td>\n",
       "      <td>11162.000000</td>\n",
       "      <td>11162.000000</td>\n",
       "      <td>11162.000000</td>\n",
       "    </tr>\n",
       "    <tr>\n",
       "      <th>mean</th>\n",
       "      <td>41.231948</td>\n",
       "      <td>396.659380</td>\n",
       "      <td>15.658036</td>\n",
       "      <td>371.993818</td>\n",
       "      <td>2.508421</td>\n",
       "      <td>51.330407</td>\n",
       "      <td>0.832557</td>\n",
       "    </tr>\n",
       "    <tr>\n",
       "      <th>std</th>\n",
       "      <td>11.913369</td>\n",
       "      <td>274.210812</td>\n",
       "      <td>8.420740</td>\n",
       "      <td>347.128386</td>\n",
       "      <td>2.722077</td>\n",
       "      <td>108.758282</td>\n",
       "      <td>2.292007</td>\n",
       "    </tr>\n",
       "    <tr>\n",
       "      <th>min</th>\n",
       "      <td>18.000000</td>\n",
       "      <td>0.000000</td>\n",
       "      <td>1.000000</td>\n",
       "      <td>2.000000</td>\n",
       "      <td>1.000000</td>\n",
       "      <td>-1.000000</td>\n",
       "      <td>0.000000</td>\n",
       "    </tr>\n",
       "    <tr>\n",
       "      <th>25%</th>\n",
       "      <td>32.000000</td>\n",
       "      <td>167.000000</td>\n",
       "      <td>8.000000</td>\n",
       "      <td>138.000000</td>\n",
       "      <td>1.000000</td>\n",
       "      <td>-1.000000</td>\n",
       "      <td>0.000000</td>\n",
       "    </tr>\n",
       "    <tr>\n",
       "      <th>50%</th>\n",
       "      <td>39.000000</td>\n",
       "      <td>350.000000</td>\n",
       "      <td>15.000000</td>\n",
       "      <td>255.000000</td>\n",
       "      <td>2.000000</td>\n",
       "      <td>-1.000000</td>\n",
       "      <td>0.000000</td>\n",
       "    </tr>\n",
       "    <tr>\n",
       "      <th>75%</th>\n",
       "      <td>49.000000</td>\n",
       "      <td>597.000000</td>\n",
       "      <td>22.000000</td>\n",
       "      <td>496.000000</td>\n",
       "      <td>3.000000</td>\n",
       "      <td>20.750000</td>\n",
       "      <td>1.000000</td>\n",
       "    </tr>\n",
       "    <tr>\n",
       "      <th>max</th>\n",
       "      <td>95.000000</td>\n",
       "      <td>999.000000</td>\n",
       "      <td>31.000000</td>\n",
       "      <td>3881.000000</td>\n",
       "      <td>63.000000</td>\n",
       "      <td>854.000000</td>\n",
       "      <td>58.000000</td>\n",
       "    </tr>\n",
       "  </tbody>\n",
       "</table>\n",
       "</div>"
      ],
      "text/plain": [
       "                age       balance           day      duration      campaign  \\\n",
       "count  11162.000000  11162.000000  11162.000000  11162.000000  11162.000000   \n",
       "mean      41.231948    396.659380     15.658036    371.993818      2.508421   \n",
       "std       11.913369    274.210812      8.420740    347.128386      2.722077   \n",
       "min       18.000000      0.000000      1.000000      2.000000      1.000000   \n",
       "25%       32.000000    167.000000      8.000000    138.000000      1.000000   \n",
       "50%       39.000000    350.000000     15.000000    255.000000      2.000000   \n",
       "75%       49.000000    597.000000     22.000000    496.000000      3.000000   \n",
       "max       95.000000    999.000000     31.000000   3881.000000     63.000000   \n",
       "\n",
       "              pdays      previous  \n",
       "count  11162.000000  11162.000000  \n",
       "mean      51.330407      0.832557  \n",
       "std      108.758282      2.292007  \n",
       "min       -1.000000      0.000000  \n",
       "25%       -1.000000      0.000000  \n",
       "50%       -1.000000      0.000000  \n",
       "75%       20.750000      1.000000  \n",
       "max      854.000000     58.000000  "
      ]
     },
     "execution_count": 105,
     "metadata": {},
     "output_type": "execute_result"
    }
   ],
   "source": [
    "df.describe()"
   ]
  },
  {
   "cell_type": "code",
   "execution_count": 106,
   "id": "4cadbebd",
   "metadata": {
    "ExecuteTime": {
     "end_time": "2023-04-25T22:47:51.493664Z",
     "start_time": "2023-04-25T22:47:51.493664Z"
    }
   },
   "outputs": [
    {
     "data": {
      "text/plain": [
       "count    11162.000000\n",
       "mean       396.659380\n",
       "std        274.210812\n",
       "min          0.000000\n",
       "25%        167.000000\n",
       "50%        350.000000\n",
       "75%        597.000000\n",
       "max        999.000000\n",
       "Name: balance, dtype: float64"
      ]
     },
     "execution_count": 106,
     "metadata": {},
     "output_type": "execute_result"
    }
   ],
   "source": [
    "df['balance'].describe()"
   ]
  },
  {
   "cell_type": "markdown",
   "id": "5d22b8cd",
   "metadata": {},
   "source": [
    "## Часть 2:  Разведывательный анализ"
   ]
  },
  {
   "cell_type": "markdown",
   "id": "21e1f083",
   "metadata": {},
   "source": [
    "### Задание 1"
   ]
  },
  {
   "cell_type": "code",
   "execution_count": 107,
   "id": "6d0cd3a8",
   "metadata": {
    "ExecuteTime": {
     "end_time": "2023-04-25T22:47:51.516716Z",
     "start_time": "2023-04-25T22:47:51.516716Z"
    }
   },
   "outputs": [],
   "source": [
    "# изучите соотношение классов в ваших данных на предмет несбалансированности, проиллюстрируйте результат\n",
    "# ваш код"
   ]
  },
  {
   "cell_type": "markdown",
   "id": "426b1d40",
   "metadata": {},
   "source": [
    "### Задания 2 и 3"
   ]
  },
  {
   "cell_type": "code",
   "execution_count": 108,
   "id": "603cdb3c",
   "metadata": {
    "ExecuteTime": {
     "end_time": "2023-04-25T22:47:51.536879Z",
     "start_time": "2023-04-25T22:47:51.536879Z"
    }
   },
   "outputs": [],
   "source": [
    "#рассчитайте описательные статистики для количественных переменных, проинтерпретируйте результат\n",
    "#ваш код\n",
    "barplot = df['deposit'].value_counts()"
   ]
  },
  {
   "cell_type": "code",
   "execution_count": 109,
   "id": "d4e3de78",
   "metadata": {
    "ExecuteTime": {
     "end_time": "2023-04-25T22:47:51.543399Z",
     "start_time": "2023-04-25T22:47:51.543399Z"
    }
   },
   "outputs": [],
   "source": [
    "y = ['yes', 'no']\n",
    "x = [5424, 4681]"
   ]
  },
  {
   "cell_type": "code",
   "execution_count": 110,
   "id": "1cc4312d",
   "metadata": {
    "ExecuteTime": {
     "end_time": "2023-04-25T22:47:51.597995Z",
     "start_time": "2023-04-25T22:47:51.597995Z"
    }
   },
   "outputs": [
    {
     "data": {
      "text/plain": [
       "<AxesSubplot: >"
      ]
     },
     "execution_count": 110,
     "metadata": {},
     "output_type": "execute_result"
    },
    {
     "data": {
      "image/png": "[encoded data removed]",
      "text/plain": [
       "<Figure size 640x480 with 1 Axes>"
      ]
     },
     "metadata": {},
     "output_type": "display_data"
    }
   ],
   "source": [
    "sns.barplot(x=x, y=y)"
   ]
  },
  {
   "cell_type": "markdown",
   "id": "821dc39e",
   "metadata": {},
   "source": [
    "### Задания 4 и 5"
   ]
  },
  {
   "cell_type": "code",
   "execution_count": 111,
   "id": "b0cdc60e",
   "metadata": {
    "ExecuteTime": {
     "end_time": "2023-04-25T22:47:51.599001Z",
     "start_time": "2023-04-25T22:47:51.597995Z"
    }
   },
   "outputs": [
    {
     "data": {
      "text/plain": [
       "95"
      ]
     },
     "execution_count": 111,
     "metadata": {},
     "output_type": "execute_result"
    }
   ],
   "source": [
    "df['age'].max()"
   ]
  },
  {
   "cell_type": "code",
   "execution_count": 112,
   "id": "79621522",
   "metadata": {
    "ExecuteTime": {
     "end_time": "2023-04-25T22:47:51.599999Z",
     "start_time": "2023-04-25T22:47:51.599999Z"
    }
   },
   "outputs": [
    {
     "data": {
      "text/plain": [
       "2"
      ]
     },
     "execution_count": 112,
     "metadata": {},
     "output_type": "execute_result"
    }
   ],
   "source": [
    "df['duration'].min()"
   ]
  },
  {
   "cell_type": "code",
   "execution_count": 113,
   "id": "293eb8e2",
   "metadata": {
    "ExecuteTime": {
     "end_time": "2023-04-25T22:47:52.083906Z",
     "start_time": "2023-04-25T22:47:52.083906Z"
    }
   },
   "outputs": [
    {
     "data": {
      "text/html": [
       "<div>\n",
       "<style scoped>\n",
       "    .dataframe tbody tr th:only-of-type {\n",
       "        vertical-align: middle;\n",
       "    }\n",
       "\n",
       "    .dataframe tbody tr th {\n",
       "        vertical-align: top;\n",
       "    }\n",
       "\n",
       "    .dataframe thead th {\n",
       "        text-align: right;\n",
       "    }\n",
       "</style>\n",
       "<table border=\"1\" class=\"dataframe\">\n",
       "  <thead>\n",
       "    <tr style=\"text-align: right;\">\n",
       "      <th></th>\n",
       "      <th>age</th>\n",
       "      <th>job</th>\n",
       "      <th>marital</th>\n",
       "      <th>education</th>\n",
       "      <th>default</th>\n",
       "      <th>balance</th>\n",
       "      <th>housing</th>\n",
       "      <th>loan</th>\n",
       "      <th>contact</th>\n",
       "      <th>day</th>\n",
       "      <th>month</th>\n",
       "      <th>duration</th>\n",
       "      <th>campaign</th>\n",
       "      <th>pdays</th>\n",
       "      <th>previous</th>\n",
       "      <th>poutcome</th>\n",
       "      <th>deposit</th>\n",
       "    </tr>\n",
       "  </thead>\n",
       "  <tbody>\n",
       "    <tr>\n",
       "      <th>0</th>\n",
       "      <td>59</td>\n",
       "      <td>admin.</td>\n",
       "      <td>married</td>\n",
       "      <td>secondary</td>\n",
       "      <td>no</td>\n",
       "      <td>343.0</td>\n",
       "      <td>yes</td>\n",
       "      <td>no</td>\n",
       "      <td>unknown</td>\n",
       "      <td>5</td>\n",
       "      <td>may</td>\n",
       "      <td>1042</td>\n",
       "      <td>1</td>\n",
       "      <td>-1</td>\n",
       "      <td>0</td>\n",
       "      <td>unknown</td>\n",
       "      <td>yes</td>\n",
       "    </tr>\n",
       "    <tr>\n",
       "      <th>1</th>\n",
       "      <td>56</td>\n",
       "      <td>admin.</td>\n",
       "      <td>married</td>\n",
       "      <td>secondary</td>\n",
       "      <td>no</td>\n",
       "      <td>45.0</td>\n",
       "      <td>no</td>\n",
       "      <td>no</td>\n",
       "      <td>unknown</td>\n",
       "      <td>5</td>\n",
       "      <td>may</td>\n",
       "      <td>1467</td>\n",
       "      <td>1</td>\n",
       "      <td>-1</td>\n",
       "      <td>0</td>\n",
       "      <td>unknown</td>\n",
       "      <td>yes</td>\n",
       "    </tr>\n",
       "    <tr>\n",
       "      <th>2</th>\n",
       "      <td>41</td>\n",
       "      <td>technician</td>\n",
       "      <td>married</td>\n",
       "      <td>secondary</td>\n",
       "      <td>no</td>\n",
       "      <td>270.0</td>\n",
       "      <td>yes</td>\n",
       "      <td>no</td>\n",
       "      <td>unknown</td>\n",
       "      <td>5</td>\n",
       "      <td>may</td>\n",
       "      <td>1389</td>\n",
       "      <td>1</td>\n",
       "      <td>-1</td>\n",
       "      <td>0</td>\n",
       "      <td>unknown</td>\n",
       "      <td>yes</td>\n",
       "    </tr>\n",
       "    <tr>\n",
       "      <th>3</th>\n",
       "      <td>55</td>\n",
       "      <td>services</td>\n",
       "      <td>married</td>\n",
       "      <td>secondary</td>\n",
       "      <td>no</td>\n",
       "      <td>476.0</td>\n",
       "      <td>yes</td>\n",
       "      <td>no</td>\n",
       "      <td>unknown</td>\n",
       "      <td>5</td>\n",
       "      <td>may</td>\n",
       "      <td>579</td>\n",
       "      <td>1</td>\n",
       "      <td>-1</td>\n",
       "      <td>0</td>\n",
       "      <td>unknown</td>\n",
       "      <td>yes</td>\n",
       "    </tr>\n",
       "    <tr>\n",
       "      <th>4</th>\n",
       "      <td>54</td>\n",
       "      <td>admin.</td>\n",
       "      <td>married</td>\n",
       "      <td>tertiary</td>\n",
       "      <td>no</td>\n",
       "      <td>184.0</td>\n",
       "      <td>no</td>\n",
       "      <td>no</td>\n",
       "      <td>unknown</td>\n",
       "      <td>5</td>\n",
       "      <td>may</td>\n",
       "      <td>673</td>\n",
       "      <td>2</td>\n",
       "      <td>-1</td>\n",
       "      <td>0</td>\n",
       "      <td>unknown</td>\n",
       "      <td>yes</td>\n",
       "    </tr>\n",
       "  </tbody>\n",
       "</table>\n",
       "</div>"
      ],
      "text/plain": [
       "   age         job  marital  education default  balance housing loan  contact  \\\n",
       "0   59      admin.  married  secondary      no    343.0     yes   no  unknown   \n",
       "1   56      admin.  married  secondary      no     45.0      no   no  unknown   \n",
       "2   41  technician  married  secondary      no    270.0     yes   no  unknown   \n",
       "3   55    services  married  secondary      no    476.0     yes   no  unknown   \n",
       "4   54      admin.  married   tertiary      no    184.0      no   no  unknown   \n",
       "\n",
       "   day month  duration  campaign  pdays  previous poutcome deposit  \n",
       "0    5   may      1042         1     -1         0  unknown     yes  \n",
       "1    5   may      1467         1     -1         0  unknown     yes  \n",
       "2    5   may      1389         1     -1         0  unknown     yes  \n",
       "3    5   may       579         1     -1         0  unknown     yes  \n",
       "4    5   may       673         2     -1         0  unknown     yes  "
      ]
     },
     "execution_count": 113,
     "metadata": {},
     "output_type": "execute_result"
    }
   ],
   "source": [
    "df.head()"
   ]
  },
  {
   "cell_type": "code",
   "execution_count": 114,
   "id": "bf45afc9",
   "metadata": {
    "ExecuteTime": {
     "end_time": "2023-04-25T22:47:52.143627Z",
     "start_time": "2023-04-25T22:47:52.143627Z"
    }
   },
   "outputs": [
    {
     "data": {
      "text/plain": [
       "count          11162\n",
       "unique            11\n",
       "top       management\n",
       "freq            2636\n",
       "Name: job, dtype: object"
      ]
     },
     "execution_count": 114,
     "metadata": {},
     "output_type": "execute_result"
    }
   ],
   "source": [
    "#рассчитайте описательные статистики для категориальных переменных, проинтерпретируйте результат\n",
    "#ваш код\n",
    "#постройте визуализации, иллюстрирующие результаты\n",
    "df['job'].describe()"
   ]
  },
  {
   "cell_type": "code",
   "execution_count": 115,
   "id": "aa6d4b9c",
   "metadata": {
    "ExecuteTime": {
     "end_time": "2023-04-25T22:47:52.285475Z",
     "start_time": "2023-04-25T22:47:52.285475Z"
    }
   },
   "outputs": [
    {
     "data": {
      "text/plain": [
       "Text(0.5, 1.0, 'Type of Job')"
      ]
     },
     "execution_count": 115,
     "metadata": {},
     "output_type": "execute_result"
    },
    {
     "data": {
      "image/png": "[encoded data removed]",
      "text/plain": [
       "<Figure size 640x480 with 1 Axes>"
      ]
     },
     "metadata": {},
     "output_type": "display_data"
    }
   ],
   "source": [
    "sns.histplot(df['job'], legend=True).set_title('Type of Job')"
   ]
  },
  {
   "cell_type": "code",
   "execution_count": 116,
   "id": "78e3b81a",
   "metadata": {
    "ExecuteTime": {
     "end_time": "2023-04-25T22:47:52.335257Z",
     "start_time": "2023-04-25T22:47:52.335257Z"
    }
   },
   "outputs": [
    {
     "data": {
      "text/plain": [
       "Text(0.5, 1.0, 'Type of education')"
      ]
     },
     "execution_count": 116,
     "metadata": {},
     "output_type": "execute_result"
    },
    {
     "data": {
      "image/png": "[encoded data removed]",
      "text/plain": [
       "<Figure size 640x480 with 1 Axes>"
      ]
     },
     "metadata": {},
     "output_type": "display_data"
    }
   ],
   "source": [
    "sns.histplot(df['education'], legend=True).set_title('Type of education')"
   ]
  },
  {
   "cell_type": "code",
   "execution_count": 117,
   "id": "aea25448",
   "metadata": {
    "ExecuteTime": {
     "end_time": "2023-04-25T22:47:52.588403Z",
     "start_time": "2023-04-25T22:47:52.588403Z"
    }
   },
   "outputs": [
    {
     "data": {
      "text/plain": [
       "Text(0.5, 1.0, 'Type of marital')"
      ]
     },
     "execution_count": 117,
     "metadata": {},
     "output_type": "execute_result"
    },
    {
     "data": {
      "image/png": "[encoded data removed]",
      "text/plain": [
       "<Figure size 640x480 with 1 Axes>"
      ]
     },
     "metadata": {},
     "output_type": "display_data"
    }
   ],
   "source": [
    "sns.histplot(df['marital'], legend=True).set_title('Type of marital')\n"
   ]
  },
  {
   "cell_type": "code",
   "execution_count": 118,
   "id": "5b142e6b",
   "metadata": {
    "ExecuteTime": {
     "end_time": "2023-04-25T22:47:52.643027Z",
     "start_time": "2023-04-25T22:47:52.643027Z"
    }
   },
   "outputs": [
    {
     "data": {
      "text/plain": [
       "Text(0.5, 1.0, 'Налииче ипотеки')"
      ]
     },
     "execution_count": 118,
     "metadata": {},
     "output_type": "execute_result"
    },
    {
     "data": {
      "image/png": "[encoded data removed]",
      "text/plain": [
       "<Figure size 640x480 with 1 Axes>"
      ]
     },
     "metadata": {},
     "output_type": "display_data"
    }
   ],
   "source": [
    "sns.histplot(df['housing'], legend=True).set_title('Налииче ипотеки')"
   ]
  },
  {
   "cell_type": "code",
   "execution_count": 119,
   "id": "d58c547b",
   "metadata": {
    "ExecuteTime": {
     "end_time": "2023-04-25T22:47:52.658293Z",
     "start_time": "2023-04-25T22:47:52.658293Z"
    }
   },
   "outputs": [
    {
     "data": {
      "text/plain": [
       "Text(0.5, 1.0, 'Налииче потребительского кредита')"
      ]
     },
     "execution_count": 119,
     "metadata": {},
     "output_type": "execute_result"
    },
    {
     "data": {
      "image/png": "[encoded data removed]",
      "text/plain": [
       "<Figure size 640x480 with 1 Axes>"
      ]
     },
     "metadata": {},
     "output_type": "display_data"
    }
   ],
   "source": [
    "sns.histplot(df['loan'], legend=True).set_title('Налииче потребительского кредита')"
   ]
  },
  {
   "cell_type": "code",
   "execution_count": 120,
   "id": "db376ca0",
   "metadata": {
    "ExecuteTime": {
     "end_time": "2023-04-25T22:47:52.733449Z",
     "start_time": "2023-04-25T22:47:52.733449Z"
    }
   },
   "outputs": [
    {
     "data": {
      "text/plain": [
       "Text(0.5, 1.0, 'Распределение по типам контактов с клиентом')"
      ]
     },
     "execution_count": 120,
     "metadata": {},
     "output_type": "execute_result"
    },
    {
     "data": {
      "image/png": "[encoded data removed]",
      "text/plain": [
       "<Figure size 640x480 with 1 Axes>"
      ]
     },
     "metadata": {},
     "output_type": "display_data"
    }
   ],
   "source": [
    "sns.histplot(df['contact'], legend=True).set_title('Распределение по типам контактов с клиентом')"
   ]
  },
  {
   "cell_type": "code",
   "execution_count": 121,
   "id": "e3932339",
   "metadata": {
    "ExecuteTime": {
     "end_time": "2023-04-25T22:47:53.186455Z",
     "start_time": "2023-04-25T22:47:53.186455Z"
    }
   },
   "outputs": [
    {
     "data": {
      "text/plain": [
       "Text(0.5, 1.0, 'Распределение контактов с клиентом по месяцам')"
      ]
     },
     "execution_count": 121,
     "metadata": {},
     "output_type": "execute_result"
    },
    {
     "data": {
      "image/png": "[encoded data removed]",
      "text/plain": [
       "<Figure size 640x480 with 1 Axes>"
      ]
     },
     "metadata": {},
     "output_type": "display_data"
    }
   ],
   "source": [
    "sns.histplot(df['month'], legend=True).set_title('Распределение контактов с клиентом по месяцам')"
   ]
  },
  {
   "cell_type": "code",
   "execution_count": 122,
   "id": "99763029",
   "metadata": {
    "ExecuteTime": {
     "end_time": "2023-04-25T22:47:53.861289Z",
     "start_time": "2023-04-25T22:47:53.861289Z"
    }
   },
   "outputs": [
    {
     "data": {
      "text/plain": [
       "Text(0.5, 1.0, 'Распределение контактов с клиентом в текущей компании')"
      ]
     },
     "execution_count": 122,
     "metadata": {},
     "output_type": "execute_result"
    },
    {
     "data": {
      "image/png": "[encoded data removed]",
      "text/plain": [
       "<Figure size 640x480 with 1 Axes>"
      ]
     },
     "metadata": {},
     "output_type": "display_data"
    }
   ],
   "source": [
    "sns.histplot(df['campaign'], legend=True).set_title('Распределение контактов с клиентом в текущей компании')"
   ]
  },
  {
   "cell_type": "code",
   "execution_count": 123,
   "id": "6048d3f8",
   "metadata": {
    "ExecuteTime": {
     "end_time": "2023-04-25T22:47:53.864290Z",
     "start_time": "2023-04-25T22:47:53.864290Z"
    }
   },
   "outputs": [
    {
     "data": {
      "text/plain": [
       "Text(0.5, 1.0, 'Распределение результатов в прошлой маркетинговой компании')"
      ]
     },
     "execution_count": 123,
     "metadata": {},
     "output_type": "execute_result"
    },
    {
     "data": {
      "image/png": "[encoded data removed]",
      "text/plain": [
       "<Figure size 640x480 with 1 Axes>"
      ]
     },
     "metadata": {},
     "output_type": "display_data"
    }
   ],
   "source": [
    "sns.histplot(df['poutcome'], legend=True).set_title('Распределение результатов в прошлой маркетинговой компании')"
   ]
  },
  {
   "cell_type": "code",
   "execution_count": 124,
   "id": "c0120f38",
   "metadata": {
    "ExecuteTime": {
     "end_time": "2023-04-25T22:47:53.864290Z",
     "start_time": "2023-04-25T22:47:53.864290Z"
    }
   },
   "outputs": [
    {
     "data": {
      "text/html": [
       "<div>\n",
       "<style scoped>\n",
       "    .dataframe tbody tr th:only-of-type {\n",
       "        vertical-align: middle;\n",
       "    }\n",
       "\n",
       "    .dataframe tbody tr th {\n",
       "        vertical-align: top;\n",
       "    }\n",
       "\n",
       "    .dataframe thead th {\n",
       "        text-align: right;\n",
       "    }\n",
       "</style>\n",
       "<table border=\"1\" class=\"dataframe\">\n",
       "  <thead>\n",
       "    <tr style=\"text-align: right;\">\n",
       "      <th></th>\n",
       "      <th>job</th>\n",
       "      <th>marital</th>\n",
       "      <th>education</th>\n",
       "      <th>default</th>\n",
       "      <th>housing</th>\n",
       "      <th>loan</th>\n",
       "      <th>contact</th>\n",
       "      <th>month</th>\n",
       "      <th>poutcome</th>\n",
       "      <th>deposit</th>\n",
       "    </tr>\n",
       "  </thead>\n",
       "  <tbody>\n",
       "    <tr>\n",
       "      <th>count</th>\n",
       "      <td>11162</td>\n",
       "      <td>11162</td>\n",
       "      <td>11162</td>\n",
       "      <td>11162</td>\n",
       "      <td>11162</td>\n",
       "      <td>11162</td>\n",
       "      <td>11162</td>\n",
       "      <td>11162</td>\n",
       "      <td>11162</td>\n",
       "      <td>11162</td>\n",
       "    </tr>\n",
       "    <tr>\n",
       "      <th>unique</th>\n",
       "      <td>11</td>\n",
       "      <td>3</td>\n",
       "      <td>3</td>\n",
       "      <td>2</td>\n",
       "      <td>2</td>\n",
       "      <td>2</td>\n",
       "      <td>3</td>\n",
       "      <td>12</td>\n",
       "      <td>4</td>\n",
       "      <td>2</td>\n",
       "    </tr>\n",
       "    <tr>\n",
       "      <th>top</th>\n",
       "      <td>management</td>\n",
       "      <td>married</td>\n",
       "      <td>secondary</td>\n",
       "      <td>no</td>\n",
       "      <td>no</td>\n",
       "      <td>no</td>\n",
       "      <td>cellular</td>\n",
       "      <td>may</td>\n",
       "      <td>unknown</td>\n",
       "      <td>no</td>\n",
       "    </tr>\n",
       "    <tr>\n",
       "      <th>freq</th>\n",
       "      <td>2636</td>\n",
       "      <td>6351</td>\n",
       "      <td>5973</td>\n",
       "      <td>10994</td>\n",
       "      <td>5881</td>\n",
       "      <td>9702</td>\n",
       "      <td>8042</td>\n",
       "      <td>2824</td>\n",
       "      <td>8326</td>\n",
       "      <td>5873</td>\n",
       "    </tr>\n",
       "  </tbody>\n",
       "</table>\n",
       "</div>"
      ],
      "text/plain": [
       "               job  marital  education default housing   loan   contact  \\\n",
       "count        11162    11162      11162   11162   11162  11162     11162   \n",
       "unique          11        3          3       2       2      2         3   \n",
       "top     management  married  secondary      no      no     no  cellular   \n",
       "freq          2636     6351       5973   10994    5881   9702      8042   \n",
       "\n",
       "        month poutcome deposit  \n",
       "count   11162    11162   11162  \n",
       "unique     12        4       2  \n",
       "top       may  unknown      no  \n",
       "freq     2824     8326    5873  "
      ]
     },
     "execution_count": 124,
     "metadata": {},
     "output_type": "execute_result"
    }
   ],
   "source": [
    "df.describe(include='object')"
   ]
  },
  {
   "cell_type": "markdown",
   "id": "472cff5b",
   "metadata": {},
   "source": [
    "### Задание 6"
   ]
  },
  {
   "cell_type": "code",
   "execution_count": 125,
   "id": "2d640ce1",
   "metadata": {
    "ExecuteTime": {
     "end_time": "2023-04-25T22:47:53.872809Z",
     "start_time": "2023-04-25T22:47:53.872809Z"
    }
   },
   "outputs": [
    {
     "data": {
      "text/plain": [
       "unknown    8326\n",
       "failure    1228\n",
       "success    1071\n",
       "other       537\n",
       "Name: poutcome, dtype: int64"
      ]
     },
     "execution_count": 125,
     "metadata": {},
     "output_type": "execute_result"
    }
   ],
   "source": [
    "# Узнайте, для какого статуса предыдущей маркетинговой кампании успех в текущей превалирует над количеством неудач.\n",
    "# ваш код\n",
    "df['poutcome'].value_counts()"
   ]
  },
  {
   "cell_type": "markdown",
   "id": "9c32e3aa",
   "metadata": {},
   "source": [
    "### Задание 7"
   ]
  },
  {
   "cell_type": "code",
   "execution_count": 126,
   "id": "df437ec3",
   "metadata": {
    "ExecuteTime": {
     "end_time": "2023-04-25T22:47:54.013683Z",
     "start_time": "2023-04-25T22:47:54.013683Z"
    }
   },
   "outputs": [
    {
     "data": {
      "text/plain": [
       "may    1899\n",
       "jul     887\n",
       "aug     831\n",
       "jun     676\n",
       "nov     540\n",
       "apr     346\n",
       "feb     335\n",
       "jan     202\n",
       "oct      69\n",
       "sep      50\n",
       "mar      28\n",
       "dec      10\n",
       "Name: month, dtype: int64"
      ]
     },
     "execution_count": 126,
     "metadata": {},
     "output_type": "execute_result"
    }
   ],
   "source": [
    "# узнайте, в каком месяце чаще всего отказывались от предложения открыть депозит\n",
    "# ваш код\n",
    "df['month'][(df['deposit'] == 'no')].value_counts()\n",
    "#df[(df['job'] == 'management') & (df['education'] == 'secondary')].mean()['balance']"
   ]
  },
  {
   "cell_type": "markdown",
   "id": "5f20762f",
   "metadata": {},
   "source": [
    "### Задание 8"
   ]
  },
  {
   "cell_type": "code",
   "execution_count": 127,
   "id": "95d56f1b",
   "metadata": {
    "ExecuteTime": {
     "end_time": "2023-04-25T22:47:54.015679Z",
     "start_time": "2023-04-25T22:47:54.015679Z"
    }
   },
   "outputs": [],
   "source": [
    "# создайте возрастные группы и определите, в каких группах более склонны открывать депозит, чем отказываться от предложения\n",
    "# Задаем границы и метки для разделения на возрастные группы\n",
    "bins = [0, 29, 40, 50, 60, 100]\n",
    "labels = ['<30', '30-40', '40-50', '50-60', '60+']\n",
    "# Создаем колонку age-group, разделяя возраст на группы с помощью pd.cut\n",
    "df['age-group'] = pd.cut(df['age'], bins, labels = labels, include_lowest=True)"
   ]
  },
  {
   "cell_type": "code",
   "execution_count": 128,
   "id": "912009d8",
   "metadata": {
    "ExecuteTime": {
     "end_time": "2023-04-25T22:47:54.015679Z",
     "start_time": "2023-04-25T22:47:54.015679Z"
    }
   },
   "outputs": [],
   "source": [
    "# Группируем DataFrame по колонке age-group, выбиарем колонку deposit и выводим количество записей в каждой группе\n",
    "# при этом, мы делаем нормализацию (получаем процентное соотношение yes к всему набору и no к всему набору)\n",
    "# а так же применяем функцию mul, чтобы умножить проценты на 100 для более удобочитаемого вида\n",
    "grouped = df.groupby('age-group')['deposit'].value_counts(normalize=True).mul(100)"
   ]
  },
  {
   "cell_type": "code",
   "execution_count": 129,
   "id": "ab35377e",
   "metadata": {
    "ExecuteTime": {
     "end_time": "2023-04-25T22:47:54.015679Z",
     "start_time": "2023-04-25T22:47:54.015679Z"
    }
   },
   "outputs": [],
   "source": [
    "# Сортируем по убыванию\n",
    "sorted_grouped = grouped.sort_values(ascending=False)"
   ]
  },
  {
   "cell_type": "code",
   "execution_count": 130,
   "id": "6af04773",
   "metadata": {
    "ExecuteTime": {
     "end_time": "2023-04-25T22:47:59.094460Z",
     "start_time": "2023-04-25T22:47:59.094460Z"
    }
   },
   "outputs": [
    {
     "data": {
      "text/plain": [
       "age-group  deposit\n",
       "60+        yes        82.160393\n",
       "<30        yes        59.832366\n",
       "40-50      no         59.174679\n",
       "50-60      no         56.397849\n",
       "30-40      no         56.309216\n",
       "           yes        43.690784\n",
       "50-60      yes        43.602151\n",
       "40-50      yes        40.825321\n",
       "<30        no         40.167634\n",
       "60+        no         17.839607\n",
       "Name: deposit, dtype: float64"
      ]
     },
     "execution_count": 130,
     "metadata": {},
     "output_type": "execute_result"
    }
   ],
   "source": [
    "sorted_grouped"
   ]
  },
  {
   "cell_type": "markdown",
   "id": "0841c685",
   "metadata": {},
   "source": [
    "### Задания 9 и 10"
   ]
  },
  {
   "cell_type": "code",
   "execution_count": 131,
   "id": "0d84a9e1",
   "metadata": {
    "ExecuteTime": {
     "end_time": "2023-04-25T22:47:59.755213Z",
     "start_time": "2023-04-25T22:47:59.755213Z"
    }
   },
   "outputs": [
    {
     "data": {
      "text/plain": [
       "marital   deposit\n",
       "divorced  no         51.894818\n",
       "          yes        48.105182\n",
       "married   no         56.621005\n",
       "          yes        43.378995\n",
       "single    yes        54.349062\n",
       "          no         45.650938\n",
       "Name: deposit, dtype: float64"
      ]
     },
     "execution_count": 131,
     "metadata": {},
     "output_type": "execute_result"
    }
   ],
   "source": [
    "# постройте визуализации для открывших и неоткрывших депозит в зависимости от семейного статуса\n",
    "grouped_marital = df.groupby('marital')['deposit'].value_counts(normalize=True).mul(100)\n",
    "grouped_marital"
   ]
  },
  {
   "cell_type": "code",
   "execution_count": 132,
   "id": "cab02434",
   "metadata": {
    "ExecuteTime": {
     "end_time": "2023-04-25T22:47:59.971113Z",
     "start_time": "2023-04-25T22:47:59.970113Z"
    }
   },
   "outputs": [],
   "source": [
    "df_gm = pd.DataFrame(data=grouped_marital)\n",
    "df_gm = df_gm.rename(columns={'deposit': 'percentage'})"
   ]
  },
  {
   "cell_type": "code",
   "execution_count": 133,
   "id": "6f7c5a9f",
   "metadata": {
    "ExecuteTime": {
     "end_time": "2023-04-25T22:48:00.140523Z",
     "start_time": "2023-04-25T22:48:00.140523Z"
    }
   },
   "outputs": [
    {
     "data": {
      "text/html": [
       "<div>\n",
       "<style scoped>\n",
       "    .dataframe tbody tr th:only-of-type {\n",
       "        vertical-align: middle;\n",
       "    }\n",
       "\n",
       "    .dataframe tbody tr th {\n",
       "        vertical-align: top;\n",
       "    }\n",
       "\n",
       "    .dataframe thead th {\n",
       "        text-align: right;\n",
       "    }\n",
       "</style>\n",
       "<table border=\"1\" class=\"dataframe\">\n",
       "  <thead>\n",
       "    <tr style=\"text-align: right;\">\n",
       "      <th></th>\n",
       "      <th></th>\n",
       "      <th>percentage</th>\n",
       "    </tr>\n",
       "    <tr>\n",
       "      <th>marital</th>\n",
       "      <th>deposit</th>\n",
       "      <th></th>\n",
       "    </tr>\n",
       "  </thead>\n",
       "  <tbody>\n",
       "    <tr>\n",
       "      <th rowspan=\"2\" valign=\"top\">divorced</th>\n",
       "      <th>no</th>\n",
       "      <td>51.894818</td>\n",
       "    </tr>\n",
       "    <tr>\n",
       "      <th>yes</th>\n",
       "      <td>48.105182</td>\n",
       "    </tr>\n",
       "    <tr>\n",
       "      <th rowspan=\"2\" valign=\"top\">married</th>\n",
       "      <th>no</th>\n",
       "      <td>56.621005</td>\n",
       "    </tr>\n",
       "    <tr>\n",
       "      <th>yes</th>\n",
       "      <td>43.378995</td>\n",
       "    </tr>\n",
       "    <tr>\n",
       "      <th rowspan=\"2\" valign=\"top\">single</th>\n",
       "      <th>yes</th>\n",
       "      <td>54.349062</td>\n",
       "    </tr>\n",
       "    <tr>\n",
       "      <th>no</th>\n",
       "      <td>45.650938</td>\n",
       "    </tr>\n",
       "  </tbody>\n",
       "</table>\n",
       "</div>"
      ],
      "text/plain": [
       "                  percentage\n",
       "marital  deposit            \n",
       "divorced no        51.894818\n",
       "         yes       48.105182\n",
       "married  no        56.621005\n",
       "         yes       43.378995\n",
       "single   yes       54.349062\n",
       "         no        45.650938"
      ]
     },
     "execution_count": 133,
     "metadata": {},
     "output_type": "execute_result"
    }
   ],
   "source": [
    "df_gm"
   ]
  },
  {
   "cell_type": "code",
   "execution_count": 134,
   "id": "7400b188",
   "metadata": {
    "ExecuteTime": {
     "end_time": "2023-04-25T22:48:00.563535Z",
     "start_time": "2023-04-25T22:48:00.562594Z"
    }
   },
   "outputs": [
    {
     "data": {
      "text/html": [
       "<div>\n",
       "<style scoped>\n",
       "    .dataframe tbody tr th:only-of-type {\n",
       "        vertical-align: middle;\n",
       "    }\n",
       "\n",
       "    .dataframe tbody tr th {\n",
       "        vertical-align: top;\n",
       "    }\n",
       "\n",
       "    .dataframe thead th {\n",
       "        text-align: right;\n",
       "    }\n",
       "</style>\n",
       "<table border=\"1\" class=\"dataframe\">\n",
       "  <thead>\n",
       "    <tr style=\"text-align: right;\">\n",
       "      <th></th>\n",
       "      <th>marital</th>\n",
       "      <th>deposit</th>\n",
       "      <th>percentage</th>\n",
       "    </tr>\n",
       "  </thead>\n",
       "  <tbody>\n",
       "    <tr>\n",
       "      <th>0</th>\n",
       "      <td>divorced</td>\n",
       "      <td>no</td>\n",
       "      <td>51.894818</td>\n",
       "    </tr>\n",
       "    <tr>\n",
       "      <th>1</th>\n",
       "      <td>divorced</td>\n",
       "      <td>yes</td>\n",
       "      <td>48.105182</td>\n",
       "    </tr>\n",
       "    <tr>\n",
       "      <th>2</th>\n",
       "      <td>married</td>\n",
       "      <td>no</td>\n",
       "      <td>56.621005</td>\n",
       "    </tr>\n",
       "    <tr>\n",
       "      <th>3</th>\n",
       "      <td>married</td>\n",
       "      <td>yes</td>\n",
       "      <td>43.378995</td>\n",
       "    </tr>\n",
       "    <tr>\n",
       "      <th>4</th>\n",
       "      <td>single</td>\n",
       "      <td>yes</td>\n",
       "      <td>54.349062</td>\n",
       "    </tr>\n",
       "    <tr>\n",
       "      <th>5</th>\n",
       "      <td>single</td>\n",
       "      <td>no</td>\n",
       "      <td>45.650938</td>\n",
       "    </tr>\n",
       "  </tbody>\n",
       "</table>\n",
       "</div>"
      ],
      "text/plain": [
       "    marital deposit  percentage\n",
       "0  divorced      no   51.894818\n",
       "1  divorced     yes   48.105182\n",
       "2   married      no   56.621005\n",
       "3   married     yes   43.378995\n",
       "4    single     yes   54.349062\n",
       "5    single      no   45.650938"
      ]
     },
     "execution_count": 134,
     "metadata": {},
     "output_type": "execute_result"
    }
   ],
   "source": [
    "dist_df = df_gm.reset_index()\n",
    "dist_df"
   ]
  },
  {
   "cell_type": "code",
   "execution_count": 135,
   "id": "41dddcfa",
   "metadata": {},
   "outputs": [
    {
     "data": {
      "text/plain": [
       "<matplotlib.legend.Legend at 0x1e0ad8a62b0>"
      ]
     },
     "execution_count": 135,
     "metadata": {},
     "output_type": "execute_result"
    },
    {
     "data": {
      "image/png": "[encoded data removed]",
      "text/plain": [
       "<Figure size 640x480 with 1 Axes>"
      ]
     },
     "metadata": {},
     "output_type": "display_data"
    }
   ],
   "source": [
    "ax = sns.barplot(data = dist_df, x='marital', y='percentage', hue='deposit')\n",
    "for i in ax.containers:\n",
    "    ax.bar_label(i)\n",
    "ax.set_title('Распределение для открывших и неоткрывших депозит в зависимости от семейного статуса')\n",
    "plt.legend(bbox_to_anchor=(1.05, 1))\n"
   ]
  },
  {
   "cell_type": "code",
   "execution_count": 136,
   "id": "16333967",
   "metadata": {
    "ExecuteTime": {
     "end_time": "2023-04-25T22:48:00.988505Z",
     "start_time": "2023-04-25T22:48:00.988505Z"
    }
   },
   "outputs": [
    {
     "data": {
      "text/plain": [
       "education  deposit\n",
       "primary    no         60.600000\n",
       "           yes        39.400000\n",
       "secondary  no         54.763101\n",
       "           yes        45.236899\n",
       "tertiary   yes        54.106804\n",
       "           no         45.893196\n",
       "Name: deposit, dtype: float64"
      ]
     },
     "execution_count": 136,
     "metadata": {},
     "output_type": "execute_result"
    }
   ],
   "source": [
    "# постройте визуализации для открывших и неоткрывших депозит в зависимости от образования\n",
    "grouped_education = df.groupby('education')['deposit'].value_counts(normalize=True).mul(100)\n",
    "grouped_education"
   ]
  },
  {
   "cell_type": "code",
   "execution_count": 137,
   "id": "365c9c3d",
   "metadata": {
    "ExecuteTime": {
     "end_time": "2023-04-25T22:48:01.274735Z",
     "start_time": "2023-04-25T22:48:01.274735Z"
    }
   },
   "outputs": [
    {
     "data": {
      "text/html": [
       "<div>\n",
       "<style scoped>\n",
       "    .dataframe tbody tr th:only-of-type {\n",
       "        vertical-align: middle;\n",
       "    }\n",
       "\n",
       "    .dataframe tbody tr th {\n",
       "        vertical-align: top;\n",
       "    }\n",
       "\n",
       "    .dataframe thead th {\n",
       "        text-align: right;\n",
       "    }\n",
       "</style>\n",
       "<table border=\"1\" class=\"dataframe\">\n",
       "  <thead>\n",
       "    <tr style=\"text-align: right;\">\n",
       "      <th></th>\n",
       "      <th>education</th>\n",
       "      <th>deposit</th>\n",
       "      <th>percentage</th>\n",
       "    </tr>\n",
       "  </thead>\n",
       "  <tbody>\n",
       "    <tr>\n",
       "      <th>0</th>\n",
       "      <td>primary</td>\n",
       "      <td>no</td>\n",
       "      <td>60.600000</td>\n",
       "    </tr>\n",
       "    <tr>\n",
       "      <th>1</th>\n",
       "      <td>primary</td>\n",
       "      <td>yes</td>\n",
       "      <td>39.400000</td>\n",
       "    </tr>\n",
       "    <tr>\n",
       "      <th>2</th>\n",
       "      <td>secondary</td>\n",
       "      <td>no</td>\n",
       "      <td>54.763101</td>\n",
       "    </tr>\n",
       "    <tr>\n",
       "      <th>3</th>\n",
       "      <td>secondary</td>\n",
       "      <td>yes</td>\n",
       "      <td>45.236899</td>\n",
       "    </tr>\n",
       "    <tr>\n",
       "      <th>4</th>\n",
       "      <td>tertiary</td>\n",
       "      <td>yes</td>\n",
       "      <td>54.106804</td>\n",
       "    </tr>\n",
       "    <tr>\n",
       "      <th>5</th>\n",
       "      <td>tertiary</td>\n",
       "      <td>no</td>\n",
       "      <td>45.893196</td>\n",
       "    </tr>\n",
       "  </tbody>\n",
       "</table>\n",
       "</div>"
      ],
      "text/plain": [
       "   education deposit  percentage\n",
       "0    primary      no   60.600000\n",
       "1    primary     yes   39.400000\n",
       "2  secondary      no   54.763101\n",
       "3  secondary     yes   45.236899\n",
       "4   tertiary     yes   54.106804\n",
       "5   tertiary      no   45.893196"
      ]
     },
     "execution_count": 137,
     "metadata": {},
     "output_type": "execute_result"
    }
   ],
   "source": [
    "df_ed = pd.DataFrame(data=grouped_education)\n",
    "df_ed = df_ed.rename(columns={'deposit': 'percentage'})\n",
    "df_ed = df_ed.reset_index()\n",
    "df_ed"
   ]
  },
  {
   "cell_type": "code",
   "execution_count": 138,
   "id": "31b1f06d",
   "metadata": {},
   "outputs": [
    {
     "data": {
      "text/plain": [
       "<matplotlib.legend.Legend at 0x1e0ad970c40>"
      ]
     },
     "execution_count": 138,
     "metadata": {},
     "output_type": "execute_result"
    },
    {
     "data": {
      "image/png": "[encoded data removed]",
      "text/plain": [
       "<Figure size 640x480 with 1 Axes>"
      ]
     },
     "metadata": {},
     "output_type": "display_data"
    }
   ],
   "source": [
    "ax = sns.barplot(data = df_ed, x='education', y='percentage', hue='deposit')\n",
    "for i in ax.containers:\n",
    "    ax.bar_label(i)\n",
    "ax.set_title('Распределение для открывших и неоткрывших депозит в зависимости от образования')\n",
    "plt.legend(bbox_to_anchor=(1.1, 1))"
   ]
  },
  {
   "cell_type": "code",
   "execution_count": 139,
   "id": "738224f8",
   "metadata": {
    "ExecuteTime": {
     "end_time": "2023-04-25T22:48:01.887780Z",
     "start_time": "2023-04-25T22:48:01.887780Z"
    }
   },
   "outputs": [
    {
     "data": {
      "text/plain": [
       "job            deposit\n",
       "admin.         no         52.698651\n",
       "               yes        47.301349\n",
       "blue-collar    no         63.580247\n",
       "               yes        36.419753\n",
       "entrepreneur   no         62.500000\n",
       "               yes        37.500000\n",
       "housemaid      no         60.218978\n",
       "               yes        39.781022\n",
       "management     yes        50.644917\n",
       "               no         49.355083\n",
       "retired        yes        66.323907\n",
       "               no         33.676093\n",
       "self-employed  no         53.827160\n",
       "               yes        46.172840\n",
       "services       no         60.021668\n",
       "               yes        39.978332\n",
       "student        yes        74.722222\n",
       "               no         25.277778\n",
       "technician     no         53.922106\n",
       "               yes        46.077894\n",
       "unemployed     yes        56.582633\n",
       "               no         43.417367\n",
       "Name: deposit, dtype: float64"
      ]
     },
     "execution_count": 139,
     "metadata": {},
     "output_type": "execute_result"
    }
   ],
   "source": [
    "# постройте визуализации для открывших и неоткрывших депозит в зависимости от вида профессиональной занятости\n",
    "grouped_job = df.groupby('job')['deposit'].value_counts(normalize=True).mul(100)\n",
    "grouped_job"
   ]
  },
  {
   "cell_type": "code",
   "execution_count": 140,
   "id": "18fa77df",
   "metadata": {
    "ExecuteTime": {
     "end_time": "2023-04-25T22:48:02.033713Z",
     "start_time": "2023-04-25T22:48:02.033713Z"
    }
   },
   "outputs": [
    {
     "data": {
      "text/html": [
       "<div>\n",
       "<style scoped>\n",
       "    .dataframe tbody tr th:only-of-type {\n",
       "        vertical-align: middle;\n",
       "    }\n",
       "\n",
       "    .dataframe tbody tr th {\n",
       "        vertical-align: top;\n",
       "    }\n",
       "\n",
       "    .dataframe thead th {\n",
       "        text-align: right;\n",
       "    }\n",
       "</style>\n",
       "<table border=\"1\" class=\"dataframe\">\n",
       "  <thead>\n",
       "    <tr style=\"text-align: right;\">\n",
       "      <th></th>\n",
       "      <th>job</th>\n",
       "      <th>deposit</th>\n",
       "      <th>percentage</th>\n",
       "    </tr>\n",
       "  </thead>\n",
       "  <tbody>\n",
       "    <tr>\n",
       "      <th>0</th>\n",
       "      <td>admin.</td>\n",
       "      <td>no</td>\n",
       "      <td>52.698651</td>\n",
       "    </tr>\n",
       "    <tr>\n",
       "      <th>1</th>\n",
       "      <td>admin.</td>\n",
       "      <td>yes</td>\n",
       "      <td>47.301349</td>\n",
       "    </tr>\n",
       "    <tr>\n",
       "      <th>2</th>\n",
       "      <td>blue-collar</td>\n",
       "      <td>no</td>\n",
       "      <td>63.580247</td>\n",
       "    </tr>\n",
       "    <tr>\n",
       "      <th>3</th>\n",
       "      <td>blue-collar</td>\n",
       "      <td>yes</td>\n",
       "      <td>36.419753</td>\n",
       "    </tr>\n",
       "    <tr>\n",
       "      <th>4</th>\n",
       "      <td>entrepreneur</td>\n",
       "      <td>no</td>\n",
       "      <td>62.500000</td>\n",
       "    </tr>\n",
       "    <tr>\n",
       "      <th>5</th>\n",
       "      <td>entrepreneur</td>\n",
       "      <td>yes</td>\n",
       "      <td>37.500000</td>\n",
       "    </tr>\n",
       "    <tr>\n",
       "      <th>6</th>\n",
       "      <td>housemaid</td>\n",
       "      <td>no</td>\n",
       "      <td>60.218978</td>\n",
       "    </tr>\n",
       "    <tr>\n",
       "      <th>7</th>\n",
       "      <td>housemaid</td>\n",
       "      <td>yes</td>\n",
       "      <td>39.781022</td>\n",
       "    </tr>\n",
       "    <tr>\n",
       "      <th>8</th>\n",
       "      <td>management</td>\n",
       "      <td>yes</td>\n",
       "      <td>50.644917</td>\n",
       "    </tr>\n",
       "    <tr>\n",
       "      <th>9</th>\n",
       "      <td>management</td>\n",
       "      <td>no</td>\n",
       "      <td>49.355083</td>\n",
       "    </tr>\n",
       "    <tr>\n",
       "      <th>10</th>\n",
       "      <td>retired</td>\n",
       "      <td>yes</td>\n",
       "      <td>66.323907</td>\n",
       "    </tr>\n",
       "    <tr>\n",
       "      <th>11</th>\n",
       "      <td>retired</td>\n",
       "      <td>no</td>\n",
       "      <td>33.676093</td>\n",
       "    </tr>\n",
       "    <tr>\n",
       "      <th>12</th>\n",
       "      <td>self-employed</td>\n",
       "      <td>no</td>\n",
       "      <td>53.827160</td>\n",
       "    </tr>\n",
       "    <tr>\n",
       "      <th>13</th>\n",
       "      <td>self-employed</td>\n",
       "      <td>yes</td>\n",
       "      <td>46.172840</td>\n",
       "    </tr>\n",
       "    <tr>\n",
       "      <th>14</th>\n",
       "      <td>services</td>\n",
       "      <td>no</td>\n",
       "      <td>60.021668</td>\n",
       "    </tr>\n",
       "    <tr>\n",
       "      <th>15</th>\n",
       "      <td>services</td>\n",
       "      <td>yes</td>\n",
       "      <td>39.978332</td>\n",
       "    </tr>\n",
       "    <tr>\n",
       "      <th>16</th>\n",
       "      <td>student</td>\n",
       "      <td>yes</td>\n",
       "      <td>74.722222</td>\n",
       "    </tr>\n",
       "    <tr>\n",
       "      <th>17</th>\n",
       "      <td>student</td>\n",
       "      <td>no</td>\n",
       "      <td>25.277778</td>\n",
       "    </tr>\n",
       "    <tr>\n",
       "      <th>18</th>\n",
       "      <td>technician</td>\n",
       "      <td>no</td>\n",
       "      <td>53.922106</td>\n",
       "    </tr>\n",
       "    <tr>\n",
       "      <th>19</th>\n",
       "      <td>technician</td>\n",
       "      <td>yes</td>\n",
       "      <td>46.077894</td>\n",
       "    </tr>\n",
       "    <tr>\n",
       "      <th>20</th>\n",
       "      <td>unemployed</td>\n",
       "      <td>yes</td>\n",
       "      <td>56.582633</td>\n",
       "    </tr>\n",
       "    <tr>\n",
       "      <th>21</th>\n",
       "      <td>unemployed</td>\n",
       "      <td>no</td>\n",
       "      <td>43.417367</td>\n",
       "    </tr>\n",
       "  </tbody>\n",
       "</table>\n",
       "</div>"
      ],
      "text/plain": [
       "              job deposit  percentage\n",
       "0          admin.      no   52.698651\n",
       "1          admin.     yes   47.301349\n",
       "2     blue-collar      no   63.580247\n",
       "3     blue-collar     yes   36.419753\n",
       "4    entrepreneur      no   62.500000\n",
       "5    entrepreneur     yes   37.500000\n",
       "6       housemaid      no   60.218978\n",
       "7       housemaid     yes   39.781022\n",
       "8      management     yes   50.644917\n",
       "9      management      no   49.355083\n",
       "10        retired     yes   66.323907\n",
       "11        retired      no   33.676093\n",
       "12  self-employed      no   53.827160\n",
       "13  self-employed     yes   46.172840\n",
       "14       services      no   60.021668\n",
       "15       services     yes   39.978332\n",
       "16        student     yes   74.722222\n",
       "17        student      no   25.277778\n",
       "18     technician      no   53.922106\n",
       "19     technician     yes   46.077894\n",
       "20     unemployed     yes   56.582633\n",
       "21     unemployed      no   43.417367"
      ]
     },
     "execution_count": 140,
     "metadata": {},
     "output_type": "execute_result"
    }
   ],
   "source": [
    "df_job = pd.DataFrame(data=grouped_job)\n",
    "df_job = df_job.rename(columns={'deposit': 'percentage'})\n",
    "df_job = df_job.reset_index()\n",
    "df_job"
   ]
  },
  {
   "cell_type": "code",
   "execution_count": 141,
   "id": "be9ac7a1",
   "metadata": {},
   "outputs": [
    {
     "data": {
      "text/plain": [
       "<matplotlib.legend.Legend at 0x1e0adb82490>"
      ]
     },
     "execution_count": 141,
     "metadata": {},
     "output_type": "execute_result"
    },
    {
     "data": {
      "image/png": "[encoded data removed]",
      "text/plain": [
       "<Figure size 640x480 with 1 Axes>"
      ]
     },
     "metadata": {},
     "output_type": "display_data"
    }
   ],
   "source": [
    "ax = sns.barplot(data = df_job, x='job', y='percentage', hue='deposit')\n",
    "for i in ax.containers:\n",
    "    ax.bar_label(i)\n",
    "ax.set_title('Распределение для открывших и неоткрывших депозит в зависимости от вида профессиональной занятости')\n",
    "plt.legend(bbox_to_anchor=(1.1, 1))"
   ]
  },
  {
   "cell_type": "markdown",
   "id": "a521e204",
   "metadata": {},
   "source": [
    "### Задание 11"
   ]
  },
  {
   "cell_type": "code",
   "execution_count": 142,
   "id": "35ab0413",
   "metadata": {
    "ExecuteTime": {
     "end_time": "2023-04-25T22:48:02.491093Z",
     "start_time": "2023-04-25T22:48:02.491093Z"
    }
   },
   "outputs": [
    {
     "name": "stdout",
     "output_type": "stream",
     "text": [
      "<class 'pandas.core.frame.DataFrame'>\n",
      "Int64Index: 5289 entries, 0 to 5288\n",
      "Data columns (total 18 columns):\n",
      " #   Column     Non-Null Count  Dtype   \n",
      "---  ------     --------------  -----   \n",
      " 0   age        5289 non-null   int64   \n",
      " 1   job        5289 non-null   object  \n",
      " 2   marital    5289 non-null   object  \n",
      " 3   education  5289 non-null   object  \n",
      " 4   default    5289 non-null   object  \n",
      " 5   balance    5289 non-null   float64 \n",
      " 6   housing    5289 non-null   object  \n",
      " 7   loan       5289 non-null   object  \n",
      " 8   contact    5289 non-null   object  \n",
      " 9   day        5289 non-null   int64   \n",
      " 10  month      5289 non-null   object  \n",
      " 11  duration   5289 non-null   int64   \n",
      " 12  campaign   5289 non-null   int64   \n",
      " 13  pdays      5289 non-null   int64   \n",
      " 14  previous   5289 non-null   int64   \n",
      " 15  poutcome   5289 non-null   object  \n",
      " 16  deposit    5289 non-null   object  \n",
      " 17  age-group  5289 non-null   category\n",
      "dtypes: category(1), float64(1), int64(6), object(10)\n",
      "memory usage: 749.1+ KB\n"
     ]
    }
   ],
   "source": [
    "# постройте сводную таблицу, чтобы определить люди с каким образованием и семейным статусом наиболее многочисленны\n",
    "#(если рассматривать тех, кто открыл депозит)\n",
    "df_deposit_yes = df[df['deposit']=='yes']\n",
    "df_deposit_yes.info()"
   ]
  },
  {
   "cell_type": "code",
   "execution_count": 143,
   "id": "389e49fa",
   "metadata": {
    "ExecuteTime": {
     "end_time": "2023-04-25T22:48:02.711028Z",
     "start_time": "2023-04-25T22:48:02.711028Z"
    }
   },
   "outputs": [
    {
     "data": {
      "text/plain": [
       "marital   education\n",
       "divorced  secondary     315\n",
       "          tertiary      203\n",
       "          primary       104\n",
       "married   secondary    1446\n",
       "          tertiary      913\n",
       "          primary       396\n",
       "single    secondary     941\n",
       "          tertiary      880\n",
       "          primary        91\n",
       "Name: education, dtype: int64"
      ]
     },
     "execution_count": 143,
     "metadata": {},
     "output_type": "execute_result"
    }
   ],
   "source": [
    "grouped_mar_edu_yes = df_deposit_yes.groupby('marital')['education'].value_counts()\n",
    "grouped_mar_edu_yes"
   ]
  },
  {
   "cell_type": "markdown",
   "id": "dfd805c0",
   "metadata": {},
   "source": [
    "## Часть 3: преобразование данных"
   ]
  },
  {
   "cell_type": "markdown",
   "id": "e44e715b",
   "metadata": {},
   "source": [
    "### Задание 1"
   ]
  },
  {
   "cell_type": "code",
   "execution_count": 144,
   "id": "1e815773",
   "metadata": {
    "ExecuteTime": {
     "end_time": "2023-04-25T22:48:03.910166Z",
     "start_time": "2023-04-25T22:48:03.910166Z"
    }
   },
   "outputs": [
    {
     "data": {
      "text/plain": [
       "13351"
      ]
     },
     "execution_count": 144,
     "metadata": {},
     "output_type": "execute_result"
    }
   ],
   "source": [
    "# преобразуйте уровни образования\n",
    "le = preprocessing.LabelEncoder()\n",
    "le.fit_transform(df['education']).sum()\n"
   ]
  },
  {
   "cell_type": "code",
   "execution_count": 145,
   "id": "0c1211f1",
   "metadata": {
    "ExecuteTime": {
     "end_time": "2023-04-25T22:48:04.081486Z",
     "start_time": "2023-04-25T22:48:04.081486Z"
    }
   },
   "outputs": [],
   "source": [
    "df['education'] = le.fit_transform(df['education'])"
   ]
  },
  {
   "cell_type": "code",
   "execution_count": 146,
   "id": "3f57b1a9",
   "metadata": {
    "ExecuteTime": {
     "end_time": "2023-04-25T22:48:04.243333Z",
     "start_time": "2023-04-25T22:48:04.243333Z"
    }
   },
   "outputs": [
    {
     "data": {
      "text/plain": [
       "0        1\n",
       "1        1\n",
       "2        1\n",
       "3        1\n",
       "4        2\n",
       "        ..\n",
       "11157    0\n",
       "11158    1\n",
       "11159    1\n",
       "11160    1\n",
       "11161    1\n",
       "Name: education, Length: 11162, dtype: int32"
      ]
     },
     "execution_count": 146,
     "metadata": {},
     "output_type": "execute_result"
    }
   ],
   "source": [
    "df['education']"
   ]
  },
  {
   "cell_type": "markdown",
   "id": "8c93e73d",
   "metadata": {},
   "source": [
    "### Задания 2 и 3"
   ]
  },
  {
   "cell_type": "code",
   "execution_count": 147,
   "id": "33e3b921",
   "metadata": {
    "ExecuteTime": {
     "end_time": "2023-04-25T22:48:04.736336Z",
     "start_time": "2023-04-25T22:48:04.736336Z"
    }
   },
   "outputs": [
    {
     "data": {
      "text/html": [
       "<div>\n",
       "<style scoped>\n",
       "    .dataframe tbody tr th:only-of-type {\n",
       "        vertical-align: middle;\n",
       "    }\n",
       "\n",
       "    .dataframe tbody tr th {\n",
       "        vertical-align: top;\n",
       "    }\n",
       "\n",
       "    .dataframe thead th {\n",
       "        text-align: right;\n",
       "    }\n",
       "</style>\n",
       "<table border=\"1\" class=\"dataframe\">\n",
       "  <thead>\n",
       "    <tr style=\"text-align: right;\">\n",
       "      <th></th>\n",
       "      <th>age</th>\n",
       "      <th>job</th>\n",
       "      <th>marital</th>\n",
       "      <th>education</th>\n",
       "      <th>default</th>\n",
       "      <th>balance</th>\n",
       "      <th>housing</th>\n",
       "      <th>loan</th>\n",
       "      <th>contact</th>\n",
       "      <th>day</th>\n",
       "      <th>month</th>\n",
       "      <th>duration</th>\n",
       "      <th>campaign</th>\n",
       "      <th>pdays</th>\n",
       "      <th>previous</th>\n",
       "      <th>poutcome</th>\n",
       "      <th>deposit</th>\n",
       "      <th>age-group</th>\n",
       "    </tr>\n",
       "  </thead>\n",
       "  <tbody>\n",
       "    <tr>\n",
       "      <th>0</th>\n",
       "      <td>59</td>\n",
       "      <td>admin.</td>\n",
       "      <td>married</td>\n",
       "      <td>1</td>\n",
       "      <td>no</td>\n",
       "      <td>343.0</td>\n",
       "      <td>yes</td>\n",
       "      <td>no</td>\n",
       "      <td>unknown</td>\n",
       "      <td>5</td>\n",
       "      <td>may</td>\n",
       "      <td>1042</td>\n",
       "      <td>1</td>\n",
       "      <td>-1</td>\n",
       "      <td>0</td>\n",
       "      <td>unknown</td>\n",
       "      <td>yes</td>\n",
       "      <td>50-60</td>\n",
       "    </tr>\n",
       "    <tr>\n",
       "      <th>1</th>\n",
       "      <td>56</td>\n",
       "      <td>admin.</td>\n",
       "      <td>married</td>\n",
       "      <td>1</td>\n",
       "      <td>no</td>\n",
       "      <td>45.0</td>\n",
       "      <td>no</td>\n",
       "      <td>no</td>\n",
       "      <td>unknown</td>\n",
       "      <td>5</td>\n",
       "      <td>may</td>\n",
       "      <td>1467</td>\n",
       "      <td>1</td>\n",
       "      <td>-1</td>\n",
       "      <td>0</td>\n",
       "      <td>unknown</td>\n",
       "      <td>yes</td>\n",
       "      <td>50-60</td>\n",
       "    </tr>\n",
       "    <tr>\n",
       "      <th>2</th>\n",
       "      <td>41</td>\n",
       "      <td>technician</td>\n",
       "      <td>married</td>\n",
       "      <td>1</td>\n",
       "      <td>no</td>\n",
       "      <td>270.0</td>\n",
       "      <td>yes</td>\n",
       "      <td>no</td>\n",
       "      <td>unknown</td>\n",
       "      <td>5</td>\n",
       "      <td>may</td>\n",
       "      <td>1389</td>\n",
       "      <td>1</td>\n",
       "      <td>-1</td>\n",
       "      <td>0</td>\n",
       "      <td>unknown</td>\n",
       "      <td>yes</td>\n",
       "      <td>40-50</td>\n",
       "    </tr>\n",
       "    <tr>\n",
       "      <th>3</th>\n",
       "      <td>55</td>\n",
       "      <td>services</td>\n",
       "      <td>married</td>\n",
       "      <td>1</td>\n",
       "      <td>no</td>\n",
       "      <td>476.0</td>\n",
       "      <td>yes</td>\n",
       "      <td>no</td>\n",
       "      <td>unknown</td>\n",
       "      <td>5</td>\n",
       "      <td>may</td>\n",
       "      <td>579</td>\n",
       "      <td>1</td>\n",
       "      <td>-1</td>\n",
       "      <td>0</td>\n",
       "      <td>unknown</td>\n",
       "      <td>yes</td>\n",
       "      <td>50-60</td>\n",
       "    </tr>\n",
       "    <tr>\n",
       "      <th>4</th>\n",
       "      <td>54</td>\n",
       "      <td>admin.</td>\n",
       "      <td>married</td>\n",
       "      <td>2</td>\n",
       "      <td>no</td>\n",
       "      <td>184.0</td>\n",
       "      <td>no</td>\n",
       "      <td>no</td>\n",
       "      <td>unknown</td>\n",
       "      <td>5</td>\n",
       "      <td>may</td>\n",
       "      <td>673</td>\n",
       "      <td>2</td>\n",
       "      <td>-1</td>\n",
       "      <td>0</td>\n",
       "      <td>unknown</td>\n",
       "      <td>yes</td>\n",
       "      <td>50-60</td>\n",
       "    </tr>\n",
       "  </tbody>\n",
       "</table>\n",
       "</div>"
      ],
      "text/plain": [
       "   age         job  marital  education default  balance housing loan  contact  \\\n",
       "0   59      admin.  married          1      no    343.0     yes   no  unknown   \n",
       "1   56      admin.  married          1      no     45.0      no   no  unknown   \n",
       "2   41  technician  married          1      no    270.0     yes   no  unknown   \n",
       "3   55    services  married          1      no    476.0     yes   no  unknown   \n",
       "4   54      admin.  married          2      no    184.0      no   no  unknown   \n",
       "\n",
       "   day month  duration  campaign  pdays  previous poutcome deposit age-group  \n",
       "0    5   may      1042         1     -1         0  unknown     yes     50-60  \n",
       "1    5   may      1467         1     -1         0  unknown     yes     50-60  \n",
       "2    5   may      1389         1     -1         0  unknown     yes     40-50  \n",
       "3    5   may       579         1     -1         0  unknown     yes     50-60  \n",
       "4    5   may       673         2     -1         0  unknown     yes     50-60  "
      ]
     },
     "execution_count": 147,
     "metadata": {},
     "output_type": "execute_result"
    }
   ],
   "source": [
    "df.head()"
   ]
  },
  {
   "cell_type": "code",
   "execution_count": 148,
   "id": "8c4be0cf",
   "metadata": {
    "ExecuteTime": {
     "end_time": "2023-04-25T22:48:05.225671Z",
     "start_time": "2023-04-25T22:48:05.225162Z"
    }
   },
   "outputs": [],
   "source": [
    "df['deposit'] = df['deposit'].apply(lambda x: 1 if x == 'yes' or x == 1 else 0)"
   ]
  },
  {
   "cell_type": "code",
   "execution_count": 149,
   "id": "c39a14a3",
   "metadata": {
    "ExecuteTime": {
     "end_time": "2023-04-25T22:48:05.241934Z",
     "start_time": "2023-04-25T22:48:05.241934Z"
    }
   },
   "outputs": [
    {
     "data": {
      "text/plain": [
       "0.4993375439121514"
      ]
     },
     "execution_count": 149,
     "metadata": {},
     "output_type": "execute_result"
    }
   ],
   "source": [
    "df['deposit'].std()"
   ]
  },
  {
   "cell_type": "code",
   "execution_count": 150,
   "id": "04b1c2d0",
   "metadata": {
    "ExecuteTime": {
     "end_time": "2023-04-25T22:48:05.521120Z",
     "start_time": "2023-04-25T22:48:05.521120Z"
    }
   },
   "outputs": [
    {
     "data": {
      "text/html": [
       "<div>\n",
       "<style scoped>\n",
       "    .dataframe tbody tr th:only-of-type {\n",
       "        vertical-align: middle;\n",
       "    }\n",
       "\n",
       "    .dataframe tbody tr th {\n",
       "        vertical-align: top;\n",
       "    }\n",
       "\n",
       "    .dataframe thead th {\n",
       "        text-align: right;\n",
       "    }\n",
       "</style>\n",
       "<table border=\"1\" class=\"dataframe\">\n",
       "  <thead>\n",
       "    <tr style=\"text-align: right;\">\n",
       "      <th></th>\n",
       "      <th>age</th>\n",
       "      <th>job</th>\n",
       "      <th>marital</th>\n",
       "      <th>education</th>\n",
       "      <th>default</th>\n",
       "      <th>balance</th>\n",
       "      <th>housing</th>\n",
       "      <th>loan</th>\n",
       "      <th>contact</th>\n",
       "      <th>day</th>\n",
       "      <th>month</th>\n",
       "      <th>duration</th>\n",
       "      <th>campaign</th>\n",
       "      <th>pdays</th>\n",
       "      <th>previous</th>\n",
       "      <th>poutcome</th>\n",
       "      <th>deposit</th>\n",
       "      <th>age-group</th>\n",
       "    </tr>\n",
       "  </thead>\n",
       "  <tbody>\n",
       "    <tr>\n",
       "      <th>0</th>\n",
       "      <td>59</td>\n",
       "      <td>admin.</td>\n",
       "      <td>married</td>\n",
       "      <td>1</td>\n",
       "      <td>no</td>\n",
       "      <td>343.0</td>\n",
       "      <td>yes</td>\n",
       "      <td>no</td>\n",
       "      <td>unknown</td>\n",
       "      <td>5</td>\n",
       "      <td>may</td>\n",
       "      <td>1042</td>\n",
       "      <td>1</td>\n",
       "      <td>-1</td>\n",
       "      <td>0</td>\n",
       "      <td>unknown</td>\n",
       "      <td>1</td>\n",
       "      <td>50-60</td>\n",
       "    </tr>\n",
       "    <tr>\n",
       "      <th>1</th>\n",
       "      <td>56</td>\n",
       "      <td>admin.</td>\n",
       "      <td>married</td>\n",
       "      <td>1</td>\n",
       "      <td>no</td>\n",
       "      <td>45.0</td>\n",
       "      <td>no</td>\n",
       "      <td>no</td>\n",
       "      <td>unknown</td>\n",
       "      <td>5</td>\n",
       "      <td>may</td>\n",
       "      <td>1467</td>\n",
       "      <td>1</td>\n",
       "      <td>-1</td>\n",
       "      <td>0</td>\n",
       "      <td>unknown</td>\n",
       "      <td>1</td>\n",
       "      <td>50-60</td>\n",
       "    </tr>\n",
       "    <tr>\n",
       "      <th>2</th>\n",
       "      <td>41</td>\n",
       "      <td>technician</td>\n",
       "      <td>married</td>\n",
       "      <td>1</td>\n",
       "      <td>no</td>\n",
       "      <td>270.0</td>\n",
       "      <td>yes</td>\n",
       "      <td>no</td>\n",
       "      <td>unknown</td>\n",
       "      <td>5</td>\n",
       "      <td>may</td>\n",
       "      <td>1389</td>\n",
       "      <td>1</td>\n",
       "      <td>-1</td>\n",
       "      <td>0</td>\n",
       "      <td>unknown</td>\n",
       "      <td>1</td>\n",
       "      <td>40-50</td>\n",
       "    </tr>\n",
       "    <tr>\n",
       "      <th>3</th>\n",
       "      <td>55</td>\n",
       "      <td>services</td>\n",
       "      <td>married</td>\n",
       "      <td>1</td>\n",
       "      <td>no</td>\n",
       "      <td>476.0</td>\n",
       "      <td>yes</td>\n",
       "      <td>no</td>\n",
       "      <td>unknown</td>\n",
       "      <td>5</td>\n",
       "      <td>may</td>\n",
       "      <td>579</td>\n",
       "      <td>1</td>\n",
       "      <td>-1</td>\n",
       "      <td>0</td>\n",
       "      <td>unknown</td>\n",
       "      <td>1</td>\n",
       "      <td>50-60</td>\n",
       "    </tr>\n",
       "    <tr>\n",
       "      <th>4</th>\n",
       "      <td>54</td>\n",
       "      <td>admin.</td>\n",
       "      <td>married</td>\n",
       "      <td>2</td>\n",
       "      <td>no</td>\n",
       "      <td>184.0</td>\n",
       "      <td>no</td>\n",
       "      <td>no</td>\n",
       "      <td>unknown</td>\n",
       "      <td>5</td>\n",
       "      <td>may</td>\n",
       "      <td>673</td>\n",
       "      <td>2</td>\n",
       "      <td>-1</td>\n",
       "      <td>0</td>\n",
       "      <td>unknown</td>\n",
       "      <td>1</td>\n",
       "      <td>50-60</td>\n",
       "    </tr>\n",
       "  </tbody>\n",
       "</table>\n",
       "</div>"
      ],
      "text/plain": [
       "   age         job  marital  education default  balance housing loan  contact  \\\n",
       "0   59      admin.  married          1      no    343.0     yes   no  unknown   \n",
       "1   56      admin.  married          1      no     45.0      no   no  unknown   \n",
       "2   41  technician  married          1      no    270.0     yes   no  unknown   \n",
       "3   55    services  married          1      no    476.0     yes   no  unknown   \n",
       "4   54      admin.  married          2      no    184.0      no   no  unknown   \n",
       "\n",
       "   day month  duration  campaign  pdays  previous poutcome  deposit age-group  \n",
       "0    5   may      1042         1     -1         0  unknown        1     50-60  \n",
       "1    5   may      1467         1     -1         0  unknown        1     50-60  \n",
       "2    5   may      1389         1     -1         0  unknown        1     40-50  \n",
       "3    5   may       579         1     -1         0  unknown        1     50-60  \n",
       "4    5   may       673         2     -1         0  unknown        1     50-60  "
      ]
     },
     "execution_count": 150,
     "metadata": {},
     "output_type": "execute_result"
    }
   ],
   "source": [
    "df.head()"
   ]
  },
  {
   "cell_type": "code",
   "execution_count": 151,
   "id": "ddf82f5b",
   "metadata": {
    "ExecuteTime": {
     "end_time": "2023-04-25T22:48:05.816499Z",
     "start_time": "2023-04-25T22:48:05.816499Z"
    }
   },
   "outputs": [],
   "source": [
    "df['default'] = df['default'].apply(lambda x: 1 if x == 'yes' or x == 1 else 0)\n",
    "df['housing'] = df['housing'].apply(lambda x: 1 if x == 'yes' or x == 1 else 0)\n",
    "df['loan'] = df['loan'].apply(lambda x: 1 if x == 'yes' or x == 1 else 0)"
   ]
  },
  {
   "cell_type": "code",
   "execution_count": 152,
   "id": "f30b71f8",
   "metadata": {
    "ExecuteTime": {
     "end_time": "2023-04-25T22:48:06.124022Z",
     "start_time": "2023-04-25T22:48:06.124022Z"
    }
   },
   "outputs": [
    {
     "data": {
      "text/plain": [
       "0.6189750940691633"
      ]
     },
     "execution_count": 152,
     "metadata": {},
     "output_type": "execute_result"
    }
   ],
   "source": [
    "a = df['default'].apply(lambda x: 1 if x == 'yes' or x == 1 else 0).mean()\n",
    "b = df['housing'].apply(lambda x: 1 if x == 'yes' or x == 1 else 0).mean()\n",
    "c = df['loan'].apply(lambda x: 1 if x == 'yes' or x == 1 else 0).mean()\n",
    "d = a + b + c\n",
    "d"
   ]
  },
  {
   "cell_type": "code",
   "execution_count": 153,
   "id": "2eb0e7a1",
   "metadata": {
    "ExecuteTime": {
     "end_time": "2023-04-25T22:48:06.346081Z",
     "start_time": "2023-04-25T22:48:06.346081Z"
    }
   },
   "outputs": [
    {
     "data": {
      "text/html": [
       "<div>\n",
       "<style scoped>\n",
       "    .dataframe tbody tr th:only-of-type {\n",
       "        vertical-align: middle;\n",
       "    }\n",
       "\n",
       "    .dataframe tbody tr th {\n",
       "        vertical-align: top;\n",
       "    }\n",
       "\n",
       "    .dataframe thead th {\n",
       "        text-align: right;\n",
       "    }\n",
       "</style>\n",
       "<table border=\"1\" class=\"dataframe\">\n",
       "  <thead>\n",
       "    <tr style=\"text-align: right;\">\n",
       "      <th></th>\n",
       "      <th>age</th>\n",
       "      <th>job</th>\n",
       "      <th>marital</th>\n",
       "      <th>education</th>\n",
       "      <th>default</th>\n",
       "      <th>balance</th>\n",
       "      <th>housing</th>\n",
       "      <th>loan</th>\n",
       "      <th>contact</th>\n",
       "      <th>day</th>\n",
       "      <th>month</th>\n",
       "      <th>duration</th>\n",
       "      <th>campaign</th>\n",
       "      <th>pdays</th>\n",
       "      <th>previous</th>\n",
       "      <th>poutcome</th>\n",
       "      <th>deposit</th>\n",
       "      <th>age-group</th>\n",
       "    </tr>\n",
       "  </thead>\n",
       "  <tbody>\n",
       "    <tr>\n",
       "      <th>0</th>\n",
       "      <td>59</td>\n",
       "      <td>admin.</td>\n",
       "      <td>married</td>\n",
       "      <td>1</td>\n",
       "      <td>0</td>\n",
       "      <td>343.0</td>\n",
       "      <td>1</td>\n",
       "      <td>0</td>\n",
       "      <td>unknown</td>\n",
       "      <td>5</td>\n",
       "      <td>may</td>\n",
       "      <td>1042</td>\n",
       "      <td>1</td>\n",
       "      <td>-1</td>\n",
       "      <td>0</td>\n",
       "      <td>unknown</td>\n",
       "      <td>1</td>\n",
       "      <td>50-60</td>\n",
       "    </tr>\n",
       "    <tr>\n",
       "      <th>1</th>\n",
       "      <td>56</td>\n",
       "      <td>admin.</td>\n",
       "      <td>married</td>\n",
       "      <td>1</td>\n",
       "      <td>0</td>\n",
       "      <td>45.0</td>\n",
       "      <td>0</td>\n",
       "      <td>0</td>\n",
       "      <td>unknown</td>\n",
       "      <td>5</td>\n",
       "      <td>may</td>\n",
       "      <td>1467</td>\n",
       "      <td>1</td>\n",
       "      <td>-1</td>\n",
       "      <td>0</td>\n",
       "      <td>unknown</td>\n",
       "      <td>1</td>\n",
       "      <td>50-60</td>\n",
       "    </tr>\n",
       "    <tr>\n",
       "      <th>2</th>\n",
       "      <td>41</td>\n",
       "      <td>technician</td>\n",
       "      <td>married</td>\n",
       "      <td>1</td>\n",
       "      <td>0</td>\n",
       "      <td>270.0</td>\n",
       "      <td>1</td>\n",
       "      <td>0</td>\n",
       "      <td>unknown</td>\n",
       "      <td>5</td>\n",
       "      <td>may</td>\n",
       "      <td>1389</td>\n",
       "      <td>1</td>\n",
       "      <td>-1</td>\n",
       "      <td>0</td>\n",
       "      <td>unknown</td>\n",
       "      <td>1</td>\n",
       "      <td>40-50</td>\n",
       "    </tr>\n",
       "    <tr>\n",
       "      <th>3</th>\n",
       "      <td>55</td>\n",
       "      <td>services</td>\n",
       "      <td>married</td>\n",
       "      <td>1</td>\n",
       "      <td>0</td>\n",
       "      <td>476.0</td>\n",
       "      <td>1</td>\n",
       "      <td>0</td>\n",
       "      <td>unknown</td>\n",
       "      <td>5</td>\n",
       "      <td>may</td>\n",
       "      <td>579</td>\n",
       "      <td>1</td>\n",
       "      <td>-1</td>\n",
       "      <td>0</td>\n",
       "      <td>unknown</td>\n",
       "      <td>1</td>\n",
       "      <td>50-60</td>\n",
       "    </tr>\n",
       "    <tr>\n",
       "      <th>4</th>\n",
       "      <td>54</td>\n",
       "      <td>admin.</td>\n",
       "      <td>married</td>\n",
       "      <td>2</td>\n",
       "      <td>0</td>\n",
       "      <td>184.0</td>\n",
       "      <td>0</td>\n",
       "      <td>0</td>\n",
       "      <td>unknown</td>\n",
       "      <td>5</td>\n",
       "      <td>may</td>\n",
       "      <td>673</td>\n",
       "      <td>2</td>\n",
       "      <td>-1</td>\n",
       "      <td>0</td>\n",
       "      <td>unknown</td>\n",
       "      <td>1</td>\n",
       "      <td>50-60</td>\n",
       "    </tr>\n",
       "  </tbody>\n",
       "</table>\n",
       "</div>"
      ],
      "text/plain": [
       "   age         job  marital  education  default  balance  housing  loan  \\\n",
       "0   59      admin.  married          1        0    343.0        1     0   \n",
       "1   56      admin.  married          1        0     45.0        0     0   \n",
       "2   41  technician  married          1        0    270.0        1     0   \n",
       "3   55    services  married          1        0    476.0        1     0   \n",
       "4   54      admin.  married          2        0    184.0        0     0   \n",
       "\n",
       "   contact  day month  duration  campaign  pdays  previous poutcome  deposit  \\\n",
       "0  unknown    5   may      1042         1     -1         0  unknown        1   \n",
       "1  unknown    5   may      1467         1     -1         0  unknown        1   \n",
       "2  unknown    5   may      1389         1     -1         0  unknown        1   \n",
       "3  unknown    5   may       579         1     -1         0  unknown        1   \n",
       "4  unknown    5   may       673         2     -1         0  unknown        1   \n",
       "\n",
       "  age-group  \n",
       "0     50-60  \n",
       "1     50-60  \n",
       "2     40-50  \n",
       "3     50-60  \n",
       "4     50-60  "
      ]
     },
     "execution_count": 153,
     "metadata": {},
     "output_type": "execute_result"
    }
   ],
   "source": [
    "df.head()"
   ]
  },
  {
   "cell_type": "markdown",
   "id": "c40dc02a",
   "metadata": {},
   "source": [
    "### Задание 4"
   ]
  },
  {
   "cell_type": "code",
   "execution_count": 154,
   "id": "b996883f",
   "metadata": {
    "ExecuteTime": {
     "end_time": "2023-04-25T22:48:06.775767Z",
     "start_time": "2023-04-25T22:48:06.775767Z"
    }
   },
   "outputs": [],
   "source": [
    "# создайте дамми-переменные\n",
    "df = pd.get_dummies (df, columns=['job', 'marital', 'contact', 'month', 'poutcome', 'age-group'])"
   ]
  },
  {
   "cell_type": "code",
   "execution_count": 155,
   "id": "16cb4de2",
   "metadata": {
    "ExecuteTime": {
     "end_time": "2023-04-25T22:48:07.211033Z",
     "start_time": "2023-04-25T22:48:07.211033Z"
    }
   },
   "outputs": [
    {
     "name": "stdout",
     "output_type": "stream",
     "text": [
      "<class 'pandas.core.frame.DataFrame'>\n",
      "RangeIndex: 11162 entries, 0 to 11161\n",
      "Data columns (total 50 columns):\n",
      " #   Column             Non-Null Count  Dtype  \n",
      "---  ------             --------------  -----  \n",
      " 0   age                11162 non-null  int64  \n",
      " 1   education          11162 non-null  int32  \n",
      " 2   default            11162 non-null  int64  \n",
      " 3   balance            11162 non-null  float64\n",
      " 4   housing            11162 non-null  int64  \n",
      " 5   loan               11162 non-null  int64  \n",
      " 6   day                11162 non-null  int64  \n",
      " 7   duration           11162 non-null  int64  \n",
      " 8   campaign           11162 non-null  int64  \n",
      " 9   pdays              11162 non-null  int64  \n",
      " 10  previous           11162 non-null  int64  \n",
      " 11  deposit            11162 non-null  int64  \n",
      " 12  job_admin.         11162 non-null  uint8  \n",
      " 13  job_blue-collar    11162 non-null  uint8  \n",
      " 14  job_entrepreneur   11162 non-null  uint8  \n",
      " 15  job_housemaid      11162 non-null  uint8  \n",
      " 16  job_management     11162 non-null  uint8  \n",
      " 17  job_retired        11162 non-null  uint8  \n",
      " 18  job_self-employed  11162 non-null  uint8  \n",
      " 19  job_services       11162 non-null  uint8  \n",
      " 20  job_student        11162 non-null  uint8  \n",
      " 21  job_technician     11162 non-null  uint8  \n",
      " 22  job_unemployed     11162 non-null  uint8  \n",
      " 23  marital_divorced   11162 non-null  uint8  \n",
      " 24  marital_married    11162 non-null  uint8  \n",
      " 25  marital_single     11162 non-null  uint8  \n",
      " 26  contact_cellular   11162 non-null  uint8  \n",
      " 27  contact_telephone  11162 non-null  uint8  \n",
      " 28  contact_unknown    11162 non-null  uint8  \n",
      " 29  month_apr          11162 non-null  uint8  \n",
      " 30  month_aug          11162 non-null  uint8  \n",
      " 31  month_dec          11162 non-null  uint8  \n",
      " 32  month_feb          11162 non-null  uint8  \n",
      " 33  month_jan          11162 non-null  uint8  \n",
      " 34  month_jul          11162 non-null  uint8  \n",
      " 35  month_jun          11162 non-null  uint8  \n",
      " 36  month_mar          11162 non-null  uint8  \n",
      " 37  month_may          11162 non-null  uint8  \n",
      " 38  month_nov          11162 non-null  uint8  \n",
      " 39  month_oct          11162 non-null  uint8  \n",
      " 40  month_sep          11162 non-null  uint8  \n",
      " 41  poutcome_failure   11162 non-null  uint8  \n",
      " 42  poutcome_other     11162 non-null  uint8  \n",
      " 43  poutcome_success   11162 non-null  uint8  \n",
      " 44  poutcome_unknown   11162 non-null  uint8  \n",
      " 45  age-group_<30      11162 non-null  uint8  \n",
      " 46  age-group_30-40    11162 non-null  uint8  \n",
      " 47  age-group_40-50    11162 non-null  uint8  \n",
      " 48  age-group_50-60    11162 non-null  uint8  \n",
      " 49  age-group_60+      11162 non-null  uint8  \n",
      "dtypes: float64(1), int32(1), int64(10), uint8(38)\n",
      "memory usage: 1.4 MB\n"
     ]
    }
   ],
   "source": [
    "df.info()"
   ]
  },
  {
   "cell_type": "markdown",
   "id": "9a23e318",
   "metadata": {},
   "source": [
    "### Задания 5 и 6"
   ]
  },
  {
   "cell_type": "code",
   "execution_count": 156,
   "id": "1c884c1a",
   "metadata": {
    "ExecuteTime": {
     "end_time": "2023-04-25T22:48:09.446584Z",
     "start_time": "2023-04-25T22:48:09.445581Z"
    }
   },
   "outputs": [
    {
     "data": {
      "text/plain": [
       "<AxesSubplot: >"
      ]
     },
     "execution_count": 156,
     "metadata": {},
     "output_type": "execute_result"
    },
    {
     "data": {
      "image/png": "[encoded data removed]",
      "text/plain": [
       "<Figure size 640x480 with 2 Axes>"
      ]
     },
     "metadata": {},
     "output_type": "display_data"
    }
   ],
   "source": [
    "# постройте корреляционную матрицу и оцените данные на предмет наличия мультиколлинеарности\n",
    "sns.heatmap(df.corr())"
   ]
  },
  {
   "cell_type": "code",
   "execution_count": 157,
   "id": "1fa6cd60",
   "metadata": {
    "ExecuteTime": {
     "end_time": "2023-04-25T22:48:09.782876Z",
     "start_time": "2023-04-25T22:48:09.782876Z"
    }
   },
   "outputs": [
    {
     "data": {
      "text/html": [
       "<div>\n",
       "<style scoped>\n",
       "    .dataframe tbody tr th:only-of-type {\n",
       "        vertical-align: middle;\n",
       "    }\n",
       "\n",
       "    .dataframe tbody tr th {\n",
       "        vertical-align: top;\n",
       "    }\n",
       "\n",
       "    .dataframe thead th {\n",
       "        text-align: right;\n",
       "    }\n",
       "</style>\n",
       "<table border=\"1\" class=\"dataframe\">\n",
       "  <thead>\n",
       "    <tr style=\"text-align: right;\">\n",
       "      <th></th>\n",
       "      <th>age</th>\n",
       "      <th>age-group_30-40</th>\n",
       "      <th>age-group_40-50</th>\n",
       "      <th>age-group_50-60</th>\n",
       "      <th>age-group_60+</th>\n",
       "      <th>age-group_&lt;30</th>\n",
       "      <th>balance</th>\n",
       "      <th>campaign</th>\n",
       "      <th>contact_cellular</th>\n",
       "      <th>contact_telephone</th>\n",
       "      <th>...</th>\n",
       "      <th>month_may</th>\n",
       "      <th>month_nov</th>\n",
       "      <th>month_oct</th>\n",
       "      <th>month_sep</th>\n",
       "      <th>pdays</th>\n",
       "      <th>poutcome_failure</th>\n",
       "      <th>poutcome_other</th>\n",
       "      <th>poutcome_success</th>\n",
       "      <th>poutcome_unknown</th>\n",
       "      <th>previous</th>\n",
       "    </tr>\n",
       "  </thead>\n",
       "  <tbody>\n",
       "    <tr>\n",
       "      <th>age</th>\n",
       "      <td>1.000000</td>\n",
       "      <td>-0.469886</td>\n",
       "      <td>0.179264</td>\n",
       "      <td>0.529255</td>\n",
       "      <td>0.582844</td>\n",
       "      <td>-0.499838</td>\n",
       "      <td>0.056368</td>\n",
       "      <td>-0.005278</td>\n",
       "      <td>-0.085019</td>\n",
       "      <td>0.210912</td>\n",
       "      <td>...</td>\n",
       "      <td>-0.122287</td>\n",
       "      <td>0.020910</td>\n",
       "      <td>0.067004</td>\n",
       "      <td>0.040306</td>\n",
       "      <td>0.002774</td>\n",
       "      <td>-0.008071</td>\n",
       "      <td>-0.018715</td>\n",
       "      <td>0.062114</td>\n",
       "      <td>-0.027021</td>\n",
       "      <td>0.020169</td>\n",
       "    </tr>\n",
       "    <tr>\n",
       "      <th>education</th>\n",
       "      <td>-0.193752</td>\n",
       "      <td>0.160118</td>\n",
       "      <td>-0.070626</td>\n",
       "      <td>-0.095636</td>\n",
       "      <td>-0.113886</td>\n",
       "      <td>0.034837</td>\n",
       "      <td>0.030991</td>\n",
       "      <td>-0.014311</td>\n",
       "      <td>0.170551</td>\n",
       "      <td>-0.081436</td>\n",
       "      <td>...</td>\n",
       "      <td>-0.099668</td>\n",
       "      <td>0.028645</td>\n",
       "      <td>0.028414</td>\n",
       "      <td>0.031652</td>\n",
       "      <td>0.029816</td>\n",
       "      <td>0.022438</td>\n",
       "      <td>0.018392</td>\n",
       "      <td>0.068925</td>\n",
       "      <td>-0.071798</td>\n",
       "      <td>0.033255</td>\n",
       "    </tr>\n",
       "    <tr>\n",
       "      <th>default</th>\n",
       "      <td>-0.011425</td>\n",
       "      <td>-0.014775</td>\n",
       "      <td>0.027253</td>\n",
       "      <td>-0.003939</td>\n",
       "      <td>-0.026513</td>\n",
       "      <td>0.009904</td>\n",
       "      <td>-0.049835</td>\n",
       "      <td>0.030975</td>\n",
       "      <td>-0.026301</td>\n",
       "      <td>-0.022157</td>\n",
       "      <td>...</td>\n",
       "      <td>-0.000853</td>\n",
       "      <td>-0.000511</td>\n",
       "      <td>-0.023584</td>\n",
       "      <td>-0.016787</td>\n",
       "      <td>-0.036282</td>\n",
       "      <td>-0.024650</td>\n",
       "      <td>-0.017475</td>\n",
       "      <td>-0.040272</td>\n",
       "      <td>0.053554</td>\n",
       "      <td>-0.035273</td>\n",
       "    </tr>\n",
       "    <tr>\n",
       "      <th>balance</th>\n",
       "      <td>0.056368</td>\n",
       "      <td>-0.016782</td>\n",
       "      <td>0.003011</td>\n",
       "      <td>0.006559</td>\n",
       "      <td>0.062310</td>\n",
       "      <td>-0.027755</td>\n",
       "      <td>1.000000</td>\n",
       "      <td>-0.033420</td>\n",
       "      <td>0.009240</td>\n",
       "      <td>0.024158</td>\n",
       "      <td>...</td>\n",
       "      <td>-0.053001</td>\n",
       "      <td>0.019121</td>\n",
       "      <td>0.040226</td>\n",
       "      <td>0.038991</td>\n",
       "      <td>0.019913</td>\n",
       "      <td>0.016536</td>\n",
       "      <td>-0.003530</td>\n",
       "      <td>0.043937</td>\n",
       "      <td>-0.039875</td>\n",
       "      <td>0.035343</td>\n",
       "    </tr>\n",
       "    <tr>\n",
       "      <th>housing</th>\n",
       "      <td>-0.168700</td>\n",
       "      <td>0.146279</td>\n",
       "      <td>0.032766</td>\n",
       "      <td>-0.087159</td>\n",
       "      <td>-0.190173</td>\n",
       "      <td>-0.028954</td>\n",
       "      <td>-0.019549</td>\n",
       "      <td>0.006660</td>\n",
       "      <td>-0.181475</td>\n",
       "      <td>-0.088433</td>\n",
       "      <td>...</td>\n",
       "      <td>0.427163</td>\n",
       "      <td>0.013449</td>\n",
       "      <td>-0.095006</td>\n",
       "      <td>-0.087152</td>\n",
       "      <td>0.064497</td>\n",
       "      <td>0.087741</td>\n",
       "      <td>0.010006</td>\n",
       "      <td>-0.136299</td>\n",
       "      <td>0.024227</td>\n",
       "      <td>-0.000840</td>\n",
       "    </tr>\n",
       "    <tr>\n",
       "      <th>loan</th>\n",
       "      <td>-0.031418</td>\n",
       "      <td>0.000841</td>\n",
       "      <td>0.032854</td>\n",
       "      <td>0.020470</td>\n",
       "      <td>-0.082839</td>\n",
       "      <td>-0.008351</td>\n",
       "      <td>-0.052914</td>\n",
       "      <td>0.034722</td>\n",
       "      <td>-0.000534</td>\n",
       "      <td>-0.020123</td>\n",
       "      <td>...</td>\n",
       "      <td>0.005878</td>\n",
       "      <td>0.014001</td>\n",
       "      <td>-0.032150</td>\n",
       "      <td>-0.045807</td>\n",
       "      <td>-0.030416</td>\n",
       "      <td>0.006264</td>\n",
       "      <td>-0.020164</td>\n",
       "      <td>-0.080370</td>\n",
       "      <td>0.059783</td>\n",
       "      <td>-0.022668</td>\n",
       "    </tr>\n",
       "    <tr>\n",
       "      <th>day</th>\n",
       "      <td>-0.000762</td>\n",
       "      <td>0.003153</td>\n",
       "      <td>-0.000165</td>\n",
       "      <td>0.015962</td>\n",
       "      <td>-0.014128</td>\n",
       "      <td>-0.012200</td>\n",
       "      <td>-0.004354</td>\n",
       "      <td>0.137007</td>\n",
       "      <td>-0.011402</td>\n",
       "      <td>0.014687</td>\n",
       "      <td>...</td>\n",
       "      <td>-0.010188</td>\n",
       "      <td>0.062185</td>\n",
       "      <td>0.079939</td>\n",
       "      <td>-0.072279</td>\n",
       "      <td>-0.077232</td>\n",
       "      <td>-0.068381</td>\n",
       "      <td>-0.007526</td>\n",
       "      <td>-0.044280</td>\n",
       "      <td>0.082807</td>\n",
       "      <td>-0.058981</td>\n",
       "    </tr>\n",
       "    <tr>\n",
       "      <th>duration</th>\n",
       "      <td>0.000189</td>\n",
       "      <td>0.006843</td>\n",
       "      <td>-0.009628</td>\n",
       "      <td>-0.004808</td>\n",
       "      <td>0.003256</td>\n",
       "      <td>0.004884</td>\n",
       "      <td>0.021784</td>\n",
       "      <td>-0.041557</td>\n",
       "      <td>0.020938</td>\n",
       "      <td>-0.015966</td>\n",
       "      <td>...</td>\n",
       "      <td>0.010680</td>\n",
       "      <td>-0.007683</td>\n",
       "      <td>-0.013847</td>\n",
       "      <td>-0.010389</td>\n",
       "      <td>-0.027392</td>\n",
       "      <td>-0.033966</td>\n",
       "      <td>-0.008782</td>\n",
       "      <td>-0.022578</td>\n",
       "      <td>0.044006</td>\n",
       "      <td>-0.026716</td>\n",
       "    </tr>\n",
       "    <tr>\n",
       "      <th>campaign</th>\n",
       "      <td>-0.005278</td>\n",
       "      <td>0.019892</td>\n",
       "      <td>0.028831</td>\n",
       "      <td>0.012042</td>\n",
       "      <td>-0.053630</td>\n",
       "      <td>-0.040780</td>\n",
       "      <td>-0.033420</td>\n",
       "      <td>1.000000</td>\n",
       "      <td>-0.067236</td>\n",
       "      <td>0.046576</td>\n",
       "      <td>...</td>\n",
       "      <td>-0.038520</td>\n",
       "      <td>-0.077215</td>\n",
       "      <td>-0.069786</td>\n",
       "      <td>-0.049224</td>\n",
       "      <td>-0.102726</td>\n",
       "      <td>-0.080188</td>\n",
       "      <td>-0.023689</td>\n",
       "      <td>-0.091807</td>\n",
       "      <td>0.131392</td>\n",
       "      <td>-0.049699</td>\n",
       "    </tr>\n",
       "    <tr>\n",
       "      <th>pdays</th>\n",
       "      <td>0.002774</td>\n",
       "      <td>0.021465</td>\n",
       "      <td>-0.016370</td>\n",
       "      <td>-0.024484</td>\n",
       "      <td>0.029226</td>\n",
       "      <td>-0.003712</td>\n",
       "      <td>0.019913</td>\n",
       "      <td>-0.102726</td>\n",
       "      <td>0.205877</td>\n",
       "      <td>0.006710</td>\n",
       "      <td>...</td>\n",
       "      <td>0.026120</td>\n",
       "      <td>-0.011859</td>\n",
       "      <td>0.074312</td>\n",
       "      <td>0.104793</td>\n",
       "      <td>1.000000</td>\n",
       "      <td>0.602615</td>\n",
       "      <td>0.341404</td>\n",
       "      <td>0.329567</td>\n",
       "      <td>-0.823928</td>\n",
       "      <td>0.507272</td>\n",
       "    </tr>\n",
       "    <tr>\n",
       "      <th>previous</th>\n",
       "      <td>0.020169</td>\n",
       "      <td>0.000682</td>\n",
       "      <td>-0.021677</td>\n",
       "      <td>-0.014429</td>\n",
       "      <td>0.049888</td>\n",
       "      <td>0.007877</td>\n",
       "      <td>0.035343</td>\n",
       "      <td>-0.049699</td>\n",
       "      <td>0.147519</td>\n",
       "      <td>0.026405</td>\n",
       "      <td>...</td>\n",
       "      <td>-0.025009</td>\n",
       "      <td>0.016852</td>\n",
       "      <td>0.055771</td>\n",
       "      <td>0.092765</td>\n",
       "      <td>0.507272</td>\n",
       "      <td>0.335870</td>\n",
       "      <td>0.326587</td>\n",
       "      <td>0.325477</td>\n",
       "      <td>-0.622149</td>\n",
       "      <td>1.000000</td>\n",
       "    </tr>\n",
       "    <tr>\n",
       "      <th>deposit</th>\n",
       "      <td>0.034901</td>\n",
       "      <td>-0.062433</td>\n",
       "      <td>-0.070494</td>\n",
       "      <td>-0.033868</td>\n",
       "      <td>0.167604</td>\n",
       "      <td>0.100152</td>\n",
       "      <td>0.069948</td>\n",
       "      <td>-0.128081</td>\n",
       "      <td>0.223252</td>\n",
       "      <td>0.016420</td>\n",
       "      <td>...</td>\n",
       "      <td>-0.170507</td>\n",
       "      <td>-0.028278</td>\n",
       "      <td>0.133783</td>\n",
       "      <td>0.126901</td>\n",
       "      <td>0.151593</td>\n",
       "      <td>0.020714</td>\n",
       "      <td>0.044059</td>\n",
       "      <td>0.286642</td>\n",
       "      <td>-0.230470</td>\n",
       "      <td>0.139867</td>\n",
       "    </tr>\n",
       "    <tr>\n",
       "      <th>job_admin.</th>\n",
       "      <td>-0.057458</td>\n",
       "      <td>0.019602</td>\n",
       "      <td>0.021009</td>\n",
       "      <td>-0.019487</td>\n",
       "      <td>-0.072875</td>\n",
       "      <td>0.015678</td>\n",
       "      <td>-0.012765</td>\n",
       "      <td>-0.017881</td>\n",
       "      <td>0.006695</td>\n",
       "      <td>-0.009244</td>\n",
       "      <td>...</td>\n",
       "      <td>0.025091</td>\n",
       "      <td>-0.010626</td>\n",
       "      <td>0.004728</td>\n",
       "      <td>0.009739</td>\n",
       "      <td>0.044068</td>\n",
       "      <td>0.033750</td>\n",
       "      <td>0.007513</td>\n",
       "      <td>0.005628</td>\n",
       "      <td>-0.031759</td>\n",
       "      <td>0.022699</td>\n",
       "    </tr>\n",
       "    <tr>\n",
       "      <th>job_blue-collar</th>\n",
       "      <td>-0.066567</td>\n",
       "      <td>0.009197</td>\n",
       "      <td>0.064230</td>\n",
       "      <td>-0.030391</td>\n",
       "      <td>-0.100125</td>\n",
       "      <td>0.008109</td>\n",
       "      <td>-0.019545</td>\n",
       "      <td>0.005522</td>\n",
       "      <td>-0.136661</td>\n",
       "      <td>-0.018414</td>\n",
       "      <td>...</td>\n",
       "      <td>0.170171</td>\n",
       "      <td>-0.029079</td>\n",
       "      <td>-0.054247</td>\n",
       "      <td>-0.047577</td>\n",
       "      <td>-0.030695</td>\n",
       "      <td>-0.018022</td>\n",
       "      <td>-0.002788</td>\n",
       "      <td>-0.077422</td>\n",
       "      <td>0.066703</td>\n",
       "      <td>-0.039939</td>\n",
       "    </tr>\n",
       "    <tr>\n",
       "      <th>job_entrepreneur</th>\n",
       "      <td>0.024176</td>\n",
       "      <td>-0.000501</td>\n",
       "      <td>0.041573</td>\n",
       "      <td>0.016147</td>\n",
       "      <td>-0.023215</td>\n",
       "      <td>-0.051494</td>\n",
       "      <td>0.007396</td>\n",
       "      <td>0.013883</td>\n",
       "      <td>-0.020471</td>\n",
       "      <td>0.006799</td>\n",
       "      <td>...</td>\n",
       "      <td>-0.017064</td>\n",
       "      <td>0.052053</td>\n",
       "      <td>-0.018787</td>\n",
       "      <td>-0.007558</td>\n",
       "      <td>-0.029732</td>\n",
       "      <td>-0.001840</td>\n",
       "      <td>-0.024244</td>\n",
       "      <td>-0.035072</td>\n",
       "      <td>0.036967</td>\n",
       "      <td>-0.022470</td>\n",
       "    </tr>\n",
       "    <tr>\n",
       "      <th>job_housemaid</th>\n",
       "      <td>0.082739</td>\n",
       "      <td>-0.049332</td>\n",
       "      <td>0.019077</td>\n",
       "      <td>0.067337</td>\n",
       "      <td>0.028001</td>\n",
       "      <td>-0.043641</td>\n",
       "      <td>-0.023380</td>\n",
       "      <td>0.010570</td>\n",
       "      <td>-0.016013</td>\n",
       "      <td>0.027349</td>\n",
       "      <td>...</td>\n",
       "      <td>-0.051037</td>\n",
       "      <td>-0.006554</td>\n",
       "      <td>0.007477</td>\n",
       "      <td>-0.006361</td>\n",
       "      <td>-0.025950</td>\n",
       "      <td>-0.016919</td>\n",
       "      <td>-0.011314</td>\n",
       "      <td>-0.008434</td>\n",
       "      <td>0.023429</td>\n",
       "      <td>-0.022766</td>\n",
       "    </tr>\n",
       "    <tr>\n",
       "      <th>job_management</th>\n",
       "      <td>-0.039086</td>\n",
       "      <td>0.069448</td>\n",
       "      <td>0.008378</td>\n",
       "      <td>0.003818</td>\n",
       "      <td>-0.080948</td>\n",
       "      <td>-0.059935</td>\n",
       "      <td>0.022072</td>\n",
       "      <td>0.017343</td>\n",
       "      <td>0.101442</td>\n",
       "      <td>-0.037188</td>\n",
       "      <td>...</td>\n",
       "      <td>-0.089722</td>\n",
       "      <td>0.029810</td>\n",
       "      <td>0.015385</td>\n",
       "      <td>0.036290</td>\n",
       "      <td>0.016155</td>\n",
       "      <td>0.007414</td>\n",
       "      <td>0.014966</td>\n",
       "      <td>0.035147</td>\n",
       "      <td>-0.036464</td>\n",
       "      <td>0.021019</td>\n",
       "    </tr>\n",
       "    <tr>\n",
       "      <th>job_retired</th>\n",
       "      <td>0.555863</td>\n",
       "      <td>-0.226048</td>\n",
       "      <td>-0.134234</td>\n",
       "      <td>0.156116</td>\n",
       "      <td>0.647154</td>\n",
       "      <td>-0.109959</td>\n",
       "      <td>0.043274</td>\n",
       "      <td>-0.037943</td>\n",
       "      <td>-0.033346</td>\n",
       "      <td>0.160725</td>\n",
       "      <td>...</td>\n",
       "      <td>-0.088080</td>\n",
       "      <td>-0.022427</td>\n",
       "      <td>0.073922</td>\n",
       "      <td>0.064963</td>\n",
       "      <td>0.004212</td>\n",
       "      <td>-0.014159</td>\n",
       "      <td>-0.002350</td>\n",
       "      <td>0.072092</td>\n",
       "      <td>-0.037441</td>\n",
       "      <td>0.019384</td>\n",
       "    </tr>\n",
       "    <tr>\n",
       "      <th>job_self-employed</th>\n",
       "      <td>-0.023163</td>\n",
       "      <td>0.006316</td>\n",
       "      <td>0.000501</td>\n",
       "      <td>-0.014769</td>\n",
       "      <td>-0.006675</td>\n",
       "      <td>0.010698</td>\n",
       "      <td>-0.011880</td>\n",
       "      <td>0.001776</td>\n",
       "      <td>-0.005119</td>\n",
       "      <td>0.003614</td>\n",
       "      <td>...</td>\n",
       "      <td>-0.022554</td>\n",
       "      <td>0.032360</td>\n",
       "      <td>0.009830</td>\n",
       "      <td>-0.021780</td>\n",
       "      <td>-0.011224</td>\n",
       "      <td>-0.010039</td>\n",
       "      <td>0.005632</td>\n",
       "      <td>-0.001399</td>\n",
       "      <td>0.005394</td>\n",
       "      <td>-0.002338</td>\n",
       "    </tr>\n",
       "    <tr>\n",
       "      <th>job_services</th>\n",
       "      <td>-0.077879</td>\n",
       "      <td>0.047504</td>\n",
       "      <td>-0.001872</td>\n",
       "      <td>-0.037365</td>\n",
       "      <td>-0.070821</td>\n",
       "      <td>0.021391</td>\n",
       "      <td>-0.012661</td>\n",
       "      <td>0.007496</td>\n",
       "      <td>-0.027547</td>\n",
       "      <td>-0.023053</td>\n",
       "      <td>...</td>\n",
       "      <td>0.071443</td>\n",
       "      <td>-0.018688</td>\n",
       "      <td>-0.034308</td>\n",
       "      <td>-0.024166</td>\n",
       "      <td>0.000595</td>\n",
       "      <td>-0.002646</td>\n",
       "      <td>-0.012776</td>\n",
       "      <td>-0.029337</td>\n",
       "      <td>0.028030</td>\n",
       "      <td>-0.019366</td>\n",
       "    </tr>\n",
       "    <tr>\n",
       "      <th>job_student</th>\n",
       "      <td>-0.231846</td>\n",
       "      <td>-0.085165</td>\n",
       "      <td>-0.093106</td>\n",
       "      <td>-0.081633</td>\n",
       "      <td>-0.043931</td>\n",
       "      <td>0.350352</td>\n",
       "      <td>-0.010940</td>\n",
       "      <td>-0.022735</td>\n",
       "      <td>0.058339</td>\n",
       "      <td>0.012050</td>\n",
       "      <td>...</td>\n",
       "      <td>-0.030422</td>\n",
       "      <td>-0.008048</td>\n",
       "      <td>0.028532</td>\n",
       "      <td>0.032600</td>\n",
       "      <td>0.029129</td>\n",
       "      <td>0.005501</td>\n",
       "      <td>0.037158</td>\n",
       "      <td>0.055885</td>\n",
       "      <td>-0.060027</td>\n",
       "      <td>0.037012</td>\n",
       "    </tr>\n",
       "    <tr>\n",
       "      <th>job_technician</th>\n",
       "      <td>-0.082716</td>\n",
       "      <td>0.076966</td>\n",
       "      <td>0.006601</td>\n",
       "      <td>-0.033025</td>\n",
       "      <td>-0.092470</td>\n",
       "      <td>-0.021239</td>\n",
       "      <td>-0.003310</td>\n",
       "      <td>0.021738</td>\n",
       "      <td>0.042429</td>\n",
       "      <td>-0.045232</td>\n",
       "      <td>...</td>\n",
       "      <td>-0.014061</td>\n",
       "      <td>-0.003497</td>\n",
       "      <td>-0.001346</td>\n",
       "      <td>-0.029236</td>\n",
       "      <td>-0.016588</td>\n",
       "      <td>0.005763</td>\n",
       "      <td>-0.007592</td>\n",
       "      <td>-0.014744</td>\n",
       "      <td>0.009565</td>\n",
       "      <td>0.002035</td>\n",
       "    </tr>\n",
       "    <tr>\n",
       "      <th>job_unemployed</th>\n",
       "      <td>-0.003582</td>\n",
       "      <td>-0.009846</td>\n",
       "      <td>0.022202</td>\n",
       "      <td>0.017094</td>\n",
       "      <td>-0.037027</td>\n",
       "      <td>-0.006781</td>\n",
       "      <td>0.013603</td>\n",
       "      <td>-0.024973</td>\n",
       "      <td>0.020183</td>\n",
       "      <td>-0.001514</td>\n",
       "      <td>...</td>\n",
       "      <td>-0.035513</td>\n",
       "      <td>0.008860</td>\n",
       "      <td>-0.007019</td>\n",
       "      <td>0.005492</td>\n",
       "      <td>0.007781</td>\n",
       "      <td>-0.006957</td>\n",
       "      <td>-0.014692</td>\n",
       "      <td>0.030678</td>\n",
       "      <td>-0.008532</td>\n",
       "      <td>-0.001605</td>\n",
       "    </tr>\n",
       "    <tr>\n",
       "      <th>marital_divorced</th>\n",
       "      <td>0.186349</td>\n",
       "      <td>-0.082896</td>\n",
       "      <td>0.078516</td>\n",
       "      <td>0.101818</td>\n",
       "      <td>0.061806</td>\n",
       "      <td>-0.126792</td>\n",
       "      <td>-0.029901</td>\n",
       "      <td>-0.006828</td>\n",
       "      <td>-0.017205</td>\n",
       "      <td>-0.009543</td>\n",
       "      <td>...</td>\n",
       "      <td>0.006355</td>\n",
       "      <td>0.003788</td>\n",
       "      <td>0.003940</td>\n",
       "      <td>-0.004961</td>\n",
       "      <td>-0.015574</td>\n",
       "      <td>-0.026169</td>\n",
       "      <td>-0.008118</td>\n",
       "      <td>-0.018120</td>\n",
       "      <td>0.035059</td>\n",
       "      <td>-0.026566</td>\n",
       "    </tr>\n",
       "    <tr>\n",
       "      <th>marital_married</th>\n",
       "      <td>0.318436</td>\n",
       "      <td>-0.063262</td>\n",
       "      <td>0.129740</td>\n",
       "      <td>0.160053</td>\n",
       "      <td>0.105260</td>\n",
       "      <td>-0.307791</td>\n",
       "      <td>0.025793</td>\n",
       "      <td>0.047722</td>\n",
       "      <td>-0.061183</td>\n",
       "      <td>0.060964</td>\n",
       "      <td>...</td>\n",
       "      <td>-0.030300</td>\n",
       "      <td>0.031515</td>\n",
       "      <td>-0.012817</td>\n",
       "      <td>-0.022264</td>\n",
       "      <td>-0.019280</td>\n",
       "      <td>0.007682</td>\n",
       "      <td>-0.025822</td>\n",
       "      <td>-0.010063</td>\n",
       "      <td>0.013979</td>\n",
       "      <td>-0.005176</td>\n",
       "    </tr>\n",
       "    <tr>\n",
       "      <th>marital_single</th>\n",
       "      <td>-0.467799</td>\n",
       "      <td>0.124536</td>\n",
       "      <td>-0.192381</td>\n",
       "      <td>-0.240744</td>\n",
       "      <td>-0.154776</td>\n",
       "      <td>0.415426</td>\n",
       "      <td>-0.006897</td>\n",
       "      <td>-0.046165</td>\n",
       "      <td>0.077069</td>\n",
       "      <td>-0.058410</td>\n",
       "      <td>...</td>\n",
       "      <td>0.027920</td>\n",
       "      <td>-0.036203</td>\n",
       "      <td>0.010948</td>\n",
       "      <td>0.027150</td>\n",
       "      <td>0.031280</td>\n",
       "      <td>0.009838</td>\n",
       "      <td>0.033116</td>\n",
       "      <td>0.023208</td>\n",
       "      <td>-0.039051</td>\n",
       "      <td>0.023817</td>\n",
       "    </tr>\n",
       "    <tr>\n",
       "      <th>contact_cellular</th>\n",
       "      <td>-0.085019</td>\n",
       "      <td>0.042969</td>\n",
       "      <td>-0.037525</td>\n",
       "      <td>-0.048265</td>\n",
       "      <td>-0.011597</td>\n",
       "      <td>0.043596</td>\n",
       "      <td>0.009240</td>\n",
       "      <td>-0.067236</td>\n",
       "      <td>1.000000</td>\n",
       "      <td>-0.438237</td>\n",
       "      <td>...</td>\n",
       "      <td>-0.332766</td>\n",
       "      <td>0.113839</td>\n",
       "      <td>0.024479</td>\n",
       "      <td>0.056513</td>\n",
       "      <td>0.205877</td>\n",
       "      <td>0.164764</td>\n",
       "      <td>0.090586</td>\n",
       "      <td>0.141237</td>\n",
       "      <td>-0.258508</td>\n",
       "      <td>0.147519</td>\n",
       "    </tr>\n",
       "    <tr>\n",
       "      <th>contact_telephone</th>\n",
       "      <td>0.210912</td>\n",
       "      <td>-0.108773</td>\n",
       "      <td>-0.003452</td>\n",
       "      <td>0.049233</td>\n",
       "      <td>0.214932</td>\n",
       "      <td>-0.035226</td>\n",
       "      <td>0.024158</td>\n",
       "      <td>0.046576</td>\n",
       "      <td>-0.438237</td>\n",
       "      <td>1.000000</td>\n",
       "      <td>...</td>\n",
       "      <td>-0.077734</td>\n",
       "      <td>0.028671</td>\n",
       "      <td>0.074368</td>\n",
       "      <td>0.018795</td>\n",
       "      <td>0.006710</td>\n",
       "      <td>-0.006934</td>\n",
       "      <td>0.014442</td>\n",
       "      <td>0.012853</td>\n",
       "      <td>-0.010811</td>\n",
       "      <td>0.026405</td>\n",
       "    </tr>\n",
       "    <tr>\n",
       "      <th>contact_unknown</th>\n",
       "      <td>-0.037860</td>\n",
       "      <td>0.020492</td>\n",
       "      <td>0.043483</td>\n",
       "      <td>0.022464</td>\n",
       "      <td>-0.121237</td>\n",
       "      <td>-0.026054</td>\n",
       "      <td>-0.025240</td>\n",
       "      <td>0.045016</td>\n",
       "      <td>-0.828196</td>\n",
       "      <td>-0.140810</td>\n",
       "      <td>...</td>\n",
       "      <td>0.414988</td>\n",
       "      <td>-0.143263</td>\n",
       "      <td>-0.073331</td>\n",
       "      <td>-0.073964</td>\n",
       "      <td>-0.230944</td>\n",
       "      <td>-0.177154</td>\n",
       "      <td>-0.108779</td>\n",
       "      <td>-0.163577</td>\n",
       "      <td>0.291470</td>\n",
       "      <td>-0.178947</td>\n",
       "    </tr>\n",
       "    <tr>\n",
       "      <th>month_apr</th>\n",
       "      <td>-0.024823</td>\n",
       "      <td>0.036945</td>\n",
       "      <td>-0.036222</td>\n",
       "      <td>-0.039111</td>\n",
       "      <td>0.029281</td>\n",
       "      <td>0.013867</td>\n",
       "      <td>0.031468</td>\n",
       "      <td>-0.074485</td>\n",
       "      <td>0.139170</td>\n",
       "      <td>-0.003845</td>\n",
       "      <td>...</td>\n",
       "      <td>-0.174732</td>\n",
       "      <td>-0.091206</td>\n",
       "      <td>-0.057281</td>\n",
       "      <td>-0.051498</td>\n",
       "      <td>0.079165</td>\n",
       "      <td>0.072203</td>\n",
       "      <td>0.034345</td>\n",
       "      <td>-0.002830</td>\n",
       "      <td>-0.066866</td>\n",
       "      <td>0.019381</td>\n",
       "    </tr>\n",
       "    <tr>\n",
       "      <th>month_aug</th>\n",
       "      <td>0.053137</td>\n",
       "      <td>0.015910</td>\n",
       "      <td>0.031560</td>\n",
       "      <td>0.037076</td>\n",
       "      <td>0.000978</td>\n",
       "      <td>-0.101275</td>\n",
       "      <td>-0.022023</td>\n",
       "      <td>0.146743</td>\n",
       "      <td>0.207619</td>\n",
       "      <td>-0.051768</td>\n",
       "      <td>...</td>\n",
       "      <td>-0.230980</td>\n",
       "      <td>-0.120566</td>\n",
       "      <td>-0.075720</td>\n",
       "      <td>-0.068076</td>\n",
       "      <td>-0.067151</td>\n",
       "      <td>-0.062722</td>\n",
       "      <td>-0.039167</td>\n",
       "      <td>0.000223</td>\n",
       "      <td>0.064185</td>\n",
       "      <td>-0.035986</td>\n",
       "    </tr>\n",
       "    <tr>\n",
       "      <th>month_dec</th>\n",
       "      <td>0.037799</td>\n",
       "      <td>-0.025330</td>\n",
       "      <td>-0.014361</td>\n",
       "      <td>-0.005671</td>\n",
       "      <td>0.067696</td>\n",
       "      <td>0.014985</td>\n",
       "      <td>0.020807</td>\n",
       "      <td>-0.011971</td>\n",
       "      <td>0.021720</td>\n",
       "      <td>0.040601</td>\n",
       "      <td>...</td>\n",
       "      <td>-0.058060</td>\n",
       "      <td>-0.030306</td>\n",
       "      <td>-0.019033</td>\n",
       "      <td>-0.017112</td>\n",
       "      <td>0.056731</td>\n",
       "      <td>0.005502</td>\n",
       "      <td>0.041143</td>\n",
       "      <td>0.072197</td>\n",
       "      <td>-0.073023</td>\n",
       "      <td>0.060315</td>\n",
       "    </tr>\n",
       "    <tr>\n",
       "      <th>month_feb</th>\n",
       "      <td>0.016322</td>\n",
       "      <td>-0.019908</td>\n",
       "      <td>-0.033415</td>\n",
       "      <td>-0.002184</td>\n",
       "      <td>0.058104</td>\n",
       "      <td>0.032762</td>\n",
       "      <td>0.009861</td>\n",
       "      <td>-0.035398</td>\n",
       "      <td>0.105107</td>\n",
       "      <td>0.033542</td>\n",
       "      <td>...</td>\n",
       "      <td>-0.159077</td>\n",
       "      <td>-0.083034</td>\n",
       "      <td>-0.052149</td>\n",
       "      <td>-0.046884</td>\n",
       "      <td>0.053023</td>\n",
       "      <td>0.054740</td>\n",
       "      <td>0.032372</td>\n",
       "      <td>0.041312</td>\n",
       "      <td>-0.083208</td>\n",
       "      <td>0.056241</td>\n",
       "    </tr>\n",
       "    <tr>\n",
       "      <th>month_jan</th>\n",
       "      <td>0.016675</td>\n",
       "      <td>-0.024318</td>\n",
       "      <td>-0.008614</td>\n",
       "      <td>0.010679</td>\n",
       "      <td>0.025454</td>\n",
       "      <td>0.016785</td>\n",
       "      <td>0.016756</td>\n",
       "      <td>-0.051019</td>\n",
       "      <td>0.066021</td>\n",
       "      <td>0.028866</td>\n",
       "      <td>...</td>\n",
       "      <td>-0.103778</td>\n",
       "      <td>-0.054170</td>\n",
       "      <td>-0.034021</td>\n",
       "      <td>-0.030586</td>\n",
       "      <td>0.018510</td>\n",
       "      <td>0.005226</td>\n",
       "      <td>0.054383</td>\n",
       "      <td>0.015828</td>\n",
       "      <td>-0.041197</td>\n",
       "      <td>0.035646</td>\n",
       "    </tr>\n",
       "    <tr>\n",
       "      <th>month_jul</th>\n",
       "      <td>-0.003606</td>\n",
       "      <td>-0.035516</td>\n",
       "      <td>0.024142</td>\n",
       "      <td>0.025776</td>\n",
       "      <td>-0.041266</td>\n",
       "      <td>0.020896</td>\n",
       "      <td>-0.049375</td>\n",
       "      <td>0.114413</td>\n",
       "      <td>0.113806</td>\n",
       "      <td>0.083444</td>\n",
       "      <td>...</td>\n",
       "      <td>-0.230540</td>\n",
       "      <td>-0.120336</td>\n",
       "      <td>-0.075575</td>\n",
       "      <td>-0.067946</td>\n",
       "      <td>-0.099486</td>\n",
       "      <td>-0.099977</td>\n",
       "      <td>-0.053599</td>\n",
       "      <td>-0.060649</td>\n",
       "      <td>0.139239</td>\n",
       "      <td>-0.081111</td>\n",
       "    </tr>\n",
       "    <tr>\n",
       "      <th>month_jun</th>\n",
       "      <td>0.009046</td>\n",
       "      <td>-0.029932</td>\n",
       "      <td>0.023235</td>\n",
       "      <td>0.042633</td>\n",
       "      <td>-0.055364</td>\n",
       "      <td>0.005142</td>\n",
       "      <td>0.025956</td>\n",
       "      <td>0.044453</td>\n",
       "      <td>-0.318041</td>\n",
       "      <td>-0.065212</td>\n",
       "      <td>...</td>\n",
       "      <td>-0.204053</td>\n",
       "      <td>-0.106511</td>\n",
       "      <td>-0.066893</td>\n",
       "      <td>-0.060140</td>\n",
       "      <td>-0.094826</td>\n",
       "      <td>-0.074677</td>\n",
       "      <td>-0.034579</td>\n",
       "      <td>-0.025574</td>\n",
       "      <td>0.087976</td>\n",
       "      <td>-0.050000</td>\n",
       "    </tr>\n",
       "    <tr>\n",
       "      <th>month_mar</th>\n",
       "      <td>0.029346</td>\n",
       "      <td>-0.031404</td>\n",
       "      <td>-0.025917</td>\n",
       "      <td>-0.004632</td>\n",
       "      <td>0.073276</td>\n",
       "      <td>0.032772</td>\n",
       "      <td>0.026075</td>\n",
       "      <td>-0.029530</td>\n",
       "      <td>0.061897</td>\n",
       "      <td>0.013311</td>\n",
       "      <td>...</td>\n",
       "      <td>-0.092666</td>\n",
       "      <td>-0.048370</td>\n",
       "      <td>-0.030378</td>\n",
       "      <td>-0.027311</td>\n",
       "      <td>0.021950</td>\n",
       "      <td>-0.000672</td>\n",
       "      <td>0.023513</td>\n",
       "      <td>0.042149</td>\n",
       "      <td>-0.039590</td>\n",
       "      <td>0.028498</td>\n",
       "    </tr>\n",
       "    <tr>\n",
       "      <th>month_may</th>\n",
       "      <td>-0.122287</td>\n",
       "      <td>0.058977</td>\n",
       "      <td>-0.000243</td>\n",
       "      <td>-0.050093</td>\n",
       "      <td>-0.115586</td>\n",
       "      <td>0.046230</td>\n",
       "      <td>-0.053001</td>\n",
       "      <td>-0.038520</td>\n",
       "      <td>-0.332766</td>\n",
       "      <td>-0.077734</td>\n",
       "      <td>...</td>\n",
       "      <td>1.000000</td>\n",
       "      <td>-0.176788</td>\n",
       "      <td>-0.111029</td>\n",
       "      <td>-0.099821</td>\n",
       "      <td>0.026120</td>\n",
       "      <td>0.030502</td>\n",
       "      <td>-0.009497</td>\n",
       "      <td>-0.094436</td>\n",
       "      <td>0.046633</td>\n",
       "      <td>-0.025009</td>\n",
       "    </tr>\n",
       "    <tr>\n",
       "      <th>month_nov</th>\n",
       "      <td>0.020910</td>\n",
       "      <td>0.035070</td>\n",
       "      <td>0.022521</td>\n",
       "      <td>0.010254</td>\n",
       "      <td>-0.007958</td>\n",
       "      <td>-0.082917</td>\n",
       "      <td>0.019121</td>\n",
       "      <td>-0.077215</td>\n",
       "      <td>0.113839</td>\n",
       "      <td>0.028671</td>\n",
       "      <td>...</td>\n",
       "      <td>-0.176788</td>\n",
       "      <td>1.000000</td>\n",
       "      <td>-0.057954</td>\n",
       "      <td>-0.052104</td>\n",
       "      <td>-0.011859</td>\n",
       "      <td>0.067179</td>\n",
       "      <td>0.005468</td>\n",
       "      <td>0.004942</td>\n",
       "      <td>-0.054318</td>\n",
       "      <td>0.016852</td>\n",
       "    </tr>\n",
       "    <tr>\n",
       "      <th>month_oct</th>\n",
       "      <td>0.067004</td>\n",
       "      <td>-0.045512</td>\n",
       "      <td>-0.019457</td>\n",
       "      <td>-0.005644</td>\n",
       "      <td>0.120975</td>\n",
       "      <td>0.014816</td>\n",
       "      <td>0.040226</td>\n",
       "      <td>-0.069786</td>\n",
       "      <td>0.024479</td>\n",
       "      <td>0.074368</td>\n",
       "      <td>...</td>\n",
       "      <td>-0.111029</td>\n",
       "      <td>-0.057954</td>\n",
       "      <td>1.000000</td>\n",
       "      <td>-0.032723</td>\n",
       "      <td>0.074312</td>\n",
       "      <td>0.040243</td>\n",
       "      <td>0.016241</td>\n",
       "      <td>0.104745</td>\n",
       "      <td>-0.107772</td>\n",
       "      <td>0.055771</td>\n",
       "    </tr>\n",
       "    <tr>\n",
       "      <th>month_sep</th>\n",
       "      <td>0.040306</td>\n",
       "      <td>-0.026968</td>\n",
       "      <td>-0.021077</td>\n",
       "      <td>-0.024756</td>\n",
       "      <td>0.095823</td>\n",
       "      <td>0.027473</td>\n",
       "      <td>0.038991</td>\n",
       "      <td>-0.049224</td>\n",
       "      <td>0.056513</td>\n",
       "      <td>0.018795</td>\n",
       "      <td>...</td>\n",
       "      <td>-0.099821</td>\n",
       "      <td>-0.052104</td>\n",
       "      <td>-0.032723</td>\n",
       "      <td>1.000000</td>\n",
       "      <td>0.104793</td>\n",
       "      <td>0.027330</td>\n",
       "      <td>0.044355</td>\n",
       "      <td>0.137637</td>\n",
       "      <td>-0.134563</td>\n",
       "      <td>0.092765</td>\n",
       "    </tr>\n",
       "    <tr>\n",
       "      <th>poutcome_failure</th>\n",
       "      <td>-0.008071</td>\n",
       "      <td>0.043615</td>\n",
       "      <td>-0.010033</td>\n",
       "      <td>-0.012777</td>\n",
       "      <td>-0.011605</td>\n",
       "      <td>-0.028669</td>\n",
       "      <td>0.016536</td>\n",
       "      <td>-0.080188</td>\n",
       "      <td>0.164764</td>\n",
       "      <td>-0.006934</td>\n",
       "      <td>...</td>\n",
       "      <td>0.030502</td>\n",
       "      <td>0.067179</td>\n",
       "      <td>0.040243</td>\n",
       "      <td>0.027330</td>\n",
       "      <td>0.602615</td>\n",
       "      <td>1.000000</td>\n",
       "      <td>-0.079042</td>\n",
       "      <td>-0.114542</td>\n",
       "      <td>-0.602424</td>\n",
       "      <td>0.335870</td>\n",
       "    </tr>\n",
       "    <tr>\n",
       "      <th>poutcome_other</th>\n",
       "      <td>-0.018715</td>\n",
       "      <td>0.003040</td>\n",
       "      <td>-0.010130</td>\n",
       "      <td>-0.021889</td>\n",
       "      <td>0.010316</td>\n",
       "      <td>0.024669</td>\n",
       "      <td>-0.003530</td>\n",
       "      <td>-0.023689</td>\n",
       "      <td>0.090586</td>\n",
       "      <td>0.014442</td>\n",
       "      <td>...</td>\n",
       "      <td>-0.009497</td>\n",
       "      <td>0.005468</td>\n",
       "      <td>0.016241</td>\n",
       "      <td>0.044355</td>\n",
       "      <td>0.341404</td>\n",
       "      <td>-0.079042</td>\n",
       "      <td>1.000000</td>\n",
       "      <td>-0.073240</td>\n",
       "      <td>-0.385201</td>\n",
       "      <td>0.326587</td>\n",
       "    </tr>\n",
       "    <tr>\n",
       "      <th>poutcome_success</th>\n",
       "      <td>0.062114</td>\n",
       "      <td>-0.040480</td>\n",
       "      <td>-0.033212</td>\n",
       "      <td>-0.010994</td>\n",
       "      <td>0.130214</td>\n",
       "      <td>0.023903</td>\n",
       "      <td>0.043937</td>\n",
       "      <td>-0.091807</td>\n",
       "      <td>0.141237</td>\n",
       "      <td>0.012853</td>\n",
       "      <td>...</td>\n",
       "      <td>-0.094436</td>\n",
       "      <td>0.004942</td>\n",
       "      <td>0.104745</td>\n",
       "      <td>0.137637</td>\n",
       "      <td>0.329567</td>\n",
       "      <td>-0.114542</td>\n",
       "      <td>-0.073240</td>\n",
       "      <td>1.000000</td>\n",
       "      <td>-0.558204</td>\n",
       "      <td>0.325477</td>\n",
       "    </tr>\n",
       "    <tr>\n",
       "      <th>poutcome_unknown</th>\n",
       "      <td>-0.027021</td>\n",
       "      <td>-0.005457</td>\n",
       "      <td>0.034659</td>\n",
       "      <td>0.027381</td>\n",
       "      <td>-0.084824</td>\n",
       "      <td>-0.007691</td>\n",
       "      <td>-0.039875</td>\n",
       "      <td>0.131392</td>\n",
       "      <td>-0.258508</td>\n",
       "      <td>-0.010811</td>\n",
       "      <td>...</td>\n",
       "      <td>0.046633</td>\n",
       "      <td>-0.054318</td>\n",
       "      <td>-0.107772</td>\n",
       "      <td>-0.134563</td>\n",
       "      <td>-0.823928</td>\n",
       "      <td>-0.602424</td>\n",
       "      <td>-0.385201</td>\n",
       "      <td>-0.558204</td>\n",
       "      <td>1.000000</td>\n",
       "      <td>-0.622149</td>\n",
       "    </tr>\n",
       "    <tr>\n",
       "      <th>age-group_&lt;30</th>\n",
       "      <td>-0.499838</td>\n",
       "      <td>-0.339087</td>\n",
       "      <td>-0.215593</td>\n",
       "      <td>-0.179635</td>\n",
       "      <td>-0.096671</td>\n",
       "      <td>1.000000</td>\n",
       "      <td>-0.027755</td>\n",
       "      <td>-0.040780</td>\n",
       "      <td>0.043596</td>\n",
       "      <td>-0.035226</td>\n",
       "      <td>...</td>\n",
       "      <td>0.046230</td>\n",
       "      <td>-0.082917</td>\n",
       "      <td>0.014816</td>\n",
       "      <td>0.027473</td>\n",
       "      <td>-0.003712</td>\n",
       "      <td>-0.028669</td>\n",
       "      <td>0.024669</td>\n",
       "      <td>0.023903</td>\n",
       "      <td>-0.007691</td>\n",
       "      <td>0.007877</td>\n",
       "    </tr>\n",
       "    <tr>\n",
       "      <th>age-group_30-40</th>\n",
       "      <td>-0.469886</td>\n",
       "      <td>1.000000</td>\n",
       "      <td>-0.453004</td>\n",
       "      <td>-0.377448</td>\n",
       "      <td>-0.203125</td>\n",
       "      <td>-0.339087</td>\n",
       "      <td>-0.016782</td>\n",
       "      <td>0.019892</td>\n",
       "      <td>0.042969</td>\n",
       "      <td>-0.108773</td>\n",
       "      <td>...</td>\n",
       "      <td>0.058977</td>\n",
       "      <td>0.035070</td>\n",
       "      <td>-0.045512</td>\n",
       "      <td>-0.026968</td>\n",
       "      <td>0.021465</td>\n",
       "      <td>0.043615</td>\n",
       "      <td>0.003040</td>\n",
       "      <td>-0.040480</td>\n",
       "      <td>-0.005457</td>\n",
       "      <td>0.000682</td>\n",
       "    </tr>\n",
       "    <tr>\n",
       "      <th>age-group_40-50</th>\n",
       "      <td>0.179264</td>\n",
       "      <td>-0.453004</td>\n",
       "      <td>1.000000</td>\n",
       "      <td>-0.239983</td>\n",
       "      <td>-0.129148</td>\n",
       "      <td>-0.215593</td>\n",
       "      <td>0.003011</td>\n",
       "      <td>0.028831</td>\n",
       "      <td>-0.037525</td>\n",
       "      <td>-0.003452</td>\n",
       "      <td>...</td>\n",
       "      <td>-0.000243</td>\n",
       "      <td>0.022521</td>\n",
       "      <td>-0.019457</td>\n",
       "      <td>-0.021077</td>\n",
       "      <td>-0.016370</td>\n",
       "      <td>-0.010033</td>\n",
       "      <td>-0.010130</td>\n",
       "      <td>-0.033212</td>\n",
       "      <td>0.034659</td>\n",
       "      <td>-0.021677</td>\n",
       "    </tr>\n",
       "    <tr>\n",
       "      <th>age-group_50-60</th>\n",
       "      <td>0.529255</td>\n",
       "      <td>-0.377448</td>\n",
       "      <td>-0.239983</td>\n",
       "      <td>1.000000</td>\n",
       "      <td>-0.107607</td>\n",
       "      <td>-0.179635</td>\n",
       "      <td>0.006559</td>\n",
       "      <td>0.012042</td>\n",
       "      <td>-0.048265</td>\n",
       "      <td>0.049233</td>\n",
       "      <td>...</td>\n",
       "      <td>-0.050093</td>\n",
       "      <td>0.010254</td>\n",
       "      <td>-0.005644</td>\n",
       "      <td>-0.024756</td>\n",
       "      <td>-0.024484</td>\n",
       "      <td>-0.012777</td>\n",
       "      <td>-0.021889</td>\n",
       "      <td>-0.010994</td>\n",
       "      <td>0.027381</td>\n",
       "      <td>-0.014429</td>\n",
       "    </tr>\n",
       "    <tr>\n",
       "      <th>age-group_60+</th>\n",
       "      <td>0.582844</td>\n",
       "      <td>-0.203125</td>\n",
       "      <td>-0.129148</td>\n",
       "      <td>-0.107607</td>\n",
       "      <td>1.000000</td>\n",
       "      <td>-0.096671</td>\n",
       "      <td>0.062310</td>\n",
       "      <td>-0.053630</td>\n",
       "      <td>-0.011597</td>\n",
       "      <td>0.214932</td>\n",
       "      <td>...</td>\n",
       "      <td>-0.115586</td>\n",
       "      <td>-0.007958</td>\n",
       "      <td>0.120975</td>\n",
       "      <td>0.095823</td>\n",
       "      <td>0.029226</td>\n",
       "      <td>-0.011605</td>\n",
       "      <td>0.010316</td>\n",
       "      <td>0.130214</td>\n",
       "      <td>-0.084824</td>\n",
       "      <td>0.049888</td>\n",
       "    </tr>\n",
       "  </tbody>\n",
       "</table>\n",
       "<p>50 rows × 50 columns</p>\n",
       "</div>"
      ],
      "text/plain": [
       "                        age  age-group_30-40  age-group_40-50  \\\n",
       "age                1.000000        -0.469886         0.179264   \n",
       "education         -0.193752         0.160118        -0.070626   \n",
       "default           -0.011425        -0.014775         0.027253   \n",
       "balance            0.056368        -0.016782         0.003011   \n",
       "housing           -0.168700         0.146279         0.032766   \n",
       "loan              -0.031418         0.000841         0.032854   \n",
       "day               -0.000762         0.003153        -0.000165   \n",
       "duration           0.000189         0.006843        -0.009628   \n",
       "campaign          -0.005278         0.019892         0.028831   \n",
       "pdays              0.002774         0.021465        -0.016370   \n",
       "previous           0.020169         0.000682        -0.021677   \n",
       "deposit            0.034901        -0.062433        -0.070494   \n",
       "job_admin.        -0.057458         0.019602         0.021009   \n",
       "job_blue-collar   -0.066567         0.009197         0.064230   \n",
       "job_entrepreneur   0.024176        -0.000501         0.041573   \n",
       "job_housemaid      0.082739        -0.049332         0.019077   \n",
       "job_management    -0.039086         0.069448         0.008378   \n",
       "job_retired        0.555863        -0.226048        -0.134234   \n",
       "job_self-employed -0.023163         0.006316         0.000501   \n",
       "job_services      -0.077879         0.047504        -0.001872   \n",
       "job_student       -0.231846        -0.085165        -0.093106   \n",
       "job_technician    -0.082716         0.076966         0.006601   \n",
       "job_unemployed    -0.003582        -0.009846         0.022202   \n",
       "marital_divorced   0.186349        -0.082896         0.078516   \n",
       "marital_married    0.318436        -0.063262         0.129740   \n",
       "marital_single    -0.467799         0.124536        -0.192381   \n",
       "contact_cellular  -0.085019         0.042969        -0.037525   \n",
       "contact_telephone  0.210912        -0.108773        -0.003452   \n",
       "contact_unknown   -0.037860         0.020492         0.043483   \n",
       "month_apr         -0.024823         0.036945        -0.036222   \n",
       "month_aug          0.053137         0.015910         0.031560   \n",
       "month_dec          0.037799        -0.025330        -0.014361   \n",
       "month_feb          0.016322        -0.019908        -0.033415   \n",
       "month_jan          0.016675        -0.024318        -0.008614   \n",
       "month_jul         -0.003606        -0.035516         0.024142   \n",
       "month_jun          0.009046        -0.029932         0.023235   \n",
       "month_mar          0.029346        -0.031404        -0.025917   \n",
       "month_may         -0.122287         0.058977        -0.000243   \n",
       "month_nov          0.020910         0.035070         0.022521   \n",
       "month_oct          0.067004        -0.045512        -0.019457   \n",
       "month_sep          0.040306        -0.026968        -0.021077   \n",
       "poutcome_failure  -0.008071         0.043615        -0.010033   \n",
       "poutcome_other    -0.018715         0.003040        -0.010130   \n",
       "poutcome_success   0.062114        -0.040480        -0.033212   \n",
       "poutcome_unknown  -0.027021        -0.005457         0.034659   \n",
       "age-group_<30     -0.499838        -0.339087        -0.215593   \n",
       "age-group_30-40   -0.469886         1.000000        -0.453004   \n",
       "age-group_40-50    0.179264        -0.453004         1.000000   \n",
       "age-group_50-60    0.529255        -0.377448        -0.239983   \n",
       "age-group_60+      0.582844        -0.203125        -0.129148   \n",
       "\n",
       "                   age-group_50-60  age-group_60+  age-group_<30   balance  \\\n",
       "age                       0.529255       0.582844      -0.499838  0.056368   \n",
       "education                -0.095636      -0.113886       0.034837  0.030991   \n",
       "default                  -0.003939      -0.026513       0.009904 -0.049835   \n",
       "balance                   0.006559       0.062310      -0.027755  1.000000   \n",
       "housing                  -0.087159      -0.190173      -0.028954 -0.019549   \n",
       "loan                      0.020470      -0.082839      -0.008351 -0.052914   \n",
       "day                       0.015962      -0.014128      -0.012200 -0.004354   \n",
       "duration                 -0.004808       0.003256       0.004884  0.021784   \n",
       "campaign                  0.012042      -0.053630      -0.040780 -0.033420   \n",
       "pdays                    -0.024484       0.029226      -0.003712  0.019913   \n",
       "previous                 -0.014429       0.049888       0.007877  0.035343   \n",
       "deposit                  -0.033868       0.167604       0.100152  0.069948   \n",
       "job_admin.               -0.019487      -0.072875       0.015678 -0.012765   \n",
       "job_blue-collar          -0.030391      -0.100125       0.008109 -0.019545   \n",
       "job_entrepreneur          0.016147      -0.023215      -0.051494  0.007396   \n",
       "job_housemaid             0.067337       0.028001      -0.043641 -0.023380   \n",
       "job_management            0.003818      -0.080948      -0.059935  0.022072   \n",
       "job_retired               0.156116       0.647154      -0.109959  0.043274   \n",
       "job_self-employed        -0.014769      -0.006675       0.010698 -0.011880   \n",
       "job_services             -0.037365      -0.070821       0.021391 -0.012661   \n",
       "job_student              -0.081633      -0.043931       0.350352 -0.010940   \n",
       "job_technician           -0.033025      -0.092470      -0.021239 -0.003310   \n",
       "job_unemployed            0.017094      -0.037027      -0.006781  0.013603   \n",
       "marital_divorced          0.101818       0.061806      -0.126792 -0.029901   \n",
       "marital_married           0.160053       0.105260      -0.307791  0.025793   \n",
       "marital_single           -0.240744      -0.154776       0.415426 -0.006897   \n",
       "contact_cellular         -0.048265      -0.011597       0.043596  0.009240   \n",
       "contact_telephone         0.049233       0.214932      -0.035226  0.024158   \n",
       "contact_unknown           0.022464      -0.121237      -0.026054 -0.025240   \n",
       "month_apr                -0.039111       0.029281       0.013867  0.031468   \n",
       "month_aug                 0.037076       0.000978      -0.101275 -0.022023   \n",
       "month_dec                -0.005671       0.067696       0.014985  0.020807   \n",
       "month_feb                -0.002184       0.058104       0.032762  0.009861   \n",
       "month_jan                 0.010679       0.025454       0.016785  0.016756   \n",
       "month_jul                 0.025776      -0.041266       0.020896 -0.049375   \n",
       "month_jun                 0.042633      -0.055364       0.005142  0.025956   \n",
       "month_mar                -0.004632       0.073276       0.032772  0.026075   \n",
       "month_may                -0.050093      -0.115586       0.046230 -0.053001   \n",
       "month_nov                 0.010254      -0.007958      -0.082917  0.019121   \n",
       "month_oct                -0.005644       0.120975       0.014816  0.040226   \n",
       "month_sep                -0.024756       0.095823       0.027473  0.038991   \n",
       "poutcome_failure         -0.012777      -0.011605      -0.028669  0.016536   \n",
       "poutcome_other           -0.021889       0.010316       0.024669 -0.003530   \n",
       "poutcome_success         -0.010994       0.130214       0.023903  0.043937   \n",
       "poutcome_unknown          0.027381      -0.084824      -0.007691 -0.039875   \n",
       "age-group_<30            -0.179635      -0.096671       1.000000 -0.027755   \n",
       "age-group_30-40          -0.377448      -0.203125      -0.339087 -0.016782   \n",
       "age-group_40-50          -0.239983      -0.129148      -0.215593  0.003011   \n",
       "age-group_50-60           1.000000      -0.107607      -0.179635  0.006559   \n",
       "age-group_60+            -0.107607       1.000000      -0.096671  0.062310   \n",
       "\n",
       "                   campaign  contact_cellular  contact_telephone  ...  \\\n",
       "age               -0.005278         -0.085019           0.210912  ...   \n",
       "education         -0.014311          0.170551          -0.081436  ...   \n",
       "default            0.030975         -0.026301          -0.022157  ...   \n",
       "balance           -0.033420          0.009240           0.024158  ...   \n",
       "housing            0.006660         -0.181475          -0.088433  ...   \n",
       "loan               0.034722         -0.000534          -0.020123  ...   \n",
       "day                0.137007         -0.011402           0.014687  ...   \n",
       "duration          -0.041557          0.020938          -0.015966  ...   \n",
       "campaign           1.000000         -0.067236           0.046576  ...   \n",
       "pdays             -0.102726          0.205877           0.006710  ...   \n",
       "previous          -0.049699          0.147519           0.026405  ...   \n",
       "deposit           -0.128081          0.223252           0.016420  ...   \n",
       "job_admin.        -0.017881          0.006695          -0.009244  ...   \n",
       "job_blue-collar    0.005522         -0.136661          -0.018414  ...   \n",
       "job_entrepreneur   0.013883         -0.020471           0.006799  ...   \n",
       "job_housemaid      0.010570         -0.016013           0.027349  ...   \n",
       "job_management     0.017343          0.101442          -0.037188  ...   \n",
       "job_retired       -0.037943         -0.033346           0.160725  ...   \n",
       "job_self-employed  0.001776         -0.005119           0.003614  ...   \n",
       "job_services       0.007496         -0.027547          -0.023053  ...   \n",
       "job_student       -0.022735          0.058339           0.012050  ...   \n",
       "job_technician     0.021738          0.042429          -0.045232  ...   \n",
       "job_unemployed    -0.024973          0.020183          -0.001514  ...   \n",
       "marital_divorced  -0.006828         -0.017205          -0.009543  ...   \n",
       "marital_married    0.047722         -0.061183           0.060964  ...   \n",
       "marital_single    -0.046165          0.077069          -0.058410  ...   \n",
       "contact_cellular  -0.067236          1.000000          -0.438237  ...   \n",
       "contact_telephone  0.046576         -0.438237           1.000000  ...   \n",
       "contact_unknown    0.045016         -0.828196          -0.140810  ...   \n",
       "month_apr         -0.074485          0.139170          -0.003845  ...   \n",
       "month_aug          0.146743          0.207619          -0.051768  ...   \n",
       "month_dec         -0.011971          0.021720           0.040601  ...   \n",
       "month_feb         -0.035398          0.105107           0.033542  ...   \n",
       "month_jan         -0.051019          0.066021           0.028866  ...   \n",
       "month_jul          0.114413          0.113806           0.083444  ...   \n",
       "month_jun          0.044453         -0.318041          -0.065212  ...   \n",
       "month_mar         -0.029530          0.061897           0.013311  ...   \n",
       "month_may         -0.038520         -0.332766          -0.077734  ...   \n",
       "month_nov         -0.077215          0.113839           0.028671  ...   \n",
       "month_oct         -0.069786          0.024479           0.074368  ...   \n",
       "month_sep         -0.049224          0.056513           0.018795  ...   \n",
       "poutcome_failure  -0.080188          0.164764          -0.006934  ...   \n",
       "poutcome_other    -0.023689          0.090586           0.014442  ...   \n",
       "poutcome_success  -0.091807          0.141237           0.012853  ...   \n",
       "poutcome_unknown   0.131392         -0.258508          -0.010811  ...   \n",
       "age-group_<30     -0.040780          0.043596          -0.035226  ...   \n",
       "age-group_30-40    0.019892          0.042969          -0.108773  ...   \n",
       "age-group_40-50    0.028831         -0.037525          -0.003452  ...   \n",
       "age-group_50-60    0.012042         -0.048265           0.049233  ...   \n",
       "age-group_60+     -0.053630         -0.011597           0.214932  ...   \n",
       "\n",
       "                   month_may  month_nov  month_oct  month_sep     pdays  \\\n",
       "age                -0.122287   0.020910   0.067004   0.040306  0.002774   \n",
       "education          -0.099668   0.028645   0.028414   0.031652  0.029816   \n",
       "default            -0.000853  -0.000511  -0.023584  -0.016787 -0.036282   \n",
       "balance            -0.053001   0.019121   0.040226   0.038991  0.019913   \n",
       "housing             0.427163   0.013449  -0.095006  -0.087152  0.064497   \n",
       "loan                0.005878   0.014001  -0.032150  -0.045807 -0.030416   \n",
       "day                -0.010188   0.062185   0.079939  -0.072279 -0.077232   \n",
       "duration            0.010680  -0.007683  -0.013847  -0.010389 -0.027392   \n",
       "campaign           -0.038520  -0.077215  -0.069786  -0.049224 -0.102726   \n",
       "pdays               0.026120  -0.011859   0.074312   0.104793  1.000000   \n",
       "previous           -0.025009   0.016852   0.055771   0.092765  0.507272   \n",
       "deposit            -0.170507  -0.028278   0.133783   0.126901  0.151593   \n",
       "job_admin.          0.025091  -0.010626   0.004728   0.009739  0.044068   \n",
       "job_blue-collar     0.170171  -0.029079  -0.054247  -0.047577 -0.030695   \n",
       "job_entrepreneur   -0.017064   0.052053  -0.018787  -0.007558 -0.029732   \n",
       "job_housemaid      -0.051037  -0.006554   0.007477  -0.006361 -0.025950   \n",
       "job_management     -0.089722   0.029810   0.015385   0.036290  0.016155   \n",
       "job_retired        -0.088080  -0.022427   0.073922   0.064963  0.004212   \n",
       "job_self-employed  -0.022554   0.032360   0.009830  -0.021780 -0.011224   \n",
       "job_services        0.071443  -0.018688  -0.034308  -0.024166  0.000595   \n",
       "job_student        -0.030422  -0.008048   0.028532   0.032600  0.029129   \n",
       "job_technician     -0.014061  -0.003497  -0.001346  -0.029236 -0.016588   \n",
       "job_unemployed     -0.035513   0.008860  -0.007019   0.005492  0.007781   \n",
       "marital_divorced    0.006355   0.003788   0.003940  -0.004961 -0.015574   \n",
       "marital_married    -0.030300   0.031515  -0.012817  -0.022264 -0.019280   \n",
       "marital_single      0.027920  -0.036203   0.010948   0.027150  0.031280   \n",
       "contact_cellular   -0.332766   0.113839   0.024479   0.056513  0.205877   \n",
       "contact_telephone  -0.077734   0.028671   0.074368   0.018795  0.006710   \n",
       "contact_unknown     0.414988  -0.143263  -0.073331  -0.073964 -0.230944   \n",
       "month_apr          -0.174732  -0.091206  -0.057281  -0.051498  0.079165   \n",
       "month_aug          -0.230980  -0.120566  -0.075720  -0.068076 -0.067151   \n",
       "month_dec          -0.058060  -0.030306  -0.019033  -0.017112  0.056731   \n",
       "month_feb          -0.159077  -0.083034  -0.052149  -0.046884  0.053023   \n",
       "month_jan          -0.103778  -0.054170  -0.034021  -0.030586  0.018510   \n",
       "month_jul          -0.230540  -0.120336  -0.075575  -0.067946 -0.099486   \n",
       "month_jun          -0.204053  -0.106511  -0.066893  -0.060140 -0.094826   \n",
       "month_mar          -0.092666  -0.048370  -0.030378  -0.027311  0.021950   \n",
       "month_may           1.000000  -0.176788  -0.111029  -0.099821  0.026120   \n",
       "month_nov          -0.176788   1.000000  -0.057954  -0.052104 -0.011859   \n",
       "month_oct          -0.111029  -0.057954   1.000000  -0.032723  0.074312   \n",
       "month_sep          -0.099821  -0.052104  -0.032723   1.000000  0.104793   \n",
       "poutcome_failure    0.030502   0.067179   0.040243   0.027330  0.602615   \n",
       "poutcome_other     -0.009497   0.005468   0.016241   0.044355  0.341404   \n",
       "poutcome_success   -0.094436   0.004942   0.104745   0.137637  0.329567   \n",
       "poutcome_unknown    0.046633  -0.054318  -0.107772  -0.134563 -0.823928   \n",
       "age-group_<30       0.046230  -0.082917   0.014816   0.027473 -0.003712   \n",
       "age-group_30-40     0.058977   0.035070  -0.045512  -0.026968  0.021465   \n",
       "age-group_40-50    -0.000243   0.022521  -0.019457  -0.021077 -0.016370   \n",
       "age-group_50-60    -0.050093   0.010254  -0.005644  -0.024756 -0.024484   \n",
       "age-group_60+      -0.115586  -0.007958   0.120975   0.095823  0.029226   \n",
       "\n",
       "                   poutcome_failure  poutcome_other  poutcome_success  \\\n",
       "age                       -0.008071       -0.018715          0.062114   \n",
       "education                  0.022438        0.018392          0.068925   \n",
       "default                   -0.024650       -0.017475         -0.040272   \n",
       "balance                    0.016536       -0.003530          0.043937   \n",
       "housing                    0.087741        0.010006         -0.136299   \n",
       "loan                       0.006264       -0.020164         -0.080370   \n",
       "day                       -0.068381       -0.007526         -0.044280   \n",
       "duration                  -0.033966       -0.008782         -0.022578   \n",
       "campaign                  -0.080188       -0.023689         -0.091807   \n",
       "pdays                      0.602615        0.341404          0.329567   \n",
       "previous                   0.335870        0.326587          0.325477   \n",
       "deposit                    0.020714        0.044059          0.286642   \n",
       "job_admin.                 0.033750        0.007513          0.005628   \n",
       "job_blue-collar           -0.018022       -0.002788         -0.077422   \n",
       "job_entrepreneur          -0.001840       -0.024244         -0.035072   \n",
       "job_housemaid             -0.016919       -0.011314         -0.008434   \n",
       "job_management             0.007414        0.014966          0.035147   \n",
       "job_retired               -0.014159       -0.002350          0.072092   \n",
       "job_self-employed         -0.010039        0.005632         -0.001399   \n",
       "job_services              -0.002646       -0.012776         -0.029337   \n",
       "job_student                0.005501        0.037158          0.055885   \n",
       "job_technician             0.005763       -0.007592         -0.014744   \n",
       "job_unemployed            -0.006957       -0.014692          0.030678   \n",
       "marital_divorced          -0.026169       -0.008118         -0.018120   \n",
       "marital_married            0.007682       -0.025822         -0.010063   \n",
       "marital_single             0.009838        0.033116          0.023208   \n",
       "contact_cellular           0.164764        0.090586          0.141237   \n",
       "contact_telephone         -0.006934        0.014442          0.012853   \n",
       "contact_unknown           -0.177154       -0.108779         -0.163577   \n",
       "month_apr                  0.072203        0.034345         -0.002830   \n",
       "month_aug                 -0.062722       -0.039167          0.000223   \n",
       "month_dec                  0.005502        0.041143          0.072197   \n",
       "month_feb                  0.054740        0.032372          0.041312   \n",
       "month_jan                  0.005226        0.054383          0.015828   \n",
       "month_jul                 -0.099977       -0.053599         -0.060649   \n",
       "month_jun                 -0.074677       -0.034579         -0.025574   \n",
       "month_mar                 -0.000672        0.023513          0.042149   \n",
       "month_may                  0.030502       -0.009497         -0.094436   \n",
       "month_nov                  0.067179        0.005468          0.004942   \n",
       "month_oct                  0.040243        0.016241          0.104745   \n",
       "month_sep                  0.027330        0.044355          0.137637   \n",
       "poutcome_failure           1.000000       -0.079042         -0.114542   \n",
       "poutcome_other            -0.079042        1.000000         -0.073240   \n",
       "poutcome_success          -0.114542       -0.073240          1.000000   \n",
       "poutcome_unknown          -0.602424       -0.385201         -0.558204   \n",
       "age-group_<30             -0.028669        0.024669          0.023903   \n",
       "age-group_30-40            0.043615        0.003040         -0.040480   \n",
       "age-group_40-50           -0.010033       -0.010130         -0.033212   \n",
       "age-group_50-60           -0.012777       -0.021889         -0.010994   \n",
       "age-group_60+             -0.011605        0.010316          0.130214   \n",
       "\n",
       "                   poutcome_unknown  previous  \n",
       "age                       -0.027021  0.020169  \n",
       "education                 -0.071798  0.033255  \n",
       "default                    0.053554 -0.035273  \n",
       "balance                   -0.039875  0.035343  \n",
       "housing                    0.024227 -0.000840  \n",
       "loan                       0.059783 -0.022668  \n",
       "day                        0.082807 -0.058981  \n",
       "duration                   0.044006 -0.026716  \n",
       "campaign                   0.131392 -0.049699  \n",
       "pdays                     -0.823928  0.507272  \n",
       "previous                  -0.622149  1.000000  \n",
       "deposit                   -0.230470  0.139867  \n",
       "job_admin.                -0.031759  0.022699  \n",
       "job_blue-collar            0.066703 -0.039939  \n",
       "job_entrepreneur           0.036967 -0.022470  \n",
       "job_housemaid              0.023429 -0.022766  \n",
       "job_management            -0.036464  0.021019  \n",
       "job_retired               -0.037441  0.019384  \n",
       "job_self-employed          0.005394 -0.002338  \n",
       "job_services               0.028030 -0.019366  \n",
       "job_student               -0.060027  0.037012  \n",
       "job_technician             0.009565  0.002035  \n",
       "job_unemployed            -0.008532 -0.001605  \n",
       "marital_divorced           0.035059 -0.026566  \n",
       "marital_married            0.013979 -0.005176  \n",
       "marital_single            -0.039051  0.023817  \n",
       "contact_cellular          -0.258508  0.147519  \n",
       "contact_telephone         -0.010811  0.026405  \n",
       "contact_unknown            0.291470 -0.178947  \n",
       "month_apr                 -0.066866  0.019381  \n",
       "month_aug                  0.064185 -0.035986  \n",
       "month_dec                 -0.073023  0.060315  \n",
       "month_feb                 -0.083208  0.056241  \n",
       "month_jan                 -0.041197  0.035646  \n",
       "month_jul                  0.139239 -0.081111  \n",
       "month_jun                  0.087976 -0.050000  \n",
       "month_mar                 -0.039590  0.028498  \n",
       "month_may                  0.046633 -0.025009  \n",
       "month_nov                 -0.054318  0.016852  \n",
       "month_oct                 -0.107772  0.055771  \n",
       "month_sep                 -0.134563  0.092765  \n",
       "poutcome_failure          -0.602424  0.335870  \n",
       "poutcome_other            -0.385201  0.326587  \n",
       "poutcome_success          -0.558204  0.325477  \n",
       "poutcome_unknown           1.000000 -0.622149  \n",
       "age-group_<30             -0.007691  0.007877  \n",
       "age-group_30-40           -0.005457  0.000682  \n",
       "age-group_40-50            0.034659 -0.021677  \n",
       "age-group_50-60            0.027381 -0.014429  \n",
       "age-group_60+             -0.084824  0.049888  \n",
       "\n",
       "[50 rows x 50 columns]"
      ]
     },
     "execution_count": 157,
     "metadata": {},
     "output_type": "execute_result"
    }
   ],
   "source": [
    "df.corr().sort_index(axis=1)"
   ]
  },
  {
   "cell_type": "code",
   "execution_count": 158,
   "id": "3065445f",
   "metadata": {
    "ExecuteTime": {
     "end_time": "2023-04-25T22:48:09.997458Z",
     "start_time": "2023-04-25T22:48:09.997458Z"
    }
   },
   "outputs": [
    {
     "data": {
      "text/plain": [
       "<AxesSubplot: >"
      ]
     },
     "execution_count": 158,
     "metadata": {},
     "output_type": "execute_result"
    },
    {
     "data": {
      "image/png": "[encoded data removed]",
      "text/plain": [
       "<Figure size 640x480 with 2 Axes>"
      ]
     },
     "metadata": {},
     "output_type": "display_data"
    }
   ],
   "source": [
    "sns.heatmap(df[['deposit', 'duration','poutcome_success', 'contact_cellular']].corr(), annot=True)"
   ]
  },
  {
   "cell_type": "markdown",
   "id": "b5b4c1a5",
   "metadata": {},
   "source": [
    "### Задания 7 и 8"
   ]
  },
  {
   "cell_type": "code",
   "execution_count": 159,
   "id": "79f3e432",
   "metadata": {
    "ExecuteTime": {
     "end_time": "2023-04-25T22:48:10.478238Z",
     "start_time": "2023-04-25T22:48:10.478238Z"
    }
   },
   "outputs": [],
   "source": [
    "X = df.drop(['deposit'], axis=1)\n",
    "y = df['deposit']\n",
    " \n",
    "X_train, X_test, y_train, y_test = train_test_split(X, y, stratify=y, random_state = 42, test_size = 0.33)"
   ]
  },
  {
   "cell_type": "code",
   "execution_count": 160,
   "id": "e3a097a4",
   "metadata": {
    "ExecuteTime": {
     "end_time": "2023-04-25T22:48:10.744234Z",
     "start_time": "2023-04-25T22:48:10.744234Z"
    }
   },
   "outputs": [
    {
     "name": "stdout",
     "output_type": "stream",
     "text": [
      "<class 'pandas.core.frame.DataFrame'>\n",
      "Int64Index: 3684 entries, 6029 to 10200\n",
      "Data columns (total 49 columns):\n",
      " #   Column             Non-Null Count  Dtype  \n",
      "---  ------             --------------  -----  \n",
      " 0   age                3684 non-null   int64  \n",
      " 1   education          3684 non-null   int32  \n",
      " 2   default            3684 non-null   int64  \n",
      " 3   balance            3684 non-null   float64\n",
      " 4   housing            3684 non-null   int64  \n",
      " 5   loan               3684 non-null   int64  \n",
      " 6   day                3684 non-null   int64  \n",
      " 7   duration           3684 non-null   int64  \n",
      " 8   campaign           3684 non-null   int64  \n",
      " 9   pdays              3684 non-null   int64  \n",
      " 10  previous           3684 non-null   int64  \n",
      " 11  job_admin.         3684 non-null   uint8  \n",
      " 12  job_blue-collar    3684 non-null   uint8  \n",
      " 13  job_entrepreneur   3684 non-null   uint8  \n",
      " 14  job_housemaid      3684 non-null   uint8  \n",
      " 15  job_management     3684 non-null   uint8  \n",
      " 16  job_retired        3684 non-null   uint8  \n",
      " 17  job_self-employed  3684 non-null   uint8  \n",
      " 18  job_services       3684 non-null   uint8  \n",
      " 19  job_student        3684 non-null   uint8  \n",
      " 20  job_technician     3684 non-null   uint8  \n",
      " 21  job_unemployed     3684 non-null   uint8  \n",
      " 22  marital_divorced   3684 non-null   uint8  \n",
      " 23  marital_married    3684 non-null   uint8  \n",
      " 24  marital_single     3684 non-null   uint8  \n",
      " 25  contact_cellular   3684 non-null   uint8  \n",
      " 26  contact_telephone  3684 non-null   uint8  \n",
      " 27  contact_unknown    3684 non-null   uint8  \n",
      " 28  month_apr          3684 non-null   uint8  \n",
      " 29  month_aug          3684 non-null   uint8  \n",
      " 30  month_dec          3684 non-null   uint8  \n",
      " 31  month_feb          3684 non-null   uint8  \n",
      " 32  month_jan          3684 non-null   uint8  \n",
      " 33  month_jul          3684 non-null   uint8  \n",
      " 34  month_jun          3684 non-null   uint8  \n",
      " 35  month_mar          3684 non-null   uint8  \n",
      " 36  month_may          3684 non-null   uint8  \n",
      " 37  month_nov          3684 non-null   uint8  \n",
      " 38  month_oct          3684 non-null   uint8  \n",
      " 39  month_sep          3684 non-null   uint8  \n",
      " 40  poutcome_failure   3684 non-null   uint8  \n",
      " 41  poutcome_other     3684 non-null   uint8  \n",
      " 42  poutcome_success   3684 non-null   uint8  \n",
      " 43  poutcome_unknown   3684 non-null   uint8  \n",
      " 44  age-group_<30      3684 non-null   uint8  \n",
      " 45  age-group_30-40    3684 non-null   uint8  \n",
      " 46  age-group_40-50    3684 non-null   uint8  \n",
      " 47  age-group_50-60    3684 non-null   uint8  \n",
      " 48  age-group_60+      3684 non-null   uint8  \n",
      "dtypes: float64(1), int32(1), int64(9), uint8(38)\n",
      "memory usage: 467.7 KB\n"
     ]
    }
   ],
   "source": [
    "# рассчитайте необходимые показатели\n",
    "X_test.info()"
   ]
  },
  {
   "cell_type": "code",
   "execution_count": 161,
   "id": "98727c95",
   "metadata": {
    "ExecuteTime": {
     "end_time": "2023-04-25T22:48:11.013854Z",
     "start_time": "2023-04-25T22:48:11.013854Z"
    }
   },
   "outputs": [
    {
     "data": {
      "text/plain": [
       "0.4739413680781759"
      ]
     },
     "execution_count": 161,
     "metadata": {},
     "output_type": "execute_result"
    }
   ],
   "source": [
    "y_test.mean()"
   ]
  },
  {
   "cell_type": "markdown",
   "id": "2e381a4f",
   "metadata": {},
   "source": [
    "### Задание 9"
   ]
  },
  {
   "cell_type": "code",
   "execution_count": 162,
   "id": "0f6e03e0",
   "metadata": {
    "ExecuteTime": {
     "end_time": "2023-04-25T22:48:11.348539Z",
     "start_time": "2023-04-25T22:48:11.348539Z"
    }
   },
   "outputs": [],
   "source": [
    "# с помощью SelectKBest отберите 15 наиболее подходящих признаков\n",
    "X_train_new = SelectKBest(score_func = f_classif, k=15).fit(X_train, y_train)"
   ]
  },
  {
   "cell_type": "code",
   "execution_count": 163,
   "id": "77a8587d",
   "metadata": {
    "ExecuteTime": {
     "end_time": "2023-04-25T22:48:11.695048Z",
     "start_time": "2023-04-25T22:48:11.695048Z"
    }
   },
   "outputs": [
    {
     "data": {
      "text/plain": [
       "array(['housing', 'loan', 'duration', 'campaign', 'pdays', 'previous',\n",
       "       'contact_cellular', 'contact_unknown', 'month_mar', 'month_may',\n",
       "       'month_oct', 'month_sep', 'poutcome_success', 'poutcome_unknown',\n",
       "       'age-group_60+'], dtype=object)"
      ]
     },
     "execution_count": 163,
     "metadata": {},
     "output_type": "execute_result"
    }
   ],
   "source": [
    "X_train_new.get_feature_names_out()"
   ]
  },
  {
   "cell_type": "markdown",
   "id": "60132ef3",
   "metadata": {},
   "source": [
    "### Задание 10"
   ]
  },
  {
   "cell_type": "code",
   "execution_count": 164,
   "id": "e91b06f3",
   "metadata": {
    "ExecuteTime": {
     "end_time": "2023-04-25T22:48:12.089998Z",
     "start_time": "2023-04-25T22:48:12.089998Z"
    }
   },
   "outputs": [
    {
     "data": {
      "text/plain": [
       "0.30498681557313473"
      ]
     },
     "execution_count": 164,
     "metadata": {},
     "output_type": "execute_result"
    }
   ],
   "source": [
    "# нормализуйте данные с помощью minmaxsxaler\n",
    "from sklearn.preprocessing import MinMaxScaler\n",
    "\n",
    "scaler = MinMaxScaler()\n",
    "# X_train_normalized = scaler.fit_transform(X_train)\n",
    "# X_test_normalized = scaler.fit_transform(X_test)\n",
    "\n",
    "X_train_normalized = pd.DataFrame(scaler.fit_transform(X_train), columns=X_train.columns, index=X_train.index)\n",
    "X_test_normalized = pd.DataFrame(scaler.fit_transform(X_test), columns=X_train.columns, index=X_test.index)\n",
    "\n",
    "# len(X_test_normalized.T[0])\n",
    "# X_train_normalized[:, 0].mean()\n",
    "# X_test_normalized[:, 0].mean()\n",
    "# X_test\n",
    "# X_test['age']\n",
    "#X_test_normalized\n",
    "# X_test\n",
    "# X_test_normalized['balance'].mean()\n",
    "X_test_normalized['age'].mean()"
   ]
  },
  {
   "cell_type": "markdown",
   "id": "0894c632",
   "metadata": {},
   "source": [
    "# Часть 4: Решение задачи классификации: логистическая регрессия и решающие деревья"
   ]
  },
  {
   "cell_type": "markdown",
   "id": "41b8ff06",
   "metadata": {},
   "source": [
    "### Задание 1"
   ]
  },
  {
   "cell_type": "code",
   "execution_count": 165,
   "id": "8acc0166",
   "metadata": {
    "ExecuteTime": {
     "end_time": "2023-04-25T22:48:12.770135Z",
     "start_time": "2023-04-25T22:48:12.770135Z"
    }
   },
   "outputs": [
    {
     "data": {
      "text/html": [
       "<style>#sk-container-id-1 {color: black;background-color: white;}#sk-container-id-1 pre{padding: 0;}#sk-container-id-1 div.sk-toggleable {background-color: white;}#sk-container-id-1 label.sk-toggleable__label {cursor: pointer;display: block;width: 100%;margin-bottom: 0;padding: 0.3em;box-sizing: border-box;text-align: center;}#sk-container-id-1 label.sk-toggleable__label-arrow:before {content: \"▸\";float: left;margin-right: 0.25em;color: #696969;}#sk-container-id-1 label.sk-toggleable__label-arrow:hover:before {color: black;}#sk-container-id-1 div.sk-estimator:hover label.sk-toggleable__label-arrow:before {color: black;}#sk-container-id-1 div.sk-toggleable__content {max-height: 0;max-width: 0;overflow: hidden;text-align: left;background-color: #f0f8ff;}#sk-container-id-1 div.sk-toggleable__content pre {margin: 0.2em;color: black;border-radius: 0.25em;background-color: #f0f8ff;}#sk-container-id-1 input.sk-toggleable__control:checked~div.sk-toggleable__content {max-height: 200px;max-width: 100%;overflow: auto;}#sk-container-id-1 input.sk-toggleable__control:checked~label.sk-toggleable__label-arrow:before {content: \"▾\";}#sk-container-id-1 div.sk-estimator input.sk-toggleable__control:checked~label.sk-toggleable__label {background-color: #d4ebff;}#sk-container-id-1 div.sk-label input.sk-toggleable__control:checked~label.sk-toggleable__label {background-color: #d4ebff;}#sk-container-id-1 input.sk-hidden--visually {border: 0;clip: rect(1px 1px 1px 1px);clip: rect(1px, 1px, 1px, 1px);height: 1px;margin: -1px;overflow: hidden;padding: 0;position: absolute;width: 1px;}#sk-container-id-1 div.sk-estimator {font-family: monospace;background-color: #f0f8ff;border: 1px dotted black;border-radius: 0.25em;box-sizing: border-box;margin-bottom: 0.5em;}#sk-container-id-1 div.sk-estimator:hover {background-color: #d4ebff;}#sk-container-id-1 div.sk-parallel-item::after {content: \"\";width: 100%;border-bottom: 1px solid gray;flex-grow: 1;}#sk-container-id-1 div.sk-label:hover label.sk-toggleable__label {background-color: #d4ebff;}#sk-container-id-1 div.sk-serial::before {content: \"\";position: absolute;border-left: 1px solid gray;box-sizing: border-box;top: 0;bottom: 0;left: 50%;z-index: 0;}#sk-container-id-1 div.sk-serial {display: flex;flex-direction: column;align-items: center;background-color: white;padding-right: 0.2em;padding-left: 0.2em;position: relative;}#sk-container-id-1 div.sk-item {position: relative;z-index: 1;}#sk-container-id-1 div.sk-parallel {display: flex;align-items: stretch;justify-content: center;background-color: white;position: relative;}#sk-container-id-1 div.sk-item::before, #sk-container-id-1 div.sk-parallel-item::before {content: \"\";position: absolute;border-left: 1px solid gray;box-sizing: border-box;top: 0;bottom: 0;left: 50%;z-index: -1;}#sk-container-id-1 div.sk-parallel-item {display: flex;flex-direction: column;z-index: 1;position: relative;background-color: white;}#sk-container-id-1 div.sk-parallel-item:first-child::after {align-self: flex-end;width: 50%;}#sk-container-id-1 div.sk-parallel-item:last-child::after {align-self: flex-start;width: 50%;}#sk-container-id-1 div.sk-parallel-item:only-child::after {width: 0;}#sk-container-id-1 div.sk-dashed-wrapped {border: 1px dashed gray;margin: 0 0.4em 0.5em 0.4em;box-sizing: border-box;padding-bottom: 0.4em;background-color: white;}#sk-container-id-1 div.sk-label label {font-family: monospace;font-weight: bold;display: inline-block;line-height: 1.2em;}#sk-container-id-1 div.sk-label-container {text-align: center;}#sk-container-id-1 div.sk-container {/* jupyter's `normalize.less` sets `[hidden] { display: none; }` but bootstrap.min.css set `[hidden] { display: none !important; }` so we also need the `!important` here to be able to override the default hidden behavior on the sphinx rendered scikit-learn.org. See: https://github.com/scikit-learn/scikit-learn/issues/21755 */display: inline-block !important;position: relative;}#sk-container-id-1 div.sk-text-repr-fallback {display: none;}</style><div id=\"sk-container-id-1\" class=\"sk-top-container\"><div class=\"sk-text-repr-fallback\"><pre>LogisticRegression(max_iter=1000, random_state=42, solver=&#x27;sag&#x27;)</pre><b>In a Jupyter environment, please rerun this cell to show the HTML representation or trust the notebook. <br />On GitHub, the HTML representation is unable to render, please try loading this page with nbviewer.org.</b></div><div class=\"sk-container\" hidden><div class=\"sk-item\"><div class=\"sk-estimator sk-toggleable\"><input class=\"sk-toggleable__control sk-hidden--visually\" id=\"sk-estimator-id-1\" type=\"checkbox\" checked><label for=\"sk-estimator-id-1\" class=\"sk-toggleable__label sk-toggleable__label-arrow\">LogisticRegression</label><div class=\"sk-toggleable__content\"><pre>LogisticRegression(max_iter=1000, random_state=42, solver=&#x27;sag&#x27;)</pre></div></div></div></div></div>"
      ],
      "text/plain": [
       "LogisticRegression(max_iter=1000, random_state=42, solver='sag')"
      ]
     },
     "execution_count": 165,
     "metadata": {},
     "output_type": "execute_result"
    }
   ],
   "source": [
    "# обучите логистическую регрессию и рассчитайте метрики качества\n",
    "lr = linear_model.LogisticRegression(solver='sag', random_state=42, max_iter=1000)\n",
    "lr.fit(X_train_normalized, y_train)"
   ]
  },
  {
   "cell_type": "code",
   "execution_count": 166,
   "id": "20b9890b",
   "metadata": {
    "ExecuteTime": {
     "end_time": "2023-04-25T22:48:12.973093Z",
     "start_time": "2023-04-25T22:48:12.973093Z"
    }
   },
   "outputs": [],
   "source": [
    "y_pred = lr.predict(X_test_normalized)"
   ]
  },
  {
   "cell_type": "code",
   "execution_count": 167,
   "id": "66f22a8f",
   "metadata": {
    "ExecuteTime": {
     "end_time": "2023-04-25T22:48:13.238339Z",
     "start_time": "2023-04-25T22:48:13.238339Z"
    }
   },
   "outputs": [
    {
     "name": "stdout",
     "output_type": "stream",
     "text": [
      "Accuracy score: 0.808\n"
     ]
    }
   ],
   "source": [
    "from sklearn.metrics import accuracy_score\n",
    "print('Accuracy score: {:.3f}'.format(metrics.accuracy_score(y_test, y_pred)))"
   ]
  },
  {
   "cell_type": "markdown",
   "id": "29b7e0ba",
   "metadata": {},
   "source": [
    "### Задания 2,3,4"
   ]
  },
  {
   "cell_type": "code",
   "execution_count": 168,
   "id": "c91a588b",
   "metadata": {
    "ExecuteTime": {
     "end_time": "2023-04-25T22:48:13.640766Z",
     "start_time": "2023-04-25T22:48:13.640766Z"
    }
   },
   "outputs": [
    {
     "data": {
      "text/html": [
       "<style>#sk-container-id-2 {color: black;background-color: white;}#sk-container-id-2 pre{padding: 0;}#sk-container-id-2 div.sk-toggleable {background-color: white;}#sk-container-id-2 label.sk-toggleable__label {cursor: pointer;display: block;width: 100%;margin-bottom: 0;padding: 0.3em;box-sizing: border-box;text-align: center;}#sk-container-id-2 label.sk-toggleable__label-arrow:before {content: \"▸\";float: left;margin-right: 0.25em;color: #696969;}#sk-container-id-2 label.sk-toggleable__label-arrow:hover:before {color: black;}#sk-container-id-2 div.sk-estimator:hover label.sk-toggleable__label-arrow:before {color: black;}#sk-container-id-2 div.sk-toggleable__content {max-height: 0;max-width: 0;overflow: hidden;text-align: left;background-color: #f0f8ff;}#sk-container-id-2 div.sk-toggleable__content pre {margin: 0.2em;color: black;border-radius: 0.25em;background-color: #f0f8ff;}#sk-container-id-2 input.sk-toggleable__control:checked~div.sk-toggleable__content {max-height: 200px;max-width: 100%;overflow: auto;}#sk-container-id-2 input.sk-toggleable__control:checked~label.sk-toggleable__label-arrow:before {content: \"▾\";}#sk-container-id-2 div.sk-estimator input.sk-toggleable__control:checked~label.sk-toggleable__label {background-color: #d4ebff;}#sk-container-id-2 div.sk-label input.sk-toggleable__control:checked~label.sk-toggleable__label {background-color: #d4ebff;}#sk-container-id-2 input.sk-hidden--visually {border: 0;clip: rect(1px 1px 1px 1px);clip: rect(1px, 1px, 1px, 1px);height: 1px;margin: -1px;overflow: hidden;padding: 0;position: absolute;width: 1px;}#sk-container-id-2 div.sk-estimator {font-family: monospace;background-color: #f0f8ff;border: 1px dotted black;border-radius: 0.25em;box-sizing: border-box;margin-bottom: 0.5em;}#sk-container-id-2 div.sk-estimator:hover {background-color: #d4ebff;}#sk-container-id-2 div.sk-parallel-item::after {content: \"\";width: 100%;border-bottom: 1px solid gray;flex-grow: 1;}#sk-container-id-2 div.sk-label:hover label.sk-toggleable__label {background-color: #d4ebff;}#sk-container-id-2 div.sk-serial::before {content: \"\";position: absolute;border-left: 1px solid gray;box-sizing: border-box;top: 0;bottom: 0;left: 50%;z-index: 0;}#sk-container-id-2 div.sk-serial {display: flex;flex-direction: column;align-items: center;background-color: white;padding-right: 0.2em;padding-left: 0.2em;position: relative;}#sk-container-id-2 div.sk-item {position: relative;z-index: 1;}#sk-container-id-2 div.sk-parallel {display: flex;align-items: stretch;justify-content: center;background-color: white;position: relative;}#sk-container-id-2 div.sk-item::before, #sk-container-id-2 div.sk-parallel-item::before {content: \"\";position: absolute;border-left: 1px solid gray;box-sizing: border-box;top: 0;bottom: 0;left: 50%;z-index: -1;}#sk-container-id-2 div.sk-parallel-item {display: flex;flex-direction: column;z-index: 1;position: relative;background-color: white;}#sk-container-id-2 div.sk-parallel-item:first-child::after {align-self: flex-end;width: 50%;}#sk-container-id-2 div.sk-parallel-item:last-child::after {align-self: flex-start;width: 50%;}#sk-container-id-2 div.sk-parallel-item:only-child::after {width: 0;}#sk-container-id-2 div.sk-dashed-wrapped {border: 1px dashed gray;margin: 0 0.4em 0.5em 0.4em;box-sizing: border-box;padding-bottom: 0.4em;background-color: white;}#sk-container-id-2 div.sk-label label {font-family: monospace;font-weight: bold;display: inline-block;line-height: 1.2em;}#sk-container-id-2 div.sk-label-container {text-align: center;}#sk-container-id-2 div.sk-container {/* jupyter's `normalize.less` sets `[hidden] { display: none; }` but bootstrap.min.css set `[hidden] { display: none !important; }` so we also need the `!important` here to be able to override the default hidden behavior on the sphinx rendered scikit-learn.org. See: https://github.com/scikit-learn/scikit-learn/issues/21755 */display: inline-block !important;position: relative;}#sk-container-id-2 div.sk-text-repr-fallback {display: none;}</style><div id=\"sk-container-id-2\" class=\"sk-top-container\"><div class=\"sk-text-repr-fallback\"><pre>DecisionTreeClassifier(criterion=&#x27;entropy&#x27;, max_depth=10, random_state=42)</pre><b>In a Jupyter environment, please rerun this cell to show the HTML representation or trust the notebook. <br />On GitHub, the HTML representation is unable to render, please try loading this page with nbviewer.org.</b></div><div class=\"sk-container\" hidden><div class=\"sk-item\"><div class=\"sk-estimator sk-toggleable\"><input class=\"sk-toggleable__control sk-hidden--visually\" id=\"sk-estimator-id-2\" type=\"checkbox\" checked><label for=\"sk-estimator-id-2\" class=\"sk-toggleable__label sk-toggleable__label-arrow\">DecisionTreeClassifier</label><div class=\"sk-toggleable__content\"><pre>DecisionTreeClassifier(criterion=&#x27;entropy&#x27;, max_depth=10, random_state=42)</pre></div></div></div></div></div>"
      ],
      "text/plain": [
       "DecisionTreeClassifier(criterion='entropy', max_depth=10, random_state=42)"
      ]
     },
     "execution_count": 168,
     "metadata": {},
     "output_type": "execute_result"
    }
   ],
   "source": [
    "# обучите решающие деревья, настройте максимальную глубину\n",
    "dt = tree.DecisionTreeClassifier(criterion='entropy', random_state=42, max_depth=10)\n",
    "dt.fit(X_train_normalized, y_train)"
   ]
  },
  {
   "cell_type": "code",
   "execution_count": 169,
   "id": "aa62bd2a",
   "metadata": {
    "ExecuteTime": {
     "end_time": "2023-04-25T22:48:13.954653Z",
     "start_time": "2023-04-25T22:48:13.954653Z"
    }
   },
   "outputs": [],
   "source": [
    "y_pred = dt.predict(X_test_normalized)"
   ]
  },
  {
   "cell_type": "code",
   "execution_count": 170,
   "id": "b347b607",
   "metadata": {
    "ExecuteTime": {
     "end_time": "2023-04-25T22:48:14.407056Z",
     "start_time": "2023-04-25T22:48:14.407056Z"
    }
   },
   "outputs": [
    {
     "name": "stdout",
     "output_type": "stream",
     "text": [
      "Accuracy score: 0.815\n"
     ]
    }
   ],
   "source": [
    "print('Accuracy score: {:.3f}'.format(metrics.accuracy_score(y_test, y_pred)))"
   ]
  },
  {
   "cell_type": "markdown",
   "id": "fe823c18",
   "metadata": {},
   "source": [
    "### Задание 5"
   ]
  },
  {
   "cell_type": "code",
   "execution_count": 171,
   "id": "63574943",
   "metadata": {
    "ExecuteTime": {
     "end_time": "2023-04-25T22:48:23.210502Z",
     "start_time": "2023-04-25T22:48:23.210502Z"
    }
   },
   "outputs": [
    {
     "name": "stdout",
     "output_type": "stream",
     "text": [
      "CPU times: total: 172 ms\n",
      "Wall time: 892 ms\n",
      "f1_score на обучающем наборе: 0.83\n",
      "accuracy на тестовом наборе: 0.81\n",
      "f1_score на тестовом наборе: 0.80\n",
      "Наилучшие значения гиперпараметров: {'min_samples_leaf': 10, 'max_depth': 7}\n"
     ]
    }
   ],
   "source": [
    "# подберите оптимальные параметры с помощью gridsearch\n",
    "from sklearn.model_selection import RandomizedSearchCV\n",
    "param_distributions = {\n",
    "                'min_samples_leaf': [2, 5, 7, 10],\n",
    "                'max_depth': [3, 5, 7]\n",
    "              }\n",
    "            \n",
    "random_search_rf = RandomizedSearchCV(tree.DecisionTreeClassifier(random_state=42), \n",
    "                                          param_distributions, cv=5, n_iter = 10, n_jobs = -1)  \n",
    "random_search_rf.fit(X_train_normalized, y_train)\n",
    "%time random_search_rf.fit(X_train_normalized, y_train) \n",
    "y_train_pred = random_search_rf.predict(X_train_normalized)\n",
    "print('f1_score на обучающем наборе: {:.2f}'.format(metrics.f1_score(y_train, y_train_pred)))\n",
    "print(\"accuracy на тестовом наборе: {:.2f}\".format(random_search_rf.score(X_test_normalized, y_test)))\n",
    "y_test_pred = random_search_rf.predict(X_test_normalized)\n",
    "print('f1_score на тестовом наборе: {:.2f}'.format(metrics.f1_score(y_test, y_test_pred)))\n",
    "print(\"Наилучшие значения гиперпараметров: {}\".format(random_search_rf.best_params_))"
   ]
  },
  {
   "cell_type": "markdown",
   "id": "ed0fc831",
   "metadata": {},
   "source": [
    "# Часть 5: Решение задачи классификации: ансамбли моделей и построение прогноза"
   ]
  },
  {
   "cell_type": "markdown",
   "id": "f9e36ff2",
   "metadata": {},
   "source": [
    "### Задание 1"
   ]
  },
  {
   "cell_type": "code",
   "execution_count": 172,
   "id": "e708e3fe",
   "metadata": {
    "ExecuteTime": {
     "end_time": "2023-04-25T22:48:24.053782Z",
     "start_time": "2023-04-25T22:48:24.053782Z"
    }
   },
   "outputs": [
    {
     "name": "stdout",
     "output_type": "stream",
     "text": [
      "accuracy на тестовом наборе: 0.84\n",
      "recall на тестовом наборе: 0.85\n"
     ]
    }
   ],
   "source": [
    "# обучите на ваших данных случайный лес\n",
    "rf = ensemble.RandomForestClassifier(n_estimators = 100, criterion = 'gini', min_samples_leaf = 5, max_depth = 10, random_state = 42)\n",
    "rf.fit(X_train_normalized, y_train)\n",
    "y_pred = rf.predict(X_test_normalized)\n",
    "print(\"accuracy на тестовом наборе: {:.2f}\".format(metrics.accuracy_score(y_pred, y_test)))\n",
    "print(\"recall на тестовом наборе: {:.2f}\".format(metrics.recall_score(y_pred, y_test)))"
   ]
  },
  {
   "cell_type": "markdown",
   "id": "71d7b13d",
   "metadata": {},
   "source": [
    "### Задания 2 и 3"
   ]
  },
  {
   "cell_type": "code",
   "execution_count": 173,
   "id": "99f12dfe",
   "metadata": {
    "ExecuteTime": {
     "end_time": "2023-04-25T22:48:31.383690Z",
     "start_time": "2023-04-25T22:48:31.383690Z"
    }
   },
   "outputs": [
    {
     "name": "stdout",
     "output_type": "stream",
     "text": [
      "accuracy на тестовом наборе: 0.86\n",
      "recall на тестовом наборе: 0.86\n"
     ]
    }
   ],
   "source": [
    "# используйте для классификации градиентный бустинг и сравните качество со случайным лесом\n",
    "gb = ensemble.GradientBoostingClassifier(learning_rate = 0.05, n_estimators = 300, min_samples_leaf = 5, max_depth = 5, random_state = 42)\n",
    "gb.fit(X_train_normalized, y_train)\n",
    "y_pred = gb.predict(X_test_normalized)\n",
    "print(\"accuracy на тестовом наборе: {:.2f}\".format(metrics.accuracy_score(y_pred, y_test)))\n",
    "print(\"recall на тестовом наборе: {:.2f}\".format(metrics.recall_score(y_pred, y_test)))"
   ]
  },
  {
   "cell_type": "markdown",
   "id": "b08718ae",
   "metadata": {},
   "source": [
    "### Задание 4"
   ]
  },
  {
   "cell_type": "code",
   "execution_count": 174,
   "id": "0bd42fb0",
   "metadata": {
    "ExecuteTime": {
     "end_time": "2023-04-25T22:49:13.789888Z",
     "start_time": "2023-04-25T22:49:13.789888Z"
    }
   },
   "outputs": [
    {
     "data": {
      "text/plain": [
       "0.8612920738327905"
      ]
     },
     "execution_count": 174,
     "metadata": {},
     "output_type": "execute_result"
    }
   ],
   "source": [
    "from sklearn.ensemble import StackingClassifier\n",
    "\n",
    "# объедините уже известные вам алгоритмы с помощью стекинга\n",
    "estimators = [('rf', rf), ('gb', gb)]\n",
    "clf = StackingClassifier(estimators=estimators)\n",
    "clf.fit(X_train, y_train).score(X_test, y_test)"
   ]
  },
  {
   "cell_type": "markdown",
   "id": "6247a5fb",
   "metadata": {},
   "source": [
    "### Задание 5"
   ]
  },
  {
   "cell_type": "code",
   "execution_count": 175,
   "metadata": {
    "ExecuteTime": {
     "end_time": "2023-04-25T22:49:13.905737Z",
     "start_time": "2023-04-25T22:49:13.905737Z"
    },
    "collapsed": false
   },
   "outputs": [
    {
     "name": "stdout",
     "output_type": "stream",
     "text": [
      "             feature  importance_rf  importance_gb\n",
      "7           duration       0.444616       0.441547\n",
      "42  poutcome_success       0.080091       0.085535\n",
      "27   contact_unknown       0.045641       0.070484\n",
      "0                age       0.040705       0.036847\n",
      "9              pdays       0.034285       0.050405\n",
      "25  contact_cellular       0.033728       0.002365\n",
      "4            housing       0.031018       0.039521\n",
      "6                day       0.025009       0.046117\n",
      "3            balance       0.022245       0.025009\n",
      "10          previous       0.021834       0.005419\n"
     ]
    }
   ],
   "source": [
    "importances = pd.DataFrame({\n",
    "    'feature': X.columns,\n",
    "    'importance_rf': clf.named_estimators_['rf'].feature_importances_,\n",
    "    'importance_gb': clf.named_estimators_['gb'].feature_importances_\n",
    "}).sort_values(['importance_rf', 'importance_gb'], ascending=False)\n",
    "\n",
    "# Выведем на печать 10 наиболее важных признаков\n",
    "print(importances.head(10))"
   ]
  },
  {
   "cell_type": "code",
   "execution_count": 176,
   "metadata": {
    "ExecuteTime": {
     "end_time": "2023-04-25T22:49:13.907249Z",
     "start_time": "2023-04-25T22:49:13.907249Z"
    },
    "collapsed": false
   },
   "outputs": [
    {
     "name": "stdout",
     "output_type": "stream",
     "text": [
      "             feature  importance_gb\n",
      "7           duration       0.441547\n",
      "42  poutcome_success       0.085535\n",
      "27   contact_unknown       0.070484\n",
      "9              pdays       0.050405\n",
      "6                day       0.046117\n",
      "4            housing       0.039521\n",
      "0                age       0.036847\n",
      "35         month_mar       0.026433\n",
      "3            balance       0.025009\n",
      "28         month_apr       0.021250\n"
     ]
    }
   ],
   "source": [
    "# оцените, какие признаки демонстрируют наибольшую  важность в модели градиентного бустинга\n",
    "importances = pd.DataFrame({\n",
    "    'feature': X.columns,\n",
    "    'importance_gb': clf.named_estimators_['gb'].feature_importances_\n",
    "}).sort_values('importance_gb', ascending=False)\n",
    "\n",
    "# Выведем на печать 10 наиболее важных признаков\n",
    "print(importances.head(10))"
   ]
  },
  {
   "cell_type": "markdown",
   "id": "96974dda",
   "metadata": {},
   "source": [
    "### Задания 6,7,8"
   ]
  },
  {
   "cell_type": "code",
   "execution_count": 177,
   "id": "c48e29e9",
   "metadata": {
    "ExecuteTime": {
     "end_time": "2023-04-25T22:49:13.908259Z",
     "start_time": "2023-04-25T22:49:13.908259Z"
    }
   },
   "outputs": [],
   "source": [
    "# реализуйте оптимизацию гиперпараметров с помощью Optuna"
   ]
  },
  {
   "cell_type": "code",
   "execution_count": 178,
   "metadata": {
    "ExecuteTime": {
     "end_time": "2023-04-25T22:47:41.538955Z",
     "start_time": "2023-04-25T22:47:41.538955Z"
    },
    "collapsed": false
   },
   "outputs": [
    {
     "data": {
      "text/plain": [
       "['Requirement already satisfied: optuna in c:\\\\users\\\\iomishchenko\\\\appdata\\\\local\\\\programs\\\\python\\\\python39\\\\lib\\\\site-packages (3.1.0)',\n",
       " 'Requirement already satisfied: packaging>=20.0 in c:\\\\users\\\\iomishchenko\\\\appdata\\\\local\\\\programs\\\\python\\\\python39\\\\lib\\\\site-packages (from optuna) (21.3)',\n",
       " 'Requirement already satisfied: alembic>=1.5.0 in c:\\\\users\\\\iomishchenko\\\\appdata\\\\local\\\\programs\\\\python\\\\python39\\\\lib\\\\site-packages (from optuna) (1.9.2)',\n",
       " 'Requirement already satisfied: numpy in c:\\\\users\\\\iomishchenko\\\\appdata\\\\local\\\\programs\\\\python\\\\python39\\\\lib\\\\site-packages (from optuna) (1.23.2)',\n",
       " 'Requirement already satisfied: colorlog in c:\\\\users\\\\iomishchenko\\\\appdata\\\\local\\\\programs\\\\python\\\\python39\\\\lib\\\\site-packages (from optuna) (6.7.0)',\n",
       " 'Requirement already satisfied: cmaes>=0.9.1 in c:\\\\users\\\\iomishchenko\\\\appdata\\\\local\\\\programs\\\\python\\\\python39\\\\lib\\\\site-packages (from optuna) (0.9.1)',\n",
       " 'Requirement already satisfied: sqlalchemy>=1.3.0 in c:\\\\users\\\\iomishchenko\\\\appdata\\\\local\\\\programs\\\\python\\\\python39\\\\lib\\\\site-packages (from optuna) (1.4.44)',\n",
       " 'Requirement already satisfied: tqdm in c:\\\\users\\\\iomishchenko\\\\appdata\\\\local\\\\programs\\\\python\\\\python39\\\\lib\\\\site-packages (from optuna) (4.64.1)',\n",
       " 'Requirement already satisfied: PyYAML in c:\\\\users\\\\iomishchenko\\\\appdata\\\\local\\\\programs\\\\python\\\\python39\\\\lib\\\\site-packages (from optuna) (6.0)',\n",
       " 'Requirement already satisfied: Mako in c:\\\\users\\\\iomishchenko\\\\appdata\\\\local\\\\programs\\\\python\\\\python39\\\\lib\\\\site-packages (from alembic>=1.5.0->optuna) (1.2.4)',\n",
       " 'Requirement already satisfied: pyparsing!=3.0.5,>=2.0.2 in c:\\\\users\\\\iomishchenko\\\\appdata\\\\local\\\\programs\\\\python\\\\python39\\\\lib\\\\site-packages (from packaging>=20.0->optuna) (3.0.9)',\n",
       " 'Requirement already satisfied: greenlet!=0.4.17 in c:\\\\users\\\\iomishchenko\\\\appdata\\\\local\\\\programs\\\\python\\\\python39\\\\lib\\\\site-packages (from sqlalchemy>=1.3.0->optuna) (2.0.1)',\n",
       " 'Requirement already satisfied: colorama in c:\\\\users\\\\iomishchenko\\\\appdata\\\\local\\\\programs\\\\python\\\\python39\\\\lib\\\\site-packages (from colorlog->optuna) (0.4.5)',\n",
       " 'Requirement already satisfied: MarkupSafe>=0.9.2 in c:\\\\users\\\\iomishchenko\\\\appdata\\\\local\\\\programs\\\\python\\\\python39\\\\lib\\\\site-packages (from Mako->alembic>=1.5.0->optuna) (2.1.1)',\n",
       " '',\n",
       " '[notice] A new release of pip is available: 23.0.1 -> 23.1.1',\n",
       " '[notice] To update, run: python.exe -m pip install --upgrade pip']"
      ]
     },
     "execution_count": 178,
     "metadata": {},
     "output_type": "execute_result"
    }
   ],
   "source": [
    "!!pip install optuna"
   ]
  },
  {
   "cell_type": "code",
   "execution_count": 179,
   "metadata": {
    "ExecuteTime": {
     "end_time": "2023-04-25T22:49:13.908259Z",
     "start_time": "2023-04-25T22:49:13.908259Z"
    },
    "collapsed": false
   },
   "outputs": [
    {
     "name": "stdout",
     "output_type": "stream",
     "text": [
      "Версия Optuna: 3.1.0\n"
     ]
    }
   ],
   "source": [
    "import optuna\n",
    "\n",
    "print(\"Версия Optuna: {}\".format(optuna.__version__))"
   ]
  },
  {
   "cell_type": "code",
   "execution_count": 180,
   "metadata": {
    "ExecuteTime": {
     "end_time": "2023-04-25T22:49:13.912778Z",
     "start_time": "2023-04-25T22:49:13.912778Z"
    },
    "collapsed": false
   },
   "outputs": [],
   "source": [
    "def optuna_rf(trial):\n",
    "  # задаем пространства поиска гиперпараметров\n",
    "  n_estimators = trial.suggest_int('n_estimators', 100, 300, 1)\n",
    "  max_depth = trial.suggest_int('max_depth', 15, 40, 1)\n",
    "  min_samples_leaf = trial.suggest_int('min_samples_leaf', 3, 7, 1)\n",
    "\n",
    "  # создаем модель\n",
    "  model = clf\n",
    "  #обучаем модель\n",
    "  model.fit(X_train, y_train)\n",
    "  score = metrics.f1_score(y_train, model.predict(X_train))\n",
    "\n",
    "  return score\n",
    "\n"
   ]
  },
  {
   "cell_type": "code",
   "execution_count": 181,
   "metadata": {
    "ExecuteTime": {
     "end_time": "2023-04-25T22:47:41.540561Z",
     "start_time": "2023-04-25T22:47:41.540561Z"
    },
    "collapsed": false,
    "pycharm": {
     "is_executing": true
    }
   },
   "outputs": [
    {
     "name": "stderr",
     "output_type": "stream",
     "text": [
      "\u001b[32m[I 2023-04-26 11:43:23,429]\u001b[0m A new study created in memory with name: StackingClassifier\u001b[0m\n",
      "\u001b[32m[I 2023-04-26 11:44:11,864]\u001b[0m Trial 0 finished with value: 0.9055042074768933 and parameters: {'n_estimators': 249, 'max_depth': 33, 'min_samples_leaf': 5}. Best is trial 0 with value: 0.9055042074768933.\u001b[0m\n",
      "\u001b[32m[I 2023-04-26 11:45:05,631]\u001b[0m Trial 1 finished with value: 0.9055042074768933 and parameters: {'n_estimators': 197, 'max_depth': 37, 'min_samples_leaf': 4}. Best is trial 0 with value: 0.9055042074768933.\u001b[0m\n",
      "\u001b[32m[I 2023-04-26 11:45:55,653]\u001b[0m Trial 2 finished with value: 0.9055042074768933 and parameters: {'n_estimators': 193, 'max_depth': 37, 'min_samples_leaf': 3}. Best is trial 0 with value: 0.9055042074768933.\u001b[0m\n",
      "\u001b[32m[I 2023-04-26 11:46:45,512]\u001b[0m Trial 3 finished with value: 0.9055042074768933 and parameters: {'n_estimators': 155, 'max_depth': 24, 'min_samples_leaf': 4}. Best is trial 0 with value: 0.9055042074768933.\u001b[0m\n",
      "\u001b[32m[I 2023-04-26 11:47:38,123]\u001b[0m Trial 4 finished with value: 0.9055042074768933 and parameters: {'n_estimators': 253, 'max_depth': 38, 'min_samples_leaf': 5}. Best is trial 0 with value: 0.9055042074768933.\u001b[0m\n",
      "\u001b[32m[I 2023-04-26 11:48:30,081]\u001b[0m Trial 5 finished with value: 0.9055042074768933 and parameters: {'n_estimators': 229, 'max_depth': 16, 'min_samples_leaf': 5}. Best is trial 0 with value: 0.9055042074768933.\u001b[0m\n",
      "\u001b[32m[I 2023-04-26 11:49:20,004]\u001b[0m Trial 6 finished with value: 0.9055042074768933 and parameters: {'n_estimators': 197, 'max_depth': 40, 'min_samples_leaf': 7}. Best is trial 0 with value: 0.9055042074768933.\u001b[0m\n",
      "\u001b[32m[I 2023-04-26 11:50:09,747]\u001b[0m Trial 7 finished with value: 0.9055042074768933 and parameters: {'n_estimators': 194, 'max_depth': 36, 'min_samples_leaf': 3}. Best is trial 0 with value: 0.9055042074768933.\u001b[0m\n",
      "\u001b[32m[I 2023-04-26 11:51:02,137]\u001b[0m Trial 8 finished with value: 0.9055042074768933 and parameters: {'n_estimators': 202, 'max_depth': 36, 'min_samples_leaf': 4}. Best is trial 0 with value: 0.9055042074768933.\u001b[0m\n",
      "\u001b[32m[I 2023-04-26 11:51:52,300]\u001b[0m Trial 9 finished with value: 0.9055042074768933 and parameters: {'n_estimators': 287, 'max_depth': 29, 'min_samples_leaf': 7}. Best is trial 0 with value: 0.9055042074768933.\u001b[0m\n",
      "\u001b[32m[I 2023-04-26 11:52:41,946]\u001b[0m Trial 10 finished with value: 0.9055042074768933 and parameters: {'n_estimators': 121, 'max_depth': 29, 'min_samples_leaf': 6}. Best is trial 0 with value: 0.9055042074768933.\u001b[0m\n",
      "\u001b[32m[I 2023-04-26 11:53:30,374]\u001b[0m Trial 11 finished with value: 0.9055042074768933 and parameters: {'n_estimators': 265, 'max_depth': 32, 'min_samples_leaf': 4}. Best is trial 0 with value: 0.9055042074768933.\u001b[0m\n",
      "\u001b[32m[I 2023-04-26 11:54:18,621]\u001b[0m Trial 12 finished with value: 0.9055042074768933 and parameters: {'n_estimators': 236, 'max_depth': 24, 'min_samples_leaf': 6}. Best is trial 0 with value: 0.9055042074768933.\u001b[0m\n",
      "\u001b[32m[I 2023-04-26 11:55:07,970]\u001b[0m Trial 13 finished with value: 0.9055042074768933 and parameters: {'n_estimators': 155, 'max_depth': 33, 'min_samples_leaf': 5}. Best is trial 0 with value: 0.9055042074768933.\u001b[0m\n",
      "\u001b[32m[I 2023-04-26 11:55:56,812]\u001b[0m Trial 14 finished with value: 0.9055042074768933 and parameters: {'n_estimators': 289, 'max_depth': 32, 'min_samples_leaf': 4}. Best is trial 0 with value: 0.9055042074768933.\u001b[0m\n",
      "\u001b[32m[I 2023-04-26 11:56:42,527]\u001b[0m Trial 15 finished with value: 0.9055042074768933 and parameters: {'n_estimators': 233, 'max_depth': 25, 'min_samples_leaf': 6}. Best is trial 0 with value: 0.9055042074768933.\u001b[0m\n",
      "\u001b[32m[I 2023-04-26 11:57:26,890]\u001b[0m Trial 16 finished with value: 0.9055042074768933 and parameters: {'n_estimators': 164, 'max_depth': 17, 'min_samples_leaf': 3}. Best is trial 0 with value: 0.9055042074768933.\u001b[0m\n",
      "\u001b[32m[I 2023-04-26 11:58:08,489]\u001b[0m Trial 17 finished with value: 0.9055042074768933 and parameters: {'n_estimators': 120, 'max_depth': 34, 'min_samples_leaf': 4}. Best is trial 0 with value: 0.9055042074768933.\u001b[0m\n",
      "\u001b[32m[I 2023-04-26 11:58:50,160]\u001b[0m Trial 18 finished with value: 0.9055042074768933 and parameters: {'n_estimators': 218, 'max_depth': 40, 'min_samples_leaf': 5}. Best is trial 0 with value: 0.9055042074768933.\u001b[0m\n",
      "\u001b[32m[I 2023-04-26 11:59:31,602]\u001b[0m Trial 19 finished with value: 0.9055042074768933 and parameters: {'n_estimators': 259, 'max_depth': 20, 'min_samples_leaf': 5}. Best is trial 0 with value: 0.9055042074768933.\u001b[0m\n"
     ]
    },
    {
     "name": "stdout",
     "output_type": "stream",
     "text": [
      "CPU times: total: 16min 6s\n",
      "Wall time: 16min 8s\n"
     ]
    }
   ],
   "source": [
    "%%time\n",
    "# cоздаем объект исследования\n",
    "# можем напрямую указать, что нам необходимо максимизировать метрику direction=\"maximize\"\n",
    "study = optuna.create_study(study_name=\"StackingClassifier\", direction=\"maximize\")\n",
    "# ищем лучшую комбинацию гиперпараметров n_trials раз\n",
    "study.optimize(optuna_rf, n_trials=20)"
   ]
  },
  {
   "cell_type": "code",
   "execution_count": 182,
   "metadata": {
    "ExecuteTime": {
     "end_time": "2023-04-25T20:59:52.259519Z",
     "start_time": "2023-04-25T20:59:52.259519Z"
    },
    "collapsed": false,
    "pycharm": {
     "is_executing": true
    }
   },
   "outputs": [
    {
     "name": "stdout",
     "output_type": "stream",
     "text": [
      "Наилучшие значения гиперпараметров {'n_estimators': 249, 'max_depth': 33, 'min_samples_leaf': 5}\n",
      "f1_score на обучающем наборе: 0.91\n"
     ]
    }
   ],
   "source": [
    "# выводим результаты на обучающей выборке\n",
    "print(\"Наилучшие значения гиперпараметров {}\".format(study.best_params))\n",
    "print(\"f1_score на обучающем наборе: {:.2f}\".format(study.best_value))"
   ]
  },
  {
   "cell_type": "code",
   "execution_count": 183,
   "metadata": {
    "ExecuteTime": {
     "end_time": "2023-04-25T20:59:52.259519Z",
     "start_time": "2023-04-25T20:59:52.259519Z"
    },
    "collapsed": false,
    "pycharm": {
     "is_executing": true
    }
   },
   "outputs": [
    {
     "name": "stdout",
     "output_type": "stream",
     "text": [
      "accuracy на тестовом наборе: 0.86\n",
      "f1_score на тестовом наборе: 0.85\n"
     ]
    }
   ],
   "source": [
    "# рассчитаем точность для тестовой выборки\n",
    "model = ensemble.RandomForestClassifier(**study.best_params,random_state=42, )\n",
    "model.fit(X_train, y_train)\n",
    "y_train_pred = model.predict(X_train)\n",
    "print(\"accuracy на тестовом наборе: {:.2f}\".format(model.score(X_test, y_test)))\n",
    "y_test_pred = model.predict(X_test)\n",
    "print('f1_score на тестовом наборе: {:.2f}'.format(metrics.f1_score(y_test, y_test_pred)))"
   ]
  },
  {
   "cell_type": "code",
   "execution_count": 184,
   "metadata": {
    "ExecuteTime": {
     "end_time": "2023-04-25T21:06:56.971335Z",
     "start_time": "2023-04-25T21:06:56.971335Z"
    },
    "collapsed": false,
    "pycharm": {
     "is_executing": true
    }
   },
   "outputs": [
    {
     "name": "stderr",
     "output_type": "stream",
     "text": [
      "\u001b[32m[I 2023-04-26 12:00:15,790]\u001b[0m Trial 20 finished with value: 0.9055042074768933 and parameters: {'n_estimators': 170, 'max_depth': 29, 'min_samples_leaf': 6}. Best is trial 0 with value: 0.9055042074768933.\u001b[0m\n",
      "\u001b[32m[I 2023-04-26 12:00:56,894]\u001b[0m Trial 21 finished with value: 0.9055042074768933 and parameters: {'n_estimators': 177, 'max_depth': 36, 'min_samples_leaf': 3}. Best is trial 0 with value: 0.9055042074768933.\u001b[0m\n",
      "\u001b[32m[I 2023-04-26 12:01:38,108]\u001b[0m Trial 22 finished with value: 0.9055042074768933 and parameters: {'n_estimators': 214, 'max_depth': 38, 'min_samples_leaf': 3}. Best is trial 0 with value: 0.9055042074768933.\u001b[0m\n",
      "\u001b[32m[I 2023-04-26 12:02:19,000]\u001b[0m Trial 23 finished with value: 0.9055042074768933 and parameters: {'n_estimators': 180, 'max_depth': 34, 'min_samples_leaf': 4}. Best is trial 0 with value: 0.9055042074768933.\u001b[0m\n",
      "\u001b[32m[I 2023-04-26 12:02:59,929]\u001b[0m Trial 24 finished with value: 0.9055042074768933 and parameters: {'n_estimators': 191, 'max_depth': 38, 'min_samples_leaf': 3}. Best is trial 0 with value: 0.9055042074768933.\u001b[0m\n",
      "\u001b[32m[I 2023-04-26 12:03:41,114]\u001b[0m Trial 25 finished with value: 0.9055042074768933 and parameters: {'n_estimators': 145, 'max_depth': 35, 'min_samples_leaf': 4}. Best is trial 0 with value: 0.9055042074768933.\u001b[0m\n",
      "\u001b[32m[I 2023-04-26 12:04:22,002]\u001b[0m Trial 26 finished with value: 0.9055042074768933 and parameters: {'n_estimators': 213, 'max_depth': 31, 'min_samples_leaf': 3}. Best is trial 0 with value: 0.9055042074768933.\u001b[0m\n",
      "\u001b[32m[I 2023-04-26 12:05:03,603]\u001b[0m Trial 27 finished with value: 0.9055042074768933 and parameters: {'n_estimators': 247, 'max_depth': 38, 'min_samples_leaf': 5}. Best is trial 0 with value: 0.9055042074768933.\u001b[0m\n",
      "\u001b[32m[I 2023-04-26 12:05:45,986]\u001b[0m Trial 28 finished with value: 0.9055042074768933 and parameters: {'n_estimators': 138, 'max_depth': 27, 'min_samples_leaf': 4}. Best is trial 0 with value: 0.9055042074768933.\u001b[0m\n",
      "\u001b[32m[I 2023-04-26 12:06:26,908]\u001b[0m Trial 29 finished with value: 0.9055042074768933 and parameters: {'n_estimators': 267, 'max_depth': 31, 'min_samples_leaf': 4}. Best is trial 0 with value: 0.9055042074768933.\u001b[0m\n"
     ]
    },
    {
     "name": "stdout",
     "output_type": "stream",
     "text": [
      "CPU times: total: 6min 51s\n",
      "Wall time: 6min 52s\n"
     ]
    }
   ],
   "source": [
    "%%time\n",
    "# можем прододжить подбор, указав n_trials(любое число, которое добавится к предыдущим итерациям)\n",
    "study.optimize(optuna_rf, n_trials=10)"
   ]
  },
  {
   "cell_type": "code",
   "execution_count": 185,
   "metadata": {
    "ExecuteTime": {
     "end_time": "2023-04-25T21:06:57.087717Z",
     "start_time": "2023-04-25T21:06:57.087717Z"
    },
    "collapsed": false,
    "pycharm": {
     "is_executing": true
    }
   },
   "outputs": [
    {
     "data": {
      "text/plain": [
       "True"
      ]
     },
     "execution_count": 185,
     "metadata": {},
     "output_type": "execute_result"
    }
   ],
   "source": [
    "optuna.visualization.is_available()"
   ]
  },
  {
   "cell_type": "code",
   "execution_count": 186,
   "metadata": {
    "ExecuteTime": {
     "end_time": "2023-04-25T21:19:23.150110Z",
     "start_time": "2023-04-25T21:19:23.149096Z"
    },
    "collapsed": false,
    "pycharm": {
     "is_executing": true
    }
   },
   "outputs": [
    {
     "data": {
      "text/plain": [
       "['Requirement already satisfied: plotly in c:\\\\users\\\\iomishchenko\\\\appdata\\\\local\\\\programs\\\\python\\\\python39\\\\lib\\\\site-packages (5.10.0)',\n",
       " 'Requirement already satisfied: tenacity>=6.2.0 in c:\\\\users\\\\iomishchenko\\\\appdata\\\\local\\\\programs\\\\python\\\\python39\\\\lib\\\\site-packages (from plotly) (8.1.0)',\n",
       " '',\n",
       " '[notice] A new release of pip is available: 23.0.1 -> 23.1.1',\n",
       " '[notice] To update, run: python.exe -m pip install --upgrade pip']"
      ]
     },
     "execution_count": 186,
     "metadata": {},
     "output_type": "execute_result"
    }
   ],
   "source": [
    "!!pip install plotly"
   ]
  },
  {
   "cell_type": "code",
   "execution_count": 187,
   "metadata": {
    "collapsed": false,
    "pycharm": {
     "is_executing": true
    }
   },
   "outputs": [
    {
     "data": {
      "application/vnd.plotly.v1+json": {
       "config": {
        "plotlyServerURL": "https://plot.ly"
       },
       "data": [
        {
         "mode": "markers",
         "name": "f1_score",
         "type": "scatter",
         "x": [
          0,
          1,
          2,
          3,
          4,
          5,
          6,
          7,
          8,
          9,
          10,
          11,
          12,
          13,
          14,
          15,
          16,
          17,
          18,
          19,
          20,
          21,
          22,
          23,
          24,
          25,
          26,
          27,
          28,
          29
         ],
         "y": [
          0.9055042074768933,
          0.9055042074768933,
          0.9055042074768933,
          0.9055042074768933,
          0.9055042074768933,
          0.9055042074768933,
          0.9055042074768933,
          0.9055042074768933,
          0.9055042074768933,
          0.9055042074768933,
          0.9055042074768933,
          0.9055042074768933,
          0.9055042074768933,
          0.9055042074768933,
          0.9055042074768933,
          0.9055042074768933,
          0.9055042074768933,
          0.9055042074768933,
          0.9055042074768933,
          0.9055042074768933,
          0.9055042074768933,
          0.9055042074768933,
          0.9055042074768933,
          0.9055042074768933,
          0.9055042074768933,
          0.9055042074768933,
          0.9055042074768933,
          0.9055042074768933,
          0.9055042074768933,
          0.9055042074768933
         ]
        },
        {
         "name": "Best Value",
         "type": "scatter",
         "x": [
          0,
          1,
          2,
          3,
          4,
          5,
          6,
          7,
          8,
          9,
          10,
          11,
          12,
          13,
          14,
          15,
          16,
          17,
          18,
          19,
          20,
          21,
          22,
          23,
          24,
          25,
          26,
          27,
          28,
          29
         ],
         "y": [
          0.9055042074768933,
          0.9055042074768933,
          0.9055042074768933,
          0.9055042074768933,
          0.9055042074768933,
          0.9055042074768933,
          0.9055042074768933,
          0.9055042074768933,
          0.9055042074768933,
          0.9055042074768933,
          0.9055042074768933,
          0.9055042074768933,
          0.9055042074768933,
          0.9055042074768933,
          0.9055042074768933,
          0.9055042074768933,
          0.9055042074768933,
          0.9055042074768933,
          0.9055042074768933,
          0.9055042074768933,
          0.9055042074768933,
          0.9055042074768933,
          0.9055042074768933,
          0.9055042074768933,
          0.9055042074768933,
          0.9055042074768933,
          0.9055042074768933,
          0.9055042074768933,
          0.9055042074768933,
          0.9055042074768933
         ]
        }
       ],
       "layout": {
        "template": {
         "data": {
          "bar": [
           {
            "error_x": {
             "color": "#2a3f5f"
            },
            "error_y": {
             "color": "#2a3f5f"
            },
            "marker": {
             "line": {
              "color": "#E5ECF6",
              "width": 0.5
             },
             "pattern": {
              "fillmode": "overlay",
              "size": 10,
              "solidity": 0.2
             }
            },
            "type": "bar"
           }
          ],
          "barpolar": [
           {
            "marker": {
             "line": {
              "color": "#E5ECF6",
              "width": 0.5
             },
             "pattern": {
              "fillmode": "overlay",
              "size": 10,
              "solidity": 0.2
             }
            },
            "type": "barpolar"
           }
          ],
          "carpet": [
           {
            "aaxis": {
             "endlinecolor": "#2a3f5f",
             "gridcolor": "white",
             "linecolor": "white",
             "minorgridcolor": "white",
             "startlinecolor": "#2a3f5f"
            },
            "baxis": {
             "endlinecolor": "#2a3f5f",
             "gridcolor": "white",
             "linecolor": "white",
             "minorgridcolor": "white",
             "startlinecolor": "#2a3f5f"
            },
            "type": "carpet"
           }
          ],
          "choropleth": [
           {
            "colorbar": {
             "outlinewidth": 0,
             "ticks": ""
            },
            "type": "choropleth"
           }
          ],
          "contour": [
           {
            "colorbar": {
             "outlinewidth": 0,
             "ticks": ""
            },
            "colorscale": [
             [
              0,
              "#0d0887"
             ],
             [
              0.1111111111111111,
              "#46039f"
             ],
             [
              0.2222222222222222,
              "#7201a8"
             ],
             [
              0.3333333333333333,
              "#9c179e"
             ],
             [
              0.4444444444444444,
              "#bd3786"
             ],
             [
              0.5555555555555556,
              "#d8576b"
             ],
             [
              0.6666666666666666,
              "#ed7953"
             ],
             [
              0.7777777777777778,
              "#fb9f3a"
             ],
             [
              0.8888888888888888,
              "#fdca26"
             ],
             [
              1,
              "#f0f921"
             ]
            ],
            "type": "contour"
           }
          ],
          "contourcarpet": [
           {
            "colorbar": {
             "outlinewidth": 0,
             "ticks": ""
            },
            "type": "contourcarpet"
           }
          ],
          "heatmap": [
           {
            "colorbar": {
             "outlinewidth": 0,
             "ticks": ""
            },
            "colorscale": [
             [
              0,
              "#0d0887"
             ],
             [
              0.1111111111111111,
              "#46039f"
             ],
             [
              0.2222222222222222,
              "#7201a8"
             ],
             [
              0.3333333333333333,
              "#9c179e"
             ],
             [
              0.4444444444444444,
              "#bd3786"
             ],
             [
              0.5555555555555556,
              "#d8576b"
             ],
             [
              0.6666666666666666,
              "#ed7953"
             ],
             [
              0.7777777777777778,
              "#fb9f3a"
             ],
             [
              0.8888888888888888,
              "#fdca26"
             ],
             [
              1,
              "#f0f921"
             ]
            ],
            "type": "heatmap"
           }
          ],
          "heatmapgl": [
           {
            "colorbar": {
             "outlinewidth": 0,
             "ticks": ""
            },
            "colorscale": [
             [
              0,
              "#0d0887"
             ],
             [
              0.1111111111111111,
              "#46039f"
             ],
             [
              0.2222222222222222,
              "#7201a8"
             ],
             [
              0.3333333333333333,
              "#9c179e"
             ],
             [
              0.4444444444444444,
              "#bd3786"
             ],
             [
              0.5555555555555556,
              "#d8576b"
             ],
             [
              0.6666666666666666,
              "#ed7953"
             ],
             [
              0.7777777777777778,
              "#fb9f3a"
             ],
             [
              0.8888888888888888,
              "#fdca26"
             ],
             [
              1,
              "#f0f921"
             ]
            ],
            "type": "heatmapgl"
           }
          ],
          "histogram": [
           {
            "marker": {
             "pattern": {
              "fillmode": "overlay",
              "size": 10,
              "solidity": 0.2
             }
            },
            "type": "histogram"
           }
          ],
          "histogram2d": [
           {
            "colorbar": {
             "outlinewidth": 0,
             "ticks": ""
            },
            "colorscale": [
             [
              0,
              "#0d0887"
             ],
             [
              0.1111111111111111,
              "#46039f"
             ],
             [
              0.2222222222222222,
              "#7201a8"
             ],
             [
              0.3333333333333333,
              "#9c179e"
             ],
             [
              0.4444444444444444,
              "#bd3786"
             ],
             [
              0.5555555555555556,
              "#d8576b"
             ],
             [
              0.6666666666666666,
              "#ed7953"
             ],
             [
              0.7777777777777778,
              "#fb9f3a"
             ],
             [
              0.8888888888888888,
              "#fdca26"
             ],
             [
              1,
              "#f0f921"
             ]
            ],
            "type": "histogram2d"
           }
          ],
          "histogram2dcontour": [
           {
            "colorbar": {
             "outlinewidth": 0,
             "ticks": ""
            },
            "colorscale": [
             [
              0,
              "#0d0887"
             ],
             [
              0.1111111111111111,
              "#46039f"
             ],
             [
              0.2222222222222222,
              "#7201a8"
             ],
             [
              0.3333333333333333,
              "#9c179e"
             ],
             [
              0.4444444444444444,
              "#bd3786"
             ],
             [
              0.5555555555555556,
              "#d8576b"
             ],
             [
              0.6666666666666666,
              "#ed7953"
             ],
             [
              0.7777777777777778,
              "#fb9f3a"
             ],
             [
              0.8888888888888888,
              "#fdca26"
             ],
             [
              1,
              "#f0f921"
             ]
            ],
            "type": "histogram2dcontour"
           }
          ],
          "mesh3d": [
           {
            "colorbar": {
             "outlinewidth": 0,
             "ticks": ""
            },
            "type": "mesh3d"
           }
          ],
          "parcoords": [
           {
            "line": {
             "colorbar": {
              "outlinewidth": 0,
              "ticks": ""
             }
            },
            "type": "parcoords"
           }
          ],
          "pie": [
           {
            "automargin": true,
            "type": "pie"
           }
          ],
          "scatter": [
           {
            "fillpattern": {
             "fillmode": "overlay",
             "size": 10,
             "solidity": 0.2
            },
            "type": "scatter"
           }
          ],
          "scatter3d": [
           {
            "line": {
             "colorbar": {
              "outlinewidth": 0,
              "ticks": ""
             }
            },
            "marker": {
             "colorbar": {
              "outlinewidth": 0,
              "ticks": ""
             }
            },
            "type": "scatter3d"
           }
          ],
          "scattercarpet": [
           {
            "marker": {
             "colorbar": {
              "outlinewidth": 0,
              "ticks": ""
             }
            },
            "type": "scattercarpet"
           }
          ],
          "scattergeo": [
           {
            "marker": {
             "colorbar": {
              "outlinewidth": 0,
              "ticks": ""
             }
            },
            "type": "scattergeo"
           }
          ],
          "scattergl": [
           {
            "marker": {
             "colorbar": {
              "outlinewidth": 0,
              "ticks": ""
             }
            },
            "type": "scattergl"
           }
          ],
          "scattermapbox": [
           {
            "marker": {
             "colorbar": {
              "outlinewidth": 0,
              "ticks": ""
             }
            },
            "type": "scattermapbox"
           }
          ],
          "scatterpolar": [
           {
            "marker": {
             "colorbar": {
              "outlinewidth": 0,
              "ticks": ""
             }
            },
            "type": "scatterpolar"
           }
          ],
          "scatterpolargl": [
           {
            "marker": {
             "colorbar": {
              "outlinewidth": 0,
              "ticks": ""
             }
            },
            "type": "scatterpolargl"
           }
          ],
          "scatterternary": [
           {
            "marker": {
             "colorbar": {
              "outlinewidth": 0,
              "ticks": ""
             }
            },
            "type": "scatterternary"
           }
          ],
          "surface": [
           {
            "colorbar": {
             "outlinewidth": 0,
             "ticks": ""
            },
            "colorscale": [
             [
              0,
              "#0d0887"
             ],
             [
              0.1111111111111111,
              "#46039f"
             ],
             [
              0.2222222222222222,
              "#7201a8"
             ],
             [
              0.3333333333333333,
              "#9c179e"
             ],
             [
              0.4444444444444444,
              "#bd3786"
             ],
             [
              0.5555555555555556,
              "#d8576b"
             ],
             [
              0.6666666666666666,
              "#ed7953"
             ],
             [
              0.7777777777777778,
              "#fb9f3a"
             ],
             [
              0.8888888888888888,
              "#fdca26"
             ],
             [
              1,
              "#f0f921"
             ]
            ],
            "type": "surface"
           }
          ],
          "table": [
           {
            "cells": {
             "fill": {
              "color": "#EBF0F8"
             },
             "line": {
              "color": "white"
             }
            },
            "header": {
             "fill": {
              "color": "#C8D4E3"
             },
             "line": {
              "color": "white"
             }
            },
            "type": "table"
           }
          ]
         },
         "layout": {
          "annotationdefaults": {
           "arrowcolor": "#2a3f5f",
           "arrowhead": 0,
           "arrowwidth": 1
          },
          "autotypenumbers": "strict",
          "coloraxis": {
           "colorbar": {
            "outlinewidth": 0,
            "ticks": ""
           }
          },
          "colorscale": {
           "diverging": [
            [
             0,
             "#8e0152"
            ],
            [
             0.1,
             "#c51b7d"
            ],
            [
             0.2,
             "#de77ae"
            ],
            [
             0.3,
             "#f1b6da"
            ],
            [
             0.4,
             "#fde0ef"
            ],
            [
             0.5,
             "#f7f7f7"
            ],
            [
             0.6,
             "#e6f5d0"
            ],
            [
             0.7,
             "#b8e186"
            ],
            [
             0.8,
             "#7fbc41"
            ],
            [
             0.9,
             "#4d9221"
            ],
            [
             1,
             "#276419"
            ]
           ],
           "sequential": [
            [
             0,
             "#0d0887"
            ],
            [
             0.1111111111111111,
             "#46039f"
            ],
            [
             0.2222222222222222,
             "#7201a8"
            ],
            [
             0.3333333333333333,
             "#9c179e"
            ],
            [
             0.4444444444444444,
             "#bd3786"
            ],
            [
             0.5555555555555556,
             "#d8576b"
            ],
            [
             0.6666666666666666,
             "#ed7953"
            ],
            [
             0.7777777777777778,
             "#fb9f3a"
            ],
            [
             0.8888888888888888,
             "#fdca26"
            ],
            [
             1,
             "#f0f921"
            ]
           ],
           "sequentialminus": [
            [
             0,
             "#0d0887"
            ],
            [
             0.1111111111111111,
             "#46039f"
            ],
            [
             0.2222222222222222,
             "#7201a8"
            ],
            [
             0.3333333333333333,
             "#9c179e"
            ],
            [
             0.4444444444444444,
             "#bd3786"
            ],
            [
             0.5555555555555556,
             "#d8576b"
            ],
            [
             0.6666666666666666,
             "#ed7953"
            ],
            [
             0.7777777777777778,
             "#fb9f3a"
            ],
            [
             0.8888888888888888,
             "#fdca26"
            ],
            [
             1,
             "#f0f921"
            ]
           ]
          },
          "colorway": [
           "#636efa",
           "#EF553B",
           "#00cc96",
           "#ab63fa",
           "#FFA15A",
           "#19d3f3",
           "#FF6692",
           "#B6E880",
           "#FF97FF",
           "#FECB52"
          ],
          "font": {
           "color": "#2a3f5f"
          },
          "geo": {
           "bgcolor": "white",
           "lakecolor": "white",
           "landcolor": "#E5ECF6",
           "showlakes": true,
           "showland": true,
           "subunitcolor": "white"
          },
          "hoverlabel": {
           "align": "left"
          },
          "hovermode": "closest",
          "mapbox": {
           "style": "light"
          },
          "paper_bgcolor": "white",
          "plot_bgcolor": "#E5ECF6",
          "polar": {
           "angularaxis": {
            "gridcolor": "white",
            "linecolor": "white",
            "ticks": ""
           },
           "bgcolor": "#E5ECF6",
           "radialaxis": {
            "gridcolor": "white",
            "linecolor": "white",
            "ticks": ""
           }
          },
          "scene": {
           "xaxis": {
            "backgroundcolor": "#E5ECF6",
            "gridcolor": "white",
            "gridwidth": 2,
            "linecolor": "white",
            "showbackground": true,
            "ticks": "",
            "zerolinecolor": "white"
           },
           "yaxis": {
            "backgroundcolor": "#E5ECF6",
            "gridcolor": "white",
            "gridwidth": 2,
            "linecolor": "white",
            "showbackground": true,
            "ticks": "",
            "zerolinecolor": "white"
           },
           "zaxis": {
            "backgroundcolor": "#E5ECF6",
            "gridcolor": "white",
            "gridwidth": 2,
            "linecolor": "white",
            "showbackground": true,
            "ticks": "",
            "zerolinecolor": "white"
           }
          },
          "shapedefaults": {
           "line": {
            "color": "#2a3f5f"
           }
          },
          "ternary": {
           "aaxis": {
            "gridcolor": "white",
            "linecolor": "white",
            "ticks": ""
           },
           "baxis": {
            "gridcolor": "white",
            "linecolor": "white",
            "ticks": ""
           },
           "bgcolor": "#E5ECF6",
           "caxis": {
            "gridcolor": "white",
            "linecolor": "white",
            "ticks": ""
           }
          },
          "title": {
           "x": 0.05
          },
          "xaxis": {
           "automargin": true,
           "gridcolor": "white",
           "linecolor": "white",
           "ticks": "",
           "title": {
            "standoff": 15
           },
           "zerolinecolor": "white",
           "zerolinewidth": 2
          },
          "yaxis": {
           "automargin": true,
           "gridcolor": "white",
           "linecolor": "white",
           "ticks": "",
           "title": {
            "standoff": 15
           },
           "zerolinecolor": "white",
           "zerolinewidth": 2
          }
         }
        },
        "title": {
         "text": "Optimization History Plot"
        },
        "xaxis": {
         "title": {
          "text": "Trial"
         }
        },
        "yaxis": {
         "title": {
          "text": "f1_score"
         }
        }
       }
      }
     },
     "metadata": {},
     "output_type": "display_data"
    }
   ],
   "source": [
    "optuna.visualization.plot_optimization_history(study, target_name=\"f1_score\")"
   ]
  },
  {
   "cell_type": "code",
   "execution_count": 188,
   "metadata": {
    "collapsed": false,
    "pycharm": {
     "is_executing": true
    }
   },
   "outputs": [
    {
     "data": {
      "application/vnd.plotly.v1+json": {
       "config": {
        "plotlyServerURL": "https://plot.ly"
       },
       "data": [
        {
         "cliponaxis": false,
         "hovertemplate": [
          "min_samples_leaf (IntDistribution): 0.0<extra></extra>",
          "max_depth (IntDistribution): 0.5<extra></extra>",
          "n_estimators (IntDistribution): 0.5<extra></extra>"
         ],
         "marker": {
          "color": "rgb(66,146,198)"
         },
         "orientation": "h",
         "text": [
          "<0.01",
          "0.50",
          "0.50"
         ],
         "textposition": "outside",
         "type": "bar",
         "x": [
          0,
          0.5,
          0.5
         ],
         "y": [
          "min_samples_leaf",
          "max_depth",
          "n_estimators"
         ]
        }
       ],
       "layout": {
        "showlegend": false,
        "template": {
         "data": {
          "bar": [
           {
            "error_x": {
             "color": "#2a3f5f"
            },
            "error_y": {
             "color": "#2a3f5f"
            },
            "marker": {
             "line": {
              "color": "#E5ECF6",
              "width": 0.5
             },
             "pattern": {
              "fillmode": "overlay",
              "size": 10,
              "solidity": 0.2
             }
            },
            "type": "bar"
           }
          ],
          "barpolar": [
           {
            "marker": {
             "line": {
              "color": "#E5ECF6",
              "width": 0.5
             },
             "pattern": {
              "fillmode": "overlay",
              "size": 10,
              "solidity": 0.2
             }
            },
            "type": "barpolar"
           }
          ],
          "carpet": [
           {
            "aaxis": {
             "endlinecolor": "#2a3f5f",
             "gridcolor": "white",
             "linecolor": "white",
             "minorgridcolor": "white",
             "startlinecolor": "#2a3f5f"
            },
            "baxis": {
             "endlinecolor": "#2a3f5f",
             "gridcolor": "white",
             "linecolor": "white",
             "minorgridcolor": "white",
             "startlinecolor": "#2a3f5f"
            },
            "type": "carpet"
           }
          ],
          "choropleth": [
           {
            "colorbar": {
             "outlinewidth": 0,
             "ticks": ""
            },
            "type": "choropleth"
           }
          ],
          "contour": [
           {
            "colorbar": {
             "outlinewidth": 0,
             "ticks": ""
            },
            "colorscale": [
             [
              0,
              "#0d0887"
             ],
             [
              0.1111111111111111,
              "#46039f"
             ],
             [
              0.2222222222222222,
              "#7201a8"
             ],
             [
              0.3333333333333333,
              "#9c179e"
             ],
             [
              0.4444444444444444,
              "#bd3786"
             ],
             [
              0.5555555555555556,
              "#d8576b"
             ],
             [
              0.6666666666666666,
              "#ed7953"
             ],
             [
              0.7777777777777778,
              "#fb9f3a"
             ],
             [
              0.8888888888888888,
              "#fdca26"
             ],
             [
              1,
              "#f0f921"
             ]
            ],
            "type": "contour"
           }
          ],
          "contourcarpet": [
           {
            "colorbar": {
             "outlinewidth": 0,
             "ticks": ""
            },
            "type": "contourcarpet"
           }
          ],
          "heatmap": [
           {
            "colorbar": {
             "outlinewidth": 0,
             "ticks": ""
            },
            "colorscale": [
             [
              0,
              "#0d0887"
             ],
             [
              0.1111111111111111,
              "#46039f"
             ],
             [
              0.2222222222222222,
              "#7201a8"
             ],
             [
              0.3333333333333333,
              "#9c179e"
             ],
             [
              0.4444444444444444,
              "#bd3786"
             ],
             [
              0.5555555555555556,
              "#d8576b"
             ],
             [
              0.6666666666666666,
              "#ed7953"
             ],
             [
              0.7777777777777778,
              "#fb9f3a"
             ],
             [
              0.8888888888888888,
              "#fdca26"
             ],
             [
              1,
              "#f0f921"
             ]
            ],
            "type": "heatmap"
           }
          ],
          "heatmapgl": [
           {
            "colorbar": {
             "outlinewidth": 0,
             "ticks": ""
            },
            "colorscale": [
             [
              0,
              "#0d0887"
             ],
             [
              0.1111111111111111,
              "#46039f"
             ],
             [
              0.2222222222222222,
              "#7201a8"
             ],
             [
              0.3333333333333333,
              "#9c179e"
             ],
             [
              0.4444444444444444,
              "#bd3786"
             ],
             [
              0.5555555555555556,
              "#d8576b"
             ],
             [
              0.6666666666666666,
              "#ed7953"
             ],
             [
              0.7777777777777778,
              "#fb9f3a"
             ],
             [
              0.8888888888888888,
              "#fdca26"
             ],
             [
              1,
              "#f0f921"
             ]
            ],
            "type": "heatmapgl"
           }
          ],
          "histogram": [
           {
            "marker": {
             "pattern": {
              "fillmode": "overlay",
              "size": 10,
              "solidity": 0.2
             }
            },
            "type": "histogram"
           }
          ],
          "histogram2d": [
           {
            "colorbar": {
             "outlinewidth": 0,
             "ticks": ""
            },
            "colorscale": [
             [
              0,
              "#0d0887"
             ],
             [
              0.1111111111111111,
              "#46039f"
             ],
             [
              0.2222222222222222,
              "#7201a8"
             ],
             [
              0.3333333333333333,
              "#9c179e"
             ],
             [
              0.4444444444444444,
              "#bd3786"
             ],
             [
              0.5555555555555556,
              "#d8576b"
             ],
             [
              0.6666666666666666,
              "#ed7953"
             ],
             [
              0.7777777777777778,
              "#fb9f3a"
             ],
             [
              0.8888888888888888,
              "#fdca26"
             ],
             [
              1,
              "#f0f921"
             ]
            ],
            "type": "histogram2d"
           }
          ],
          "histogram2dcontour": [
           {
            "colorbar": {
             "outlinewidth": 0,
             "ticks": ""
            },
            "colorscale": [
             [
              0,
              "#0d0887"
             ],
             [
              0.1111111111111111,
              "#46039f"
             ],
             [
              0.2222222222222222,
              "#7201a8"
             ],
             [
              0.3333333333333333,
              "#9c179e"
             ],
             [
              0.4444444444444444,
              "#bd3786"
             ],
             [
              0.5555555555555556,
              "#d8576b"
             ],
             [
              0.6666666666666666,
              "#ed7953"
             ],
             [
              0.7777777777777778,
              "#fb9f3a"
             ],
             [
              0.8888888888888888,
              "#fdca26"
             ],
             [
              1,
              "#f0f921"
             ]
            ],
            "type": "histogram2dcontour"
           }
          ],
          "mesh3d": [
           {
            "colorbar": {
             "outlinewidth": 0,
             "ticks": ""
            },
            "type": "mesh3d"
           }
          ],
          "parcoords": [
           {
            "line": {
             "colorbar": {
              "outlinewidth": 0,
              "ticks": ""
             }
            },
            "type": "parcoords"
           }
          ],
          "pie": [
           {
            "automargin": true,
            "type": "pie"
           }
          ],
          "scatter": [
           {
            "fillpattern": {
             "fillmode": "overlay",
             "size": 10,
             "solidity": 0.2
            },
            "type": "scatter"
           }
          ],
          "scatter3d": [
           {
            "line": {
             "colorbar": {
              "outlinewidth": 0,
              "ticks": ""
             }
            },
            "marker": {
             "colorbar": {
              "outlinewidth": 0,
              "ticks": ""
             }
            },
            "type": "scatter3d"
           }
          ],
          "scattercarpet": [
           {
            "marker": {
             "colorbar": {
              "outlinewidth": 0,
              "ticks": ""
             }
            },
            "type": "scattercarpet"
           }
          ],
          "scattergeo": [
           {
            "marker": {
             "colorbar": {
              "outlinewidth": 0,
              "ticks": ""
             }
            },
            "type": "scattergeo"
           }
          ],
          "scattergl": [
           {
            "marker": {
             "colorbar": {
              "outlinewidth": 0,
              "ticks": ""
             }
            },
            "type": "scattergl"
           }
          ],
          "scattermapbox": [
           {
            "marker": {
             "colorbar": {
              "outlinewidth": 0,
              "ticks": ""
             }
            },
            "type": "scattermapbox"
           }
          ],
          "scatterpolar": [
           {
            "marker": {
             "colorbar": {
              "outlinewidth": 0,
              "ticks": ""
             }
            },
            "type": "scatterpolar"
           }
          ],
          "scatterpolargl": [
           {
            "marker": {
             "colorbar": {
              "outlinewidth": 0,
              "ticks": ""
             }
            },
            "type": "scatterpolargl"
           }
          ],
          "scatterternary": [
           {
            "marker": {
             "colorbar": {
              "outlinewidth": 0,
              "ticks": ""
             }
            },
            "type": "scatterternary"
           }
          ],
          "surface": [
           {
            "colorbar": {
             "outlinewidth": 0,
             "ticks": ""
            },
            "colorscale": [
             [
              0,
              "#0d0887"
             ],
             [
              0.1111111111111111,
              "#46039f"
             ],
             [
              0.2222222222222222,
              "#7201a8"
             ],
             [
              0.3333333333333333,
              "#9c179e"
             ],
             [
              0.4444444444444444,
              "#bd3786"
             ],
             [
              0.5555555555555556,
              "#d8576b"
             ],
             [
              0.6666666666666666,
              "#ed7953"
             ],
             [
              0.7777777777777778,
              "#fb9f3a"
             ],
             [
              0.8888888888888888,
              "#fdca26"
             ],
             [
              1,
              "#f0f921"
             ]
            ],
            "type": "surface"
           }
          ],
          "table": [
           {
            "cells": {
             "fill": {
              "color": "#EBF0F8"
             },
             "line": {
              "color": "white"
             }
            },
            "header": {
             "fill": {
              "color": "#C8D4E3"
             },
             "line": {
              "color": "white"
             }
            },
            "type": "table"
           }
          ]
         },
         "layout": {
          "annotationdefaults": {
           "arrowcolor": "#2a3f5f",
           "arrowhead": 0,
           "arrowwidth": 1
          },
          "autotypenumbers": "strict",
          "coloraxis": {
           "colorbar": {
            "outlinewidth": 0,
            "ticks": ""
           }
          },
          "colorscale": {
           "diverging": [
            [
             0,
             "#8e0152"
            ],
            [
             0.1,
             "#c51b7d"
            ],
            [
             0.2,
             "#de77ae"
            ],
            [
             0.3,
             "#f1b6da"
            ],
            [
             0.4,
             "#fde0ef"
            ],
            [
             0.5,
             "#f7f7f7"
            ],
            [
             0.6,
             "#e6f5d0"
            ],
            [
             0.7,
             "#b8e186"
            ],
            [
             0.8,
             "#7fbc41"
            ],
            [
             0.9,
             "#4d9221"
            ],
            [
             1,
             "#276419"
            ]
           ],
           "sequential": [
            [
             0,
             "#0d0887"
            ],
            [
             0.1111111111111111,
             "#46039f"
            ],
            [
             0.2222222222222222,
             "#7201a8"
            ],
            [
             0.3333333333333333,
             "#9c179e"
            ],
            [
             0.4444444444444444,
             "#bd3786"
            ],
            [
             0.5555555555555556,
             "#d8576b"
            ],
            [
             0.6666666666666666,
             "#ed7953"
            ],
            [
             0.7777777777777778,
             "#fb9f3a"
            ],
            [
             0.8888888888888888,
             "#fdca26"
            ],
            [
             1,
             "#f0f921"
            ]
           ],
           "sequentialminus": [
            [
             0,
             "#0d0887"
            ],
            [
             0.1111111111111111,
             "#46039f"
            ],
            [
             0.2222222222222222,
             "#7201a8"
            ],
            [
             0.3333333333333333,
             "#9c179e"
            ],
            [
             0.4444444444444444,
             "#bd3786"
            ],
            [
             0.5555555555555556,
             "#d8576b"
            ],
            [
             0.6666666666666666,
             "#ed7953"
            ],
            [
             0.7777777777777778,
             "#fb9f3a"
            ],
            [
             0.8888888888888888,
             "#fdca26"
            ],
            [
             1,
             "#f0f921"
            ]
           ]
          },
          "colorway": [
           "#636efa",
           "#EF553B",
           "#00cc96",
           "#ab63fa",
           "#FFA15A",
           "#19d3f3",
           "#FF6692",
           "#B6E880",
           "#FF97FF",
           "#FECB52"
          ],
          "font": {
           "color": "#2a3f5f"
          },
          "geo": {
           "bgcolor": "white",
           "lakecolor": "white",
           "landcolor": "#E5ECF6",
           "showlakes": true,
           "showland": true,
           "subunitcolor": "white"
          },
          "hoverlabel": {
           "align": "left"
          },
          "hovermode": "closest",
          "mapbox": {
           "style": "light"
          },
          "paper_bgcolor": "white",
          "plot_bgcolor": "#E5ECF6",
          "polar": {
           "angularaxis": {
            "gridcolor": "white",
            "linecolor": "white",
            "ticks": ""
           },
           "bgcolor": "#E5ECF6",
           "radialaxis": {
            "gridcolor": "white",
            "linecolor": "white",
            "ticks": ""
           }
          },
          "scene": {
           "xaxis": {
            "backgroundcolor": "#E5ECF6",
            "gridcolor": "white",
            "gridwidth": 2,
            "linecolor": "white",
            "showbackground": true,
            "ticks": "",
            "zerolinecolor": "white"
           },
           "yaxis": {
            "backgroundcolor": "#E5ECF6",
            "gridcolor": "white",
            "gridwidth": 2,
            "linecolor": "white",
            "showbackground": true,
            "ticks": "",
            "zerolinecolor": "white"
           },
           "zaxis": {
            "backgroundcolor": "#E5ECF6",
            "gridcolor": "white",
            "gridwidth": 2,
            "linecolor": "white",
            "showbackground": true,
            "ticks": "",
            "zerolinecolor": "white"
           }
          },
          "shapedefaults": {
           "line": {
            "color": "#2a3f5f"
           }
          },
          "ternary": {
           "aaxis": {
            "gridcolor": "white",
            "linecolor": "white",
            "ticks": ""
           },
           "baxis": {
            "gridcolor": "white",
            "linecolor": "white",
            "ticks": ""
           },
           "bgcolor": "#E5ECF6",
           "caxis": {
            "gridcolor": "white",
            "linecolor": "white",
            "ticks": ""
           }
          },
          "title": {
           "x": 0.05
          },
          "xaxis": {
           "automargin": true,
           "gridcolor": "white",
           "linecolor": "white",
           "ticks": "",
           "title": {
            "standoff": 15
           },
           "zerolinecolor": "white",
           "zerolinewidth": 2
          },
          "yaxis": {
           "automargin": true,
           "gridcolor": "white",
           "linecolor": "white",
           "ticks": "",
           "title": {
            "standoff": 15
           },
           "zerolinecolor": "white",
           "zerolinewidth": 2
          }
         }
        },
        "title": {
         "text": "Hyperparameter Importances"
        },
        "xaxis": {
         "title": {
          "text": "Importance for f1_score"
         }
        },
        "yaxis": {
         "title": {
          "text": "Hyperparameter"
         }
        }
       }
      }
     },
     "metadata": {},
     "output_type": "display_data"
    }
   ],
   "source": [
    "optuna.visualization.plot_param_importances(study, target_name=\"f1_score\")"
   ]
  },
  {
   "cell_type": "code",
   "execution_count": 189,
   "metadata": {
    "collapsed": false,
    "pycharm": {
     "is_executing": true
    }
   },
   "outputs": [
    {
     "data": {
      "application/vnd.plotly.v1+json": {
       "config": {
        "plotlyServerURL": "https://plot.ly"
       },
       "data": [
        {
         "colorbar": {
          "title": {
           "text": "f1_score"
          }
         },
         "colorscale": [
          [
           0,
           "rgb(247,251,255)"
          ],
          [
           0.125,
           "rgb(222,235,247)"
          ],
          [
           0.25,
           "rgb(198,219,239)"
          ],
          [
           0.375,
           "rgb(158,202,225)"
          ],
          [
           0.5,
           "rgb(107,174,214)"
          ],
          [
           0.625,
           "rgb(66,146,198)"
          ],
          [
           0.75,
           "rgb(33,113,181)"
          ],
          [
           0.875,
           "rgb(8,81,156)"
          ],
          [
           1,
           "rgb(8,48,107)"
          ]
         ],
         "connectgaps": true,
         "contours": {
          "coloring": "heatmap"
         },
         "hoverinfo": "none",
         "line": {
          "smoothing": 1.3
         },
         "reversescale": false,
         "type": "contour",
         "x": [
          14.8,
          16,
          17,
          20,
          24,
          25,
          27,
          29,
          31,
          32,
          33,
          34,
          35,
          36,
          37,
          38,
          40,
          41.2
         ],
         "y": [
          111.55,
          120,
          121,
          138,
          145,
          155,
          164,
          170,
          177,
          180,
          191,
          193,
          194,
          197,
          202,
          213,
          214,
          218,
          229,
          233,
          236,
          247,
          249,
          253,
          259,
          265,
          267,
          287,
          289,
          297.45
         ],
         "z": [
          [
           null,
           null,
           null,
           null,
           null,
           null,
           null,
           null,
           null,
           null,
           null,
           null,
           null,
           null,
           null,
           null,
           null,
           null
          ],
          [
           null,
           null,
           null,
           null,
           null,
           null,
           null,
           null,
           null,
           null,
           null,
           0.9055042074768933,
           null,
           null,
           null,
           null,
           null,
           null
          ],
          [
           null,
           null,
           null,
           null,
           null,
           null,
           null,
           0.9055042074768933,
           null,
           null,
           null,
           null,
           null,
           null,
           null,
           null,
           null,
           null
          ],
          [
           null,
           null,
           null,
           null,
           null,
           null,
           0.9055042074768933,
           null,
           null,
           null,
           null,
           null,
           null,
           null,
           null,
           null,
           null,
           null
          ],
          [
           null,
           null,
           null,
           null,
           null,
           null,
           null,
           null,
           null,
           null,
           null,
           null,
           0.9055042074768933,
           null,
           null,
           null,
           null,
           null
          ],
          [
           null,
           null,
           null,
           null,
           0.9055042074768933,
           null,
           null,
           null,
           null,
           null,
           0.9055042074768933,
           null,
           null,
           null,
           null,
           null,
           null,
           null
          ],
          [
           null,
           null,
           0.9055042074768933,
           null,
           null,
           null,
           null,
           null,
           null,
           null,
           null,
           null,
           null,
           null,
           null,
           null,
           null,
           null
          ],
          [
           null,
           null,
           null,
           null,
           null,
           null,
           null,
           0.9055042074768933,
           null,
           null,
           null,
           null,
           null,
           null,
           null,
           null,
           null,
           null
          ],
          [
           null,
           null,
           null,
           null,
           null,
           null,
           null,
           null,
           null,
           null,
           null,
           null,
           null,
           0.9055042074768933,
           null,
           null,
           null,
           null
          ],
          [
           null,
           null,
           null,
           null,
           null,
           null,
           null,
           null,
           null,
           null,
           null,
           0.9055042074768933,
           null,
           null,
           null,
           null,
           null,
           null
          ],
          [
           null,
           null,
           null,
           null,
           null,
           null,
           null,
           null,
           null,
           null,
           null,
           null,
           null,
           null,
           null,
           0.9055042074768933,
           null,
           null
          ],
          [
           null,
           null,
           null,
           null,
           null,
           null,
           null,
           null,
           null,
           null,
           null,
           null,
           null,
           null,
           0.9055042074768933,
           null,
           null,
           null
          ],
          [
           null,
           null,
           null,
           null,
           null,
           null,
           null,
           null,
           null,
           null,
           null,
           null,
           null,
           0.9055042074768933,
           null,
           null,
           null,
           null
          ],
          [
           null,
           null,
           null,
           null,
           null,
           null,
           null,
           null,
           null,
           null,
           null,
           null,
           null,
           null,
           0.9055042074768933,
           null,
           0.9055042074768933,
           null
          ],
          [
           null,
           null,
           null,
           null,
           null,
           null,
           null,
           null,
           null,
           null,
           null,
           null,
           null,
           0.9055042074768933,
           null,
           null,
           null,
           null
          ],
          [
           null,
           null,
           null,
           null,
           null,
           null,
           null,
           null,
           0.9055042074768933,
           null,
           null,
           null,
           null,
           null,
           null,
           null,
           null,
           null
          ],
          [
           null,
           null,
           null,
           null,
           null,
           null,
           null,
           null,
           null,
           null,
           null,
           null,
           null,
           null,
           null,
           0.9055042074768933,
           null,
           null
          ],
          [
           null,
           null,
           null,
           null,
           null,
           null,
           null,
           null,
           null,
           null,
           null,
           null,
           null,
           null,
           null,
           null,
           0.9055042074768933,
           null
          ],
          [
           null,
           0.9055042074768933,
           null,
           null,
           null,
           null,
           null,
           null,
           null,
           null,
           null,
           null,
           null,
           null,
           null,
           null,
           null,
           null
          ],
          [
           null,
           null,
           null,
           null,
           null,
           0.9055042074768933,
           null,
           null,
           null,
           null,
           null,
           null,
           null,
           null,
           null,
           null,
           null,
           null
          ],
          [
           null,
           null,
           null,
           null,
           0.9055042074768933,
           null,
           null,
           null,
           null,
           null,
           null,
           null,
           null,
           null,
           null,
           null,
           null,
           null
          ],
          [
           null,
           null,
           null,
           null,
           null,
           null,
           null,
           null,
           null,
           null,
           null,
           null,
           null,
           null,
           null,
           0.9055042074768933,
           null,
           null
          ],
          [
           null,
           null,
           null,
           null,
           null,
           null,
           null,
           null,
           null,
           null,
           0.9055042074768933,
           null,
           null,
           null,
           null,
           null,
           null,
           null
          ],
          [
           null,
           null,
           null,
           null,
           null,
           null,
           null,
           null,
           null,
           null,
           null,
           null,
           null,
           null,
           null,
           0.9055042074768933,
           null,
           null
          ],
          [
           null,
           null,
           null,
           0.9055042074768933,
           null,
           null,
           null,
           null,
           null,
           null,
           null,
           null,
           null,
           null,
           null,
           null,
           null,
           null
          ],
          [
           null,
           null,
           null,
           null,
           null,
           null,
           null,
           null,
           null,
           0.9055042074768933,
           null,
           null,
           null,
           null,
           null,
           null,
           null,
           null
          ],
          [
           null,
           null,
           null,
           null,
           null,
           null,
           null,
           null,
           0.9055042074768933,
           null,
           null,
           null,
           null,
           null,
           null,
           null,
           null,
           null
          ],
          [
           null,
           null,
           null,
           null,
           null,
           null,
           null,
           0.9055042074768933,
           null,
           null,
           null,
           null,
           null,
           null,
           null,
           null,
           null,
           null
          ],
          [
           null,
           null,
           null,
           null,
           null,
           null,
           null,
           null,
           null,
           0.9055042074768933,
           null,
           null,
           null,
           null,
           null,
           null,
           null,
           null
          ],
          [
           null,
           null,
           null,
           null,
           null,
           null,
           null,
           null,
           null,
           null,
           null,
           null,
           null,
           null,
           null,
           null,
           null,
           null
          ]
         ]
        },
        {
         "marker": {
          "color": "black",
          "line": {
           "color": "Grey",
           "width": 2
          }
         },
         "mode": "markers",
         "showlegend": false,
         "type": "scatter",
         "x": [
          33,
          37,
          37,
          24,
          38,
          16,
          40,
          36,
          36,
          29,
          29,
          32,
          24,
          33,
          32,
          25,
          17,
          34,
          40,
          20,
          29,
          36,
          38,
          34,
          38,
          35,
          31,
          38,
          27,
          31
         ],
         "y": [
          249,
          197,
          193,
          155,
          253,
          229,
          197,
          194,
          202,
          287,
          121,
          265,
          236,
          155,
          289,
          233,
          164,
          120,
          218,
          259,
          170,
          177,
          214,
          180,
          191,
          145,
          213,
          247,
          138,
          267
         ]
        }
       ],
       "layout": {
        "template": {
         "data": {
          "bar": [
           {
            "error_x": {
             "color": "#2a3f5f"
            },
            "error_y": {
             "color": "#2a3f5f"
            },
            "marker": {
             "line": {
              "color": "#E5ECF6",
              "width": 0.5
             },
             "pattern": {
              "fillmode": "overlay",
              "size": 10,
              "solidity": 0.2
             }
            },
            "type": "bar"
           }
          ],
          "barpolar": [
           {
            "marker": {
             "line": {
              "color": "#E5ECF6",
              "width": 0.5
             },
             "pattern": {
              "fillmode": "overlay",
              "size": 10,
              "solidity": 0.2
             }
            },
            "type": "barpolar"
           }
          ],
          "carpet": [
           {
            "aaxis": {
             "endlinecolor": "#2a3f5f",
             "gridcolor": "white",
             "linecolor": "white",
             "minorgridcolor": "white",
             "startlinecolor": "#2a3f5f"
            },
            "baxis": {
             "endlinecolor": "#2a3f5f",
             "gridcolor": "white",
             "linecolor": "white",
             "minorgridcolor": "white",
             "startlinecolor": "#2a3f5f"
            },
            "type": "carpet"
           }
          ],
          "choropleth": [
           {
            "colorbar": {
             "outlinewidth": 0,
             "ticks": ""
            },
            "type": "choropleth"
           }
          ],
          "contour": [
           {
            "colorbar": {
             "outlinewidth": 0,
             "ticks": ""
            },
            "colorscale": [
             [
              0,
              "#0d0887"
             ],
             [
              0.1111111111111111,
              "#46039f"
             ],
             [
              0.2222222222222222,
              "#7201a8"
             ],
             [
              0.3333333333333333,
              "#9c179e"
             ],
             [
              0.4444444444444444,
              "#bd3786"
             ],
             [
              0.5555555555555556,
              "#d8576b"
             ],
             [
              0.6666666666666666,
              "#ed7953"
             ],
             [
              0.7777777777777778,
              "#fb9f3a"
             ],
             [
              0.8888888888888888,
              "#fdca26"
             ],
             [
              1,
              "#f0f921"
             ]
            ],
            "type": "contour"
           }
          ],
          "contourcarpet": [
           {
            "colorbar": {
             "outlinewidth": 0,
             "ticks": ""
            },
            "type": "contourcarpet"
           }
          ],
          "heatmap": [
           {
            "colorbar": {
             "outlinewidth": 0,
             "ticks": ""
            },
            "colorscale": [
             [
              0,
              "#0d0887"
             ],
             [
              0.1111111111111111,
              "#46039f"
             ],
             [
              0.2222222222222222,
              "#7201a8"
             ],
             [
              0.3333333333333333,
              "#9c179e"
             ],
             [
              0.4444444444444444,
              "#bd3786"
             ],
             [
              0.5555555555555556,
              "#d8576b"
             ],
             [
              0.6666666666666666,
              "#ed7953"
             ],
             [
              0.7777777777777778,
              "#fb9f3a"
             ],
             [
              0.8888888888888888,
              "#fdca26"
             ],
             [
              1,
              "#f0f921"
             ]
            ],
            "type": "heatmap"
           }
          ],
          "heatmapgl": [
           {
            "colorbar": {
             "outlinewidth": 0,
             "ticks": ""
            },
            "colorscale": [
             [
              0,
              "#0d0887"
             ],
             [
              0.1111111111111111,
              "#46039f"
             ],
             [
              0.2222222222222222,
              "#7201a8"
             ],
             [
              0.3333333333333333,
              "#9c179e"
             ],
             [
              0.4444444444444444,
              "#bd3786"
             ],
             [
              0.5555555555555556,
              "#d8576b"
             ],
             [
              0.6666666666666666,
              "#ed7953"
             ],
             [
              0.7777777777777778,
              "#fb9f3a"
             ],
             [
              0.8888888888888888,
              "#fdca26"
             ],
             [
              1,
              "#f0f921"
             ]
            ],
            "type": "heatmapgl"
           }
          ],
          "histogram": [
           {
            "marker": {
             "pattern": {
              "fillmode": "overlay",
              "size": 10,
              "solidity": 0.2
             }
            },
            "type": "histogram"
           }
          ],
          "histogram2d": [
           {
            "colorbar": {
             "outlinewidth": 0,
             "ticks": ""
            },
            "colorscale": [
             [
              0,
              "#0d0887"
             ],
             [
              0.1111111111111111,
              "#46039f"
             ],
             [
              0.2222222222222222,
              "#7201a8"
             ],
             [
              0.3333333333333333,
              "#9c179e"
             ],
             [
              0.4444444444444444,
              "#bd3786"
             ],
             [
              0.5555555555555556,
              "#d8576b"
             ],
             [
              0.6666666666666666,
              "#ed7953"
             ],
             [
              0.7777777777777778,
              "#fb9f3a"
             ],
             [
              0.8888888888888888,
              "#fdca26"
             ],
             [
              1,
              "#f0f921"
             ]
            ],
            "type": "histogram2d"
           }
          ],
          "histogram2dcontour": [
           {
            "colorbar": {
             "outlinewidth": 0,
             "ticks": ""
            },
            "colorscale": [
             [
              0,
              "#0d0887"
             ],
             [
              0.1111111111111111,
              "#46039f"
             ],
             [
              0.2222222222222222,
              "#7201a8"
             ],
             [
              0.3333333333333333,
              "#9c179e"
             ],
             [
              0.4444444444444444,
              "#bd3786"
             ],
             [
              0.5555555555555556,
              "#d8576b"
             ],
             [
              0.6666666666666666,
              "#ed7953"
             ],
             [
              0.7777777777777778,
              "#fb9f3a"
             ],
             [
              0.8888888888888888,
              "#fdca26"
             ],
             [
              1,
              "#f0f921"
             ]
            ],
            "type": "histogram2dcontour"
           }
          ],
          "mesh3d": [
           {
            "colorbar": {
             "outlinewidth": 0,
             "ticks": ""
            },
            "type": "mesh3d"
           }
          ],
          "parcoords": [
           {
            "line": {
             "colorbar": {
              "outlinewidth": 0,
              "ticks": ""
             }
            },
            "type": "parcoords"
           }
          ],
          "pie": [
           {
            "automargin": true,
            "type": "pie"
           }
          ],
          "scatter": [
           {
            "fillpattern": {
             "fillmode": "overlay",
             "size": 10,
             "solidity": 0.2
            },
            "type": "scatter"
           }
          ],
          "scatter3d": [
           {
            "line": {
             "colorbar": {
              "outlinewidth": 0,
              "ticks": ""
             }
            },
            "marker": {
             "colorbar": {
              "outlinewidth": 0,
              "ticks": ""
             }
            },
            "type": "scatter3d"
           }
          ],
          "scattercarpet": [
           {
            "marker": {
             "colorbar": {
              "outlinewidth": 0,
              "ticks": ""
             }
            },
            "type": "scattercarpet"
           }
          ],
          "scattergeo": [
           {
            "marker": {
             "colorbar": {
              "outlinewidth": 0,
              "ticks": ""
             }
            },
            "type": "scattergeo"
           }
          ],
          "scattergl": [
           {
            "marker": {
             "colorbar": {
              "outlinewidth": 0,
              "ticks": ""
             }
            },
            "type": "scattergl"
           }
          ],
          "scattermapbox": [
           {
            "marker": {
             "colorbar": {
              "outlinewidth": 0,
              "ticks": ""
             }
            },
            "type": "scattermapbox"
           }
          ],
          "scatterpolar": [
           {
            "marker": {
             "colorbar": {
              "outlinewidth": 0,
              "ticks": ""
             }
            },
            "type": "scatterpolar"
           }
          ],
          "scatterpolargl": [
           {
            "marker": {
             "colorbar": {
              "outlinewidth": 0,
              "ticks": ""
             }
            },
            "type": "scatterpolargl"
           }
          ],
          "scatterternary": [
           {
            "marker": {
             "colorbar": {
              "outlinewidth": 0,
              "ticks": ""
             }
            },
            "type": "scatterternary"
           }
          ],
          "surface": [
           {
            "colorbar": {
             "outlinewidth": 0,
             "ticks": ""
            },
            "colorscale": [
             [
              0,
              "#0d0887"
             ],
             [
              0.1111111111111111,
              "#46039f"
             ],
             [
              0.2222222222222222,
              "#7201a8"
             ],
             [
              0.3333333333333333,
              "#9c179e"
             ],
             [
              0.4444444444444444,
              "#bd3786"
             ],
             [
              0.5555555555555556,
              "#d8576b"
             ],
             [
              0.6666666666666666,
              "#ed7953"
             ],
             [
              0.7777777777777778,
              "#fb9f3a"
             ],
             [
              0.8888888888888888,
              "#fdca26"
             ],
             [
              1,
              "#f0f921"
             ]
            ],
            "type": "surface"
           }
          ],
          "table": [
           {
            "cells": {
             "fill": {
              "color": "#EBF0F8"
             },
             "line": {
              "color": "white"
             }
            },
            "header": {
             "fill": {
              "color": "#C8D4E3"
             },
             "line": {
              "color": "white"
             }
            },
            "type": "table"
           }
          ]
         },
         "layout": {
          "annotationdefaults": {
           "arrowcolor": "#2a3f5f",
           "arrowhead": 0,
           "arrowwidth": 1
          },
          "autotypenumbers": "strict",
          "coloraxis": {
           "colorbar": {
            "outlinewidth": 0,
            "ticks": ""
           }
          },
          "colorscale": {
           "diverging": [
            [
             0,
             "#8e0152"
            ],
            [
             0.1,
             "#c51b7d"
            ],
            [
             0.2,
             "#de77ae"
            ],
            [
             0.3,
             "#f1b6da"
            ],
            [
             0.4,
             "#fde0ef"
            ],
            [
             0.5,
             "#f7f7f7"
            ],
            [
             0.6,
             "#e6f5d0"
            ],
            [
             0.7,
             "#b8e186"
            ],
            [
             0.8,
             "#7fbc41"
            ],
            [
             0.9,
             "#4d9221"
            ],
            [
             1,
             "#276419"
            ]
           ],
           "sequential": [
            [
             0,
             "#0d0887"
            ],
            [
             0.1111111111111111,
             "#46039f"
            ],
            [
             0.2222222222222222,
             "#7201a8"
            ],
            [
             0.3333333333333333,
             "#9c179e"
            ],
            [
             0.4444444444444444,
             "#bd3786"
            ],
            [
             0.5555555555555556,
             "#d8576b"
            ],
            [
             0.6666666666666666,
             "#ed7953"
            ],
            [
             0.7777777777777778,
             "#fb9f3a"
            ],
            [
             0.8888888888888888,
             "#fdca26"
            ],
            [
             1,
             "#f0f921"
            ]
           ],
           "sequentialminus": [
            [
             0,
             "#0d0887"
            ],
            [
             0.1111111111111111,
             "#46039f"
            ],
            [
             0.2222222222222222,
             "#7201a8"
            ],
            [
             0.3333333333333333,
             "#9c179e"
            ],
            [
             0.4444444444444444,
             "#bd3786"
            ],
            [
             0.5555555555555556,
             "#d8576b"
            ],
            [
             0.6666666666666666,
             "#ed7953"
            ],
            [
             0.7777777777777778,
             "#fb9f3a"
            ],
            [
             0.8888888888888888,
             "#fdca26"
            ],
            [
             1,
             "#f0f921"
            ]
           ]
          },
          "colorway": [
           "#636efa",
           "#EF553B",
           "#00cc96",
           "#ab63fa",
           "#FFA15A",
           "#19d3f3",
           "#FF6692",
           "#B6E880",
           "#FF97FF",
           "#FECB52"
          ],
          "font": {
           "color": "#2a3f5f"
          },
          "geo": {
           "bgcolor": "white",
           "lakecolor": "white",
           "landcolor": "#E5ECF6",
           "showlakes": true,
           "showland": true,
           "subunitcolor": "white"
          },
          "hoverlabel": {
           "align": "left"
          },
          "hovermode": "closest",
          "mapbox": {
           "style": "light"
          },
          "paper_bgcolor": "white",
          "plot_bgcolor": "#E5ECF6",
          "polar": {
           "angularaxis": {
            "gridcolor": "white",
            "linecolor": "white",
            "ticks": ""
           },
           "bgcolor": "#E5ECF6",
           "radialaxis": {
            "gridcolor": "white",
            "linecolor": "white",
            "ticks": ""
           }
          },
          "scene": {
           "xaxis": {
            "backgroundcolor": "#E5ECF6",
            "gridcolor": "white",
            "gridwidth": 2,
            "linecolor": "white",
            "showbackground": true,
            "ticks": "",
            "zerolinecolor": "white"
           },
           "yaxis": {
            "backgroundcolor": "#E5ECF6",
            "gridcolor": "white",
            "gridwidth": 2,
            "linecolor": "white",
            "showbackground": true,
            "ticks": "",
            "zerolinecolor": "white"
           },
           "zaxis": {
            "backgroundcolor": "#E5ECF6",
            "gridcolor": "white",
            "gridwidth": 2,
            "linecolor": "white",
            "showbackground": true,
            "ticks": "",
            "zerolinecolor": "white"
           }
          },
          "shapedefaults": {
           "line": {
            "color": "#2a3f5f"
           }
          },
          "ternary": {
           "aaxis": {
            "gridcolor": "white",
            "linecolor": "white",
            "ticks": ""
           },
           "baxis": {
            "gridcolor": "white",
            "linecolor": "white",
            "ticks": ""
           },
           "bgcolor": "#E5ECF6",
           "caxis": {
            "gridcolor": "white",
            "linecolor": "white",
            "ticks": ""
           }
          },
          "title": {
           "x": 0.05
          },
          "xaxis": {
           "automargin": true,
           "gridcolor": "white",
           "linecolor": "white",
           "ticks": "",
           "title": {
            "standoff": 15
           },
           "zerolinecolor": "white",
           "zerolinewidth": 2
          },
          "yaxis": {
           "automargin": true,
           "gridcolor": "white",
           "linecolor": "white",
           "ticks": "",
           "title": {
            "standoff": 15
           },
           "zerolinecolor": "white",
           "zerolinewidth": 2
          }
         }
        },
        "title": {
         "text": "Contour Plot"
        },
        "xaxis": {
         "range": [
          14.8,
          41.2
         ],
         "title": {
          "text": "max_depth"
         }
        },
        "yaxis": {
         "range": [
          111.55,
          297.45
         ],
         "title": {
          "text": "n_estimators"
         }
        }
       }
      }
     },
     "metadata": {},
     "output_type": "display_data"
    }
   ],
   "source": [
    "optuna.visualization.plot_contour(study, params=[\"max_depth\", \"n_estimators\"],\n",
    "                                  target_name=\"f1_score\")"
   ]
  },
  {
   "cell_type": "code",
   "execution_count": null,
   "metadata": {
    "collapsed": false
   },
   "outputs": [],
   "source": []
  }
 ],
 "metadata": {
  "kernelspec": {
   "display_name": "Python 3",
   "language": "python",
   "name": "python3"
  },
  "language_info": {
   "codemirror_mode": {
    "name": "ipython",
    "version": 3
   },
   "file_extension": ".py",
   "mimetype": "text/x-python",
   "name": "python",
   "nbconvert_exporter": "python",
   "pygments_lexer": "ipython3",
   "version": "3.9.10"
  },
  "vscode": {
   "interpreter": {
    "hash": "ce39d5e56218837b013a915bd6e210e4626fe1cd2b2f42cf2c80e91837b9d6d3"
   }
  }
 },
 "nbformat": 4,
 "nbformat_minor": 5
}
