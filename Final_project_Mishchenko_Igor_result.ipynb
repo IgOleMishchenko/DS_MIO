{
  "cells": [
    {
      "cell_type": "code",
      "execution_count": 34,
      "metadata": {
        "colab": {
          "base_uri": "https://localhost:8080/"
        },
        "id": "uYxmCghtbxcI",
        "outputId": "82b45ce2-79f2-4975-bad0-a29b9815b01d"
      },
      "outputs": [
        {
          "name": "stdout",
          "output_type": "stream",
          "text": [
            "Drive already mounted at /content/drive; to attempt to forcibly remount, call drive.mount(\"/content/drive\", force_remount=True).\n"
          ]
        }
      ],
      "source": [
        "from google.colab import drive\n",
        "drive.mount('/content/drive')"
      ]
    },
    {
      "cell_type": "code",
      "execution_count": 35,
      "metadata": {
        "id": "uvzHwSFibr7S"
      },
      "outputs": [],
      "source": [
        "# Импорт библиотек\n",
        "import numpy as np # для работы с массивами\n",
        "import pandas as pd # для работы с DataFrame\n",
        "import seaborn as sns # библиотека для визуализации статистических данных\n",
        "import matplotlib.pyplot as plt # для построения графиков\n",
        "import re # для регулярных выражений\n",
        "import json # для десериализации\n",
        "\n",
        "%matplotlib inline"
      ]
    },
    {
      "cell_type": "code",
      "execution_count": 36,
      "metadata": {
        "id": "dN1qD4fhbr7U"
      },
      "outputs": [],
      "source": [
        "data = pd.read_csv('/content/drive/My Drive/final_project/data 2.csv')"
      ]
    },
    {
      "cell_type": "markdown",
      "metadata": {
        "id": "6bVQ7S8BO5hx"
      },
      "source": [
        "# 1. Проведение разведывательного анализа и очистка исходных данных"
      ]
    },
    {
      "cell_type": "markdown",
      "metadata": {
        "id": "8cAIVUJtjcHK"
      },
      "source": [
        "Посмотрим на столбцы, содержащиеся в данных"
      ]
    },
    {
      "cell_type": "code",
      "execution_count": 37,
      "metadata": {
        "colab": {
          "base_uri": "https://localhost:8080/"
        },
        "id": "eLXEkuu9bx2s",
        "outputId": "9b2f6f77-c689-4d23-b1a7-b8469de4b388"
      },
      "outputs": [
        {
          "data": {
            "text/plain": [
              "Index(['status', 'private pool', 'propertyType', 'street', 'baths',\n",
              "       'homeFacts', 'fireplace', 'city', 'schools', 'sqft', 'zipcode', 'beds',\n",
              "       'state', 'stories', 'mls-id', 'PrivatePool', 'MlsId', 'target'],\n",
              "      dtype='object')"
            ]
          },
          "execution_count": 37,
          "metadata": {},
          "output_type": "execute_result"
        }
      ],
      "source": [
        "data.columns"
      ]
    },
    {
      "cell_type": "markdown",
      "metadata": {
        "id": "8PSXQQkri1bS"
      },
      "source": [
        "Исходя из названий столбцов видим, что у нас есть дублирующиеся названия колонок, которые нужно соединить воедино (\"private pool\" + \"PrivatePool\", \"mls-id\" + \"MlsId\")"
      ]
    },
    {
      "cell_type": "code",
      "execution_count": 38,
      "metadata": {
        "id": "liRFKSQxi_ZR"
      },
      "outputs": [],
      "source": [
        "# Создаем новый столбец на основе \"private pool\", заполняя nan значениями из \"PrivatePool\"\n",
        "data['privatePool'] = data['private pool'].fillna(data['PrivatePool'])\n",
        "# Удаляем использованные столбцы\n",
        "data = data.drop(columns=['private pool', 'PrivatePool'])\n",
        "\n",
        "# Создаем новый столбец на основе \"mls-id\", заполняя nan значениями из \"MlsId\"\n",
        "data['mlsId'] = data['mls-id'].fillna(data['MlsId'])\n",
        "# Удаляем использованные столбцы\n",
        "data = data.drop(columns=['mls-id', 'MlsId'])"
      ]
    },
    {
      "cell_type": "code",
      "execution_count": 39,
      "metadata": {
        "colab": {
          "base_uri": "https://localhost:8080/"
        },
        "id": "yHtnq9FD40E1",
        "outputId": "b59a6f3a-6fe6-4630-c590-8890c2edcba8"
      },
      "outputs": [
        {
          "data": {
            "text/plain": [
              "array([nan, 'yes', 'Yes'], dtype=object)"
            ]
          },
          "execution_count": 39,
          "metadata": {},
          "output_type": "execute_result"
        }
      ],
      "source": [
        "data['privatePool'].unique()"
      ]
    },
    {
      "cell_type": "markdown",
      "metadata": {
        "id": "tOhcw6qv5Q39"
      },
      "source": [
        "Бинаризируем значения"
      ]
    },
    {
      "cell_type": "code",
      "execution_count": 40,
      "metadata": {
        "id": "YZV0kTmM5QcL"
      },
      "outputs": [],
      "source": [
        "data['privatePool'] = data['privatePool'].apply(lambda x: 1 if x == 'yes' else 0)"
      ]
    },
    {
      "cell_type": "code",
      "execution_count": 41,
      "metadata": {
        "colab": {
          "base_uri": "https://localhost:8080/"
        },
        "id": "7Pypp0Iq5S3M",
        "outputId": "2afd7b62-268c-4416-917d-f83de974952c"
      },
      "outputs": [
        {
          "data": {
            "text/plain": [
              "array([0, 1])"
            ]
          },
          "execution_count": 41,
          "metadata": {},
          "output_type": "execute_result"
        }
      ],
      "source": [
        "data['privatePool'].unique()"
      ]
    },
    {
      "cell_type": "markdown",
      "metadata": {
        "id": "rB5Swe0YjioV"
      },
      "source": [
        "Убедимся в том, что замена произошла успешно"
      ]
    },
    {
      "cell_type": "code",
      "execution_count": 42,
      "metadata": {
        "colab": {
          "base_uri": "https://localhost:8080/"
        },
        "id": "45jvZ4nCjVA3",
        "outputId": "e799a08e-502a-4cea-dd59-ad99cd4ac1f9"
      },
      "outputs": [
        {
          "data": {
            "text/plain": [
              "Index(['status', 'propertyType', 'street', 'baths', 'homeFacts', 'fireplace',\n",
              "       'city', 'schools', 'sqft', 'zipcode', 'beds', 'state', 'stories',\n",
              "       'target', 'privatePool', 'mlsId'],\n",
              "      dtype='object')"
            ]
          },
          "execution_count": 42,
          "metadata": {},
          "output_type": "execute_result"
        }
      ],
      "source": [
        "data.columns"
      ]
    },
    {
      "cell_type": "markdown",
      "metadata": {
        "id": "-uHKvFXTklXK"
      },
      "source": [
        "# Столбец Status\n",
        "\n",
        "Для приведения к консинстентному виду мы должны все привести к следующим названиям:\n",
        "1. foreclosed\n",
        "2. pre foreclosure\n",
        "3. under contract showing\n",
        "4. under contract backups\n",
        "5. contingency\n",
        "6. contingency contract\n",
        "7. active contingency\n",
        "8. insp inspection contingency\n",
        "9. pending escape clause\n",
        "10. pending backup wanted\n",
        "11. pending take backups\n",
        "12. pending continue show\n",
        "13. pending inspection\n",
        "14. due diligence period\n",
        "15. activated\n",
        "16. active with contract\n",
        "17. active with offer\n",
        "18. active auction\n",
        "19. cooling-off period\n",
        "\n",
        "В столбце есть дубликаты, их заменой мы займемся ниже, предварительно приведя текст к нижнему регистру и удалив лишние пробелы"
      ]
    },
    {
      "cell_type": "code",
      "execution_count": 43,
      "metadata": {
        "id": "Pnz_4rfCl-JP"
      },
      "outputs": [],
      "source": [
        "data['status'] = data['status'].str.lower().str.strip()"
      ]
    },
    {
      "cell_type": "markdown",
      "metadata": {
        "id": "ESwdUOKFmskN"
      },
      "source": [
        "Далее начнем заменять дубликаты:"
      ]
    },
    {
      "cell_type": "code",
      "execution_count": 44,
      "metadata": {
        "id": "1LoILgcWmr2Q"
      },
      "outputs": [],
      "source": [
        "# under contract showing\n",
        "data['status'] = data['status'].replace('under contract   showing', 'under contract showing')\n",
        "data['status'] = data['status'].replace('active under contract', 'under contract showing')\n",
        "data['status'] = data['status'].replace('under contract', 'under contract showing')\n",
        "data['status'] = data['status'].replace('under contract show', 'under contract showing')\n",
        "data['status'] = data['status'].replace('under contract showinging', 'under contract showing')\n",
        "data['status'] = data['status'].replace('under contract showinging showing', 'under contract showing')\n",
        "data['status'] = data['status'].replace('under contract showing showing', 'under contract showing')\n",
        "data['status'] = data['status'].replace('under contract showing show', 'under contract showing')\n",
        "data['status'] = data['status'].replace('u under contract', 'under contract showing')\n",
        "# pre foreclosure\n",
        "data['status'] = data['status'].replace('pre-foreclosure', 'pre foreclosure')\n",
        "data['status'] = data['status'].replace('pre-foreclosure / auction', 'pre foreclosure')\n",
        "data['status'] = data['status'].replace('/ auction', 'pre foreclosure')\n",
        "data['status'] = data['status'].replace('pre foreclosure pre foreclosure', 'pre foreclosure')\n",
        "data['status'] = data['status'].replace('pre foreclosure auction', 'pre foreclosure')\n",
        "data['status'] = data['status'].replace('pf', 'pre foreclosure')\n",
        "# foreclosed\n",
        "data['status'] = data['status'].replace('foreclosure', 'foreclosed')\n",
        "# under contract backups\n",
        "data['status'] = data['status'].replace('active backup', 'under contract backups')\n",
        "data['status'] = data['status'].replace('backup contract', 'under contract backups')\n",
        "data['status'] = data['status'].replace('accepting backups', 'under contract backups')\n",
        "data['status'] = data['status'].replace('under contract w/ bckp', 'under contract backups')\n",
        "data['status'] = data['status'].replace('under contract taking back up offers', 'under contract backups')\n",
        "# active auction\n",
        "data['status'] = data['status'].replace('auction active', 'active auction')\n",
        "data['status'] = data['status'].replace('auction', 'active auction')\n",
        "data['status'] = data['status'].replace('auction - active', 'active auction')\n",
        "data['status'] = data['status'].replace('a active', 'active auction')\n",
        "# pending continue show\n",
        "data['status'] = data['status'].replace('pending   continue to show', 'pending continue show')\n",
        "data['status'] = data['status'].replace('pending continue to show', 'pending continue show')\n",
        "data['status'] = data['status'].replace('c continue show', 'pending continue show')\n",
        "data['status'] = data['status'].replace('pending   continue to show   financing', 'pending continue show')\n",
        "# coming soon: ...\n",
        "data['status'] = data['status'].replace(r'^coming soon:.*$', 'coming soon', regex=True)\n",
        "# activated\n",
        "data['status'] = data['status'].replace('active', 'activated')\n",
        "# contingency\n",
        "data['status'] = data['status'].replace('c', 'contingency')\n",
        "data['status'] = data['status'].replace('contingency 48 hr (+/ )', 'contingency')\n",
        "# active contingency\n",
        "data['status'] = data['status'].replace('active contingent', 'active contingency')\n",
        "# pending inspection\n",
        "data['status'] = data['status'].replace('pi', 'pending inspection')\n",
        "# for rent\n",
        "data['status'] = data['status'].replace('apartment for rent', 'for rent')\n",
        "data['status'] = data['status'].replace('condo for rent', 'for rent')\n",
        "# contingency contract\n",
        "data['status'] = data['status'].replace('contract contingent on buyer sale', 'contingency contract')\n",
        "# pending take backups\n",
        "data['status'] = data['status'].replace('pending bring backup', 'pending take backups')\n",
        "data['status'] = data['status'].replace('pending taking backups', 'pending take backups')\n",
        "# pending escape clause\n",
        "data['status'] = data['status'].replace('pending w/escape clause', 'pending escape clause')\n",
        "# pending backup wanted\n",
        "data['status'] = data['status'].replace('pending w/backup wanted', 'pending backup wanted')\n",
        "data['status'] = data['status'].replace('pending backups wanted', 'pending backup wanted')\n",
        "# active contingency\n",
        "data['status'] = data['status'].replace('active/contingent', 'active contingency')\n",
        "data['status'] = data['status'].replace('active with contingencies', 'active contingency')\n",
        "# contingency\n",
        "data['status'] = data['status'].replace('contingent', 'contingency')\n",
        "# insp inspection contingency\n",
        "data['status'] = data['status'].replace('contingent finance and inspection', 'insp inspection contingency')\n",
        "# new construction\n",
        "data['status'] = data['status'].replace('new', 'new construction')\n",
        "\n",
        "# удаляем строки с пропущенным значением\n",
        "# data = data.dropna(subset=['status'])\n",
        "\n",
        "# заменяем пустые значения на \"активный\"\n",
        "data['status'].fillna('activated', inplace=True)\n",
        "\n",
        "# удаляем неявные столбцы:\n",
        "data = data.loc[~data['status'].isin(\n",
        "    [\n",
        "        'pending', 'p', 'option pending',\n",
        "        'p pending sale', 'pending ab',\n",
        "        'contingent show', 'contract p',\n",
        "        'contingent take backup',\n",
        "        'option contract', 'pending continue show',\n",
        "        'contingent   show',\n",
        "        'pending with contingencies', 'lease/purchase pending',\n",
        "        'offer pending signature', 'contingent lien holder release',\n",
        "        'price change', 'contingent escape', 'pending offer approval',\n",
        "        'pending in', 'ct', 'pending w/insp finance', 'temporary active',\n",
        "        'pending (do not show)', 'pending w/ cont.', 'contingent   release',\n",
        "        'accepted offer', 'contingent   no show', 'pending sale',\n",
        "        'contingent   foreclosure', 'conting accpt backups',\n",
        "        'lease/purchase', 'sold: $285,000', 'sold: $15,000',\n",
        "        'ps', 're activated', 'uc continue to show', 'pending sh',\n",
        "        'pending fe'\n",
        "    ]\n",
        ")]"
      ]
    },
    {
      "cell_type": "code",
      "execution_count": 45,
      "metadata": {
        "colab": {
          "base_uri": "https://localhost:8080/"
        },
        "id": "i1ogK5yffUwn",
        "outputId": "ddce98d6-7a10-477b-c2f0-b145e563af4c"
      },
      "outputs": [
        {
          "data": {
            "text/plain": [
              "array(['activated', 'for sale', 'new construction', 'active contingency',\n",
              "       'pre foreclosure', 'under contract showing',\n",
              "       'under contract backups', 'foreclosed', 'for rent',\n",
              "       'active auction', 'contingency', 'back on market', 'active option',\n",
              "       'recently sold', 'coming soon', 'insp inspection contingency',\n",
              "       'pending inspection', 'active option contract',\n",
              "       'due diligence period', 'contingency contract',\n",
              "       'pending take backups', 'under contract - show',\n",
              "       'active - auction', 'active with offer', 'closed',\n",
              "       'listing extended', 'pending, continue to show',\n",
              "       'pending - taking backups', 'ct insp - inspection contingency',\n",
              "       'pending escape clause', 'pending - continue to show',\n",
              "       'under contract - no show', 'contract', 'conditional contract',\n",
              "       'active - contingent', 'active with contract',\n",
              "       'pending backup wanted', 'contingent - sale of home',\n",
              "       'pending - backup offer requested', 'reactivated',\n",
              "       'contingent - financing', 'backup'], dtype=object)"
            ]
          },
          "execution_count": 45,
          "metadata": {},
          "output_type": "execute_result"
        }
      ],
      "source": [
        "data['status'].unique()"
      ]
    },
    {
      "cell_type": "markdown",
      "metadata": {
        "id": "UvZQoAmfutKO"
      },
      "source": [
        "# Столбец propertyType\n",
        "\n",
        "Приведем столбец изначально к нижнему регистру\n",
        "\n",
        "Должны получить следующие типы домов:\n",
        "1. apartment\n",
        "2. condo\n",
        "3. co-op\n",
        "4. single-family\n",
        "5. townhome, townhouse\n",
        "6. cape cod\n",
        "7. colonial home\n",
        "8. contemporary\n",
        "9. cottage\n",
        "10. craftsman\n",
        "11. greek revival\n",
        "12. farmhouse\n",
        "13. french country\n",
        "14. mediterranean\n",
        "15. midcentury modern\n",
        "16. ranch\n",
        "17. split-level\n",
        "18. tudor\n",
        "19. victorian\n",
        "20. european houses style\n",
        "21. log home"
      ]
    },
    {
      "cell_type": "code",
      "execution_count": 46,
      "metadata": {
        "colab": {
          "base_uri": "https://localhost:8080/",
          "height": 597
        },
        "id": "6_AXM9Wjqz_u",
        "outputId": "f8bd1dcd-5b79-4a5e-c3f2-d15b5a7e9a8a"
      },
      "outputs": [
        {
          "data": {
            "text/html": [
              "\n",
              "  <div id=\"df-50388664-cfd7-40f8-818d-1fba224c8e8d\" class=\"colab-df-container\">\n",
              "    <div>\n",
              "<style scoped>\n",
              "    .dataframe tbody tr th:only-of-type {\n",
              "        vertical-align: middle;\n",
              "    }\n",
              "\n",
              "    .dataframe tbody tr th {\n",
              "        vertical-align: top;\n",
              "    }\n",
              "\n",
              "    .dataframe thead th {\n",
              "        text-align: right;\n",
              "    }\n",
              "</style>\n",
              "<table border=\"1\" class=\"dataframe\">\n",
              "  <thead>\n",
              "    <tr style=\"text-align: right;\">\n",
              "      <th></th>\n",
              "      <th>status</th>\n",
              "      <th>propertyType</th>\n",
              "      <th>street</th>\n",
              "      <th>baths</th>\n",
              "      <th>homeFacts</th>\n",
              "      <th>fireplace</th>\n",
              "      <th>city</th>\n",
              "      <th>schools</th>\n",
              "      <th>sqft</th>\n",
              "      <th>zipcode</th>\n",
              "      <th>beds</th>\n",
              "      <th>state</th>\n",
              "      <th>stories</th>\n",
              "      <th>target</th>\n",
              "      <th>privatePool</th>\n",
              "      <th>mlsId</th>\n",
              "    </tr>\n",
              "  </thead>\n",
              "  <tbody>\n",
              "    <tr>\n",
              "      <th>7</th>\n",
              "      <td>activated</td>\n",
              "      <td>NaN</td>\n",
              "      <td>6094 Mingle Dr</td>\n",
              "      <td>NaN</td>\n",
              "      <td>{'atAGlanceFacts': [{'factValue': '1976', 'fac...</td>\n",
              "      <td>NaN</td>\n",
              "      <td>Memphis</td>\n",
              "      <td>[{'rating': ['4', '2', '2'], 'data': {'Distanc...</td>\n",
              "      <td>NaN</td>\n",
              "      <td>38115</td>\n",
              "      <td>NaN</td>\n",
              "      <td>TN</td>\n",
              "      <td>NaN</td>\n",
              "      <td>68,000</td>\n",
              "      <td>0</td>\n",
              "      <td>10063506</td>\n",
              "    </tr>\n",
              "    <tr>\n",
              "      <th>16</th>\n",
              "      <td>activated</td>\n",
              "      <td>NaN</td>\n",
              "      <td>2402 NW 22nd Rd</td>\n",
              "      <td>1,750</td>\n",
              "      <td>{'atAGlanceFacts': [{'factValue': '2008', 'fac...</td>\n",
              "      <td>NaN</td>\n",
              "      <td>Fort Lauderdale</td>\n",
              "      <td>[{'rating': ['4', 'NR', '3', 'NR'], 'data': {'...</td>\n",
              "      <td>2,203</td>\n",
              "      <td>33311</td>\n",
              "      <td>Baths</td>\n",
              "      <td>FL</td>\n",
              "      <td>NaN</td>\n",
              "      <td>335,000</td>\n",
              "      <td>0</td>\n",
              "      <td>F10207914</td>\n",
              "    </tr>\n",
              "    <tr>\n",
              "      <th>26</th>\n",
              "      <td>activated</td>\n",
              "      <td>NaN</td>\n",
              "      <td>5755 SW 123 Ave</td>\n",
              "      <td>1,000</td>\n",
              "      <td>{'atAGlanceFacts': [{'factValue': '', 'factLab...</td>\n",
              "      <td>NaN</td>\n",
              "      <td>Miami</td>\n",
              "      <td>[{'rating': ['9', '10', 'NR', '6', '3'], 'data...</td>\n",
              "      <td>NaN</td>\n",
              "      <td>33183</td>\n",
              "      <td>Baths</td>\n",
              "      <td>FL</td>\n",
              "      <td>NaN</td>\n",
              "      <td>799,000</td>\n",
              "      <td>0</td>\n",
              "      <td>A10787617</td>\n",
              "    </tr>\n",
              "    <tr>\n",
              "      <th>40</th>\n",
              "      <td>activated</td>\n",
              "      <td>NaN</td>\n",
              "      <td>1104 Rotonda Cir</td>\n",
              "      <td>NaN</td>\n",
              "      <td>{'atAGlanceFacts': [{'factValue': '', 'factLab...</td>\n",
              "      <td>NaN</td>\n",
              "      <td>ROTONDA WEST</td>\n",
              "      <td>[{'rating': ['6', '6', '7'], 'data': {'Distanc...</td>\n",
              "      <td>NaN</td>\n",
              "      <td>33947</td>\n",
              "      <td>NaN</td>\n",
              "      <td>FL</td>\n",
              "      <td>NaN</td>\n",
              "      <td>54,000</td>\n",
              "      <td>0</td>\n",
              "      <td>D6107075</td>\n",
              "    </tr>\n",
              "    <tr>\n",
              "      <th>42</th>\n",
              "      <td>activated</td>\n",
              "      <td>NaN</td>\n",
              "      <td>MLS #: STRI1057289</td>\n",
              "      <td>NaN</td>\n",
              "      <td>{'atAGlanceFacts': [{'factValue': '', 'factLab...</td>\n",
              "      <td>NaN</td>\n",
              "      <td>New York</td>\n",
              "      <td>[{'rating': ['NR', 'NR', '9', '8', '8', '2', '...</td>\n",
              "      <td>NaN</td>\n",
              "      <td>10006</td>\n",
              "      <td>NaN</td>\n",
              "      <td>NY</td>\n",
              "      <td>NaN</td>\n",
              "      <td>850,000</td>\n",
              "      <td>0</td>\n",
              "      <td>STRI1057289</td>\n",
              "    </tr>\n",
              "    <tr>\n",
              "      <th>...</th>\n",
              "      <td>...</td>\n",
              "      <td>...</td>\n",
              "      <td>...</td>\n",
              "      <td>...</td>\n",
              "      <td>...</td>\n",
              "      <td>...</td>\n",
              "      <td>...</td>\n",
              "      <td>...</td>\n",
              "      <td>...</td>\n",
              "      <td>...</td>\n",
              "      <td>...</td>\n",
              "      <td>...</td>\n",
              "      <td>...</td>\n",
              "      <td>...</td>\n",
              "      <td>...</td>\n",
              "      <td>...</td>\n",
              "    </tr>\n",
              "    <tr>\n",
              "      <th>377141</th>\n",
              "      <td>activated</td>\n",
              "      <td>NaN</td>\n",
              "      <td>Mantova Ct</td>\n",
              "      <td>NaN</td>\n",
              "      <td>{'atAGlanceFacts': [{'factValue': '', 'factLab...</td>\n",
              "      <td>NaN</td>\n",
              "      <td>ORLANDO</td>\n",
              "      <td>[{'rating': ['7', '6', 'NR', 'NR', '7'], 'data...</td>\n",
              "      <td>NaN</td>\n",
              "      <td>32836</td>\n",
              "      <td>NaN</td>\n",
              "      <td>FL</td>\n",
              "      <td>NaN</td>\n",
              "      <td>400,000</td>\n",
              "      <td>0</td>\n",
              "      <td>O5763033</td>\n",
              "    </tr>\n",
              "    <tr>\n",
              "      <th>377143</th>\n",
              "      <td>activated</td>\n",
              "      <td>NaN</td>\n",
              "      <td>3500 Coral Way #410</td>\n",
              "      <td>NaN</td>\n",
              "      <td>{'atAGlanceFacts': [{'factValue': '2002', 'fac...</td>\n",
              "      <td>NaN</td>\n",
              "      <td>Miami</td>\n",
              "      <td>[{'rating': ['7', 'NR', '10', '5', '5'], 'data...</td>\n",
              "      <td>842</td>\n",
              "      <td>33145</td>\n",
              "      <td>NaN</td>\n",
              "      <td>FL</td>\n",
              "      <td>NaN</td>\n",
              "      <td>299,000</td>\n",
              "      <td>0</td>\n",
              "      <td>A10768308</td>\n",
              "    </tr>\n",
              "    <tr>\n",
              "      <th>377144</th>\n",
              "      <td>activated</td>\n",
              "      <td>NaN</td>\n",
              "      <td>1212 Laurel St Apt 401</td>\n",
              "      <td>NaN</td>\n",
              "      <td>{'atAGlanceFacts': [{'factValue': '2014', 'fac...</td>\n",
              "      <td>NaN</td>\n",
              "      <td>Nashville</td>\n",
              "      <td>[{'rating': ['1', '3', '2', '8', '3', '1'], 'd...</td>\n",
              "      <td>908</td>\n",
              "      <td>37203</td>\n",
              "      <td>NaN</td>\n",
              "      <td>TN</td>\n",
              "      <td>NaN</td>\n",
              "      <td>530,000</td>\n",
              "      <td>0</td>\n",
              "      <td>2097877</td>\n",
              "    </tr>\n",
              "    <tr>\n",
              "      <th>377154</th>\n",
              "      <td>activated</td>\n",
              "      <td>NaN</td>\n",
              "      <td>2104 Russell Ave</td>\n",
              "      <td>NaN</td>\n",
              "      <td>{'atAGlanceFacts': [{'factValue': '', 'factLab...</td>\n",
              "      <td>NaN</td>\n",
              "      <td>Charlotte</td>\n",
              "      <td>[{'rating': ['2', '3', '3'], 'data': {'Distanc...</td>\n",
              "      <td>NaN</td>\n",
              "      <td>28216</td>\n",
              "      <td>NaN</td>\n",
              "      <td>NC</td>\n",
              "      <td>NaN</td>\n",
              "      <td>99,990</td>\n",
              "      <td>0</td>\n",
              "      <td>3571015</td>\n",
              "    </tr>\n",
              "    <tr>\n",
              "      <th>377183</th>\n",
              "      <td>activated</td>\n",
              "      <td>NaN</td>\n",
              "      <td>7810 Pereida St</td>\n",
              "      <td>NaN</td>\n",
              "      <td>{'atAGlanceFacts': [{'factValue': None, 'factL...</td>\n",
              "      <td>NaN</td>\n",
              "      <td>Houston</td>\n",
              "      <td>[{'rating': ['NA', 'NA', 'NA'], 'data': {'Dist...</td>\n",
              "      <td>NaN</td>\n",
              "      <td>77028</td>\n",
              "      <td>8,479 sqft</td>\n",
              "      <td>TX</td>\n",
              "      <td>NaN</td>\n",
              "      <td>$34,500</td>\n",
              "      <td>0</td>\n",
              "      <td>NaN</td>\n",
              "    </tr>\n",
              "  </tbody>\n",
              "</table>\n",
              "<p>34675 rows × 16 columns</p>\n",
              "</div>\n",
              "    <div class=\"colab-df-buttons\">\n",
              "\n",
              "  <div class=\"colab-df-container\">\n",
              "    <button class=\"colab-df-convert\" onclick=\"convertToInteractive('df-50388664-cfd7-40f8-818d-1fba224c8e8d')\"\n",
              "            title=\"Convert this dataframe to an interactive table.\"\n",
              "            style=\"display:none;\">\n",
              "\n",
              "  <svg xmlns=\"http://www.w3.org/2000/svg\" height=\"24px\" viewBox=\"0 -960 960 960\">\n",
              "    <path d=\"M120-120v-720h720v720H120Zm60-500h600v-160H180v160Zm220 220h160v-160H400v160Zm0 220h160v-160H400v160ZM180-400h160v-160H180v160Zm440 0h160v-160H620v160ZM180-180h160v-160H180v160Zm440 0h160v-160H620v160Z\"/>\n",
              "  </svg>\n",
              "    </button>\n",
              "\n",
              "  <style>\n",
              "    .colab-df-container {\n",
              "      display:flex;\n",
              "      gap: 12px;\n",
              "    }\n",
              "\n",
              "    .colab-df-convert {\n",
              "      background-color: #E8F0FE;\n",
              "      border: none;\n",
              "      border-radius: 50%;\n",
              "      cursor: pointer;\n",
              "      display: none;\n",
              "      fill: #1967D2;\n",
              "      height: 32px;\n",
              "      padding: 0 0 0 0;\n",
              "      width: 32px;\n",
              "    }\n",
              "\n",
              "    .colab-df-convert:hover {\n",
              "      background-color: #E2EBFA;\n",
              "      box-shadow: 0px 1px 2px rgba(60, 64, 67, 0.3), 0px 1px 3px 1px rgba(60, 64, 67, 0.15);\n",
              "      fill: #174EA6;\n",
              "    }\n",
              "\n",
              "    .colab-df-buttons div {\n",
              "      margin-bottom: 4px;\n",
              "    }\n",
              "\n",
              "    [theme=dark] .colab-df-convert {\n",
              "      background-color: #3B4455;\n",
              "      fill: #D2E3FC;\n",
              "    }\n",
              "\n",
              "    [theme=dark] .colab-df-convert:hover {\n",
              "      background-color: #434B5C;\n",
              "      box-shadow: 0px 1px 3px 1px rgba(0, 0, 0, 0.15);\n",
              "      filter: drop-shadow(0px 1px 2px rgba(0, 0, 0, 0.3));\n",
              "      fill: #FFFFFF;\n",
              "    }\n",
              "  </style>\n",
              "\n",
              "    <script>\n",
              "      const buttonEl =\n",
              "        document.querySelector('#df-50388664-cfd7-40f8-818d-1fba224c8e8d button.colab-df-convert');\n",
              "      buttonEl.style.display =\n",
              "        google.colab.kernel.accessAllowed ? 'block' : 'none';\n",
              "\n",
              "      async function convertToInteractive(key) {\n",
              "        const element = document.querySelector('#df-50388664-cfd7-40f8-818d-1fba224c8e8d');\n",
              "        const dataTable =\n",
              "          await google.colab.kernel.invokeFunction('convertToInteractive',\n",
              "                                                    [key], {});\n",
              "        if (!dataTable) return;\n",
              "\n",
              "        const docLinkHtml = 'Like what you see? Visit the ' +\n",
              "          '<a target=\"_blank\" href=https://colab.research.google.com/notebooks/data_table.ipynb>data table notebook</a>'\n",
              "          + ' to learn more about interactive tables.';\n",
              "        element.innerHTML = '';\n",
              "        dataTable['output_type'] = 'display_data';\n",
              "        await google.colab.output.renderOutput(dataTable, element);\n",
              "        const docLink = document.createElement('div');\n",
              "        docLink.innerHTML = docLinkHtml;\n",
              "        element.appendChild(docLink);\n",
              "      }\n",
              "    </script>\n",
              "  </div>\n",
              "\n",
              "\n",
              "<div id=\"df-576a5bfd-af8c-4cb3-bd4f-f0131264d833\">\n",
              "  <button class=\"colab-df-quickchart\" onclick=\"quickchart('df-576a5bfd-af8c-4cb3-bd4f-f0131264d833')\"\n",
              "            title=\"Suggest charts.\"\n",
              "            style=\"display:none;\">\n",
              "\n",
              "<svg xmlns=\"http://www.w3.org/2000/svg\" height=\"24px\"viewBox=\"0 0 24 24\"\n",
              "     width=\"24px\">\n",
              "    <g>\n",
              "        <path d=\"M19 3H5c-1.1 0-2 .9-2 2v14c0 1.1.9 2 2 2h14c1.1 0 2-.9 2-2V5c0-1.1-.9-2-2-2zM9 17H7v-7h2v7zm4 0h-2V7h2v10zm4 0h-2v-4h2v4z\"/>\n",
              "    </g>\n",
              "</svg>\n",
              "  </button>\n",
              "\n",
              "<style>\n",
              "  .colab-df-quickchart {\n",
              "      --bg-color: #E8F0FE;\n",
              "      --fill-color: #1967D2;\n",
              "      --hover-bg-color: #E2EBFA;\n",
              "      --hover-fill-color: #174EA6;\n",
              "      --disabled-fill-color: #AAA;\n",
              "      --disabled-bg-color: #DDD;\n",
              "  }\n",
              "\n",
              "  [theme=dark] .colab-df-quickchart {\n",
              "      --bg-color: #3B4455;\n",
              "      --fill-color: #D2E3FC;\n",
              "      --hover-bg-color: #434B5C;\n",
              "      --hover-fill-color: #FFFFFF;\n",
              "      --disabled-bg-color: #3B4455;\n",
              "      --disabled-fill-color: #666;\n",
              "  }\n",
              "\n",
              "  .colab-df-quickchart {\n",
              "    background-color: var(--bg-color);\n",
              "    border: none;\n",
              "    border-radius: 50%;\n",
              "    cursor: pointer;\n",
              "    display: none;\n",
              "    fill: var(--fill-color);\n",
              "    height: 32px;\n",
              "    padding: 0;\n",
              "    width: 32px;\n",
              "  }\n",
              "\n",
              "  .colab-df-quickchart:hover {\n",
              "    background-color: var(--hover-bg-color);\n",
              "    box-shadow: 0 1px 2px rgba(60, 64, 67, 0.3), 0 1px 3px 1px rgba(60, 64, 67, 0.15);\n",
              "    fill: var(--button-hover-fill-color);\n",
              "  }\n",
              "\n",
              "  .colab-df-quickchart-complete:disabled,\n",
              "  .colab-df-quickchart-complete:disabled:hover {\n",
              "    background-color: var(--disabled-bg-color);\n",
              "    fill: var(--disabled-fill-color);\n",
              "    box-shadow: none;\n",
              "  }\n",
              "\n",
              "  .colab-df-spinner {\n",
              "    border: 2px solid var(--fill-color);\n",
              "    border-color: transparent;\n",
              "    border-bottom-color: var(--fill-color);\n",
              "    animation:\n",
              "      spin 1s steps(1) infinite;\n",
              "  }\n",
              "\n",
              "  @keyframes spin {\n",
              "    0% {\n",
              "      border-color: transparent;\n",
              "      border-bottom-color: var(--fill-color);\n",
              "      border-left-color: var(--fill-color);\n",
              "    }\n",
              "    20% {\n",
              "      border-color: transparent;\n",
              "      border-left-color: var(--fill-color);\n",
              "      border-top-color: var(--fill-color);\n",
              "    }\n",
              "    30% {\n",
              "      border-color: transparent;\n",
              "      border-left-color: var(--fill-color);\n",
              "      border-top-color: var(--fill-color);\n",
              "      border-right-color: var(--fill-color);\n",
              "    }\n",
              "    40% {\n",
              "      border-color: transparent;\n",
              "      border-right-color: var(--fill-color);\n",
              "      border-top-color: var(--fill-color);\n",
              "    }\n",
              "    60% {\n",
              "      border-color: transparent;\n",
              "      border-right-color: var(--fill-color);\n",
              "    }\n",
              "    80% {\n",
              "      border-color: transparent;\n",
              "      border-right-color: var(--fill-color);\n",
              "      border-bottom-color: var(--fill-color);\n",
              "    }\n",
              "    90% {\n",
              "      border-color: transparent;\n",
              "      border-bottom-color: var(--fill-color);\n",
              "    }\n",
              "  }\n",
              "</style>\n",
              "\n",
              "  <script>\n",
              "    async function quickchart(key) {\n",
              "      const quickchartButtonEl =\n",
              "        document.querySelector('#' + key + ' button');\n",
              "      quickchartButtonEl.disabled = true;  // To prevent multiple clicks.\n",
              "      quickchartButtonEl.classList.add('colab-df-spinner');\n",
              "      try {\n",
              "        const charts = await google.colab.kernel.invokeFunction(\n",
              "            'suggestCharts', [key], {});\n",
              "      } catch (error) {\n",
              "        console.error('Error during call to suggestCharts:', error);\n",
              "      }\n",
              "      quickchartButtonEl.classList.remove('colab-df-spinner');\n",
              "      quickchartButtonEl.classList.add('colab-df-quickchart-complete');\n",
              "    }\n",
              "    (() => {\n",
              "      let quickchartButtonEl =\n",
              "        document.querySelector('#df-576a5bfd-af8c-4cb3-bd4f-f0131264d833 button');\n",
              "      quickchartButtonEl.style.display =\n",
              "        google.colab.kernel.accessAllowed ? 'block' : 'none';\n",
              "    })();\n",
              "  </script>\n",
              "</div>\n",
              "    </div>\n",
              "  </div>\n"
            ],
            "text/plain": [
              "           status propertyType                   street  baths  \\\n",
              "7       activated          NaN          6094 Mingle Dr     NaN   \n",
              "16      activated          NaN         2402 NW 22nd Rd   1,750   \n",
              "26      activated          NaN         5755 SW 123 Ave   1,000   \n",
              "40      activated          NaN        1104 Rotonda Cir     NaN   \n",
              "42      activated          NaN       MLS #: STRI1057289    NaN   \n",
              "...           ...          ...                      ...    ...   \n",
              "377141  activated          NaN              Mantova Ct     NaN   \n",
              "377143  activated          NaN     3500 Coral Way #410     NaN   \n",
              "377144  activated          NaN  1212 Laurel St Apt 401     NaN   \n",
              "377154  activated          NaN        2104 Russell Ave     NaN   \n",
              "377183  activated          NaN          7810 Pereida St    NaN   \n",
              "\n",
              "                                                homeFacts fireplace  \\\n",
              "7       {'atAGlanceFacts': [{'factValue': '1976', 'fac...       NaN   \n",
              "16      {'atAGlanceFacts': [{'factValue': '2008', 'fac...       NaN   \n",
              "26      {'atAGlanceFacts': [{'factValue': '', 'factLab...       NaN   \n",
              "40      {'atAGlanceFacts': [{'factValue': '', 'factLab...       NaN   \n",
              "42      {'atAGlanceFacts': [{'factValue': '', 'factLab...       NaN   \n",
              "...                                                   ...       ...   \n",
              "377141  {'atAGlanceFacts': [{'factValue': '', 'factLab...       NaN   \n",
              "377143  {'atAGlanceFacts': [{'factValue': '2002', 'fac...       NaN   \n",
              "377144  {'atAGlanceFacts': [{'factValue': '2014', 'fac...       NaN   \n",
              "377154  {'atAGlanceFacts': [{'factValue': '', 'factLab...       NaN   \n",
              "377183  {'atAGlanceFacts': [{'factValue': None, 'factL...       NaN   \n",
              "\n",
              "                   city                                            schools  \\\n",
              "7               Memphis  [{'rating': ['4', '2', '2'], 'data': {'Distanc...   \n",
              "16      Fort Lauderdale  [{'rating': ['4', 'NR', '3', 'NR'], 'data': {'...   \n",
              "26                Miami  [{'rating': ['9', '10', 'NR', '6', '3'], 'data...   \n",
              "40         ROTONDA WEST  [{'rating': ['6', '6', '7'], 'data': {'Distanc...   \n",
              "42             New York  [{'rating': ['NR', 'NR', '9', '8', '8', '2', '...   \n",
              "...                 ...                                                ...   \n",
              "377141          ORLANDO  [{'rating': ['7', '6', 'NR', 'NR', '7'], 'data...   \n",
              "377143            Miami  [{'rating': ['7', 'NR', '10', '5', '5'], 'data...   \n",
              "377144        Nashville  [{'rating': ['1', '3', '2', '8', '3', '1'], 'd...   \n",
              "377154        Charlotte  [{'rating': ['2', '3', '3'], 'data': {'Distanc...   \n",
              "377183          Houston  [{'rating': ['NA', 'NA', 'NA'], 'data': {'Dist...   \n",
              "\n",
              "         sqft zipcode        beds state stories   target  privatePool  \\\n",
              "7         NaN   38115         NaN    TN     NaN   68,000            0   \n",
              "16      2,203   33311       Baths    FL     NaN  335,000            0   \n",
              "26        NaN   33183       Baths    FL     NaN  799,000            0   \n",
              "40        NaN   33947         NaN    FL     NaN   54,000            0   \n",
              "42        NaN   10006         NaN    NY     NaN  850,000            0   \n",
              "...       ...     ...         ...   ...     ...      ...          ...   \n",
              "377141    NaN   32836         NaN    FL     NaN  400,000            0   \n",
              "377143    842   33145         NaN    FL     NaN  299,000            0   \n",
              "377144    908   37203         NaN    TN     NaN  530,000            0   \n",
              "377154    NaN   28216         NaN    NC     NaN   99,990            0   \n",
              "377183    NaN   77028  8,479 sqft    TX     NaN  $34,500            0   \n",
              "\n",
              "              mlsId  \n",
              "7          10063506  \n",
              "16        F10207914  \n",
              "26        A10787617  \n",
              "40         D6107075  \n",
              "42      STRI1057289  \n",
              "...             ...  \n",
              "377141     O5763033  \n",
              "377143    A10768308  \n",
              "377144      2097877  \n",
              "377154      3571015  \n",
              "377183          NaN  \n",
              "\n",
              "[34675 rows x 16 columns]"
            ]
          },
          "execution_count": 46,
          "metadata": {},
          "output_type": "execute_result"
        }
      ],
      "source": [
        "data[data['propertyType'].isna()]"
      ]
    },
    {
      "cell_type": "code",
      "execution_count": 47,
      "metadata": {
        "colab": {
          "base_uri": "https://localhost:8080/"
        },
        "id": "lmfxTEBvrxsY",
        "outputId": "f86b65a1-63b0-40cb-fd33-03f14a3b8a7c"
      },
      "outputs": [
        {
          "data": {
            "text/plain": [
              "1270"
            ]
          },
          "execution_count": 47,
          "metadata": {},
          "output_type": "execute_result"
        }
      ],
      "source": [
        "data['propertyType'].nunique()"
      ]
    },
    {
      "cell_type": "code",
      "execution_count": 48,
      "metadata": {
        "id": "HTdBwcUfvTao"
      },
      "outputs": [],
      "source": [
        "data['propertyType'] = data['propertyType'].str.lower()\n",
        "\n",
        "# удаляем строки с пропущенным значением\n",
        "# data = data.dropna(subset=['propertyType'])"
      ]
    },
    {
      "cell_type": "code",
      "execution_count": 49,
      "metadata": {
        "id": "i3lCHzJXb2n0"
      },
      "outputs": [],
      "source": [
        "# Определяем функцию для обработки значений\n",
        "def clean_property_type(value):\n",
        "    if pd.isna(value):\n",
        "      return np.nan\n",
        "    # Используем .lower() для обеспечения однообразия (все символы в нижнем регистре)\n",
        "    value = value.lower().strip()\n",
        "\n",
        "    # Обработка дублирований\n",
        "    if '/' in value:\n",
        "      return 'miscellaneous'\n",
        "    elif 'single family' in value or 'single-family' in value or 'detached' in value or 'tiny' in value:\n",
        "        return 'single-family home'\n",
        "    elif 'mobile' in value or 'manufactured' in value or 'prefab' in value or 'modular' in value or 'mo2 le' in value or 'mo2le' in value:\n",
        "        return 'manufactured home (house)'\n",
        "    elif 'cabin' in value or 'ca2 n' in value or 'ca2n' in value:\n",
        "        return 'cabin'\n",
        "    elif 'midcentury' in value or 'mid century' in value:\n",
        "        return 'mid-century'\n",
        "    elif 'multi family' in value or 'multi-family' in value:\n",
        "        return 'multi-family home'\n",
        "    elif 'coop' in value:\n",
        "      return 'co-op'\n",
        "    elif 'cape' in value or 'cod' in value:\n",
        "      return 'cape cod'\n",
        "    elif 'colonial' in value:\n",
        "      return 'colonial home'\n",
        "    elif 'contemporary' in value:\n",
        "      return 'contemporary'\n",
        "    elif 'cottage' in value:\n",
        "      return 'cottage'\n",
        "    elif 'greek' in value or 'revival' in value:\n",
        "      return 'greek revival'\n",
        "    elif 'farmhouse' in value:\n",
        "      return 'farmhouse'\n",
        "    elif 'french' in value:\n",
        "      return 'french country'\n",
        "    elif 'mediterranean' in value:\n",
        "      return 'mediterranean'\n",
        "    elif 'ranch' in value:\n",
        "      return 'ranch'\n",
        "    elif 'split' in value or 'level' in value:\n",
        "      return 'split-level'\n",
        "    elif 'tudor' in value:\n",
        "      return 'tudor'\n",
        "    elif 'victorian' in value or 'queen' in value:\n",
        "      return 'victorian'\n",
        "    elif 'european' in value:\n",
        "      return 'european houses style'\n",
        "    elif 'log' in value:\n",
        "      return 'log home'\n",
        "    elif 'apartment' in value:\n",
        "      return 'apartment'\n",
        "    elif 'condo' in value:\n",
        "      return 'condo'\n",
        "    elif 'townhome' in value or 'townhouse' in value:\n",
        "      return 'townhome'\n",
        "    elif 'land' in value:\n",
        "      return 'land'\n",
        "    elif 'traditional' in value or 'story' in value or 'stories' in value:\n",
        "      return 'land'\n",
        "    elif 'transitional' in value:\n",
        "      return 'transitional'\n",
        "    elif 'florida' in value:\n",
        "      return 'florida'\n",
        "    elif 'bungalow' in value:\n",
        "      return 'bungalow'\n",
        "    elif 'garden' in value:\n",
        "      return 'garden home'\n",
        "    elif 'other' in value or 'custom' in value or 'unknown' in value:\n",
        "      return 'other'\n",
        "    elif 'craftsman' in value:\n",
        "      return 'craftsman'\n",
        "    elif 'occupancy' in value:\n",
        "      return 'multiple occupancy'\n",
        "    elif 'cluster home' in value:\n",
        "      return 'cluster home'\n",
        "    elif 'federal' in value:\n",
        "      return 'federal'\n",
        "    else:\n",
        "        # Если не соответствует ни одному из вышеуказанных, возвращаем исходное значение\n",
        "        return 'other'\n",
        "\n",
        "# Применяем функцию к столбцу 'propertyType'\n",
        "data['propertyType'] = data['propertyType'].apply(clean_property_type)"
      ]
    },
    {
      "cell_type": "code",
      "execution_count": 50,
      "metadata": {
        "colab": {
          "base_uri": "https://localhost:8080/"
        },
        "id": "rz4rNkyRKIYM",
        "outputId": "5e792527-20df-4f1b-e600-1eb385e588a9"
      },
      "outputs": [
        {
          "data": {
            "text/plain": [
              "single-family home           187097\n",
              "condo                         42549\n",
              "miscellaneous                 34507\n",
              "land                          20576\n",
              "townhome                      18499\n",
              "multi-family home             11982\n",
              "other                          4319\n",
              "co-op                          3796\n",
              "contemporary                   2422\n",
              "ranch                          2374\n",
              "colonial home                  1314\n",
              "apartment                       939\n",
              "split-level                     716\n",
              "florida                         615\n",
              "transitional                    592\n",
              "bungalow                        478\n",
              "cape cod                        407\n",
              "garden home                     336\n",
              "mediterranean                   235\n",
              "craftsman                       208\n",
              "multiple occupancy              158\n",
              "cluster home                    123\n",
              "federal                         119\n",
              "victorian                       118\n",
              "french country                  112\n",
              "manufactured home (house)        84\n",
              "tudor                            78\n",
              "cottage                          76\n",
              "farmhouse                        46\n",
              "european houses style            26\n",
              "cabin                            14\n",
              "log home                          4\n",
              "mid-century                       2\n",
              "greek revival                     1\n",
              "Name: propertyType, dtype: int64"
            ]
          },
          "execution_count": 50,
          "metadata": {},
          "output_type": "execute_result"
        }
      ],
      "source": [
        "data['propertyType'].value_counts()"
      ]
    },
    {
      "cell_type": "markdown",
      "metadata": {
        "id": "HeOSj6hdZmIo"
      },
      "source": [
        "# Столбец street\n",
        "\n",
        "По идеи полезной информации для модели не несёт"
      ]
    },
    {
      "cell_type": "code",
      "execution_count": 51,
      "metadata": {
        "colab": {
          "base_uri": "https://localhost:8080/"
        },
        "id": "1pfopqD_fcj-",
        "outputId": "557adccd-a4ab-43c8-e6fc-b63668d623cf"
      },
      "outputs": [
        {
          "data": {
            "text/plain": [
              "array(['240 Heather Ln', '12911 E Heroy Ave', '2005 Westridge Rd', ...,\n",
              "       '15509 Linden Blvd', '7810 Pereida St', '5983 Midcrown Dr'],\n",
              "      dtype=object)"
            ]
          },
          "execution_count": 51,
          "metadata": {},
          "output_type": "execute_result"
        }
      ],
      "source": [
        "# в принципе не особо нужный столбец\n",
        "data['street'].unique()"
      ]
    },
    {
      "cell_type": "markdown",
      "metadata": {
        "id": "l8Dtaadz2UgC"
      },
      "source": [
        "# Столбец baths\n",
        "\n",
        "Нужно очистись столбец от любых слов и символов, оставиви только числа"
      ]
    },
    {
      "cell_type": "code",
      "execution_count": 52,
      "metadata": {
        "colab": {
          "base_uri": "https://localhost:8080/"
        },
        "id": "CtdkyWbm2o3Y",
        "outputId": "1b247955-1387-4ff6-dfad-c6ab0464bedd"
      },
      "outputs": [
        {
          "name": "stderr",
          "output_type": "stream",
          "text": [
            "<ipython-input-52-7368de0e8ffc>:5: FutureWarning: The default value of regex will change from True to False in a future version.\n",
            "  data['cleaned_baths'] = data['cleaned_baths'].str.replace('[^0-9/\\- .]', '').str.strip()\n"
          ]
        }
      ],
      "source": [
        "# Заменяем запятые на точки\n",
        "data['cleaned_baths'] = data['baths'].str.replace(',', '.')\n",
        "\n",
        "# Оставляем только цифры и точки\n",
        "data['cleaned_baths'] = data['cleaned_baths'].str.replace('[^0-9/\\- .]', '').str.strip()\n",
        "\n",
        "# Заменяем значения без чисел на np.nan\n",
        "mask = data['cleaned_baths'].str.contains(r'\\d', na=False)\n",
        "data.loc[~mask, 'cleaned_baths'] = np.nan\n",
        "\n",
        "# Замена NaN значений на какое-либо уместное значение или удаление\n",
        "data['cleaned_baths'].fillna(value=0, inplace=True)"
      ]
    },
    {
      "cell_type": "code",
      "execution_count": 53,
      "metadata": {
        "colab": {
          "base_uri": "https://localhost:8080/"
        },
        "id": "YWjnBUXq2u4f",
        "outputId": "9f4a1908-8ebb-489f-dd66-b76b5826a033"
      },
      "outputs": [
        {
          "data": {
            "text/plain": [
              "array(['3.5', '3', '2', '8', 0, '1.750', '4', '5', '1.000', '7', '2.0',\n",
              "       '3.0', '1', '4.0', '2.1', '2.5', '4.5', '6', '2.500', '5.5', '1.0',\n",
              "       '1.5', '4.000', '2.000', '3.000', '8.0', '5.0', '1.500', '7.0',\n",
              "       '1.250', '9', '2.250', '0', '6.0', '12', '3.500', '2.750', '750',\n",
              "       '10', '19', '10.0', '7.5', '0 / 0', '18', '11', '5.000', '1.75',\n",
              "       '12.0', '1.1', '6.5', '16', '13', '14', '9.0', '8.5', '17', '241',\n",
              "       '16.0', '10.5', '7.500', '11.0', '20', '40', '1-0 / 1-0 / 1',\n",
              "       '14.0', '2.75', '24', '22.0', '0.00', '2.25', '3.1', '3.25', '22',\n",
              "       '32', '18.0', '0.0', '27', '26', '20.0', '9.5', '15', '3.75', '29',\n",
              "       '116 / 116 / 116', '21', '5.2', '14.5', '76', '13.0', '3-1 / 2-2',\n",
              "       '15.0', '23', '3.3', '43', '1.25', '34', '2.2', '1 / 1 / 1 / 1',\n",
              "       '55.0', '25', '12.5', '44', '0.5', '4.25', '4.75', '0.75', '4.1',\n",
              "       '5.25', '41.0', '1.8', '36', '30', '24.0', '23.0', '28', '2.8',\n",
              "       '34.0', '64.0', '11.5', '39', '30.0', '17.0', '42', '3.2',\n",
              "       '2-1 / 2-1 / 1-1 / 1-1', '60', '1 / 1-0 / 1-0 / 1-0', '6.75',\n",
              "       '1-2', '68', '44.0'], dtype=object)"
            ]
          },
          "execution_count": 53,
          "metadata": {},
          "output_type": "execute_result"
        }
      ],
      "source": [
        "data['cleaned_baths'].unique()"
      ]
    },
    {
      "cell_type": "markdown",
      "metadata": {
        "id": "7zvp-D2_5VE7"
      },
      "source": [
        "Избавимся от крайних значений"
      ]
    },
    {
      "cell_type": "code",
      "execution_count": 54,
      "metadata": {
        "colab": {
          "base_uri": "https://localhost:8080/"
        },
        "id": "aqFxoQIN54hk",
        "outputId": "64bc0a74-767b-407f-ea8c-99051cb74606"
      },
      "outputs": [
        {
          "name": "stderr",
          "output_type": "stream",
          "text": [
            "<ipython-input-54-2fb23bcb30f4>:15: SettingWithCopyWarning: \n",
            "A value is trying to be set on a copy of a slice from a DataFrame.\n",
            "Try using .loc[row_indexer,col_indexer] = value instead\n",
            "\n",
            "See the caveats in the documentation: https://pandas.pydata.org/pandas-docs/stable/user_guide/indexing.html#returning-a-view-versus-a-copy\n",
            "  data['cleaned_baths'] = data['cleaned_baths'].astype(int)\n"
          ]
        }
      ],
      "source": [
        "# Удаление строк, содержащих символ \"/\"\n",
        "data = data[~data['cleaned_baths'].str.contains('/', na=False)]\n",
        "data = data[~data['cleaned_baths'].str.contains('-', na=False)]\n",
        "\n",
        "# Преобразование в float\n",
        "data['cleaned_baths'] = data['cleaned_baths'].astype(float)\n",
        "\n",
        "# Округление значений\n",
        "data['cleaned_baths'] = data['cleaned_baths'].round()\n",
        "\n",
        "# Удаление значений больше 15\n",
        "data = data[data['cleaned_baths'] <= 15]\n",
        "\n",
        "# Преобразование в int\n",
        "data['cleaned_baths'] = data['cleaned_baths'].astype(int)\n"
      ]
    },
    {
      "cell_type": "code",
      "execution_count": 55,
      "metadata": {
        "colab": {
          "base_uri": "https://localhost:8080/"
        },
        "id": "IQK_YwuZ5-Mt",
        "outputId": "9c210bac-6ae5-46ae-80b7-56d6cb2752a2"
      },
      "outputs": [
        {
          "data": {
            "text/plain": [
              "array([ 4,  3,  2,  8,  0,  5,  1,  7,  6,  9, 12, 10, 11, 13, 14, 15])"
            ]
          },
          "execution_count": 55,
          "metadata": {},
          "output_type": "execute_result"
        }
      ],
      "source": [
        "data['cleaned_baths'].unique()"
      ]
    },
    {
      "cell_type": "markdown",
      "metadata": {
        "id": "8gWyrYFT5pjb"
      },
      "source": [
        "# Столбец homeFacts\n",
        "\n",
        "Для его обработки нужно предварительно десериализовать данные, что поможет, к тому же, создать новые призанки"
      ]
    },
    {
      "cell_type": "code",
      "execution_count": 56,
      "metadata": {
        "colab": {
          "base_uri": "https://localhost:8080/",
          "height": 53
        },
        "id": "tkgukB6hfdMs",
        "outputId": "6017e110-5499-4c16-a629-6d803b27a175"
      },
      "outputs": [
        {
          "data": {
            "application/vnd.google.colaboratory.intrinsic+json": {
              "type": "string"
            },
            "text/plain": [
              "\"{'atAGlanceFacts': [{'factValue': '2019', 'factLabel': 'Year built'}, {'factValue': '', 'factLabel': 'Remodeled year'}, {'factValue': 'Central A/C, Heat Pump', 'factLabel': 'Heating'}, {'factValue': '', 'factLabel': 'Cooling'}, {'factValue': '', 'factLabel': 'Parking'}, {'factValue': None, 'factLabel': 'lotsize'}, {'factValue': '$144', 'factLabel': 'Price/sqft'}]}\""
            ]
          },
          "execution_count": 56,
          "metadata": {},
          "output_type": "execute_result"
        }
      ],
      "source": [
        "data['homeFacts'][0]"
      ]
    },
    {
      "cell_type": "code",
      "execution_count": 57,
      "metadata": {
        "id": "uO6oE6dx6az6"
      },
      "outputs": [],
      "source": [
        "import ast\n",
        "import pandas as pd\n",
        "\n",
        "# 1. Десериализация\n",
        "data['homeFacts_deserialized'] = data['homeFacts'].apply(lambda x: ast.literal_eval(x) if isinstance(x, str) else {})\n",
        "\n",
        "# 2. Преобразование atAGlanceFacts в словарь\n",
        "def extract_facts(facts_dict):\n",
        "    facts = facts_dict.get('atAGlanceFacts', [])\n",
        "    return {item['factLabel']: item['factValue'] for item in facts}\n",
        "\n",
        "data['homeFacts_extracted'] = data['homeFacts_deserialized'].apply(extract_facts)\n",
        "\n",
        "# 3. Преобразование словарей в DataFrame\n",
        "new_facts_df = pd.DataFrame(data['homeFacts_extracted'].tolist())\n",
        "\n",
        "# 4. Добавление новых столбцов в исходный DataFrame\n",
        "data = pd.concat([data, new_facts_df], axis=1)\n",
        "\n",
        "# Удаляем ненужные столбцы\n",
        "data.drop(columns=['homeFacts', 'homeFacts_deserialized', 'homeFacts_extracted'], inplace=True)"
      ]
    },
    {
      "cell_type": "markdown",
      "metadata": {
        "id": "y4O9KAcn7fvw"
      },
      "source": [
        "В итоге мы получаем следующие новые столбцы: Year built, Remodeled year, Heating, Cooling, Parking, lotsize, Price/sqrt"
      ]
    },
    {
      "cell_type": "markdown",
      "metadata": {
        "id": "sg0qyQZwfOEi"
      },
      "source": [
        "# Столбец fireplace\n",
        "\n",
        "Отвечает за наличие камина, переведем все в нижний регистр, все, что содержит в названии fireplace, yes или числа больше 0 будем считать за наличие камина, остальное за отсутствие"
      ]
    },
    {
      "cell_type": "code",
      "execution_count": 58,
      "metadata": {
        "colab": {
          "base_uri": "https://localhost:8080/"
        },
        "id": "0WroCrPRfdgd",
        "outputId": "1c243826-14c3-409f-8764-93bdd6ebcdff"
      },
      "outputs": [
        {
          "data": {
            "text/plain": [
              "yes                                                                         50293\n",
              "Yes                                                                         20821\n",
              "1                                                                           13189\n",
              "2                                                                            2144\n",
              "Not Applicable                                                               1992\n",
              "Fireplace                                                                     577\n",
              "3                                                                             513\n",
              "Living Room                                                                   413\n",
              "LOCATION                                                                      348\n",
              "Gas/Gas Logs                                                                  300\n",
              "Wood Burning                                                                  288\n",
              "No                                                                            282\n",
              "0                                                                             263\n",
              "Fireplace YN                                                                  261\n",
              "FAMILYRM                                                                      246\n",
              "Fireplace Features                                                            239\n",
              "1 Fireplace                                                                   232\n",
              "Special Features                                                              226\n",
              "Great Room                                                                    207\n",
              "Wood                                                                          206\n",
              "Gas Logs, Great Room                                                          188\n",
              "Ceiling Fan                                                                   186\n",
              "Living Room, Wood Burning                                                     179\n",
              "4                                                                             174\n",
              "FAMILYRM, Gas Logs                                                            146\n",
              "Family Room, Wood Burning                                                     143\n",
              "Gas                                                                           121\n",
              "Gas Logs, In Great Room                                                       112\n",
              "Gas Logs                                                                      106\n",
              "Gas Logs, In Living Room                                                      103\n",
              "Family Room                                                                    93\n",
              "Ceiling Fan, Walk-In Closets                                                   93\n",
              "Gas Logs, Living Room                                                          89\n",
              "Gas Logs, In Den/Family Room                                                   89\n",
              "Gas Log, One                                                                   89\n",
              "Gas, Family Room                                                               71\n",
              "One                                                                            69\n",
              "Decorative                                                                     69\n",
              "Electric                                                                       68\n",
              "Ceiling Fan, Extra Closets, Storage, Walk-In Closets                           66\n",
              "Den                                                                            65\n",
              "Ceiling Fan, Extra Closets, Storage, Utility Connection, Walk-In Closets       62\n",
              "5                                                                              62\n",
              "# Fireplaces - Woodburning                                                     58\n",
              "Log Woodburning, One                                                           57\n",
              "# Fireplaces - Gas                                                             55\n",
              "Gas, Living Room                                                               54\n",
              "In Living Room                                                                 53\n",
              "Ceiling Fan, Extra Closets, Walk-In Closets                                    49\n",
              "1 Fireplace, Fireplace Family Rm                                               49\n",
              "Name: fireplace, dtype: int64"
            ]
          },
          "execution_count": 58,
          "metadata": {},
          "output_type": "execute_result"
        }
      ],
      "source": [
        "data['fireplace'].value_counts()[0:50]"
      ]
    },
    {
      "cell_type": "code",
      "execution_count": 59,
      "metadata": {
        "colab": {
          "base_uri": "https://localhost:8080/"
        },
        "id": "X9oJyHcNfNWC",
        "outputId": "883d1bb0-24f9-4435-a9c6-e7c9999c99e3"
      },
      "outputs": [
        {
          "name": "stdout",
          "output_type": "stream",
          "text": [
            "0    285490\n",
            "1     91523\n",
            "Name: has_fireplace, dtype: int64\n"
          ]
        }
      ],
      "source": [
        "def process_fireplace(value):\n",
        "    # Если значение является строкой и содержит слова типа \"yes\", \"fireplace\" или определенные числа,\n",
        "    # которые могут указывать на наличие камина, возвращаем 1 (наличие камина)\n",
        "    if isinstance(value, str):\n",
        "        value = value.lower()\n",
        "        if 'yes' in value or 'gas log' in value or 'fireplace' in value or value.isdigit() and int(value) > 0:\n",
        "            return 1\n",
        "    return 0  # Во всех других случаях возвращаем 0 (отсутствие камина)\n",
        "\n",
        "# Применяем функцию к столбцу 'fireplace'\n",
        "data['has_fireplace'] = data['fireplace'].apply(process_fireplace)\n",
        "\n",
        "# Проверяем результат\n",
        "print(data['has_fireplace'].value_counts())\n"
      ]
    },
    {
      "cell_type": "markdown",
      "metadata": {
        "id": "xEjSPOCcfvtL"
      },
      "source": [
        "# Столбец city\n",
        "\n",
        "Просто приведем к нижнему регистру"
      ]
    },
    {
      "cell_type": "code",
      "execution_count": 60,
      "metadata": {
        "colab": {
          "base_uri": "https://localhost:8080/"
        },
        "id": "WAMN3OUZfdv2",
        "outputId": "0d28aada-ca80-4829-ef47-46feca5b2776"
      },
      "outputs": [
        {
          "data": {
            "text/plain": [
              "2007"
            ]
          },
          "execution_count": 60,
          "metadata": {},
          "output_type": "execute_result"
        }
      ],
      "source": [
        "data['city'].nunique()"
      ]
    },
    {
      "cell_type": "code",
      "execution_count": 61,
      "metadata": {
        "id": "_nxE_93if0bM"
      },
      "outputs": [],
      "source": [
        "data['city'] = data['city'].str.lower()"
      ]
    },
    {
      "cell_type": "code",
      "execution_count": 62,
      "metadata": {
        "colab": {
          "base_uri": "https://localhost:8080/"
        },
        "id": "yllVvxOKf11E",
        "outputId": "fe102f41-7a72-4e5e-fe7d-979c049c9b13"
      },
      "outputs": [
        {
          "data": {
            "text/plain": [
              "1891"
            ]
          },
          "execution_count": 62,
          "metadata": {},
          "output_type": "execute_result"
        }
      ],
      "source": [
        "data['city'].nunique()"
      ]
    },
    {
      "cell_type": "markdown",
      "metadata": {
        "id": "KsKO3C_X7opT"
      },
      "source": [
        "# Столбец schools\n",
        "\n",
        "Для его обработки нужно предварительно десериализовать данные, что поможет, к тому же, создать новые призанки"
      ]
    },
    {
      "cell_type": "code",
      "execution_count": 63,
      "metadata": {
        "colab": {
          "base_uri": "https://localhost:8080/"
        },
        "id": "xDEEsMwJjUtv",
        "outputId": "c6da56fc-633d-4c45-bf95-26908ae1efc2"
      },
      "outputs": [
        {
          "data": {
            "text/plain": [
              "array(['[{\\'rating\\': [\\'4\\', \\'4\\', \\'7\\', \\'NR\\', \\'4\\', \\'7\\', \\'NR\\', \\'NR\\'], \\'data\\': {\\'Distance\\': [\\'2.7 mi\\', \\'3.6 mi\\', \\'5.1 mi\\', \\'4.0 mi\\', \\'10.5 mi\\', \\'12.6 mi\\', \\'2.7 mi\\', \\'3.1 mi\\'], \\'Grades\\': [\\'3–5\\', \\'6–8\\', \\'9–12\\', \\'PK–2\\', \\'6–8\\', \\'9–12\\', \\'PK–5\\', \\'K–12\\']}, \\'name\\': [\\'Southern Pines Elementary School\\', \\'Southern Middle School\\', \\'Pinecrest High School\\', \\'Southern Pines Primary School\\', \"Crain\\'s Creek Middle School\", \\'Union Pines High School\\', \\'Episcopal Day Private School\\', \\'Calvary Christian Private School\\']}]',\n",
              "       \"[{'rating': ['4/10', 'None/10', '4/10'], 'data': {'Distance': ['1.65mi', '1.32mi', '1.01mi'], 'Grades': ['9-12', '3-8', 'PK-8']}, 'name': ['East Valley High School&Extension', 'Eastvalley Middle School', 'Trentwood Elementary School']}]\",\n",
              "       \"[{'rating': ['8/10', '4/10', '8/10'], 'data': {'Distance': ['1.19mi', '2.06mi', '2.63mi'], 'Grades': ['6-8', 'K-5', '9-12']}, 'name': ['Paul Revere Middle School', 'Brentwood Science School', 'Palisades Charter High School']}]\",\n",
              "       ...,\n",
              "       \"[{'rating': ['5/10', '4/10'], 'data': {'Distance': ['0.48mi', '0.73mi'], 'Grades': ['PK-5', '6-8']}, 'name': ['Ps 48 William Wordsworth', 'Jhs 8 Richard S Grossley']}]\",\n",
              "       \"[{'rating': ['NA', 'NA', 'NA'], 'data': {'Distance': ['1.3 mi', '0.5 mi', '1.9 mi'], 'Grades': ['PK-5', '6-8', '9-12']}, 'name': ['Hiliard El', 'Forest Brook Middle', 'North Forest High School']}]\",\n",
              "       nan], dtype=object)"
            ]
          },
          "execution_count": 63,
          "metadata": {},
          "output_type": "execute_result"
        }
      ],
      "source": [
        "data['schools'].unique()"
      ]
    },
    {
      "cell_type": "code",
      "execution_count": 64,
      "metadata": {
        "colab": {
          "base_uri": "https://localhost:8080/"
        },
        "id": "JioT7Au1eZgT",
        "outputId": "d7413665-ccc3-42a5-82df-bca113b931db"
      },
      "outputs": [
        {
          "name": "stdout",
          "output_type": "stream",
          "text": [
            "0    [{'rating': ['4', '4', '7', 'NR', '4', '7', 'N...\n",
            "1    [{'rating': ['4/10', 'None/10', '4/10'], 'data...\n",
            "2    [{'rating': ['8/10', '4/10', '8/10'], 'data': ...\n",
            "3    [{'rating': ['9/10', '9/10', '10/10', '9/10'],...\n",
            "4    [{'rating': ['4/10', '5/10', '5/10'], 'data': ...\n",
            "Name: schools_deserialized, dtype: object\n"
          ]
        }
      ],
      "source": [
        "def deserialize(row):\n",
        "    try:\n",
        "        return ast.literal_eval(row)\n",
        "    except (ValueError, SyntaxError):\n",
        "        return None\n",
        "\n",
        "data['schools_deserialized'] = data['schools'].apply(deserialize)\n",
        "\n",
        "# Теперь у вас есть столбец 'schools_deserialized' с десериализованными данными\n",
        "print(data['schools_deserialized'].head())"
      ]
    },
    {
      "cell_type": "code",
      "execution_count": 66,
      "metadata": {
        "id": "kKiaTQLWe6dD"
      },
      "outputs": [],
      "source": [
        "import pandas as pd\n",
        "import ast\n",
        "\n",
        "# Предположим, у вас уже есть DataFrame df с десериализованными данными в столбце 'schools_deserialized'\n",
        "\n",
        "def get_school_ratings(row):\n",
        "    try:\n",
        "        return row[0]['rating']\n",
        "    except:\n",
        "        return None\n",
        "\n",
        "def get_school_distances(row):\n",
        "    try:\n",
        "        return row[0]['data']['Distance']\n",
        "    except:\n",
        "        return None\n",
        "\n",
        "def get_school_grades(row):\n",
        "    try:\n",
        "        return row[0]['data']['Grades']\n",
        "    except:\n",
        "        return None\n",
        "\n",
        "def get_school_names(row):\n",
        "    try:\n",
        "        return row[0]['name']\n",
        "    except:\n",
        "        return None\n",
        "\n",
        "data['school_ratings'] = data['schools_deserialized'].apply(get_school_ratings)\n",
        "data['school_distances'] = data['schools_deserialized'].apply(get_school_distances)\n",
        "data['school_grades'] = data['schools_deserialized'].apply(get_school_grades)\n",
        "data['school_names'] = data['schools_deserialized'].apply(get_school_names)\n"
      ]
    },
    {
      "cell_type": "code",
      "execution_count": 67,
      "metadata": {
        "id": "rJdRKpuwgE85"
      },
      "outputs": [],
      "source": [
        "# Удаляем временный столбец 'schools_deserialized'\n",
        "data.drop(columns=['schools_deserialized'], inplace=True)"
      ]
    },
    {
      "cell_type": "code",
      "execution_count": 68,
      "metadata": {
        "id": "P9S8p8Pbhh1M"
      },
      "outputs": [],
      "source": [
        "# Вычисление среднего рейтинга школ\n",
        "def average_rating(ratings):\n",
        "    try:\n",
        "        valid_ratings = [int(r) for r in ratings if isinstance(r, (int, float)) or (isinstance(r, str) and r.replace(\"/\", \"\").isdigit())]\n",
        "        if valid_ratings:\n",
        "            return sum(valid_ratings) / len(valid_ratings)\n",
        "        return None\n",
        "    except:\n",
        "        return None\n",
        "\n",
        "# Вычисление числа школ\n",
        "def count_schools(names):\n",
        "    try:\n",
        "        return len(names)\n",
        "    except:\n",
        "        return None\n",
        "\n",
        "# Вычисление расстояние до ближайшей школы\n",
        "def min_distance(distances):\n",
        "    try:\n",
        "        valid_distances = [float(d.replace('mi', '').strip()) for d in distances if 'mi' in d]\n",
        "        if valid_distances:\n",
        "            return min(valid_distances)\n",
        "        return None\n",
        "    except:\n",
        "        return None\n",
        "\n",
        "data['avg_rating'] = data['school_ratings'].apply(average_rating)\n",
        "data['num_schools'] = data['school_names'].apply(count_schools)\n",
        "data['min_distance_to_school'] = data['school_distances'].apply(min_distance)"
      ]
    },
    {
      "cell_type": "code",
      "execution_count": 69,
      "metadata": {
        "colab": {
          "base_uri": "https://localhost:8080/"
        },
        "id": "Pjh1HKHcgQTx",
        "outputId": "ff8d0f9c-3d5f-411f-8246-9beb19942f73"
      },
      "outputs": [
        {
          "name": "stdout",
          "output_type": "stream",
          "text": [
            "        avg_rating  num_schools  min_distance_to_school\n",
            "0              5.2          8.0                    2.70\n",
            "1              NaN          3.0                    1.01\n",
            "2              NaN          3.0                    1.19\n",
            "3              NaN          4.0                    0.10\n",
            "4              NaN          3.0                    3.03\n",
            "...            ...          ...                     ...\n",
            "368929         NaN          NaN                     NaN\n",
            "368972         NaN          NaN                     NaN\n",
            "369037         NaN          NaN                     NaN\n",
            "369068         NaN          NaN                     NaN\n",
            "369092         NaN          NaN                     NaN\n",
            "\n",
            "[377013 rows x 3 columns]\n"
          ]
        }
      ],
      "source": [
        "print(data[['avg_rating', 'num_schools', 'min_distance_to_school']])"
      ]
    },
    {
      "cell_type": "code",
      "execution_count": 70,
      "metadata": {
        "colab": {
          "base_uri": "https://localhost:8080/"
        },
        "id": "hQhX7QJ2gWij",
        "outputId": "e60dab21-82fd-4bd6-b915-3a254a373279"
      },
      "outputs": [
        {
          "data": {
            "text/plain": [
              "268152"
            ]
          },
          "execution_count": 70,
          "metadata": {},
          "output_type": "execute_result"
        }
      ],
      "source": [
        "data['avg_rating'].isna().sum()"
      ]
    },
    {
      "cell_type": "code",
      "execution_count": 71,
      "metadata": {
        "id": "gFnBP_jahJMt"
      },
      "outputs": [],
      "source": [
        "# Замена пропущенных значений в 'avg_rating' медианой\n",
        "median_rating = data['avg_rating'].median()\n",
        "data['avg_rating'].fillna(median_rating, inplace=True)\n",
        "\n",
        "# Замена пропущенных значений в 'num_schools' на 0\n",
        "data['num_schools'].fillna(0, inplace=True)\n",
        "\n",
        "# Замена пропущенных значений в 'min_distance_to_school' максимальным значением\n",
        "max_distance = data['min_distance_to_school'].max()\n",
        "data['min_distance_to_school'].fillna(max_distance, inplace=True)"
      ]
    },
    {
      "cell_type": "code",
      "execution_count": 72,
      "metadata": {
        "id": "ZaxNdVxVEecj"
      },
      "outputs": [],
      "source": [
        "data.drop(['school_ratings', 'school_distances', 'school_grades', 'school_names'], axis=1, inplace=True)"
      ]
    },
    {
      "cell_type": "markdown",
      "metadata": {
        "id": "z5FnfRuSSff1"
      },
      "source": [
        "# Столбец sqft\n",
        "\n",
        "Уберем лишние символы, оставив только числа"
      ]
    },
    {
      "cell_type": "code",
      "execution_count": 73,
      "metadata": {
        "colab": {
          "base_uri": "https://localhost:8080/"
        },
        "id": "tKt4-rF3feMx",
        "outputId": "a698e8ff-a862-4ce9-e0e8-9a8e39169c51"
      },
      "outputs": [
        {
          "data": {
            "text/plain": [
              "array(['2900', '1,947 sqft', '3,000 sqft', ..., '4146', '4371',\n",
              "       'Total interior livable area: 4,615 sqft'], dtype=object)"
            ]
          },
          "execution_count": 73,
          "metadata": {},
          "output_type": "execute_result"
        }
      ],
      "source": [
        "data['sqft'].unique()"
      ]
    },
    {
      "cell_type": "code",
      "execution_count": 74,
      "metadata": {
        "colab": {
          "base_uri": "https://localhost:8080/",
          "height": 808
        },
        "id": "EbqQpv64v2IT",
        "outputId": "8b2c7330-05d4-4f76-b4dc-12dafccd70ba"
      },
      "outputs": [
        {
          "data": {
            "text/html": [
              "\n",
              "  <div id=\"df-d38b364d-dbf9-4ba5-849a-d7d5ee12e36d\" class=\"colab-df-container\">\n",
              "    <div>\n",
              "<style scoped>\n",
              "    .dataframe tbody tr th:only-of-type {\n",
              "        vertical-align: middle;\n",
              "    }\n",
              "\n",
              "    .dataframe tbody tr th {\n",
              "        vertical-align: top;\n",
              "    }\n",
              "\n",
              "    .dataframe thead th {\n",
              "        text-align: right;\n",
              "    }\n",
              "</style>\n",
              "<table border=\"1\" class=\"dataframe\">\n",
              "  <thead>\n",
              "    <tr style=\"text-align: right;\">\n",
              "      <th></th>\n",
              "      <th>status</th>\n",
              "      <th>propertyType</th>\n",
              "      <th>street</th>\n",
              "      <th>baths</th>\n",
              "      <th>fireplace</th>\n",
              "      <th>city</th>\n",
              "      <th>schools</th>\n",
              "      <th>sqft</th>\n",
              "      <th>zipcode</th>\n",
              "      <th>beds</th>\n",
              "      <th>...</th>\n",
              "      <th>Remodeled year</th>\n",
              "      <th>Heating</th>\n",
              "      <th>Cooling</th>\n",
              "      <th>Parking</th>\n",
              "      <th>lotsize</th>\n",
              "      <th>Price/sqft</th>\n",
              "      <th>has_fireplace</th>\n",
              "      <th>avg_rating</th>\n",
              "      <th>num_schools</th>\n",
              "      <th>min_distance_to_school</th>\n",
              "    </tr>\n",
              "  </thead>\n",
              "  <tbody>\n",
              "    <tr>\n",
              "      <th>4</th>\n",
              "      <td>for sale</td>\n",
              "      <td>miscellaneous</td>\n",
              "      <td>1524 Kiscoe St</td>\n",
              "      <td>NaN</td>\n",
              "      <td>NaN</td>\n",
              "      <td>palm bay</td>\n",
              "      <td>[{'rating': ['4/10', '5/10', '5/10'], 'data': ...</td>\n",
              "      <td>NaN</td>\n",
              "      <td>32908</td>\n",
              "      <td>NaN</td>\n",
              "      <td>...</td>\n",
              "      <td></td>\n",
              "      <td></td>\n",
              "      <td></td>\n",
              "      <td></td>\n",
              "      <td>10,019 sqft</td>\n",
              "      <td>None</td>\n",
              "      <td>0</td>\n",
              "      <td>5.250000</td>\n",
              "      <td>3.0</td>\n",
              "      <td>3.03</td>\n",
              "    </tr>\n",
              "    <tr>\n",
              "      <th>7</th>\n",
              "      <td>activated</td>\n",
              "      <td>NaN</td>\n",
              "      <td>6094 Mingle Dr</td>\n",
              "      <td>NaN</td>\n",
              "      <td>NaN</td>\n",
              "      <td>memphis</td>\n",
              "      <td>[{'rating': ['4', '2', '2'], 'data': {'Distanc...</td>\n",
              "      <td>NaN</td>\n",
              "      <td>38115</td>\n",
              "      <td>NaN</td>\n",
              "      <td>...</td>\n",
              "      <td></td>\n",
              "      <td></td>\n",
              "      <td></td>\n",
              "      <td></td>\n",
              "      <td>8,750 Sq. Ft.</td>\n",
              "      <td>$57 / Sq. Ft.</td>\n",
              "      <td>0</td>\n",
              "      <td>2.666667</td>\n",
              "      <td>3.0</td>\n",
              "      <td>0.40</td>\n",
              "    </tr>\n",
              "    <tr>\n",
              "      <th>15</th>\n",
              "      <td>new construction</td>\n",
              "      <td>land</td>\n",
              "      <td>930 52nd St</td>\n",
              "      <td>NaN</td>\n",
              "      <td>NaN</td>\n",
              "      <td>brooklyn</td>\n",
              "      <td>[{'rating': ['8', '8', '3'], 'data': {'Distanc...</td>\n",
              "      <td>NaN</td>\n",
              "      <td>11219</td>\n",
              "      <td>NaN</td>\n",
              "      <td>...</td>\n",
              "      <td>1905</td>\n",
              "      <td></td>\n",
              "      <td>Steam Heating</td>\n",
              "      <td></td>\n",
              "      <td>2,003 Sq. Ft.</td>\n",
              "      <td>None</td>\n",
              "      <td>0</td>\n",
              "      <td>6.333333</td>\n",
              "      <td>3.0</td>\n",
              "      <td>0.20</td>\n",
              "    </tr>\n",
              "    <tr>\n",
              "      <th>26</th>\n",
              "      <td>activated</td>\n",
              "      <td>NaN</td>\n",
              "      <td>5755 SW 123 Ave</td>\n",
              "      <td>1,000</td>\n",
              "      <td>NaN</td>\n",
              "      <td>miami</td>\n",
              "      <td>[{'rating': ['9', '10', 'NR', '6', '3'], 'data...</td>\n",
              "      <td>NaN</td>\n",
              "      <td>33183</td>\n",
              "      <td>Baths</td>\n",
              "      <td>...</td>\n",
              "      <td></td>\n",
              "      <td></td>\n",
              "      <td></td>\n",
              "      <td></td>\n",
              "      <td>—</td>\n",
              "      <td>None</td>\n",
              "      <td>0</td>\n",
              "      <td>7.000000</td>\n",
              "      <td>5.0</td>\n",
              "      <td>0.90</td>\n",
              "    </tr>\n",
              "    <tr>\n",
              "      <th>40</th>\n",
              "      <td>activated</td>\n",
              "      <td>NaN</td>\n",
              "      <td>1104 Rotonda Cir</td>\n",
              "      <td>NaN</td>\n",
              "      <td>NaN</td>\n",
              "      <td>rotonda west</td>\n",
              "      <td>[{'rating': ['6', '6', '7'], 'data': {'Distanc...</td>\n",
              "      <td>NaN</td>\n",
              "      <td>33947</td>\n",
              "      <td>NaN</td>\n",
              "      <td>...</td>\n",
              "      <td></td>\n",
              "      <td></td>\n",
              "      <td></td>\n",
              "      <td></td>\n",
              "      <td>—</td>\n",
              "      <td>None</td>\n",
              "      <td>0</td>\n",
              "      <td>6.333333</td>\n",
              "      <td>3.0</td>\n",
              "      <td>3.10</td>\n",
              "    </tr>\n",
              "    <tr>\n",
              "      <th>...</th>\n",
              "      <td>...</td>\n",
              "      <td>...</td>\n",
              "      <td>...</td>\n",
              "      <td>...</td>\n",
              "      <td>...</td>\n",
              "      <td>...</td>\n",
              "      <td>...</td>\n",
              "      <td>...</td>\n",
              "      <td>...</td>\n",
              "      <td>...</td>\n",
              "      <td>...</td>\n",
              "      <td>...</td>\n",
              "      <td>...</td>\n",
              "      <td>...</td>\n",
              "      <td>...</td>\n",
              "      <td>...</td>\n",
              "      <td>...</td>\n",
              "      <td>...</td>\n",
              "      <td>...</td>\n",
              "      <td>...</td>\n",
              "      <td>...</td>\n",
              "    </tr>\n",
              "    <tr>\n",
              "      <th>368929</th>\n",
              "      <td>NaN</td>\n",
              "      <td>NaN</td>\n",
              "      <td>NaN</td>\n",
              "      <td>NaN</td>\n",
              "      <td>NaN</td>\n",
              "      <td>NaN</td>\n",
              "      <td>NaN</td>\n",
              "      <td>NaN</td>\n",
              "      <td>NaN</td>\n",
              "      <td>NaN</td>\n",
              "      <td>...</td>\n",
              "      <td>None</td>\n",
              "      <td>No Data</td>\n",
              "      <td>No Data</td>\n",
              "      <td>2 spaces</td>\n",
              "      <td>No Data</td>\n",
              "      <td>$107</td>\n",
              "      <td>0</td>\n",
              "      <td>5.250000</td>\n",
              "      <td>0.0</td>\n",
              "      <td>1590.38</td>\n",
              "    </tr>\n",
              "    <tr>\n",
              "      <th>368972</th>\n",
              "      <td>NaN</td>\n",
              "      <td>NaN</td>\n",
              "      <td>NaN</td>\n",
              "      <td>NaN</td>\n",
              "      <td>NaN</td>\n",
              "      <td>NaN</td>\n",
              "      <td>NaN</td>\n",
              "      <td>NaN</td>\n",
              "      <td>NaN</td>\n",
              "      <td>NaN</td>\n",
              "      <td>...</td>\n",
              "      <td>None</td>\n",
              "      <td>Forced air</td>\n",
              "      <td>None</td>\n",
              "      <td>No Data</td>\n",
              "      <td>701 sqft</td>\n",
              "      <td>$27</td>\n",
              "      <td>0</td>\n",
              "      <td>5.250000</td>\n",
              "      <td>0.0</td>\n",
              "      <td>1590.38</td>\n",
              "    </tr>\n",
              "    <tr>\n",
              "      <th>369037</th>\n",
              "      <td>NaN</td>\n",
              "      <td>NaN</td>\n",
              "      <td>NaN</td>\n",
              "      <td>NaN</td>\n",
              "      <td>NaN</td>\n",
              "      <td>NaN</td>\n",
              "      <td>NaN</td>\n",
              "      <td>NaN</td>\n",
              "      <td>NaN</td>\n",
              "      <td>NaN</td>\n",
              "      <td>...</td>\n",
              "      <td>1976</td>\n",
              "      <td>Forced Air</td>\n",
              "      <td>Central</td>\n",
              "      <td>Detached Garage</td>\n",
              "      <td>0.27 acres</td>\n",
              "      <td>$265/sqft</td>\n",
              "      <td>0</td>\n",
              "      <td>5.250000</td>\n",
              "      <td>0.0</td>\n",
              "      <td>1590.38</td>\n",
              "    </tr>\n",
              "    <tr>\n",
              "      <th>369068</th>\n",
              "      <td>NaN</td>\n",
              "      <td>NaN</td>\n",
              "      <td>NaN</td>\n",
              "      <td>NaN</td>\n",
              "      <td>NaN</td>\n",
              "      <td>NaN</td>\n",
              "      <td>NaN</td>\n",
              "      <td>NaN</td>\n",
              "      <td>NaN</td>\n",
              "      <td>NaN</td>\n",
              "      <td>...</td>\n",
              "      <td></td>\n",
              "      <td></td>\n",
              "      <td></td>\n",
              "      <td></td>\n",
              "      <td>6,970 Sq. Ft.</td>\n",
              "      <td>None</td>\n",
              "      <td>0</td>\n",
              "      <td>5.250000</td>\n",
              "      <td>0.0</td>\n",
              "      <td>1590.38</td>\n",
              "    </tr>\n",
              "    <tr>\n",
              "      <th>369092</th>\n",
              "      <td>NaN</td>\n",
              "      <td>NaN</td>\n",
              "      <td>NaN</td>\n",
              "      <td>NaN</td>\n",
              "      <td>NaN</td>\n",
              "      <td>NaN</td>\n",
              "      <td>NaN</td>\n",
              "      <td>NaN</td>\n",
              "      <td>NaN</td>\n",
              "      <td>NaN</td>\n",
              "      <td>...</td>\n",
              "      <td>None</td>\n",
              "      <td>No Data</td>\n",
              "      <td>No Data</td>\n",
              "      <td>2 spaces</td>\n",
              "      <td>No Data</td>\n",
              "      <td>$137</td>\n",
              "      <td>0</td>\n",
              "      <td>5.250000</td>\n",
              "      <td>0.0</td>\n",
              "      <td>1590.38</td>\n",
              "    </tr>\n",
              "  </tbody>\n",
              "</table>\n",
              "<p>48356 rows × 27 columns</p>\n",
              "</div>\n",
              "    <div class=\"colab-df-buttons\">\n",
              "\n",
              "  <div class=\"colab-df-container\">\n",
              "    <button class=\"colab-df-convert\" onclick=\"convertToInteractive('df-d38b364d-dbf9-4ba5-849a-d7d5ee12e36d')\"\n",
              "            title=\"Convert this dataframe to an interactive table.\"\n",
              "            style=\"display:none;\">\n",
              "\n",
              "  <svg xmlns=\"http://www.w3.org/2000/svg\" height=\"24px\" viewBox=\"0 -960 960 960\">\n",
              "    <path d=\"M120-120v-720h720v720H120Zm60-500h600v-160H180v160Zm220 220h160v-160H400v160Zm0 220h160v-160H400v160ZM180-400h160v-160H180v160Zm440 0h160v-160H620v160ZM180-180h160v-160H180v160Zm440 0h160v-160H620v160Z\"/>\n",
              "  </svg>\n",
              "    </button>\n",
              "\n",
              "  <style>\n",
              "    .colab-df-container {\n",
              "      display:flex;\n",
              "      gap: 12px;\n",
              "    }\n",
              "\n",
              "    .colab-df-convert {\n",
              "      background-color: #E8F0FE;\n",
              "      border: none;\n",
              "      border-radius: 50%;\n",
              "      cursor: pointer;\n",
              "      display: none;\n",
              "      fill: #1967D2;\n",
              "      height: 32px;\n",
              "      padding: 0 0 0 0;\n",
              "      width: 32px;\n",
              "    }\n",
              "\n",
              "    .colab-df-convert:hover {\n",
              "      background-color: #E2EBFA;\n",
              "      box-shadow: 0px 1px 2px rgba(60, 64, 67, 0.3), 0px 1px 3px 1px rgba(60, 64, 67, 0.15);\n",
              "      fill: #174EA6;\n",
              "    }\n",
              "\n",
              "    .colab-df-buttons div {\n",
              "      margin-bottom: 4px;\n",
              "    }\n",
              "\n",
              "    [theme=dark] .colab-df-convert {\n",
              "      background-color: #3B4455;\n",
              "      fill: #D2E3FC;\n",
              "    }\n",
              "\n",
              "    [theme=dark] .colab-df-convert:hover {\n",
              "      background-color: #434B5C;\n",
              "      box-shadow: 0px 1px 3px 1px rgba(0, 0, 0, 0.15);\n",
              "      filter: drop-shadow(0px 1px 2px rgba(0, 0, 0, 0.3));\n",
              "      fill: #FFFFFF;\n",
              "    }\n",
              "  </style>\n",
              "\n",
              "    <script>\n",
              "      const buttonEl =\n",
              "        document.querySelector('#df-d38b364d-dbf9-4ba5-849a-d7d5ee12e36d button.colab-df-convert');\n",
              "      buttonEl.style.display =\n",
              "        google.colab.kernel.accessAllowed ? 'block' : 'none';\n",
              "\n",
              "      async function convertToInteractive(key) {\n",
              "        const element = document.querySelector('#df-d38b364d-dbf9-4ba5-849a-d7d5ee12e36d');\n",
              "        const dataTable =\n",
              "          await google.colab.kernel.invokeFunction('convertToInteractive',\n",
              "                                                    [key], {});\n",
              "        if (!dataTable) return;\n",
              "\n",
              "        const docLinkHtml = 'Like what you see? Visit the ' +\n",
              "          '<a target=\"_blank\" href=https://colab.research.google.com/notebooks/data_table.ipynb>data table notebook</a>'\n",
              "          + ' to learn more about interactive tables.';\n",
              "        element.innerHTML = '';\n",
              "        dataTable['output_type'] = 'display_data';\n",
              "        await google.colab.output.renderOutput(dataTable, element);\n",
              "        const docLink = document.createElement('div');\n",
              "        docLink.innerHTML = docLinkHtml;\n",
              "        element.appendChild(docLink);\n",
              "      }\n",
              "    </script>\n",
              "  </div>\n",
              "\n",
              "\n",
              "<div id=\"df-ec2b5c02-4c90-4450-981c-2df689dc731f\">\n",
              "  <button class=\"colab-df-quickchart\" onclick=\"quickchart('df-ec2b5c02-4c90-4450-981c-2df689dc731f')\"\n",
              "            title=\"Suggest charts.\"\n",
              "            style=\"display:none;\">\n",
              "\n",
              "<svg xmlns=\"http://www.w3.org/2000/svg\" height=\"24px\"viewBox=\"0 0 24 24\"\n",
              "     width=\"24px\">\n",
              "    <g>\n",
              "        <path d=\"M19 3H5c-1.1 0-2 .9-2 2v14c0 1.1.9 2 2 2h14c1.1 0 2-.9 2-2V5c0-1.1-.9-2-2-2zM9 17H7v-7h2v7zm4 0h-2V7h2v10zm4 0h-2v-4h2v4z\"/>\n",
              "    </g>\n",
              "</svg>\n",
              "  </button>\n",
              "\n",
              "<style>\n",
              "  .colab-df-quickchart {\n",
              "      --bg-color: #E8F0FE;\n",
              "      --fill-color: #1967D2;\n",
              "      --hover-bg-color: #E2EBFA;\n",
              "      --hover-fill-color: #174EA6;\n",
              "      --disabled-fill-color: #AAA;\n",
              "      --disabled-bg-color: #DDD;\n",
              "  }\n",
              "\n",
              "  [theme=dark] .colab-df-quickchart {\n",
              "      --bg-color: #3B4455;\n",
              "      --fill-color: #D2E3FC;\n",
              "      --hover-bg-color: #434B5C;\n",
              "      --hover-fill-color: #FFFFFF;\n",
              "      --disabled-bg-color: #3B4455;\n",
              "      --disabled-fill-color: #666;\n",
              "  }\n",
              "\n",
              "  .colab-df-quickchart {\n",
              "    background-color: var(--bg-color);\n",
              "    border: none;\n",
              "    border-radius: 50%;\n",
              "    cursor: pointer;\n",
              "    display: none;\n",
              "    fill: var(--fill-color);\n",
              "    height: 32px;\n",
              "    padding: 0;\n",
              "    width: 32px;\n",
              "  }\n",
              "\n",
              "  .colab-df-quickchart:hover {\n",
              "    background-color: var(--hover-bg-color);\n",
              "    box-shadow: 0 1px 2px rgba(60, 64, 67, 0.3), 0 1px 3px 1px rgba(60, 64, 67, 0.15);\n",
              "    fill: var(--button-hover-fill-color);\n",
              "  }\n",
              "\n",
              "  .colab-df-quickchart-complete:disabled,\n",
              "  .colab-df-quickchart-complete:disabled:hover {\n",
              "    background-color: var(--disabled-bg-color);\n",
              "    fill: var(--disabled-fill-color);\n",
              "    box-shadow: none;\n",
              "  }\n",
              "\n",
              "  .colab-df-spinner {\n",
              "    border: 2px solid var(--fill-color);\n",
              "    border-color: transparent;\n",
              "    border-bottom-color: var(--fill-color);\n",
              "    animation:\n",
              "      spin 1s steps(1) infinite;\n",
              "  }\n",
              "\n",
              "  @keyframes spin {\n",
              "    0% {\n",
              "      border-color: transparent;\n",
              "      border-bottom-color: var(--fill-color);\n",
              "      border-left-color: var(--fill-color);\n",
              "    }\n",
              "    20% {\n",
              "      border-color: transparent;\n",
              "      border-left-color: var(--fill-color);\n",
              "      border-top-color: var(--fill-color);\n",
              "    }\n",
              "    30% {\n",
              "      border-color: transparent;\n",
              "      border-left-color: var(--fill-color);\n",
              "      border-top-color: var(--fill-color);\n",
              "      border-right-color: var(--fill-color);\n",
              "    }\n",
              "    40% {\n",
              "      border-color: transparent;\n",
              "      border-right-color: var(--fill-color);\n",
              "      border-top-color: var(--fill-color);\n",
              "    }\n",
              "    60% {\n",
              "      border-color: transparent;\n",
              "      border-right-color: var(--fill-color);\n",
              "    }\n",
              "    80% {\n",
              "      border-color: transparent;\n",
              "      border-right-color: var(--fill-color);\n",
              "      border-bottom-color: var(--fill-color);\n",
              "    }\n",
              "    90% {\n",
              "      border-color: transparent;\n",
              "      border-bottom-color: var(--fill-color);\n",
              "    }\n",
              "  }\n",
              "</style>\n",
              "\n",
              "  <script>\n",
              "    async function quickchart(key) {\n",
              "      const quickchartButtonEl =\n",
              "        document.querySelector('#' + key + ' button');\n",
              "      quickchartButtonEl.disabled = true;  // To prevent multiple clicks.\n",
              "      quickchartButtonEl.classList.add('colab-df-spinner');\n",
              "      try {\n",
              "        const charts = await google.colab.kernel.invokeFunction(\n",
              "            'suggestCharts', [key], {});\n",
              "      } catch (error) {\n",
              "        console.error('Error during call to suggestCharts:', error);\n",
              "      }\n",
              "      quickchartButtonEl.classList.remove('colab-df-spinner');\n",
              "      quickchartButtonEl.classList.add('colab-df-quickchart-complete');\n",
              "    }\n",
              "    (() => {\n",
              "      let quickchartButtonEl =\n",
              "        document.querySelector('#df-ec2b5c02-4c90-4450-981c-2df689dc731f button');\n",
              "      quickchartButtonEl.style.display =\n",
              "        google.colab.kernel.accessAllowed ? 'block' : 'none';\n",
              "    })();\n",
              "  </script>\n",
              "</div>\n",
              "    </div>\n",
              "  </div>\n"
            ],
            "text/plain": [
              "                  status   propertyType             street  baths fireplace  \\\n",
              "4               for sale  miscellaneous     1524 Kiscoe St    NaN       NaN   \n",
              "7              activated            NaN    6094 Mingle Dr     NaN       NaN   \n",
              "15      new construction           land       930 52nd St     NaN       NaN   \n",
              "26             activated            NaN   5755 SW 123 Ave   1,000       NaN   \n",
              "40             activated            NaN  1104 Rotonda Cir     NaN       NaN   \n",
              "...                  ...            ...                ...    ...       ...   \n",
              "368929               NaN            NaN                NaN    NaN       NaN   \n",
              "368972               NaN            NaN                NaN    NaN       NaN   \n",
              "369037               NaN            NaN                NaN    NaN       NaN   \n",
              "369068               NaN            NaN                NaN    NaN       NaN   \n",
              "369092               NaN            NaN                NaN    NaN       NaN   \n",
              "\n",
              "                city                                            schools sqft  \\\n",
              "4           palm bay  [{'rating': ['4/10', '5/10', '5/10'], 'data': ...  NaN   \n",
              "7            memphis  [{'rating': ['4', '2', '2'], 'data': {'Distanc...  NaN   \n",
              "15          brooklyn  [{'rating': ['8', '8', '3'], 'data': {'Distanc...  NaN   \n",
              "26             miami  [{'rating': ['9', '10', 'NR', '6', '3'], 'data...  NaN   \n",
              "40      rotonda west  [{'rating': ['6', '6', '7'], 'data': {'Distanc...  NaN   \n",
              "...              ...                                                ...  ...   \n",
              "368929           NaN                                                NaN  NaN   \n",
              "368972           NaN                                                NaN  NaN   \n",
              "369037           NaN                                                NaN  NaN   \n",
              "369068           NaN                                                NaN  NaN   \n",
              "369092           NaN                                                NaN  NaN   \n",
              "\n",
              "       zipcode   beds  ... Remodeled year     Heating        Cooling  \\\n",
              "4        32908    NaN  ...                                             \n",
              "7        38115    NaN  ...                                             \n",
              "15       11219    NaN  ...           1905              Steam Heating   \n",
              "26       33183  Baths  ...                                             \n",
              "40       33947    NaN  ...                                             \n",
              "...        ...    ...  ...            ...         ...            ...   \n",
              "368929     NaN    NaN  ...           None     No Data        No Data   \n",
              "368972     NaN    NaN  ...           None  Forced air           None   \n",
              "369037     NaN    NaN  ...           1976  Forced Air        Central   \n",
              "369068     NaN    NaN  ...                                             \n",
              "369092     NaN    NaN  ...           None     No Data        No Data   \n",
              "\n",
              "                Parking        lotsize     Price/sqft has_fireplace  \\\n",
              "4                          10,019 sqft           None             0   \n",
              "7                        8,750 Sq. Ft.  $57 / Sq. Ft.             0   \n",
              "15                       2,003 Sq. Ft.           None             0   \n",
              "26                                   —           None             0   \n",
              "40                                   —           None             0   \n",
              "...                 ...            ...            ...           ...   \n",
              "368929         2 spaces        No Data           $107             0   \n",
              "368972          No Data       701 sqft            $27             0   \n",
              "369037  Detached Garage     0.27 acres      $265/sqft             0   \n",
              "369068                   6,970 Sq. Ft.           None             0   \n",
              "369092         2 spaces        No Data           $137             0   \n",
              "\n",
              "       avg_rating num_schools min_distance_to_school  \n",
              "4        5.250000         3.0                   3.03  \n",
              "7        2.666667         3.0                   0.40  \n",
              "15       6.333333         3.0                   0.20  \n",
              "26       7.000000         5.0                   0.90  \n",
              "40       6.333333         3.0                   3.10  \n",
              "...           ...         ...                    ...  \n",
              "368929   5.250000         0.0                1590.38  \n",
              "368972   5.250000         0.0                1590.38  \n",
              "369037   5.250000         0.0                1590.38  \n",
              "369068   5.250000         0.0                1590.38  \n",
              "369092   5.250000         0.0                1590.38  \n",
              "\n",
              "[48356 rows x 27 columns]"
            ]
          },
          "execution_count": 74,
          "metadata": {},
          "output_type": "execute_result"
        }
      ],
      "source": [
        "data[data['sqft'].isna()]"
      ]
    },
    {
      "cell_type": "code",
      "execution_count": 75,
      "metadata": {
        "colab": {
          "base_uri": "https://localhost:8080/"
        },
        "id": "CDr--nYATYgn",
        "outputId": "4b989628-309b-4af2-bce7-2e9056425dca"
      },
      "outputs": [
        {
          "name": "stderr",
          "output_type": "stream",
          "text": [
            "<ipython-input-75-55139938b5ec>:2: FutureWarning: The default value of regex will change from True to False in a future version.\n",
            "  data['sqft'] = data['sqft'].str.replace('[^0-9.]', '').str.strip()\n",
            "<ipython-input-75-55139938b5ec>:12: SettingWithCopyWarning: \n",
            "A value is trying to be set on a copy of a slice from a DataFrame.\n",
            "Try using .loc[row_indexer,col_indexer] = value instead\n",
            "\n",
            "See the caveats in the documentation: https://pandas.pydata.org/pandas-docs/stable/user_guide/indexing.html#returning-a-view-versus-a-copy\n",
            "  data['sqft'] = data['sqft'].astype(int)\n"
          ]
        }
      ],
      "source": [
        "# Преобразование значений в числа\n",
        "data['sqft'] = data['sqft'].str.replace('[^0-9.]', '').str.strip()\n",
        "\n",
        "# Удаление строк с NaN значениями в столбце sqft\n",
        "# data = data[data['sqft'].notna()]\n",
        "data = data.dropna(subset=['sqft'])\n",
        "\n",
        "# Удаление строк, где sqft содержит пустые значения или просто пробелы\n",
        "data = data[data['sqft'].str.strip() != '']\n",
        "\n",
        "# Преобразование столбца sqft в числовой формат\n",
        "data['sqft'] = data['sqft'].astype(int)"
      ]
    },
    {
      "cell_type": "code",
      "execution_count": 76,
      "metadata": {
        "colab": {
          "base_uri": "https://localhost:8080/"
        },
        "id": "EcgEPptLTQMX",
        "outputId": "596d39c0-ead2-45f2-c6c1-6261bda9e238"
      },
      "outputs": [
        {
          "data": {
            "text/plain": [
              "9789"
            ]
          },
          "execution_count": 76,
          "metadata": {},
          "output_type": "execute_result"
        }
      ],
      "source": [
        "data['sqft'].nunique()"
      ]
    },
    {
      "cell_type": "markdown",
      "metadata": {
        "id": "AIPkpgasTtKZ"
      },
      "source": [
        "# Столбец zipcode\n",
        "\n",
        "Уберем лишние символы, оставив только числа"
      ]
    },
    {
      "cell_type": "code",
      "execution_count": 77,
      "metadata": {
        "colab": {
          "base_uri": "https://localhost:8080/"
        },
        "id": "YhK7z5BdfeX7",
        "outputId": "03597b46-6c65-4fdb-e926-7a1336a7d432"
      },
      "outputs": [
        {
          "data": {
            "text/plain": [
              "4425"
            ]
          },
          "execution_count": 77,
          "metadata": {},
          "output_type": "execute_result"
        }
      ],
      "source": [
        "data['zipcode'].nunique()"
      ]
    },
    {
      "cell_type": "code",
      "execution_count": 78,
      "metadata": {
        "colab": {
          "base_uri": "https://localhost:8080/"
        },
        "id": "e6L4AhbQTlgS",
        "outputId": "09ed4a0a-80fa-4826-b8cb-8aac0d5a6a17"
      },
      "outputs": [
        {
          "name": "stderr",
          "output_type": "stream",
          "text": [
            "<ipython-input-78-929609e89562>:1: FutureWarning: The default value of regex will change from True to False in a future version.\n",
            "  data['zipcode'] = data['zipcode'].str.replace('[^0-9.]', '').str.strip()\n"
          ]
        }
      ],
      "source": [
        "data['zipcode'] = data['zipcode'].str.replace('[^0-9.]', '').str.strip()\n",
        "\n",
        "# Удаление строк с NaN значениями в столбце sqft\n",
        "data = data[data['zipcode'].notna()]\n",
        "\n",
        "# Удаление строк, где sqft содержит пустые значения или просто пробелы\n",
        "data = data[data['zipcode'].str.strip() != '']\n",
        "\n",
        "# Преобразование столбца sqft в числовой формат\n",
        "data['zipcode'] = data['zipcode'].astype(int)"
      ]
    },
    {
      "cell_type": "markdown",
      "metadata": {
        "id": "GNRsqkUUTxEL"
      },
      "source": [
        "# Столбец beds\n",
        "\n",
        "Очищаем значения, удаляя из них лишние слов и полностью удаляем значения, которые являются числами с плавающей точкой"
      ]
    },
    {
      "cell_type": "code",
      "execution_count": 79,
      "metadata": {
        "colab": {
          "base_uri": "https://localhost:8080/"
        },
        "id": "sAw6Xgq0fesS",
        "outputId": "231aed03-13cf-4862-e258-29039d4808ba"
      },
      "outputs": [
        {
          "data": {
            "text/plain": [
              "array(['4', '3 Beds', '5 Beds', '2 Beds', nan, '3', '4 Beds', '3 bd',\n",
              "       'Baths', '4 bd', '5 bd', '8 Beds', '2', '2 bd', '2.0', '5', '1',\n",
              "       '3.0', '6 Beds', '12 Beds', '6', '14', '6 bd', '7', '4.0',\n",
              "       '7 Beds', '9 Beds', '0', 'Bath', '1 bd', ' ', '7.0', '5.0', '8',\n",
              "       '16 Beds', '1.0', '6.0', '13 bd', '9', '10', '10 Beds', '20 Beds',\n",
              "       '-- bd', '6,351 sqft', '13 Beds', '7 bd', '11', '8 bd', '9 bd',\n",
              "       '0.0'], dtype=object)"
            ]
          },
          "execution_count": 79,
          "metadata": {},
          "output_type": "execute_result"
        }
      ],
      "source": [
        "data['beds'].unique()[0:50]"
      ]
    },
    {
      "cell_type": "code",
      "execution_count": 80,
      "metadata": {
        "id": "VfiknJgJyrHE"
      },
      "outputs": [],
      "source": [
        "def extract_bed_number(value):\n",
        "    if isinstance(value, float) and np.isnan(value):  # Если значение NaN\n",
        "        return np.nan\n",
        "\n",
        "    # Пытаемся найти число перед словами \"bed\", \"beds\" или \"bd\"\n",
        "    match = re.search(r'(\\d+)\\s?(beds?|bd)', value, re.I)  # re.I делает поиск нечувствительным к регистру\n",
        "    if match:\n",
        "        return int(match.group(1))\n",
        "\n",
        "    # Пытаемся найти просто число\n",
        "    match = re.search(r'(\\d+)', value)\n",
        "    if match:\n",
        "        # Если рядом с числом есть какое-либо слово, но это не \"bed\", \"beds\", \"bd\"\n",
        "        if re.search(r'(\\d+)\\s?\\D+', value) and not re.search(r'(beds?|bd)', value, re.I):\n",
        "            return 1\n",
        "        else:\n",
        "            return int(float(match.group(1)))  # Преобразуем к числу сначала, чтобы убедиться, что 3.0 будет преобразовано в 3\n",
        "\n",
        "    return np.nan\n",
        "\n",
        "data['beds'] = data['beds'].apply(extract_bed_number)\n",
        "data['beds'].fillna(0, inplace=True)"
      ]
    },
    {
      "cell_type": "markdown",
      "metadata": {
        "id": "yQeeAB6tlOaF"
      },
      "source": [
        "Примем за максимум, что кроватей в доме может быть 20, следовательно, удалим все выбросы, где их указано больше"
      ]
    },
    {
      "cell_type": "code",
      "execution_count": 81,
      "metadata": {
        "id": "OsV-KATUzqpx"
      },
      "outputs": [],
      "source": [
        "data = data[data['beds'] <= 20]"
      ]
    },
    {
      "cell_type": "code",
      "execution_count": 82,
      "metadata": {
        "colab": {
          "base_uri": "https://localhost:8080/"
        },
        "id": "vee8_lyylhSp",
        "outputId": "e2892ee6-d0d4-407c-9df7-e59b4a550b90"
      },
      "outputs": [
        {
          "data": {
            "text/plain": [
              "3.0     94512\n",
              "0.0     74289\n",
              "4.0     61939\n",
              "2.0     45824\n",
              "1.0     21451\n",
              "5.0     19802\n",
              "6.0      6009\n",
              "7.0      1694\n",
              "8.0      1115\n",
              "9.0       449\n",
              "10.0      242\n",
              "12.0      166\n",
              "11.0      120\n",
              "14.0       42\n",
              "16.0       40\n",
              "13.0       39\n",
              "15.0       29\n",
              "18.0       17\n",
              "20.0       14\n",
              "17.0        8\n",
              "19.0        4\n",
              "Name: beds, dtype: int64"
            ]
          },
          "execution_count": 82,
          "metadata": {},
          "output_type": "execute_result"
        }
      ],
      "source": [
        "data['beds'].value_counts()"
      ]
    },
    {
      "cell_type": "markdown",
      "metadata": {
        "id": "1587C3JyU9cP"
      },
      "source": [
        "# Столбец state\n",
        "Ничего не меняем"
      ]
    },
    {
      "cell_type": "code",
      "execution_count": 83,
      "metadata": {
        "colab": {
          "base_uri": "https://localhost:8080/"
        },
        "id": "HPwGlfZ2fe03",
        "outputId": "49512ee1-ab2a-49ae-8059-fc406563262d"
      },
      "outputs": [
        {
          "data": {
            "text/plain": [
              "array(['NC', 'WA', 'CA', 'TX', 'PA', 'FL', 'IA', 'NY', 'OR', 'DC', 'NV',\n",
              "       'AZ', 'GA', 'IL', 'NJ', 'MA', 'OH', 'IN', 'TN', 'UT', 'MI', 'VT',\n",
              "       'MD', 'CO', 'VA', 'KY', 'MO', 'WI', 'ME', 'MS', 'OK', 'SC', 'MT',\n",
              "       'DE', 'Fl', 'BA', 'AL', 'OS'], dtype=object)"
            ]
          },
          "execution_count": 83,
          "metadata": {},
          "output_type": "execute_result"
        }
      ],
      "source": [
        "data['state'].unique()"
      ]
    },
    {
      "cell_type": "markdown",
      "metadata": {
        "id": "unDkfifwVB4q"
      },
      "source": [
        "# Столбец stories"
      ]
    },
    {
      "cell_type": "code",
      "execution_count": 84,
      "metadata": {
        "colab": {
          "base_uri": "https://localhost:8080/"
        },
        "id": "Jv7BFh2Ffe44",
        "outputId": "e12b5290-24b0-4b33-d415-9c5f25c881e2"
      },
      "outputs": [
        {
          "data": {
            "text/plain": [
              "1.0                    66831\n",
              "2.0                    54771\n",
              "1                      20962\n",
              "2                      17370\n",
              "3.0                    11019\n",
              "0.0                     7156\n",
              "One                     5505\n",
              "0                       4203\n",
              "3                       4063\n",
              "9.0                     2824\n",
              "2.00                    2516\n",
              "Two                     2426\n",
              "4.0                     2047\n",
              "2 Story                 1841\n",
              "1 Story                 1116\n",
              "1.00                    1063\n",
              "3+                       868\n",
              "4                        844\n",
              "6.0                      694\n",
              "5.0                      588\n",
              "1.50                     554\n",
              "Three Or More            543\n",
              "3.00                     478\n",
              "9                        460\n",
              "Lot                      365\n",
              "One Story                351\n",
              "Townhouse                325\n",
              "7.0                      301\n",
              "Ranch/1 Story            293\n",
              "6                        270\n",
              "Multi/Split              252\n",
              "8.0                      250\n",
              "Two Story or More        232\n",
              "2 Stories                225\n",
              "1.5                      218\n",
              "Acreage                  215\n",
              "2.0000                   202\n",
              "3 Story                  196\n",
              "2 Level, Site Built      192\n",
              "5                        180\n",
              "Name: stories, dtype: int64"
            ]
          },
          "execution_count": 84,
          "metadata": {},
          "output_type": "execute_result"
        }
      ],
      "source": [
        "data['stories'].value_counts()[0:40]"
      ]
    },
    {
      "cell_type": "markdown",
      "metadata": {
        "id": "fW_i001-l3GM"
      },
      "source": [
        "Первоначально преобразуем наши слова типа One, Two, Three в числа, а зачем применим преобразование столбца в int, отбросив слишком большие значения"
      ]
    },
    {
      "cell_type": "code",
      "execution_count": 85,
      "metadata": {
        "id": "5oPXWWN_l1H4"
      },
      "outputs": [],
      "source": [
        "# 1. Преобразование текстовых значений в числовые\n",
        "def stories_to_numeric(s):\n",
        "    # Преобразование слов в числа\n",
        "    word_to_num = {\n",
        "        'One': 1,\n",
        "        'Two': 2,\n",
        "        'Three': 3,\n",
        "        'Four': 4,\n",
        "        # дополните словарь, если есть другие текстовые значения\n",
        "    }\n",
        "\n",
        "    # Пытаемся преобразовать строку в число напрямую\n",
        "    try:\n",
        "        return float(s)\n",
        "    except:\n",
        "        pass\n",
        "\n",
        "    # Если это не получается, ищем соответствие в словаре\n",
        "    for word, num in word_to_num.items():\n",
        "        if word in s:\n",
        "            return num\n",
        "\n",
        "    # Если не находим соответствие, возвращаем NaN\n",
        "    return np.nan\n",
        "\n",
        "# Применяем функцию к столбцу\n",
        "data['stories'] = data['stories'].apply(stories_to_numeric)\n",
        "\n",
        "# 2. Преобразование столбца в int\n",
        "data['stories'].fillna(0, inplace=True) # временное заполнение NaN нулями для преобразования\n",
        "data['stories'] = data['stories'].astype(int)\n",
        "\n",
        "# 3. Отбрасываем необычно высокие значения\n",
        "data = data[data['stories'] <= 10]"
      ]
    },
    {
      "cell_type": "markdown",
      "metadata": {
        "id": "Da0w4gH4VQA_"
      },
      "source": [
        "# Столбец target\n",
        "\n",
        "Приводим к числовому значению, удаляя лишние знаки типа \"$\", \",\", \"+\""
      ]
    },
    {
      "cell_type": "code",
      "execution_count": 86,
      "metadata": {
        "id": "F6PMyMx80fcI"
      },
      "outputs": [],
      "source": [
        "# очистим от пустых значений\n",
        "data = data.dropna(subset=['target'])"
      ]
    },
    {
      "cell_type": "code",
      "execution_count": 87,
      "metadata": {
        "colab": {
          "base_uri": "https://localhost:8080/"
        },
        "id": "ABesEA8xffDt",
        "outputId": "8ebb7f33-50f4-4a72-a3fb-c481eeeb65a1"
      },
      "outputs": [
        {
          "data": {
            "text/plain": [
              "array(['$418,000', '$310,000', '$2,895,000', '$2,395,000', '$209,000',\n",
              "       '181,500', '$244,900', '$311,995', '$669,000', '260,000',\n",
              "       '$525,000', '$499,900', '$168,800', '335,000', '2,650,000',\n",
              "       '$365,000', '$626,000', '$375,000', '$3,500,000', '579,000',\n",
              "       '$499,007', '$182,000', '$3,749,000', '$559,000', '$830,000',\n",
              "       '$1,195,000', '$262,000', '$204,800', '$179,000', '$105,000',\n",
              "       '$260,000', '$284,900', '$495,000', '$117,900', '$385,000',\n",
              "       '$620,000', '$125,000', '$1,429,000', '$233,990+', '$275,000',\n",
              "       '$598,000', '$1,780,000', '$490,000', '$175,000', '$166,500',\n",
              "       '$259,658', '$799,000', '$244,990', '$333,543', '$369,900',\n",
              "       '$409,069', '$149,999', '$220,000', '$749,000', '$255,000',\n",
              "       '$269,000', '$475,000', '219,900', '$1,785,000', '$714,550',\n",
              "       '$414,900', '$1,795,000', '$339,000', '$916,900', '650,000',\n",
              "       '$399,000', '$289,000', '$344,990', '$299,999', '$439,000',\n",
              "       '$304,900', '$160,000', '$259,900', '$715,000', '$319,000',\n",
              "       '$235,900', '$189,900', '138,500', '$493,999', '$331,990+',\n",
              "       '800,000', '$74,900', '$285,990', '$187,500', '94,900', '$185,000',\n",
              "       '$30,000', '$443,900', '$1,550,000', '169,000', '$170,990',\n",
              "       '$924,900', '$201,990+', '$2,197,000', '$1,925,000', '199,900',\n",
              "       '$500,777', '$1,299,850', '229,900', '$485,000'], dtype=object)"
            ]
          },
          "execution_count": 87,
          "metadata": {},
          "output_type": "execute_result"
        }
      ],
      "source": [
        "data['target'].unique()[0:100]"
      ]
    },
    {
      "cell_type": "code",
      "execution_count": 88,
      "metadata": {
        "id": "y7co-FasNtbA"
      },
      "outputs": [],
      "source": [
        "# Удаление строк с значениями \"/mo\"\n",
        "data = data[~data['target'].str.contains('/mo', na=False)]\n",
        "\n",
        "def convert_price(price):\n",
        "    if isinstance(price, str):\n",
        "        # Удаляем символы \"$\", \",\" и \"+\"\n",
        "        price = price.replace('$', '').replace(',', '').replace('+', '')\n",
        "        return float(price)\n",
        "    else:\n",
        "        return np.nan  # Преобразуем \"nan\" значения обратно в np.nan\n",
        "\n",
        "# Применяем функцию преобразования к колонке data['target']\n",
        "data['target'] = data['target'].apply(convert_price)"
      ]
    },
    {
      "cell_type": "code",
      "execution_count": 89,
      "metadata": {
        "colab": {
          "base_uri": "https://localhost:8080/",
          "height": 472
        },
        "id": "pA_vwysPMwVr",
        "outputId": "4b2042b3-bcfe-4827-fd86-1b025be93d29"
      },
      "outputs": [
        {
          "data": {
            "image/png": "[encoded data removed]",
            "text/plain": [
              "<Figure size 640x480 with 1 Axes>"
            ]
          },
          "metadata": {},
          "output_type": "display_data"
        }
      ],
      "source": [
        "import matplotlib.pyplot as plt\n",
        "\n",
        "plt.scatter(data.index, data['target'])\n",
        "plt.xlabel('Index')\n",
        "plt.ylabel('Price')\n",
        "plt.title('Scatterplot of Prices')\n",
        "plt.ticklabel_format(style='plain', axis='y')  # Отключение научной нотации\n",
        "plt.show()"
      ]
    },
    {
      "cell_type": "code",
      "execution_count": 90,
      "metadata": {
        "id": "Lw4dZecNOTtq"
      },
      "outputs": [],
      "source": [
        "# Избавимся от крайне больших и маленьких значений\n",
        "data = data[(data['target'] <= 4000000) & (data['target'] >= 20000)]"
      ]
    },
    {
      "cell_type": "code",
      "execution_count": 91,
      "metadata": {
        "colab": {
          "base_uri": "https://localhost:8080/"
        },
        "id": "LUya31PfVdDu",
        "outputId": "de24c8f4-bc72-487b-a3c6-80dacaa7946f"
      },
      "outputs": [
        {
          "data": {
            "text/plain": [
              "0          418000.0\n",
              "1          310000.0\n",
              "2         2895000.0\n",
              "3         2395000.0\n",
              "5          209000.0\n",
              "            ...    \n",
              "377179     799000.0\n",
              "377180    1249000.0\n",
              "377181     674999.0\n",
              "377182     528000.0\n",
              "377184     204900.0\n",
              "Name: target, Length: 313706, dtype: float64"
            ]
          },
          "execution_count": 91,
          "metadata": {},
          "output_type": "execute_result"
        }
      ],
      "source": [
        "data['target']"
      ]
    },
    {
      "cell_type": "markdown",
      "metadata": {
        "id": "zBxrKyXXmoaB"
      },
      "source": [
        "Посмотрим на распределение target"
      ]
    },
    {
      "cell_type": "markdown",
      "metadata": {
        "id": "R3XzFY0fVzG9"
      },
      "source": [
        "# Столбец Year built\n",
        "\n",
        "Преобразуем года в числовой формат, а так же удалим некорректные значения"
      ]
    },
    {
      "cell_type": "code",
      "execution_count": 92,
      "metadata": {
        "colab": {
          "base_uri": "https://localhost:8080/"
        },
        "id": "47RfSvurSy_O",
        "outputId": "ef393816-a6f0-42ac-c6b6-b4e5aa671cca"
      },
      "outputs": [
        {
          "data": {
            "text/plain": [
              "array(['2019', '1961', '2006', '1920', '1970', '1965', '2015', '1996',\n",
              "       '1982', '2008', '1899', '2016', '1954', '1989', '2014', '1915', '',\n",
              "       '1994', '1910', '1923', '1960', '1977', '1972', '1963', '1981',\n",
              "       '1949', '1930', '1991', '2017', '2018', '1983', '1928', '1998',\n",
              "       '1997', '1964', '1974', '1940', '1973', '1968', '1999', '1918',\n",
              "       '2007', '1984', '1946', '2003', '2000', '1969', '2002', '1947',\n",
              "       '1957', '1978', '1956', '1967', '1975', '1988', '1955', '1950',\n",
              "       '1959', '2012', '1924', '1966', '2005', '1992', '2001', '1985',\n",
              "       '1909', '1953', '1993', '1990', '1971', '1995', '2004', '1951',\n",
              "       '1907', '1885', '1941', '1958', '2010', '1927', '1980', '1929',\n",
              "       '1901', '1976', None, '1922', '1945', '1979', '2009', '1962',\n",
              "       '1913', '2011', '1897', '1987', '2020', '1952', '1939', '1925',\n",
              "       '2013', '1986', 'No Data', '1943', '1935', '1890', '1900', '1911',\n",
              "       '1948', '1942', '1906', '1931', '1944', '1916', '1893', '1879',\n",
              "       '1914', '1895', '1938', '1921', '1860', '1850', '1912', '1936',\n",
              "       '1898', '1905', '1880', '1926', '1908', '1865', '1917', '1937',\n",
              "       '1740', '1934', '1700', '1904', '1932', '1896', '1892', '1830',\n",
              "       '1919', '1933', '1875', '1888', '1889', '1903', '1870', '1872',\n",
              "       '1886', '2021', '1873', '1887', '1800', '1858', '1869', '1894',\n",
              "       '1840', '1881', '1902', '1891', '1884', '1868', '1824', '1820',\n",
              "       '1846', '1854', '1799', '1878', '1876', '1815', '1877', '1822',\n",
              "       '1866', '1835', '1836', '1853', '1807', '1847', '1794', '1874',\n",
              "       '1848', '1832', '1831', '1864', '1883', '1803', '1871', '1859',\n",
              "       '1828', '1817', '1844', '1863', '559990649990', '1796', '1809',\n",
              "       '1852', '1862', '1851', '1810', '2022', '1867', '1882', '1842',\n",
              "       '1818', '1', '1780', '1857', '1825', '1845', '2025', '1811',\n",
              "       '1750', '1057', '1703', '1802', '1812', '1856', '1834', '1861',\n",
              "       '1060', '1790', '1788', '1735', '1855', '1019', '1816', '1805',\n",
              "       '1843', '1808', '1829', nan], dtype=object)"
            ]
          },
          "execution_count": 92,
          "metadata": {},
          "output_type": "execute_result"
        }
      ],
      "source": [
        "data['Year built'].unique()"
      ]
    },
    {
      "cell_type": "code",
      "execution_count": 93,
      "metadata": {
        "id": "aCD8xnZYV6To"
      },
      "outputs": [],
      "source": [
        "# Преобразование в числовой формат\n",
        "data['Year built'] = pd.to_numeric(data['Year built'], errors='coerce').astype('Int64', errors='ignore')\n",
        "\n",
        "# Создаем маску для значений в нужном диапазоне\n",
        "mask = (data['Year built'] >= 1700) & (data['Year built'] <= 2023)\n",
        "\n",
        "# Заменяем значения вне этого диапазона на NaN\n",
        "data.loc[~mask, 'Year built'] = np.nan\n",
        "\n",
        "# Вычисляем среднее значение для 'Year built', пропуская NaN значения\n",
        "mean_year = int(data['Year built'].mean(skipna=True))\n",
        "\n",
        "# Заменяем NaN значения в 'Year built' на среднее значение\n",
        "data['Year built'].fillna(mean_year, inplace=True)"
      ]
    },
    {
      "cell_type": "code",
      "execution_count": 94,
      "metadata": {
        "colab": {
          "base_uri": "https://localhost:8080/"
        },
        "id": "ywCqvNm02oY8",
        "outputId": "5542e07d-6291-46fa-a586-b20227fc6496"
      },
      "outputs": [
        {
          "data": {
            "text/plain": [
              "1979"
            ]
          },
          "execution_count": 94,
          "metadata": {},
          "output_type": "execute_result"
        }
      ],
      "source": [
        "mean_year"
      ]
    },
    {
      "cell_type": "markdown",
      "metadata": {
        "id": "TTyPzigVWZVn"
      },
      "source": [
        "# Столбец Remodeled year\n",
        "\n",
        "Преобразуем года в числовой формат, а так же удалим некорректные значения"
      ]
    },
    {
      "cell_type": "code",
      "execution_count": 95,
      "metadata": {
        "colab": {
          "base_uri": "https://localhost:8080/"
        },
        "id": "9RtBiXF-S0hj",
        "outputId": "da322bd3-ab57-4001-bdc4-dd6fc69206a6"
      },
      "outputs": [
        {
          "data": {
            "text/plain": [
              "array(['', '1967', '2006', None, '2015', '1997', '2019', '1982', '2009',\n",
              "       '2007', '1996', '1995', '1988', '1972', '1949', '1954', '1930',\n",
              "       '2000', '1994', '1983', '2003', '1965', '1968', '1999', '2014',\n",
              "       '2008', '2010', '2002', '1984', '1978', '1975', '1971', '1947',\n",
              "       '1957', '1950', '2012', '1973', '1970', '2016', '1989', '1998',\n",
              "       '1980', '1986', '2004', '2005', '1991', '1993', '2011', '2017',\n",
              "       '1941', '2001', '1901', '1918', '1977', '1962', '1956', '2013',\n",
              "       '1960', '1981', '1969', '1987', '1958', '1925', '1964', '1966',\n",
              "       '1992', '1979', '1961', '1948', '1952', '1976', '1955', '1935',\n",
              "       '1910', '1940', '2018', '1916', '1914', '1963', '1974', '1985',\n",
              "       '1951', '1944', '1990', '1942', '1959', '1946', '1945', '1920',\n",
              "       '1938', '1936', '0', '1939', '1915', '1928', '1927', '1923',\n",
              "       '1934', '1899', '1953', '1931', '1937', '1912', '1906', '1929',\n",
              "       '1932', '1905', '1921', '1924', '1907', '1911', '1900', '1889',\n",
              "       '1943', '1895', '1908', '1919', '1903', '1904', '1926', '1913',\n",
              "       '1933', '1894', '1892', '1922', '1909', '1917', '1880', '1902',\n",
              "       '1877', '2020', '1893', '1890', '1891', '2021', '1869', '1884',\n",
              "       '1897', '1111', '1898', '1886', '1883', '1846', '1845', '1896',\n",
              "       '1885', '1870', '1887', '1853', '1888', '1800', '1738', '1876',\n",
              "       '1874', '1862', nan], dtype=object)"
            ]
          },
          "execution_count": 95,
          "metadata": {},
          "output_type": "execute_result"
        }
      ],
      "source": [
        "data['Remodeled year'].unique()"
      ]
    },
    {
      "cell_type": "code",
      "execution_count": 96,
      "metadata": {
        "id": "cka7MM9BWgd8"
      },
      "outputs": [],
      "source": [
        "# Преобразование в числовой формат\n",
        "data['Remodeled year'] = pd.to_numeric(data['Remodeled year'], errors='coerce').astype('Int64', errors='ignore')\n",
        "\n",
        "# Создаем маску для значений в нужном диапазоне\n",
        "mask = (data['Remodeled year'] >= 1700) & (data['Remodeled year'] <= 2023)\n",
        "\n",
        "# Заменяем значения вне этого диапазона на NaN\n",
        "data.loc[~mask, 'Remodeled year'] = np.nan\n",
        "\n",
        "# Вычисляем среднее значение для 'Remodeled year', пропуская NaN значения\n",
        "mean_year_remodeled = int(data['Remodeled year'].mean(skipna=True))\n",
        "\n",
        "# Заменяем NaN значения в 'Remodeled year' на среднее значение\n",
        "data['Remodeled year'].fillna(mean_year_remodeled, inplace=True)"
      ]
    },
    {
      "cell_type": "code",
      "execution_count": 97,
      "metadata": {
        "colab": {
          "base_uri": "https://localhost:8080/"
        },
        "id": "xq1zwb-uWou3",
        "outputId": "ce3484ff-8a15-41b0-e78d-27c31866b10f"
      },
      "outputs": [
        {
          "data": {
            "text/plain": [
              "<IntegerArray>\n",
              "[1982, 1967, 2006, 2015, 1997, 2019, 2009, 2007, 1996, 1995,\n",
              " ...\n",
              " 1885, 1870, 1887, 1853, 1888, 1800, 1738, 1876, 1874, 1862]\n",
              "Length: 151, dtype: Int64"
            ]
          },
          "execution_count": 97,
          "metadata": {},
          "output_type": "execute_result"
        }
      ],
      "source": [
        "data['Remodeled year'].unique()"
      ]
    },
    {
      "cell_type": "markdown",
      "metadata": {
        "id": "X2kn1axarTPN"
      },
      "source": [
        "# Столбец Parking\n",
        "\n",
        "Преобразуем значения в числа: если указано какое-либо место без конкретных числе, то ставим значение в 1, если есть число, то в это число, иначе в 0."
      ]
    },
    {
      "cell_type": "code",
      "execution_count": 98,
      "metadata": {
        "colab": {
          "base_uri": "https://localhost:8080/"
        },
        "id": "qNHzdIY2S16w",
        "outputId": "350e1d1d-1af2-46d6-f777-a0d9f7be0bed"
      },
      "outputs": [
        {
          "data": {
            "text/plain": [
              "array(['', 'Attached Garage', 'Detached Garage', ...,\n",
              "       'Paved Driveway, Off Street, Detached Garage',\n",
              "       'Driveway, Under Building', nan], dtype=object)"
            ]
          },
          "execution_count": 98,
          "metadata": {},
          "output_type": "execute_result"
        }
      ],
      "source": [
        "data['Parking'].unique()"
      ]
    },
    {
      "cell_type": "code",
      "execution_count": 99,
      "metadata": {
        "id": "wBzRYPuDrV2X"
      },
      "outputs": [],
      "source": [
        "def extract_spaces(value):\n",
        "    # Если значение является строкой, применяем регулярное выражение\n",
        "    if isinstance(value, str):\n",
        "        result = re.findall(r'\\d+', value)\n",
        "        if result:\n",
        "            return int(result[0])\n",
        "        elif value in [\"\", \"No Data\", \"None\"]:\n",
        "            return 0\n",
        "        else:\n",
        "            return 1\n",
        "    # Если это NaN или другой тип данных, возвращаем 0\n",
        "    elif pd.isna(value):\n",
        "        return 0\n",
        "    else:\n",
        "        return 1\n",
        "\n",
        "data['Parking_Spaces'] = data['Parking'].apply(extract_spaces)"
      ]
    },
    {
      "cell_type": "code",
      "execution_count": 100,
      "metadata": {
        "colab": {
          "base_uri": "https://localhost:8080/"
        },
        "id": "ixWOhpP8rWpz",
        "outputId": "9d972851-c2b2-4511-d06d-22ea5933e62f"
      },
      "outputs": [
        {
          "data": {
            "text/plain": [
              "array([   0,    1,    2,    4,    3,   10,    7,    6,    8,    5,   21,\n",
              "        888,    9,   20,   14,   60,   11,   32,   27,   55,  126,   12,\n",
              "         16,   30, 5209,   50,   28,   93,   40,  153,   42,   18,   15,\n",
              "         13,  140,  210,   89,   82,   24,  150,  110,   17,  238,  200,\n",
              "         99,  353,  100,  131,   68,   37,   36,  112,  179,  162,   75,\n",
              "         22,  105,   70,  348,   25, 2020,   19,  329,   23,  157,   29,\n",
              "         56,  144,  331,  252,  108,  529,   79, 1016,  222,   43,  230,\n",
              "         47,  344,  118])"
            ]
          },
          "execution_count": 100,
          "metadata": {},
          "output_type": "execute_result"
        }
      ],
      "source": [
        "data['Parking_Spaces'].unique()"
      ]
    },
    {
      "cell_type": "code",
      "execution_count": 101,
      "metadata": {
        "id": "S6EXxnJjr216"
      },
      "outputs": [],
      "source": [
        "# Удалить все значения, где указано более 20 парковочных мест\n",
        "data['Parking_Spaces'] = data['Parking_Spaces'].apply(lambda x: np.nan if x > 20 else x)"
      ]
    },
    {
      "cell_type": "code",
      "execution_count": 102,
      "metadata": {
        "id": "zGkJPZF_DKaY"
      },
      "outputs": [],
      "source": [
        "# Удалить значения nan\n",
        "data['Parking_Spaces'].fillna(value=0, inplace=True)"
      ]
    },
    {
      "cell_type": "code",
      "execution_count": 103,
      "metadata": {
        "colab": {
          "base_uri": "https://localhost:8080/"
        },
        "id": "5yqffdFzru9A",
        "outputId": "bf6ba8e7-829b-4c1a-d9d7-55025bdf484d"
      },
      "outputs": [
        {
          "data": {
            "text/plain": [
              "0.0     161891\n",
              "1.0     114232\n",
              "2.0      27639\n",
              "3.0       4651\n",
              "4.0       3032\n",
              "6.0        800\n",
              "5.0        686\n",
              "8.0        231\n",
              "7.0        161\n",
              "10.0       119\n",
              "9.0         77\n",
              "12.0        64\n",
              "20.0        29\n",
              "11.0        27\n",
              "14.0        16\n",
              "15.0        14\n",
              "16.0        12\n",
              "13.0        10\n",
              "18.0         8\n",
              "17.0         5\n",
              "19.0         2\n",
              "Name: Parking_Spaces, dtype: int64"
            ]
          },
          "execution_count": 103,
          "metadata": {},
          "output_type": "execute_result"
        }
      ],
      "source": [
        "data['Parking_Spaces'].value_counts()"
      ]
    },
    {
      "cell_type": "markdown",
      "metadata": {
        "id": "aVtlRXJdHz8A"
      },
      "source": [
        "# Столбец lotsize\n",
        "\n",
        "Береём исключительно числа"
      ]
    },
    {
      "cell_type": "code",
      "execution_count": 104,
      "metadata": {
        "colab": {
          "base_uri": "https://localhost:8080/"
        },
        "id": "2RBH4qJuS2Ra",
        "outputId": "6d0899c6-1ad7-409b-c13b-938cc442207b"
      },
      "outputs": [
        {
          "data": {
            "text/plain": [
              "33383"
            ]
          },
          "execution_count": 104,
          "metadata": {},
          "output_type": "execute_result"
        }
      ],
      "source": [
        "data['lotsize'].nunique()"
      ]
    },
    {
      "cell_type": "code",
      "execution_count": 105,
      "metadata": {
        "id": "6i8jan3osWGo"
      },
      "outputs": [],
      "source": [
        "# Извлечение чисел\n",
        "data['lotsize'] = data['lotsize'].str.replace(',', '').str.extract('(\\d+)')\n",
        "# Замена NaN на 0 и конвертация в int\n",
        "data['lotsize'] = data['lotsize'].fillna(0).astype(np.int64)"
      ]
    },
    {
      "cell_type": "code",
      "execution_count": 106,
      "metadata": {
        "colab": {
          "base_uri": "https://localhost:8080/"
        },
        "id": "Xg5txiaCsW7v",
        "outputId": "ed9651a4-0c72-4605-8188-424adc864b2c"
      },
      "outputs": [
        {
          "data": {
            "text/plain": [
              "15255"
            ]
          },
          "execution_count": 106,
          "metadata": {},
          "output_type": "execute_result"
        }
      ],
      "source": [
        "data['lotsize'].nunique()"
      ]
    },
    {
      "cell_type": "markdown",
      "metadata": {
        "id": "-V6ZJPW-H5B9"
      },
      "source": [
        "# Столбец Price/sqft\n",
        "\n",
        "Береём исключительно числа"
      ]
    },
    {
      "cell_type": "code",
      "execution_count": 107,
      "metadata": {
        "colab": {
          "base_uri": "https://localhost:8080/"
        },
        "id": "nLqtqUxPS2k7",
        "outputId": "d82559ad-a932-47b5-e944-4d87a4a22747"
      },
      "outputs": [
        {
          "data": {
            "text/plain": [
              "array(['$144', '$159/sqft', '$965/sqft', ..., '$1141 / Sq. Ft.', '$2,592',\n",
              "       nan], dtype=object)"
            ]
          },
          "execution_count": 107,
          "metadata": {},
          "output_type": "execute_result"
        }
      ],
      "source": [
        "data['Price/sqft'].unique()"
      ]
    },
    {
      "cell_type": "code",
      "execution_count": 108,
      "metadata": {
        "id": "xXOTobxHs-lu"
      },
      "outputs": [],
      "source": [
        "# Извлечение чисел, удаление запятых и преобразование в int\n",
        "data['Price/sqft'] = data['Price/sqft'].str.replace(',', '').str.extract('(\\d+)').fillna(0).astype(np.int64)"
      ]
    },
    {
      "cell_type": "code",
      "execution_count": 109,
      "metadata": {
        "colab": {
          "base_uri": "https://localhost:8080/"
        },
        "id": "DmF5KePas_Aw",
        "outputId": "ffbe836e-a4a2-496f-865b-89ae02e70a93"
      },
      "outputs": [
        {
          "data": {
            "text/plain": [
              "array([ 144,  159,  965, ..., 4489, 2675, 1620])"
            ]
          },
          "execution_count": 109,
          "metadata": {},
          "output_type": "execute_result"
        }
      ],
      "source": [
        "data['Price/sqft'].unique()"
      ]
    },
    {
      "cell_type": "markdown",
      "metadata": {
        "id": "zQdTZbHZuG1F"
      },
      "source": [
        "Перед выделнием наиболее значимых факторов необходимо категориальные признаки представить в виде чисел (с помощью one-hot encoding)"
      ]
    },
    {
      "cell_type": "code",
      "execution_count": 110,
      "metadata": {
        "colab": {
          "base_uri": "https://localhost:8080/"
        },
        "id": "SS_u1O7RuMaw",
        "outputId": "69af64d5-ba23-48df-87d4-fc2699299689"
      },
      "outputs": [
        {
          "data": {
            "text/plain": [
              "for sale                            173815\n",
              "activated                           119852\n",
              "new construction                      5782\n",
              "foreclosed                            5043\n",
              "under contract showing                3366\n",
              "pre foreclosure                       3341\n",
              "active auction                         797\n",
              "contingency                            613\n",
              "under contract backups                 301\n",
              "insp inspection contingency            244\n",
              "coming soon                            107\n",
              "back on market                         104\n",
              "pending take backups                    65\n",
              "pending inspection                      49\n",
              "active with offer                       44\n",
              "active contingency                      42\n",
              "contingency contract                    33\n",
              "due diligence period                    26\n",
              "pending - taking backups                17\n",
              "listing extended                        10\n",
              "active - auction                        10\n",
              "under contract - show                    8\n",
              "active option contract                   7\n",
              "active option                            7\n",
              "closed                                   4\n",
              "pending - continue to show               2\n",
              "under contract - no show                 2\n",
              "active - contingent                      2\n",
              "active with contract                     2\n",
              "pending backup wanted                    2\n",
              "contingent - financing                   2\n",
              "pending, continue to show                1\n",
              "pending escape clause                    1\n",
              "contract                                 1\n",
              "conditional contract                     1\n",
              "contingent - sale of home                1\n",
              "reactivated                              1\n",
              "pending - backup offer requested         1\n",
              "Name: status, dtype: int64"
            ]
          },
          "execution_count": 110,
          "metadata": {},
          "output_type": "execute_result"
        }
      ],
      "source": [
        "data['status'].value_counts()"
      ]
    },
    {
      "cell_type": "code",
      "execution_count": 111,
      "metadata": {
        "colab": {
          "base_uri": "https://localhost:8080/"
        },
        "id": "FQab2c5z5p9L",
        "outputId": "75d17398-4982-4e68-8626-b7264fd14944"
      },
      "outputs": [
        {
          "name": "stdout",
          "output_type": "stream",
          "text": [
            "<class 'pandas.core.frame.DataFrame'>\n",
            "Int64Index: 313706 entries, 0 to 377184\n",
            "Data columns (total 28 columns):\n",
            " #   Column                  Non-Null Count   Dtype  \n",
            "---  ------                  --------------   -----  \n",
            " 0   status                  313706 non-null  object \n",
            " 1   propertyType            297316 non-null  object \n",
            " 2   street                  313705 non-null  object \n",
            " 3   baths                   249765 non-null  object \n",
            " 4   fireplace               95663 non-null   object \n",
            " 5   city                    313684 non-null  object \n",
            " 6   schools                 313706 non-null  object \n",
            " 7   sqft                    313706 non-null  int64  \n",
            " 8   zipcode                 313706 non-null  int64  \n",
            " 9   beds                    313706 non-null  float64\n",
            " 10  state                   313706 non-null  object \n",
            " 11  stories                 313706 non-null  int64  \n",
            " 12  target                  313706 non-null  float64\n",
            " 13  privatePool             313706 non-null  float64\n",
            " 14  mlsId                   277619 non-null  object \n",
            " 15  cleaned_baths           313706 non-null  float64\n",
            " 16  Year built              313706 non-null  Int64  \n",
            " 17  Remodeled year          313706 non-null  Int64  \n",
            " 18  Heating                 303958 non-null  object \n",
            " 19  Cooling                 303958 non-null  object \n",
            " 20  Parking                 303958 non-null  object \n",
            " 21  lotsize                 313706 non-null  int64  \n",
            " 22  Price/sqft              313706 non-null  int64  \n",
            " 23  has_fireplace           313706 non-null  int64  \n",
            " 24  avg_rating              313706 non-null  float64\n",
            " 25  num_schools             313706 non-null  float64\n",
            " 26  min_distance_to_school  313706 non-null  float64\n",
            " 27  Parking_Spaces          313706 non-null  float64\n",
            "dtypes: Int64(2), float64(8), int64(6), object(12)\n",
            "memory usage: 70.0+ MB\n"
          ]
        }
      ],
      "source": [
        "data.info()"
      ]
    },
    {
      "cell_type": "markdown",
      "metadata": {
        "id": "HPQDsH7Q4YRl"
      },
      "source": [
        "Переведем переменные в one-hot-encoding"
      ]
    },
    {
      "cell_type": "code",
      "execution_count": 112,
      "metadata": {
        "id": "gO0yltvpvC-2"
      },
      "outputs": [],
      "source": [
        "status_dummies = pd.get_dummies(data['status'], prefix='status')\n",
        "data = pd.concat([data, status_dummies], axis=1)\n",
        "data.drop('status', axis=1, inplace=True)"
      ]
    },
    {
      "cell_type": "code",
      "execution_count": 113,
      "metadata": {
        "id": "C83QffezWqJC"
      },
      "outputs": [],
      "source": [
        "propertyType_dummies = pd.get_dummies(data['propertyType'], prefix='propertyType')\n",
        "data = pd.concat([data, propertyType_dummies], axis=1)\n",
        "data.drop('propertyType', axis=1, inplace=True)"
      ]
    },
    {
      "cell_type": "code",
      "execution_count": 114,
      "metadata": {
        "id": "dqqQ0kxN1ZAx"
      },
      "outputs": [],
      "source": [
        "status_dummies = pd.get_dummies(data['state'], prefix='state')\n",
        "data = pd.concat([data, status_dummies], axis=1)\n",
        "data.drop('state', axis=1, inplace=True)"
      ]
    },
    {
      "cell_type": "code",
      "execution_count": 115,
      "metadata": {
        "id": "l5VVtKDpEcvn"
      },
      "outputs": [],
      "source": [
        "data.drop(['street', 'baths', 'schools', 'mlsId', 'fireplace',\n",
        "           'Heating', 'Cooling', 'Parking', 'city', 'zipcode'\n",
        "           ], axis=1, inplace=True)"
      ]
    },
    {
      "cell_type": "code",
      "execution_count": 116,
      "metadata": {
        "colab": {
          "base_uri": "https://localhost:8080/"
        },
        "id": "retQq3In40iJ",
        "outputId": "09f5ff6d-f86c-4647-addf-e1a0c38b8714"
      },
      "outputs": [
        {
          "data": {
            "text/plain": [
              "Index(['sqft', 'beds', 'stories', 'target', 'privatePool', 'cleaned_baths',\n",
              "       'Year built', 'Remodeled year', 'lotsize', 'Price/sqft',\n",
              "       ...\n",
              "       'state_OS', 'state_PA', 'state_SC', 'state_TN', 'state_TX', 'state_UT',\n",
              "       'state_VA', 'state_VT', 'state_WA', 'state_WI'],\n",
              "      dtype='object', length=124)"
            ]
          },
          "execution_count": 116,
          "metadata": {},
          "output_type": "execute_result"
        }
      ],
      "source": [
        "data.columns"
      ]
    },
    {
      "cell_type": "markdown",
      "metadata": {
        "id": "ZujvFO9vteY9"
      },
      "source": [
        "# 2. Выделить наиболее значимые факторы, влияющие на стоимость недвижимости"
      ]
    },
    {
      "cell_type": "code",
      "execution_count": 117,
      "metadata": {
        "colab": {
          "base_uri": "https://localhost:8080/"
        },
        "id": "Ybl6q8eKthBU",
        "outputId": "9d04af78-94c0-499a-bfed-9f4897f2e721"
      },
      "outputs": [
        {
          "data": {
            "text/plain": [
              "target               1.000000\n",
              "cleaned_baths        0.377303\n",
              "state_CA             0.207893\n",
              "beds                 0.200607\n",
              "state_NY             0.149492\n",
              "                       ...   \n",
              "num_schools         -0.053711\n",
              "propertyType_land   -0.057810\n",
              "state_MI            -0.064905\n",
              "state_TX            -0.076907\n",
              "state_OH            -0.093836\n",
              "Name: target, Length: 124, dtype: float64"
            ]
          },
          "execution_count": 117,
          "metadata": {},
          "output_type": "execute_result"
        }
      ],
      "source": [
        "data.corr()['target'].sort_values(ascending=False)"
      ]
    },
    {
      "cell_type": "markdown",
      "metadata": {
        "id": "aETcXJ3PwLeR"
      },
      "source": [
        "# 3. Построить модель для прогнозирования стоимости недвижимости"
      ]
    },
    {
      "cell_type": "code",
      "execution_count": 118,
      "metadata": {
        "id": "TY7DkBv7tsFi"
      },
      "outputs": [],
      "source": [
        "from sklearn.model_selection import train_test_split\n",
        "\n",
        "# Предполагая, что 'target' это столбец со стоимостью недвижимости\n",
        "X = data.drop('target', axis=1)\n",
        "y = data['target']\n",
        "\n",
        "X_train, X_test, y_train, y_test = train_test_split(X, y, test_size=0.2, random_state=42)\n"
      ]
    },
    {
      "cell_type": "code",
      "execution_count": 119,
      "metadata": {
        "id": "YAlRBzTWEm8z"
      },
      "outputs": [],
      "source": [
        "from sklearn.preprocessing import MinMaxScaler\n",
        "\n",
        "# Инициализируем scaler\n",
        "scaler = MinMaxScaler()\n",
        "\n",
        "# Обучаем scaler на тренировочных данных и преобразуем их\n",
        "X_train_scaled = scaler.fit_transform(X_train)\n",
        "\n",
        "# Преобразуем тестовые данные с использованием того же scaler'а\n",
        "X_test_scaled = scaler.transform(X_test)"
      ]
    },
    {
      "cell_type": "code",
      "execution_count": 120,
      "metadata": {
        "colab": {
          "base_uri": "https://localhost:8080/"
        },
        "id": "WBiqcbEawPFT",
        "outputId": "206d40ec-a6fa-4a72-fabb-2b43323d5147"
      },
      "outputs": [
        {
          "name": "stdout",
          "output_type": "stream",
          "text": [
            "Mean Squared Error: 197085065334.53653\n"
          ]
        }
      ],
      "source": [
        "from sklearn.linear_model import LinearRegression\n",
        "from sklearn.metrics import mean_squared_error\n",
        "\n",
        "model = LinearRegression()\n",
        "model.fit(X_train, y_train)\n",
        "\n",
        "# Предсказание на тестовой выборке\n",
        "y_pred = model.predict(X_test)\n",
        "\n",
        "# Оценка качества модели\n",
        "mse = mean_squared_error(y_test, y_pred)\n",
        "print(f'Mean Squared Error: {mse}')"
      ]
    },
    {
      "cell_type": "code",
      "execution_count": 121,
      "metadata": {
        "colab": {
          "base_uri": "https://localhost:8080/"
        },
        "id": "89tGQekWQjap",
        "outputId": "0651e177-6711-4aa0-dd67-e165c703ba59"
      },
      "outputs": [
        {
          "name": "stdout",
          "output_type": "stream",
          "text": [
            "R-Squared: 0.3013117486053065\n"
          ]
        }
      ],
      "source": [
        "from sklearn.metrics import r2_score\n",
        "\n",
        "r2 = r2_score(y_test, y_pred)\n",
        "print(f'R-Squared: {r2}')"
      ]
    },
    {
      "cell_type": "code",
      "execution_count": 122,
      "metadata": {
        "colab": {
          "base_uri": "https://localhost:8080/"
        },
        "id": "chizykmHQkat",
        "outputId": "49aa40f2-2b5e-4036-8b2c-18b0b31cbf4a"
      },
      "outputs": [
        {
          "name": "stdout",
          "output_type": "stream",
          "text": [
            "Mean Absolute Error: 271411.42773342185\n"
          ]
        }
      ],
      "source": [
        "from sklearn.metrics import mean_absolute_error\n",
        "\n",
        "mae = mean_absolute_error(y_test, y_pred)\n",
        "print(f'Mean Absolute Error: {mae}')"
      ]
    },
    {
      "cell_type": "code",
      "execution_count": 123,
      "metadata": {
        "colab": {
          "base_uri": "https://localhost:8080/"
        },
        "id": "YI4QsuedQlTw",
        "outputId": "c3bb15e3-4b97-4322-8815-734c98e318e5"
      },
      "outputs": [
        {
          "name": "stdout",
          "output_type": "stream",
          "text": [
            "Root Mean Squared Error: 443942.63743701903\n"
          ]
        }
      ],
      "source": [
        "import numpy as np\n",
        "\n",
        "rmse = np.sqrt(mean_squared_error(y_test, y_pred))\n",
        "print(f'Root Mean Squared Error: {rmse}')"
      ]
    },
    {
      "cell_type": "code",
      "execution_count": 124,
      "metadata": {
        "colab": {
          "base_uri": "https://localhost:8080/"
        },
        "id": "EPkMiWINRcO2",
        "outputId": "1cd3528a-6cb6-4907-8403-5873fcb8d1c8"
      },
      "outputs": [
        {
          "data": {
            "text/plain": [
              "145279      84700.0\n",
              "246649     214900.0\n",
              "89562      249000.0\n",
              "30855      429000.0\n",
              "181006     109000.0\n",
              "            ...    \n",
              "224201     198000.0\n",
              "252695     848500.0\n",
              "218707     285000.0\n",
              "78433      375000.0\n",
              "261025    1780000.0\n",
              "Name: target, Length: 62742, dtype: float64"
            ]
          },
          "execution_count": 124,
          "metadata": {},
          "output_type": "execute_result"
        }
      ],
      "source": [
        "y_test"
      ]
    },
    {
      "cell_type": "code",
      "execution_count": 125,
      "metadata": {
        "colab": {
          "base_uri": "https://localhost:8080/"
        },
        "id": "3H8gpHpQQHQV",
        "outputId": "e3de62c1-5c57-4c94-efb4-502d51c43601"
      },
      "outputs": [
        {
          "data": {
            "text/plain": [
              "array([ 144020.6157288 ,  243774.06425157,  478161.17047043, ...,\n",
              "        185766.28515206,  370559.43833884, 1611134.19839385])"
            ]
          },
          "execution_count": 125,
          "metadata": {},
          "output_type": "execute_result"
        }
      ],
      "source": [
        "y_pred"
      ]
    },
    {
      "cell_type": "markdown",
      "metadata": {
        "id": "YnCr_txT7CTF"
      },
      "source": [
        "Сохраним модель"
      ]
    },
    {
      "cell_type": "code",
      "execution_count": 126,
      "metadata": {
        "colab": {
          "base_uri": "https://localhost:8080/"
        },
        "id": "UcsoeTxy7B6t",
        "outputId": "f7768e9e-6559-42bc-df3a-4f88e1a9c980"
      },
      "outputs": [
        {
          "data": {
            "text/plain": [
              "['house_price_prediction.pkl']"
            ]
          },
          "execution_count": 126,
          "metadata": {},
          "output_type": "execute_result"
        }
      ],
      "source": [
        "from joblib import dump\n",
        "\n",
        "# Сохранение модели в файл\n",
        "dump(model, 'house_price_prediction.pkl')"
      ]
    },
    {
      "cell_type": "markdown",
      "metadata": {
        "id": "QusdKFFQwrdf"
      },
      "source": [
        "# 4. Разработать небольшой веб-сервис, на вход которому поступают данные о некоторой выставленной на продажу недвижимости, а сервис прогнозирует его стоимость."
      ]
    },
    {
      "cell_type": "code",
      "execution_count": 129,
      "metadata": {
        "colab": {
          "base_uri": "https://localhost:8080/"
        },
        "id": "-0QRLhOYwVGm",
        "outputId": "6a9523ff-384d-4039-a2f4-9b9a85fb6a3c"
      },
      "outputs": [
        {
          "name": "stdout",
          "output_type": "stream",
          "text": [
            "Collecting flask-ngrok\n",
            "  Downloading flask_ngrok-0.0.25-py3-none-any.whl (3.1 kB)\n",
            "Requirement already satisfied: Flask>=0.8 in /usr/local/lib/python3.10/dist-packages (from flask-ngrok) (2.2.5)\n",
            "Requirement already satisfied: requests in /usr/local/lib/python3.10/dist-packages (from flask-ngrok) (2.31.0)\n",
            "Requirement already satisfied: Werkzeug>=2.2.2 in /usr/local/lib/python3.10/dist-packages (from Flask>=0.8->flask-ngrok) (3.0.0)\n",
            "Requirement already satisfied: Jinja2>=3.0 in /usr/local/lib/python3.10/dist-packages (from Flask>=0.8->flask-ngrok) (3.1.2)\n",
            "Requirement already satisfied: itsdangerous>=2.0 in /usr/local/lib/python3.10/dist-packages (from Flask>=0.8->flask-ngrok) (2.1.2)\n",
            "Requirement already satisfied: click>=8.0 in /usr/local/lib/python3.10/dist-packages (from Flask>=0.8->flask-ngrok) (8.1.7)\n",
            "Requirement already satisfied: charset-normalizer<4,>=2 in /usr/local/lib/python3.10/dist-packages (from requests->flask-ngrok) (3.3.0)\n",
            "Requirement already satisfied: idna<4,>=2.5 in /usr/local/lib/python3.10/dist-packages (from requests->flask-ngrok) (3.4)\n",
            "Requirement already satisfied: urllib3<3,>=1.21.1 in /usr/local/lib/python3.10/dist-packages (from requests->flask-ngrok) (2.0.6)\n",
            "Requirement already satisfied: certifi>=2017.4.17 in /usr/local/lib/python3.10/dist-packages (from requests->flask-ngrok) (2023.7.22)\n",
            "Requirement already satisfied: MarkupSafe>=2.0 in /usr/local/lib/python3.10/dist-packages (from Jinja2>=3.0->Flask>=0.8->flask-ngrok) (2.1.3)\n",
            "Installing collected packages: flask-ngrok\n",
            "Successfully installed flask-ngrok-0.0.25\n",
            "Collecting pyngrok==4.1.1\n",
            "  Downloading pyngrok-4.1.1.tar.gz (18 kB)\n",
            "  Preparing metadata (setup.py) ... \u001b[?25l\u001b[?25hdone\n",
            "Requirement already satisfied: future in /usr/local/lib/python3.10/dist-packages (from pyngrok==4.1.1) (0.18.3)\n",
            "Requirement already satisfied: PyYAML in /usr/local/lib/python3.10/dist-packages (from pyngrok==4.1.1) (6.0.1)\n",
            "Building wheels for collected packages: pyngrok\n",
            "  Building wheel for pyngrok (setup.py) ... \u001b[?25l\u001b[?25hdone\n",
            "  Created wheel for pyngrok: filename=pyngrok-4.1.1-py3-none-any.whl size=15963 sha256=1bc1f207afb83c116a416b760d892179da56058b0f8e6e06c8278f420015ada9\n",
            "  Stored in directory: /root/.cache/pip/wheels/4c/7c/4c/632fba2ea8e88d8890102eb07bc922e1ca8fa14db5902c91a8\n",
            "Successfully built pyngrok\n",
            "Installing collected packages: pyngrok\n",
            "Successfully installed pyngrok-4.1.1\n",
            "Authtoken saved to configuration file: /root/.ngrok2/ngrok.yml\n"
          ]
        }
      ],
      "source": [
        "!pip install flask-ngrok\n",
        "!pip install pyngrok==4.1.1\n",
        "# !ngrok config add-authtoken 2WFLrRD2XFripsnoj0TcXWga2n7_6BmFKhpGsSPyv6YomSg4K\n",
        "!ngrok authtoken 2WFLrRD2XFripsnoj0TcXWga2n7_6BmFKhpGsSPyv6YomSg4K"
      ]
    },
    {
      "cell_type": "code",
      "execution_count": null,
      "metadata": {
        "colab": {
          "base_uri": "https://localhost:8080/"
        },
        "id": "38qmd70axC6u",
        "outputId": "7f613487-6b6e-4b05-ffef-07fb5e4ece3c"
      },
      "outputs": [
        {
          "name": "stdout",
          "output_type": "stream",
          "text": [
            " * Serving Flask app '__main__'\n",
            " * Debug mode: off\n"
          ]
        },
        {
          "name": "stderr",
          "output_type": "stream",
          "text": [
            "INFO:werkzeug:\u001b[31m\u001b[1mWARNING: This is a development server. Do not use it in a production deployment. Use a production WSGI server instead.\u001b[0m\n",
            " * Running on http://127.0.0.1:5000\n",
            "INFO:werkzeug:\u001b[33mPress CTRL+C to quit\u001b[0m\n"
          ]
        },
        {
          "name": "stdout",
          "output_type": "stream",
          "text": [
            " * Running on http://2722-35-201-184-41.ngrok-free.app\n",
            " * Traffic stats available on http://127.0.0.1:4040\n"
          ]
        },
        {
          "name": "stderr",
          "output_type": "stream",
          "text": [
            "/usr/local/lib/python3.10/dist-packages/sklearn/base.py:439: UserWarning: X does not have valid feature names, but LinearRegression was fitted with feature names\n",
            "  warnings.warn(\n",
            "INFO:werkzeug:127.0.0.1 - - [05/Oct/2023 19:18:36] \"POST /predict HTTP/1.1\" 200 -\n"
          ]
        }
      ],
      "source": [
        "from flask import Flask, jsonify, request\n",
        "from joblib import load\n",
        "from flask_ngrok import run_with_ngrok\n",
        "\n",
        "app = Flask(__name__)\n",
        "run_with_ngrok(app)\n",
        "\n",
        "# Загрузка модели\n",
        "model = load('house_price_prediction.pkl')\n",
        "\n",
        "@app.route('/predict', methods=['POST'])\n",
        "def predict():\n",
        "    # Получение данных из запроса\n",
        "    data = request.get_json(force=True)\n",
        "\n",
        "    # Преобразуем в 2D массив\n",
        "    data = [list(data.values())]\n",
        "\n",
        "    # Предсказание\n",
        "    prediction = model.predict(data)\n",
        "\n",
        "    # Отправка результата обратно\n",
        "    return jsonify(prediction[0])\n",
        "\n",
        "if __name__ == '__main__':\n",
        "    app.run()"
      ]
    }
  ],
  "metadata": {
    "colab": {
      "provenance": []
    },
    "kernelspec": {
      "display_name": "Python 3",
      "language": "python",
      "name": "python3"
    },
    "language_info": {
      "codemirror_mode": {
        "name": "ipython",
        "version": 3
      },
      "file_extension": ".py",
      "mimetype": "text/x-python",
      "name": "python",
      "nbconvert_exporter": "python",
      "pygments_lexer": "ipython3",
      "version": "3.11.4"
    }
  },
  "nbformat": 4,
  "nbformat_minor": 0
}
